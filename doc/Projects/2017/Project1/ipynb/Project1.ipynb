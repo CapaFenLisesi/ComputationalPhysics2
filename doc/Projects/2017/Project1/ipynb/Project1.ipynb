{
 "cells": [
  {
   "cell_type": "markdown",
   "metadata": {},
   "source": [
    "<!-- dom:TITLE: Project 1, deadline  March 10  -->\n",
    "# Project 1, deadline  March 10 \n",
    "<!-- dom:AUTHOR: [Computational Physics I FYS4411/FYS9411](http://www.uio.no/studier/emner/matnat/fys/FYS4411/index-eng.html) at Department of Physics, University of Oslo, Norway -->\n",
    "<!-- Author: --> **[Computational Physics I FYS4411/FYS9411](http://www.uio.no/studier/emner/matnat/fys/FYS4411/index-eng.html)**, Department of Physics, University of Oslo, Norway\n",
    "\n",
    "Date: **Spring semester 2017**\n",
    "\n",
    "## Introduction\n",
    "\n",
    "We will deal only with a system of \n",
    "two electrons in a quantum dot with a frequency of $\\hbar\\omega = 1$. \n",
    "The reason for this is that we have exact closed form expressions \n",
    "for the ground state energy from Taut's work for selected values of $\\omega$, \n",
    "see M. Taut, Phys. Rev. A **48**, 3561 (1993).\n",
    "The energy is given by $3$ a.u.  (atomic units) when the interaction between the electrons is included.\n",
    "\n",
    "We consider a system of electrons confined in a pure two-dimensional \n",
    "isotropic harmonic oscillator potential, with an idealized  total Hamiltonian given by"
   ]
  },
  {
   "cell_type": "markdown",
   "metadata": {},
   "source": [
    "<!-- Equation labels as ordinary links -->\n",
    "<div id=\"eq:finalH\"></div>\n",
    "\n",
    "$$\n",
    "\\begin{equation}\n",
    "\\label{eq:finalH} \\tag{1}\n",
    "\\hat{H}=\\sum_{i=1}^{N} \\left(  -\\frac{1}{2} \\nabla_i^2 + \\frac{1}{2} \\omega^2r_i^2  \\right)+\\sum_{i<j}\\frac{1}{r_{ij}},\n",
    "\\end{equation}\n",
    "$$"
   ]
  },
  {
   "cell_type": "markdown",
   "metadata": {},
   "source": [
    "where natural units ($\\hbar=c=e=m_e=1$) are used and all energies are in so-called atomic units a.u. We will study systems of many electrons $N$ as functions of the oscillator frequency  $\\omega$ using the above Hamiltonian.  The Hamiltonian includes a standard harmonic oscillator part"
   ]
  },
  {
   "cell_type": "markdown",
   "metadata": {},
   "source": [
    "$$\n",
    "\\hat{H}_0=\\sum_{i=1}^{N} \\left(  -\\frac{1}{2} \\nabla_i^2 + \\frac{1}{2} \\omega^2r_i^2  \\right),\n",
    "$$"
   ]
  },
  {
   "cell_type": "markdown",
   "metadata": {},
   "source": [
    "and the repulsive interaction between two electrons given by"
   ]
  },
  {
   "cell_type": "markdown",
   "metadata": {},
   "source": [
    "$$\n",
    "\\hat{H}_1=\\sum_{i < j}\\frac{1}{r_{ij}},\n",
    "$$"
   ]
  },
  {
   "cell_type": "markdown",
   "metadata": {},
   "source": [
    "with the distance between electrons given by $r_{ij}=\\sqrt{r_1-r_2}$. We define the \n",
    "modulus of the positions of the electrons (for a given electron $i$) as $r_i = \\sqrt{r_{i_x}^2+r_{i_y}^2}$.\n",
    "\n",
    "\n",
    "\n",
    "If only the harmonic oscillator part of the Hamiltonian,\n",
    "the so-called unperturbed part,"
   ]
  },
  {
   "cell_type": "markdown",
   "metadata": {},
   "source": [
    "$$\n",
    "\\hat{H}_0=\\sum_{i=1}^{N} \\left(  -\\frac{1}{2} \\nabla_i^2 + \\frac{1}{2} \\omega^2r_i^2  \\right),\n",
    "$$"
   ]
  },
  {
   "cell_type": "markdown",
   "metadata": {},
   "source": [
    "the energy is $2$ a.u.\n",
    "The wave function for one electron in an oscillator potential in two dimensions is"
   ]
  },
  {
   "cell_type": "markdown",
   "metadata": {},
   "source": [
    "$$\n",
    "\\phi_{n_x,n_y}(x,y) = A H_{n_x}(\\sqrt{\\omega}x)H_{n_y}(\\sqrt{\\omega}y)\\exp{(-\\omega(x^2+y^2)/2}.\n",
    "$$"
   ]
  },
  {
   "cell_type": "markdown",
   "metadata": {},
   "source": [
    "The functions $H_{n_x}(\\sqrt{\\omega}x)$ are so-called Hermite polynomials, discussed in the appendix while $A$ is a normalization constant. \n",
    "For the lowest-lying state we have $n_x=n_y=0$ and an energy $\\epsilon_{n_x,n_y}=\\omega(n_x+n_y+1) = \\omega$.\n",
    "Convince yourself that the lowest-lying energy for the two-electron system  is simply $2\\omega$.\n",
    "\n",
    "The unperturbed wave function for the ground state of the two-electron system is given by"
   ]
  },
  {
   "cell_type": "markdown",
   "metadata": {},
   "source": [
    "$$\n",
    "\\Phi(r_1,r_2) = C\\exp{\\left(-\\omega(r_1^2+r_2^2)/2\\right)},\n",
    "$$"
   ]
  },
  {
   "cell_type": "markdown",
   "metadata": {},
   "source": [
    "with $C$ being a normalization constant and $r_i = \\sqrt{r_{i_x}^2+r_{i_y}^2}$. Note that the vector $r_i$ \n",
    "refers to the $x$ and $y$ position for a given particle.\n",
    "What is the total spin of this wave function? Find arguments for why the ground state should have\n",
    "this specific total spin. \n",
    "\n",
    "The Hartree-Fock functional is written as"
   ]
  },
  {
   "cell_type": "markdown",
   "metadata": {},
   "source": [
    "$$\n",
    "E[\\Phi] \n",
    "  = \\sum_{\\mu=1}^N \\langle \\mu | h | \\mu\\rangle+ \\frac{1}{2}\\sum_{\\mu=1}^N\\sum_{\\nu=1}^N\\left[\\langle \\mu\\nu |\\frac{1}{r_{ij}}|\\mu\\nu\\rangle-\\langle \\mu\\nu |\\frac{1}{r_{ij}}|\\nu\\mu\\rangle\\right].\n",
    "$$"
   ]
  },
  {
   "cell_type": "markdown",
   "metadata": {},
   "source": [
    "With the given functional, we can perform at least two types of variational strategies.\n",
    "\n",
    "  * Vary the Slater determinant by changing the spatial part of the single-particle wave functions themselves.\n",
    "\n",
    "  * Expand the single-particle functions in a known basis  and vary the coefficients,  that is, the new function single-particle wave function $|a\\rangle$ is written as a linear expansion in terms of a fixed basis $\\phi$ (harmonic oscillator, Laguerre polynomials etc)"
   ]
  },
  {
   "cell_type": "markdown",
   "metadata": {},
   "source": [
    "$$\n",
    "\\psi_a  = \\sum_{\\lambda} C_{a\\lambda}\\phi_{\\lambda},\n",
    "$$"
   ]
  },
  {
   "cell_type": "markdown",
   "metadata": {},
   "source": [
    "Both cases lead to a new Slater determinant which is related to the previous via  a unitary transformation.\n",
    "The second one is the one we will use in this project.\n",
    "\n",
    "\n",
    "Consider a Slater determinant built up of single-particle orbitals \n",
    "$\\psi_{\\lambda}$,  with $\\lambda = 1,2,\\dots,N$.\n",
    "\n",
    "The unitary transformation"
   ]
  },
  {
   "cell_type": "markdown",
   "metadata": {},
   "source": [
    "$$\n",
    "\\psi_a  = \\sum_{\\lambda} C_{a\\lambda}\\phi_{\\lambda},\n",
    "$$"
   ]
  },
  {
   "cell_type": "markdown",
   "metadata": {},
   "source": [
    "brings us into the new basis.  Show that the new basis is orthonormal.\n",
    "Show that the new Slater determinant constructed from the new single-particle wave functions can be\n",
    "written as the determinant based on the previous basis and the determinant of the matrix $C$.\n",
    "Show that the old and the new Slater determinants are equal up to a complex constant with absolute value unity.\n",
    "(Hint, $C$ is a unitary matrix). \n",
    "\n",
    "\n",
    "\n",
    "Minimizing with respect to $C^*_{k\\alpha}$, remembering that $C^*_{k\\alpha}$ and $C_{k\\alpha}$\n",
    "are independent and defining"
   ]
  },
  {
   "cell_type": "markdown",
   "metadata": {},
   "source": [
    "$$\n",
    "h_{\\alpha\\gamma}^{HF}=\\langle \\alpha | h | \\gamma \\rangle+\n",
    "\\sum_{a=1}^N\\sum_{\\beta\\delta} C^*_{a\\beta}C_{a\\delta}\\langle \\alpha\\beta|V|\\gamma\\delta\\rangle_{AS},\n",
    "$$"
   ]
  },
  {
   "cell_type": "markdown",
   "metadata": {},
   "source": [
    "show that you can write the Hartree-Fock  equations as"
   ]
  },
  {
   "cell_type": "markdown",
   "metadata": {},
   "source": [
    "<!-- Equation labels as ordinary links -->\n",
    "<div id=\"eq:newhf\"></div>\n",
    "\n",
    "$$\n",
    "\\sum_{\\gamma}h_{\\alpha\\gamma}^{HF}C_{k\\gamma}=\\epsilon_kC_{k\\alpha}.\n",
    "\\label{eq:newhf} \\tag{2}\n",
    "$$"
   ]
  },
  {
   "cell_type": "markdown",
   "metadata": {},
   "source": [
    "Explain the meaning of the different terms.\n",
    "\n",
    "Set up the Hartree-Fock equations for the ground states of \n",
    "\n",
    "There is no spin-orbit part in the two-body Hamiltonian.\n",
    "\n",
    "As basis functions for our calculations we will use hydrogen-like single-particle functions. \n",
    "In the computations you will need to program the Coulomb interaction with matrix elements\n",
    "involving single-particle wave functions with $l=0$ and $l=1$ only, so-called $s$ and $p$-waves.\n",
    "For $s$-waves we need only the radial part since the \n",
    "spherical harmonics for the $s$-waves are rather simple.\n",
    "Our radial wave functions for the $s$ waves are"
   ]
  },
  {
   "cell_type": "markdown",
   "metadata": {},
   "source": [
    "$$\n",
    "R_{n0}(r)=\\left(\\frac{2Z}{n}\\right)^{3/2}\\sqrt{\\frac{(n-1)!}{2n\\times n!}}L_{n-1}^1(\\frac{2Zr}{n})\\exp{(-\\frac{Zr}{n})},\n",
    "$$"
   ]
  },
  {
   "cell_type": "markdown",
   "metadata": {},
   "source": [
    "With the above ingredients we are now ready to solve \n",
    "the Hartree-Fock equations  for the helium and beryllium atoms.  \n",
    "Write a program which solves the Hartree-Fock equations for helium and beryllium.\n",
    "You will need methods to find eigenvalues (see chapter 7 of lecture notes) and\n",
    "gaussian quadrature (chapter 7) to compute the integrals of the Coulomb interaction.\n",
    "Use as input for the first \n",
    "iteration the hydrogen-like single-particle wave function.\n",
    "Compare the results (make a plot of the $1s$ and the $2s$ functions) \n",
    "\n",
    "\n",
    "### Project 1 a):\n",
    "\n",
    "### Project 1 b):\n",
    "\n",
    "### Project 1 c):\n",
    "\n",
    "### Project 1 d):\n",
    "\n",
    "# Additional material on Hermite polynomials\n",
    "\n",
    "The Hermite polynomials are the solutions of the following differential\n",
    "equation"
   ]
  },
  {
   "cell_type": "markdown",
   "metadata": {},
   "source": [
    "<!-- Equation labels as ordinary links -->\n",
    "<div id=\"eq:hermite\"></div>\n",
    "\n",
    "$$\n",
    "\\begin{equation}\n",
    "   \\frac{d^2H(x)}{dx^2}-2x\\frac{dH(x)}{dx}+\n",
    "       (\\lambda-1)H(x)=0.\n",
    "\\label{eq:hermite} \\tag{3}\n",
    "\\end{equation}\n",
    "$$"
   ]
  },
  {
   "cell_type": "markdown",
   "metadata": {},
   "source": [
    "The first few polynomials are"
   ]
  },
  {
   "cell_type": "markdown",
   "metadata": {},
   "source": [
    "$$\n",
    "H_0(x)=1,\n",
    "$$"
   ]
  },
  {
   "cell_type": "markdown",
   "metadata": {},
   "source": [
    "$$\n",
    "H_1(x)=2x,\n",
    "$$"
   ]
  },
  {
   "cell_type": "markdown",
   "metadata": {},
   "source": [
    "$$\n",
    "H_2(x)=4x^2-2,\n",
    "$$"
   ]
  },
  {
   "cell_type": "markdown",
   "metadata": {},
   "source": [
    "$$\n",
    "H_3(x)=8x^3-12x,\n",
    "$$"
   ]
  },
  {
   "cell_type": "markdown",
   "metadata": {},
   "source": [
    "and"
   ]
  },
  {
   "cell_type": "markdown",
   "metadata": {},
   "source": [
    "$$\n",
    "H_4(x)=16x^4-48x^2+12.\n",
    "$$"
   ]
  },
  {
   "cell_type": "markdown",
   "metadata": {},
   "source": [
    "They fulfil the orthogonality relation"
   ]
  },
  {
   "cell_type": "markdown",
   "metadata": {},
   "source": [
    "$$\n",
    "\\int_{-\\infty}^{\\infty}e^{-x^2}H_n(x)^2dx=2^nn!\\sqrt{\\pi},\n",
    "$$"
   ]
  },
  {
   "cell_type": "markdown",
   "metadata": {},
   "source": [
    "and the recursion relation"
   ]
  },
  {
   "cell_type": "markdown",
   "metadata": {},
   "source": [
    "$$\n",
    "H_{n+1}(x)=2xH_{n}(x)-2nH_{n-1}(x).\n",
    "$$"
   ]
  },
  {
   "cell_type": "markdown",
   "metadata": {},
   "source": [
    "# Literature\n",
    "\n",
    "  * M. Taut, Phys. Rev. A **48**, 3561 (1993).\n",
    "\n",
    "  * M. Pedersen Lohne, G. Hagen, M. Hjorth-Jensen, S. Kvaal, and F. Pederiva, Phys. Rev. B **71**, 3561 - 3566 (2011).\n",
    "\n",
    "## Introduction to numerical projects\n",
    "\n",
    "Here follows a brief recipe and recommendation on how to write a report for each\n",
    "project.\n",
    "\n",
    "  * Give a short description of the nature of the problem and the eventual  numerical methods you have used.\n",
    "\n",
    "  * Describe the algorithm you have used and/or developed. Here you may find it convenient to use pseudocoding. In many cases you can describe the algorithm in the program itself.\n",
    "\n",
    "  * Include the source code of your program. Comment your program properly.\n",
    "\n",
    "  * If possible, try to find analytic solutions, or known limits in order to test your program when developing the code.\n",
    "\n",
    "  * Include your results either in figure form or in a table. Remember to        label your results. All tables and figures should have relevant captions        and labels on the axes.\n",
    "\n",
    "  * Try to evaluate the reliabilty and numerical stability/precision of your results. If possible, include a qualitative and/or quantitative discussion of the numerical stability, eventual loss of precision etc.\n",
    "\n",
    "  * Try to give an interpretation of you results in your answers to  the problems.\n",
    "\n",
    "  * Critique: if possible include your comments and reflections about the  exercise, whether you felt you learnt something, ideas for improvements and  other thoughts you've made when solving the exercise. We wish to keep this course at the interactive level and your comments can help us improve it.\n",
    "\n",
    "  * Try to establish a practice where you log your work at the  computerlab. You may find such a logbook very handy at later stages in your work, especially when you don't properly remember  what a previous test version  of your program did. Here you could also record  the time spent on solving the exercise, various algorithms you may have tested or other topics which you feel worthy of mentioning.\n",
    "\n",
    "## Format for electronic delivery of report and programs\n",
    "\n",
    "The preferred format for the report is a PDF file. You can also use DOC or postscript formats or as an ipython notebook file.  As programming language we prefer that you choose between C/C++, Fortran2008 or Python. The following prescription should be followed when preparing the report:\n",
    "\n",
    "  * Use Devilry to hand in your projects, log in  at  <http://devilry.ifi.uio.no> with your normal UiO username and password.\n",
    "\n",
    "  * Upload **only** the report file!  For the source code file(s) you have developed please provide us with your link to your github domain.  The report file should include all of your discussions and a list of the codes you have developed.  The full version of the codes should be in your github repository.\n",
    "\n",
    "  * In your github repository, please include a folder which contains selected results. These can be in the form of output from your code for a selected set of runs and input parameters.\n",
    "\n",
    "  * Still in your github make a folder where you place your codes. \n",
    "\n",
    "  * In this and all later projects, you should include tests (for example unit tests) of your code(s).\n",
    "\n",
    "  * Comments  from us on your projects, approval or not, corrections to be made  etc can be found under your Devilry domain and are only visible to you and the teachers of the course.\n",
    "\n",
    "Finally, \n",
    "we encourage you to work two and two together. Optimal working groups consist of \n",
    "2-3 students. You can then hand in a common report."
   ]
  }
 ],
 "metadata": {},
 "nbformat": 4,
 "nbformat_minor": 0
}
