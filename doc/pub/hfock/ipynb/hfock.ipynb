{
 "metadata": {},
 "nbformat": 3,
 "nbformat_minor": 0,
 "worksheets": [
  {
   "cells": [
    {
     "cell_type": "markdown",
     "metadata": {},
     "source": [
      "# Hartree-Fock methods\n",
      "**Spring 2015**\n",
      "\n",
      "### Why Hartree-Fock? Derivation of Hartree-Fock equations in coordinate space\n",
      "Hartree-Fock (HF) theory is an algorithm for finding an approximative expression for the ground state of a given Hamiltonian. The basic ingredients are\n",
      "  * Define a single-particle basis $\\{\\psi_{\\alpha}\\}$ so that"
     ]
    },
    {
     "cell_type": "markdown",
     "metadata": {},
     "source": [
      "$$\n",
      "\\hat{h}^{\\mathrm{HF}}\\psi_{\\alpha} = \\varepsilon_{\\alpha}\\psi_{\\alpha}\n",
      "$$"
     ]
    },
    {
     "cell_type": "markdown",
     "metadata": {},
     "source": [
      "with the Hartree-Fock Hamiltonian defined as"
     ]
    },
    {
     "cell_type": "markdown",
     "metadata": {},
     "source": [
      "$$\n",
      "\\hat{h}^{\\mathrm{HF}}=\\hat{t}+\\hat{u}_{\\mathrm{ext}}+\\hat{u}^{\\mathrm{HF}}\n",
      "$$"
     ]
    },
    {
     "cell_type": "markdown",
     "metadata": {},
     "source": [
      "* The term  $\\hat{u}^{\\mathrm{HF}}$ is a single-particle potential to be determined by the HF algorithm.\n",
      "\n",
      "  * The HF algorithm means to choose $\\hat{u}^{\\mathrm{HF}}$ in order to have"
     ]
    },
    {
     "cell_type": "markdown",
     "metadata": {},
     "source": [
      "$$\n",
      "\\langle \\hat{H} \\rangle = E^{\\mathrm{HF}}= \\langle \\Phi_0 | \\hat{H}|\\Phi_0 \\rangle\n",
      "$$"
     ]
    },
    {
     "cell_type": "markdown",
     "metadata": {},
     "source": [
      "that is to find a local minimum with a Slater determinant $\\Phi_0$ being the ansatz for the ground state. \n",
      "  * The variational principle ensures that $E^{\\mathrm{HF}} \\ge E_0$, with $E_0$ the exact ground state energy.\n",
      "\n",
      "\n",
      "\n",
      "\n",
      "### Why Hartree-Fock? Derivation of Hartree-Fock equations in coordinate space\n",
      "We will show that the Hartree-Fock Hamiltonian $\\hat{h}^{\\mathrm{HF}}$ equals our definition of the operator $\\hat{f}$ discussed in connection with the new definition of the normal-ordered Hamiltonian (see later lectures), that is we have, for a specific matrix element"
     ]
    },
    {
     "cell_type": "markdown",
     "metadata": {},
     "source": [
      "$$\n",
      "\\langle p |\\hat{h}^{\\mathrm{HF}}| q \\rangle =\\langle p |\\hat{f}| q \\rangle=\\langle p|\\hat{t}+\\hat{u}_{\\mathrm{ext}}|q \\rangle +\\sum_{i\\le F} \\langle pi | \\hat{V} | qi\\rangle_{AS},\n",
      "$$"
     ]
    },
    {
     "cell_type": "markdown",
     "metadata": {},
     "source": [
      "meaning that"
     ]
    },
    {
     "cell_type": "markdown",
     "metadata": {},
     "source": [
      "$$\n",
      "\\langle p|\\hat{u}^{\\mathrm{HF}}|q\\rangle = \\sum_{i\\le F} \\langle pi | \\hat{V} | qi\\rangle_{AS}.\n",
      "$$"
     ]
    },
    {
     "cell_type": "markdown",
     "metadata": {},
     "source": [
      "The so-called Hartree-Fock potential $\\hat{u}^{\\mathrm{HF}}$ brings an explicit medium dependence due to the summation over all single-particle states below the Fermi level $F$. It brings also in an explicit dependence on the two-body interaction (in nuclear physics we can also have complicated three- or higher-body forces). The two-body interaction, with its contribution from the other bystanding fermions, creates an effective mean field in which a given fermion moves, in addition to the external potential $\\hat{u}_{\\mathrm{ext}}$ which confines the motion of the fermion. For systems like nuclei, there is no external confining potential. Nuclei are examples of self-bound systems, where the binding arises due to the intrinsic nature of the strong force. For nuclear systems thus, there would be no external one-body potential in the Hartree-Fock Hamiltonian.\n",
      "\n",
      "\n",
      "\n",
      "### Variational Calculus and Lagrangian Multipliers\n",
      "The calculus of variations involves \n",
      "problems where the quantity to be minimized or maximized is an integral. \n",
      "\n",
      "In the general case we have an integral of the type"
     ]
    },
    {
     "cell_type": "markdown",
     "metadata": {},
     "source": [
      "$$\n",
      "E[\\Phi]= \\int_a^b f(\\Phi(x),\\frac{\\partial \\Phi}{\\partial x},x)dx,\n",
      "$$"
     ]
    },
    {
     "cell_type": "markdown",
     "metadata": {},
     "source": [
      "where $E$ is the quantity which is sought minimized or maximized.\n",
      "The problem is that although $f$ is a function of the variables $\\Phi$, $\\partial \\Phi/\\partial x$ and $x$, the exact dependence of\n",
      "$\\Phi$ on $x$ is not known.  This means again that even though the integral has fixed limits $a$ and $b$, the path of integration is\n",
      "not known. In our case the unknown quantities are the single-particle wave functions and we wish to choose an integration path which makes\n",
      "the functional $E[\\Phi]$ stationary. This means that we want to find minima, or maxima or saddle points. In physics we search normally for minima.\n",
      "Our task is therefore to find the minimum of $E[\\Phi]$ so that its variation $\\delta E$ is zero  subject to specific\n",
      "constraints. In our case the constraints appear as the integral which expresses the orthogonality of the  single-particle wave functions.\n",
      "The constraints can be treated via the technique of Lagrangian multipliers\n",
      "\n",
      "\n",
      "\n",
      "\n",
      "### Variational Calculus and Lagrangian Multipliers\n",
      "Let us specialize to the expectation value of the energy for one particle in three-dimensions.\n",
      "This expectation value reads"
     ]
    },
    {
     "cell_type": "markdown",
     "metadata": {},
     "source": [
      "$$\n",
      "E=\\int dxdydz \\psi^*(x,y,z) \\hat{H} \\psi(x,y,z),\n",
      "$$"
     ]
    },
    {
     "cell_type": "markdown",
     "metadata": {},
     "source": [
      "with the constraint"
     ]
    },
    {
     "cell_type": "markdown",
     "metadata": {},
     "source": [
      "$$\n",
      "\\int dxdydz \\psi^*(x,y,z) \\psi(x,y,z)=1,\n",
      "$$"
     ]
    },
    {
     "cell_type": "markdown",
     "metadata": {},
     "source": [
      "and a Hamiltonian"
     ]
    },
    {
     "cell_type": "markdown",
     "metadata": {},
     "source": [
      "$$\n",
      "\\hat{H}=-\\frac{1}{2}\\nabla^2+V(x,y,z).\n",
      "$$"
     ]
    },
    {
     "cell_type": "markdown",
     "metadata": {},
     "source": [
      "We will, for the sake of notational convenience,  skip the variables $x,y,z$ below, and write for example $V(x,y,z)=V$.\n",
      "\n",
      "\n",
      "\n",
      "### Variational Calculus and Lagrangian Multipliers\n",
      "The integral involving the kinetic energy can be written as, with the function $\\psi$ vanishing\n",
      "strongly for large values of $x,y,z$ (given here by the limits $a$ and $b$),"
     ]
    },
    {
     "cell_type": "markdown",
     "metadata": {},
     "source": [
      "$$\n",
      "\\int_a^b dxdydz \\psi^* \\left(-\\frac{1}{2}\\nabla^2\\right) \\psi dxdydz = \\psi^*\\nabla\\psi|_a^b+\\int_a^b dxdydz\\frac{1}{2}\\nabla\\psi^*\\nabla\\psi.\n",
      "$$"
     ]
    },
    {
     "cell_type": "markdown",
     "metadata": {},
     "source": [
      "We will drop the limits $a$ and $b$ in the remaining discussion. \n",
      "Inserting this expression into the expectation value for the energy and taking the variational minimum  we obtain"
     ]
    },
    {
     "cell_type": "markdown",
     "metadata": {},
     "source": [
      "$$\n",
      "\\delta E = \\delta \\left\\{\\int dxdydz\\left( \\frac{1}{2}\\nabla\\psi^*\\nabla\\psi+V\\psi^*\\psi\\right)\\right\\} = 0.\n",
      "$$"
     ]
    },
    {
     "cell_type": "markdown",
     "metadata": {},
     "source": [
      "### Variational Calculus and Lagrangian Multipliers\n",
      "The constraint appears in integral form as"
     ]
    },
    {
     "cell_type": "markdown",
     "metadata": {},
     "source": [
      "$$\n",
      "\\int dxdydz \\psi^* \\psi=\\mathrm{constant},\n",
      "$$"
     ]
    },
    {
     "cell_type": "markdown",
     "metadata": {},
     "source": [
      "and multiplying with a Lagrangian multiplier $\\lambda$ and taking the variational minimum we obtain the final variational equation"
     ]
    },
    {
     "cell_type": "markdown",
     "metadata": {},
     "source": [
      "$$\n",
      "\\delta \\left\\{\\int dxdydz\\left( \\frac{1}{2}\\nabla\\psi^*\\nabla\\psi+V\\psi^*\\psi-\\lambda\\psi^*\\psi\\right)\\right\\} = 0.\n",
      "$$"
     ]
    },
    {
     "cell_type": "markdown",
     "metadata": {},
     "source": [
      "We introduce the function  $f$"
     ]
    },
    {
     "cell_type": "markdown",
     "metadata": {},
     "source": [
      "$$\n",
      "f =  \\frac{1}{2}\\nabla\\psi^*\\nabla\\psi+V\\psi^*\\psi-\\lambda\\psi^*\\psi=\n",
      "\\frac{1}{2}(\\psi^*_x\\psi_x+\\psi^*_y\\psi_y+\\psi^*_z\\psi_z)+V\\psi^*\\psi-\\lambda\\psi^*\\psi,\n",
      "$$"
     ]
    },
    {
     "cell_type": "markdown",
     "metadata": {},
     "source": [
      "where we have skipped the dependence on $x,y,z$ and introduced the shorthand $\\psi_x$, $\\psi_y$ and $\\psi_z$  for the various derivatives.\n",
      "\n",
      "\n",
      "\n",
      "### Variational Calculus and Lagrangian Multipliers\n",
      "For $\\psi^*$ the Euler-Lagrange  equations yield"
     ]
    },
    {
     "cell_type": "markdown",
     "metadata": {},
     "source": [
      "$$\n",
      "\\frac{\\partial f}{\\partial \\psi^*}- \\frac{\\partial }{\\partial x}\\frac{\\partial f}{\\partial \\psi^*_x}-\\frac{\\partial }{\\partial y}\\frac{\\partial f}{\\partial \\psi^*_y}-\\frac{\\partial }{\\partial z}\\frac{\\partial f}{\\partial \\psi^*_z}=0,\n",
      "$$"
     ]
    },
    {
     "cell_type": "markdown",
     "metadata": {},
     "source": [
      "which results in"
     ]
    },
    {
     "cell_type": "markdown",
     "metadata": {},
     "source": [
      "$$\n",
      "-\\frac{1}{2}(\\psi_{xx}+\\psi_{yy}+\\psi_{zz})+V\\psi=\\lambda \\psi.\n",
      "$$"
     ]
    },
    {
     "cell_type": "markdown",
     "metadata": {},
     "source": [
      "We can then identify the  Lagrangian multiplier as the energy of the system. The last equation is \n",
      "nothing but the standard \n",
      "Schroedinger equation and the variational  approach discussed here provides \n",
      "a powerful method for obtaining approximate solutions of the wave function.\n",
      "\n",
      "\n",
      "\n",
      "\n",
      "\n",
      "\n",
      "### Definitions and notations\n",
      "Before we proceed we need some definitions.\n",
      "We will assume that the interacting part of the Hamiltonian\n",
      "can be approximated by a two-body interaction.\n",
      "This means that our Hamiltonian is written as the sum of some onebody part and a twobody part"
     ]
    },
    {
     "cell_type": "markdown",
     "metadata": {},
     "source": [
      "<!-- Equation labels as ordinary links -->\n",
      "<div id=\"Hnuclei\"></div>\n",
      "\n",
      "$$\n",
      "\\begin{equation}\n",
      "    \\hat{H} = \\hat{H}_0 + \\hat{H}_I \n",
      "    = \\sum_{i=1}^N \\hat{h}_0(x_i) + \\sum_{i < j}^N \\hat{v}(r_{ij}),\n",
      "\\label{Hnuclei} \\tag{1}\n",
      "\\end{equation}\n",
      "$$"
     ]
    },
    {
     "cell_type": "markdown",
     "metadata": {},
     "source": [
      "with"
     ]
    },
    {
     "cell_type": "markdown",
     "metadata": {},
     "source": [
      "<!-- Equation labels as ordinary links -->\n",
      "<div id=\"hinuclei\"></div>\n",
      "\n",
      "$$\n",
      "\\begin{equation}\n",
      "  H_0=\\sum_{i=1}^N \\hat{h}_0(x_i).\n",
      "\\label{hinuclei} \\tag{2}\n",
      "\\end{equation}\n",
      "$$"
     ]
    },
    {
     "cell_type": "markdown",
     "metadata": {},
     "source": [
      "The onebody part $u_{\\mathrm{ext}}(x_i)$ is normally approximated by a harmonic oscillator potential or the Coulomb interaction an electron feels from the nucleus. However, other potentials are fully possible, such as \n",
      "one derived from the self-consistent solution of the Hartree-Fock equations to be discussed here.\n",
      "\n",
      "\n",
      "\n",
      "\n",
      "### Definitions and notations\n",
      "Our Hamiltonian is invariant under the permutation (interchange) of two particles.\n",
      "Since we deal with fermions however, the total wave function is antisymmetric.\n",
      "Let $\\hat{P}$ be an operator which interchanges two particles.\n",
      "Due to the symmetries we have ascribed to our Hamiltonian, this operator commutes with the total Hamiltonian,"
     ]
    },
    {
     "cell_type": "markdown",
     "metadata": {},
     "source": [
      "$$\n",
      "[\\hat{H},\\hat{P}] = 0,\n",
      "$$"
     ]
    },
    {
     "cell_type": "markdown",
     "metadata": {},
     "source": [
      "meaning that $\\Psi_{\\lambda}(x_1, x_2, \\dots , x_A)$ is an eigenfunction of \n",
      "$\\hat{P}$ as well, that is"
     ]
    },
    {
     "cell_type": "markdown",
     "metadata": {},
     "source": [
      "$$\n",
      "\\hat{P}_{ij}\\Psi_{\\lambda}(x_1, x_2, \\dots,x_i,\\dots,x_j,\\dots,x_A)=\n",
      "\\beta\\Psi_{\\lambda}(x_1, x_2, \\dots,x_i,\\dots,x_j,\\dots,x_A),\n",
      "$$"
     ]
    },
    {
     "cell_type": "markdown",
     "metadata": {},
     "source": [
      "where $\\beta$ is the eigenvalue of $\\hat{P}$. We have introduced the suffix $ij$ in order to indicate that we permute particles $i$ and $j$.\n",
      "The Pauli principle tells us that the total wave function for a system of fermions\n",
      "has to be antisymmetric, resulting in the eigenvalue $\\beta = -1$.\n",
      "\n",
      "\n",
      "\n",
      "### Definitions and notations\n",
      "In our case we assume that  we can approximate the exact eigenfunction with a Slater determinant"
     ]
    },
    {
     "cell_type": "markdown",
     "metadata": {},
     "source": [
      "<!-- Equation labels as ordinary links -->\n",
      "<div id=\"eq:HartreeFockDet\"></div>\n",
      "\n",
      "$$\n",
      "\\begin{equation}\n",
      "   \\Phi(x_1, x_2,\\dots ,x_A,\\alpha,\\beta,\\dots, \\sigma)=\\frac{1}{\\sqrt{N!}}\n",
      "\\left| \\begin{array}{ccccc} \\psi_{\\alpha}(x_1)& \\psi_{\\alpha}(x_2)& \\dots & \\dots & \\psi_{\\alpha}(x_A)\\\\\n",
      "                            \\psi_{\\beta}(x_1)&\\psi_{\\beta}(x_2)& \\dots & \\dots & \\psi_{\\beta}(x_A)\\\\  \n",
      "                            \\dots & \\dots & \\dots & \\dots & \\dots \\\\\n",
      "                            \\dots & \\dots & \\dots & \\dots & \\dots \\\\\n",
      "                     \\psi_{\\sigma}(x_1)&\\psi_{\\sigma}(x_2)& \\dots & \\dots & \\psi_{\\sigma}(x_A)\\end{array} \\right|, \\label{eq:HartreeFockDet} \\tag{3}\n",
      "\\end{equation}\n",
      "$$"
     ]
    },
    {
     "cell_type": "markdown",
     "metadata": {},
     "source": [
      "where  $x_i$  stand for the coordinates and spin values of a particle $i$ and $\\alpha,\\beta,\\dots, \\gamma$ \n",
      "are quantum numbers needed to describe remaining quantum numbers.\n",
      "\n",
      "\n",
      "\n",
      "### Definitions and notations\n",
      "The single-particle function $\\psi_{\\alpha}(x_i)$  are eigenfunctions of the onebody\n",
      "Hamiltonian $h_i$, that is"
     ]
    },
    {
     "cell_type": "markdown",
     "metadata": {},
     "source": [
      "$$\n",
      "\\hat{h}_0(x_i)=\\hat{t}(x_i) + \\hat{u}_{\\mathrm{ext}}(x_i),\n",
      "$$"
     ]
    },
    {
     "cell_type": "markdown",
     "metadata": {},
     "source": [
      "with eigenvalues"
     ]
    },
    {
     "cell_type": "markdown",
     "metadata": {},
     "source": [
      "$$\n",
      "\\hat{h}_0(x_i) \\psi_{\\alpha}(x_i)=\\left(\\hat{t}(x_i) + \\hat{u}_{\\mathrm{ext}}(x_i)\\right)\\psi_{\\alpha}(x_i)=\\varepsilon_{\\alpha}\\psi_{\\alpha}(x_i).\n",
      "$$"
     ]
    },
    {
     "cell_type": "markdown",
     "metadata": {},
     "source": [
      "The energies $\\varepsilon_{\\alpha}$ are the so-called non-interacting single-particle energies, or unperturbed energies. \n",
      "The total energy is in this case the sum over all  single-particle energies, if no two-body or more complicated\n",
      "many-body interactions are present.\n",
      "\n",
      "\n",
      "\n",
      "### Definitions and notations\n",
      "Let us denote the ground state energy by $E_0$. According to the\n",
      "variational principle we have"
     ]
    },
    {
     "cell_type": "markdown",
     "metadata": {},
     "source": [
      "$$\n",
      "E_0 \\le E[\\Phi] = \\int \\Phi^*\\hat{H}\\Phi d\\mathbf{\\tau}\n",
      "$$"
     ]
    },
    {
     "cell_type": "markdown",
     "metadata": {},
     "source": [
      "where $\\Phi$ is a trial function which we assume to be normalized"
     ]
    },
    {
     "cell_type": "markdown",
     "metadata": {},
     "source": [
      "$$\n",
      "\\int \\Phi^*\\Phi d\\mathbf{\\tau} = 1,\n",
      "$$"
     ]
    },
    {
     "cell_type": "markdown",
     "metadata": {},
     "source": [
      "where we have used the shorthand $d\\mathbf{\\tau}=dx_1dr_2\\dots dr_A$.\n",
      "\n",
      "\n",
      "\n",
      "### Definitions and notations\n",
      "In the Hartree-Fock method the trial function is the Slater\n",
      "determinant of Eq. [(3)](#eq:HartreeFockDet) which can be rewritten as"
     ]
    },
    {
     "cell_type": "markdown",
     "metadata": {},
     "source": [
      "$$\n",
      "\\Phi(x_1,x_2,\\dots,x_A,\\alpha,\\beta,\\dots,\\nu) = \\frac{1}{\\sqrt{N!}}\\sum_{P} (-)^P\\hat{P}\\psi_{\\alpha}(x_1)\n",
      "    \\psi_{\\beta}(x_2)\\dots\\psi_{\\nu}(x_A)=\\sqrt{N!}\\hat{A}\\Phi_H,\n",
      "$$"
     ]
    },
    {
     "cell_type": "markdown",
     "metadata": {},
     "source": [
      "where we have introduced the antisymmetrization operator $\\hat{A}$ defined by the \n",
      "summation over all possible permutations of two particles.\n",
      "\n",
      "\n",
      "\n",
      "### Definitions and notations\n",
      "It is defined as"
     ]
    },
    {
     "cell_type": "markdown",
     "metadata": {},
     "source": [
      "<!-- Equation labels as ordinary links -->\n",
      "<div id=\"antiSymmetryOperator\"></div>\n",
      "\n",
      "$$\n",
      "\\begin{equation}\n",
      "  \\hat{A} = \\frac{1}{N!}\\sum_{p} (-)^p\\hat{P},\n",
      "\\label{antiSymmetryOperator} \\tag{4}\n",
      "\\end{equation}\n",
      "$$"
     ]
    },
    {
     "cell_type": "markdown",
     "metadata": {},
     "source": [
      "with $p$ standing for the number of permutations. We have introduced for later use the so-called\n",
      "Hartree-function, defined by the simple product of all possible single-particle functions"
     ]
    },
    {
     "cell_type": "markdown",
     "metadata": {},
     "source": [
      "$$\n",
      "\\Phi_H(x_1,x_2,\\dots,x_A,\\alpha,\\beta,\\dots,\\nu) =\n",
      "  \\psi_{\\alpha}(x_1)\n",
      "    \\psi_{\\beta}(x_2)\\dots\\psi_{\\nu}(x_A).\n",
      "$$"
     ]
    },
    {
     "cell_type": "markdown",
     "metadata": {},
     "source": [
      "### Definitions and notations\n",
      "Both $\\hat{H}_0$ and $\\hat{H}_I$ are invariant under all possible permutations of any two particles\n",
      "and hence commute with $\\hat{A}$"
     ]
    },
    {
     "cell_type": "markdown",
     "metadata": {},
     "source": [
      "<!-- Equation labels as ordinary links -->\n",
      "<div id=\"commutionAntiSym\"></div>\n",
      "\n",
      "$$\n",
      "\\begin{equation}\n",
      "  [H_0,\\hat{A}] = [H_I,\\hat{A}] = 0. \\label{commutionAntiSym} \\tag{5}\n",
      "\\end{equation}\n",
      "$$"
     ]
    },
    {
     "cell_type": "markdown",
     "metadata": {},
     "source": [
      "Furthermore, $\\hat{A}$ satisfies"
     ]
    },
    {
     "cell_type": "markdown",
     "metadata": {},
     "source": [
      "<!-- Equation labels as ordinary links -->\n",
      "<div id=\"AntiSymSquared\"></div>\n",
      "\n",
      "$$\n",
      "\\begin{equation}\n",
      "  \\hat{A}^2 = \\hat{A},  \\label{AntiSymSquared} \\tag{6}\n",
      "\\end{equation}\n",
      "$$"
     ]
    },
    {
     "cell_type": "markdown",
     "metadata": {},
     "source": [
      "since every permutation of the Slater\n",
      "determinant reproduces it.\n",
      "\n",
      "\n",
      "\n",
      "### Definitions and notations\n",
      "The expectation value of $\\hat{H}_0$"
     ]
    },
    {
     "cell_type": "markdown",
     "metadata": {},
     "source": [
      "$$\n",
      "\\int \\Phi^*\\hat{H}_0\\Phi d\\mathbf{\\tau} \n",
      "  = N! \\int \\Phi_H^*\\hat{A}\\hat{H}_0\\hat{A}\\Phi_H d\\mathbf{\\tau}\n",
      "$$"
     ]
    },
    {
     "cell_type": "markdown",
     "metadata": {},
     "source": [
      "is readily reduced to"
     ]
    },
    {
     "cell_type": "markdown",
     "metadata": {},
     "source": [
      "$$\n",
      "\\int \\Phi^*\\hat{H}_0\\Phi d\\mathbf{\\tau} \n",
      "  = N! \\int \\Phi_H^*\\hat{H}_0\\hat{A}\\Phi_H d\\mathbf{\\tau},\n",
      "$$"
     ]
    },
    {
     "cell_type": "markdown",
     "metadata": {},
     "source": [
      "where we have used Eqs. [(5)](#commutionAntiSym) and\n",
      "[(6)](#AntiSymSquared). The next step is to replace the antisymmetrization\n",
      "operator by its definition and to\n",
      "replace $\\hat{H}_0$ with the sum of one-body operators"
     ]
    },
    {
     "cell_type": "markdown",
     "metadata": {},
     "source": [
      "$$\n",
      "\\int \\Phi^*\\hat{H}_0\\Phi  d\\mathbf{\\tau}\n",
      "  = \\sum_{i=1}^N \\sum_{p} (-)^p\\int \n",
      "  \\Phi_H^*\\hat{h}_0\\hat{P}\\Phi_H d\\mathbf{\\tau}.\n",
      "$$"
     ]
    },
    {
     "cell_type": "markdown",
     "metadata": {},
     "source": [
      "### Definitions and notations\n",
      "The integral vanishes if two or more particles are permuted in only one\n",
      "of the Hartree-functions $\\Phi_H$ because the individual single-particle wave functions are\n",
      "orthogonal. We obtain then"
     ]
    },
    {
     "cell_type": "markdown",
     "metadata": {},
     "source": [
      "$$\n",
      "\\int \\Phi^*\\hat{H}_0\\Phi  d\\mathbf{\\tau}= \\sum_{i=1}^N \\int \\Phi_H^*\\hat{h}_0\\Phi_H  d\\mathbf{\\tau}.\n",
      "$$"
     ]
    },
    {
     "cell_type": "markdown",
     "metadata": {},
     "source": [
      "Orthogonality of the single-particle functions allows us to further simplify the integral, and we\n",
      "arrive at the following expression for the expectation values of the\n",
      "sum of one-body Hamiltonians"
     ]
    },
    {
     "cell_type": "markdown",
     "metadata": {},
     "source": [
      "<!-- Equation labels as ordinary links -->\n",
      "<div id=\"H1Expectation\"></div>\n",
      "\n",
      "$$\n",
      "\\begin{equation}\n",
      "  \\int \\Phi^*\\hat{H}_0\\Phi  d\\mathbf{\\tau}\n",
      "  = \\sum_{\\mu=1}^N \\int \\psi_{\\mu}^*(x)\\hat{h}_0\\psi_{\\mu}(x)dx\n",
      "  d\\mathbf{r}.\n",
      "  \\label{H1Expectation} \\tag{7}\n",
      "\\end{equation}\n",
      "$$"
     ]
    },
    {
     "cell_type": "markdown",
     "metadata": {},
     "source": [
      "### Definitions and notations\n",
      "We introduce the following shorthand for the above integral"
     ]
    },
    {
     "cell_type": "markdown",
     "metadata": {},
     "source": [
      "$$\n",
      "\\langle \\mu | \\hat{h}_0 | \\mu \\rangle = \\int \\psi_{\\mu}^*(x)\\hat{h}_0\\psi_{\\mu}(x)dx,\n",
      "$$"
     ]
    },
    {
     "cell_type": "markdown",
     "metadata": {},
     "source": [
      "and rewrite Eq. [(7)](#H1Expectation) as"
     ]
    },
    {
     "cell_type": "markdown",
     "metadata": {},
     "source": [
      "<!-- Equation labels as ordinary links -->\n",
      "<div id=\"H1Expectation1\"></div>\n",
      "\n",
      "$$\n",
      "\\begin{equation}\n",
      "  \\int \\Phi^*\\hat{H}_0\\Phi  d\\tau\n",
      "  = \\sum_{\\mu=1}^N \\langle \\mu | \\hat{h}_0 | \\mu \\rangle.\n",
      "  \\label{H1Expectation1} \\tag{8}\n",
      "\\end{equation}\n",
      "$$"
     ]
    },
    {
     "cell_type": "markdown",
     "metadata": {},
     "source": [
      "### Definitions and notations\n",
      "The expectation value of the two-body part of the Hamiltonian is obtained in a\n",
      "similar manner. We have"
     ]
    },
    {
     "cell_type": "markdown",
     "metadata": {},
     "source": [
      "$$\n",
      "\\int \\Phi^*\\hat{H}_I\\Phi d\\mathbf{\\tau} \n",
      "  = N! \\int \\Phi_H^*\\hat{A}\\hat{H}_I\\hat{A}\\Phi_H d\\mathbf{\\tau},\n",
      "$$"
     ]
    },
    {
     "cell_type": "markdown",
     "metadata": {},
     "source": [
      "which reduces to"
     ]
    },
    {
     "cell_type": "markdown",
     "metadata": {},
     "source": [
      "$$\n",
      "\\int \\Phi^*\\hat{H}_I\\Phi d\\mathbf{\\tau} \n",
      "  = \\sum_{i\\le j=1}^N \\sum_{p} (-)^p\\int \n",
      "  \\Phi_H^*\\hat{v}(r_{ij})\\hat{P}\\Phi_H d\\mathbf{\\tau},\n",
      "$$"
     ]
    },
    {
     "cell_type": "markdown",
     "metadata": {},
     "source": [
      "by following the same arguments as for the one-body\n",
      "Hamiltonian.\n",
      "\n",
      "\n",
      "\n",
      "### Definitions and notations\n",
      "Because of the dependence on the inter-particle distance $r_{ij}$,  permutations of\n",
      "any two particles no longer vanish, and we get"
     ]
    },
    {
     "cell_type": "markdown",
     "metadata": {},
     "source": [
      "$$\n",
      "\\int \\Phi^*\\hat{H}_I\\Phi d\\mathbf{\\tau} \n",
      "  = \\sum_{i < j=1}^N \\int  \n",
      "  \\Phi_H^*\\hat{v}(r_{ij})(1-P_{ij})\\Phi_H d\\mathbf{\\tau}.\n",
      "$$"
     ]
    },
    {
     "cell_type": "markdown",
     "metadata": {},
     "source": [
      "where $P_{ij}$ is the permutation operator that interchanges\n",
      "particle $i$ and particle $j$. Again we use the assumption that the single-particle wave functions\n",
      "are orthogonal.\n",
      "\n",
      "\n",
      "\n",
      "\n",
      "### Definitions and notations\n",
      "We obtain"
     ]
    },
    {
     "cell_type": "markdown",
     "metadata": {},
     "source": [
      "<!-- Equation labels as ordinary links -->\n",
      "<div id=\"H2Expectation\"></div>\n",
      "\n",
      "$$\n",
      "\\begin{equation}\n",
      "\\begin{split}\n",
      "  \\int \\Phi^*\\hat{H}_I\\Phi d\\mathbf{\\tau} \n",
      "  = \\frac{1}{2}\\sum_{\\mu=1}^N\\sum_{\\nu=1}^N\n",
      "    &\\left[ \\int \\psi_{\\mu}^*(x_i)\\psi_{\\nu}^*(x_j)\\hat{v}(r_{ij})\\psi_{\\mu}(x_i)\\psi_{\\nu}(x_j)\n",
      "    dx_idx_j \\right.\\\\\n",
      "  &\\left.\n",
      "  - \\int \\psi_{\\mu}^*(x_i)\\psi_{\\nu}^*(x_j)\n",
      "  \\hat{v}(r_{ij})\\psi_{\\nu}(x_i)\\psi_{\\mu}(x_j)\n",
      "  dx_idx_j\n",
      "  \\right]. \\label{H2Expectation} \\tag{9}\n",
      "\\end{split}\n",
      "\\end{equation}\n",
      "$$"
     ]
    },
    {
     "cell_type": "markdown",
     "metadata": {},
     "source": [
      "The first term is the so-called direct term. It is frequently also called the  Hartree term, \n",
      "while the second is due to the Pauli principle and is called\n",
      "the exchange term or just the Fock term.\n",
      "The factor  $1/2$ is introduced because we now run over\n",
      "all pairs twice.\n",
      "\n",
      "\n",
      "\n",
      "### Definitions and notations\n",
      "The last equation allows us to  introduce some further definitions.  \n",
      "The single-particle wave functions $\\psi_{\\mu}(x)$, defined by the quantum numbers $\\mu$ and $x$\n",
      "are defined as the overlap"
     ]
    },
    {
     "cell_type": "markdown",
     "metadata": {},
     "source": [
      "$$\n",
      "\\psi_{\\alpha}(x)  = \\langle x | \\alpha \\rangle .\n",
      "$$"
     ]
    },
    {
     "cell_type": "markdown",
     "metadata": {},
     "source": [
      "### Definitions and notations\n",
      "We introduce the following shorthands for the above two integrals"
     ]
    },
    {
     "cell_type": "markdown",
     "metadata": {},
     "source": [
      "$$\n",
      "\\langle \\mu\\nu|\\hat{v}|\\mu\\nu\\rangle =  \\int \\psi_{\\mu}^*(x_i)\\psi_{\\nu}^*(x_j)\\hat{v}(r_{ij})\\psi_{\\mu}(x_i)\\psi_{\\nu}(x_j)\n",
      "    dx_idx_j,\n",
      "$$"
     ]
    },
    {
     "cell_type": "markdown",
     "metadata": {},
     "source": [
      "and"
     ]
    },
    {
     "cell_type": "markdown",
     "metadata": {},
     "source": [
      "$$\n",
      "\\langle \\mu\\nu|\\hat{v}|\\nu\\mu\\rangle = \\int \\psi_{\\mu}^*(x_i)\\psi_{\\nu}^*(x_j)\n",
      "  \\hat{v}(r_{ij})\\psi_{\\nu}(x_i)\\psi_{\\mu}(x_j)\n",
      "  dx_idx_j.\n",
      "$$"
     ]
    },
    {
     "cell_type": "markdown",
     "metadata": {},
     "source": [
      "### Derivation of Hartree-Fock equations in coordinate space\n",
      "Let us denote the ground state energy by $E_0$. According to the\n",
      "variational principle we have"
     ]
    },
    {
     "cell_type": "markdown",
     "metadata": {},
     "source": [
      "$$\n",
      "E_0 \\le E[\\Phi] = \\int \\Phi^*\\hat{H}\\Phi d\\mathbf{\\tau}\n",
      "$$"
     ]
    },
    {
     "cell_type": "markdown",
     "metadata": {},
     "source": [
      "where $\\Phi$ is a trial function which we assume to be normalized"
     ]
    },
    {
     "cell_type": "markdown",
     "metadata": {},
     "source": [
      "$$\n",
      "\\int \\Phi^*\\Phi d\\mathbf{\\tau} = 1,\n",
      "$$"
     ]
    },
    {
     "cell_type": "markdown",
     "metadata": {},
     "source": [
      "where we have used the shorthand $d\\mathbf{\\tau}=dx_1dx_2\\dots dx_A$.\n",
      "\n",
      "\n",
      "\n",
      "### Derivation of Hartree-Fock equations in coordinate space\n",
      "In the Hartree-Fock method the trial function is a Slater\n",
      "determinant which can be rewritten as"
     ]
    },
    {
     "cell_type": "markdown",
     "metadata": {},
     "source": [
      "$$\n",
      "\\Psi(x_1,x_2,\\dots,x_A,\\alpha,\\beta,\\dots,\\nu) = \\frac{1}{\\sqrt{N!}}\\sum_{P} (-)^PP\\psi_{\\alpha}(x_1)\n",
      "    \\psi_{\\beta}(x_2)\\dots\\psi_{\\nu}(x_A)=\\sqrt{N!}\\hat{A}\\Phi_H,\n",
      "$$"
     ]
    },
    {
     "cell_type": "markdown",
     "metadata": {},
     "source": [
      "where we have introduced the anti-symmetrization operator $\\hat{A}$ defined by the \n",
      "summation over all possible permutations *p* of two fermions.\n",
      "It is defined as"
     ]
    },
    {
     "cell_type": "markdown",
     "metadata": {},
     "source": [
      "$$\n",
      "\\hat{A} = \\frac{1}{N!}\\sum_{p} (-)^p\\hat{P},\n",
      "$$"
     ]
    },
    {
     "cell_type": "markdown",
     "metadata": {},
     "source": [
      "with the the Hartree-function given by the simple product of all possible single-particle function"
     ]
    },
    {
     "cell_type": "markdown",
     "metadata": {},
     "source": [
      "$$\n",
      "\\Phi_H(x_1,x_2,\\dots,x_A,\\alpha,\\beta,\\dots,\\nu) =\n",
      "  \\psi_{\\alpha}(x_1)\n",
      "    \\psi_{\\beta}(x_2)\\dots\\psi_{\\nu}(x_A).\n",
      "$$"
     ]
    },
    {
     "cell_type": "markdown",
     "metadata": {},
     "source": [
      "### Derivation of Hartree-Fock equations in coordinate space\n",
      "Our functional is written as"
     ]
    },
    {
     "cell_type": "markdown",
     "metadata": {},
     "source": [
      "$$\n",
      "E[\\Phi] = \\sum_{\\mu=1}^N \\int \\psi_{\\mu}^*(x_i)\\hat{h}_0(x_i)\\psi_{\\mu}(x_i) dx_i \n",
      "  + \\frac{1}{2}\\sum_{\\mu=1}^N\\sum_{\\nu=1}^N\n",
      "   \\left[ \\int \\psi_{\\mu}^*(x_i)\\psi_{\\nu}^*(x_j)\\hat{v}(r_{ij})\\psi_{\\mu}(x_i)\\psi_{\\nu}(x_j)dx_idx_j- \\int \\psi_{\\mu}^*(x_i)\\psi_{\\nu}^*(x_j)\n",
      " \\hat{v}(r_{ij})\\psi_{\\nu}(x_i)\\psi_{\\mu}(x_j)dx_idx_j\\right]\n",
      "$$"
     ]
    },
    {
     "cell_type": "markdown",
     "metadata": {},
     "source": [
      "The more compact version reads"
     ]
    },
    {
     "cell_type": "markdown",
     "metadata": {},
     "source": [
      "$$\n",
      "E[\\Phi] \n",
      "  = \\sum_{\\mu}^N \\langle \\mu | \\hat{h}_0 | \\mu\\rangle+ \\frac{1}{2}\\sum_{\\mu\\nu}^N\\left[\\langle \\mu\\nu |\\hat{v}|\\mu\\nu\\rangle-\\langle \\nu\\mu |\\hat{v}|\\mu\\nu\\rangle\\right].\n",
      "$$"
     ]
    },
    {
     "cell_type": "markdown",
     "metadata": {},
     "source": [
      "### Derivation of Hartree-Fock equations in coordinate space\n",
      "Since the interaction is invariant under the interchange of two particles it means for example that we have"
     ]
    },
    {
     "cell_type": "markdown",
     "metadata": {},
     "source": [
      "$$\n",
      "\\langle \\mu\\nu|\\hat{v}|\\mu\\nu\\rangle =  \\langle \\nu\\mu|\\hat{v}|\\nu\\mu\\rangle,\n",
      "$$"
     ]
    },
    {
     "cell_type": "markdown",
     "metadata": {},
     "source": [
      "or in the more general case"
     ]
    },
    {
     "cell_type": "markdown",
     "metadata": {},
     "source": [
      "$$\n",
      "\\langle \\mu\\nu|\\hat{v}|\\sigma\\tau\\rangle =  \\langle \\nu\\mu|\\hat{v}|\\tau\\sigma\\rangle.\n",
      "$$"
     ]
    },
    {
     "cell_type": "markdown",
     "metadata": {},
     "source": [
      "### Derivation of Hartree-Fock equations in coordinate space\n",
      "The direct and exchange matrix elements can be  brought together if we define the antisymmetrized matrix element"
     ]
    },
    {
     "cell_type": "markdown",
     "metadata": {},
     "source": [
      "$$\n",
      "\\langle \\mu\\nu|\\hat{v}|\\mu\\nu\\rangle_{AS}= \\langle \\mu\\nu|\\hat{v}|\\mu\\nu\\rangle-\\langle \\mu\\nu|\\hat{v}|\\nu\\mu\\rangle,\n",
      "$$"
     ]
    },
    {
     "cell_type": "markdown",
     "metadata": {},
     "source": [
      "or for a general matrix element"
     ]
    },
    {
     "cell_type": "markdown",
     "metadata": {},
     "source": [
      "$$\n",
      "\\langle \\mu\\nu|\\hat{v}|\\sigma\\tau\\rangle_{AS}= \\langle \\mu\\nu|\\hat{v}|\\sigma\\tau\\rangle-\\langle \\mu\\nu|\\hat{v}|\\tau\\sigma\\rangle.\n",
      "$$"
     ]
    },
    {
     "cell_type": "markdown",
     "metadata": {},
     "source": [
      "It has the symmetry property"
     ]
    },
    {
     "cell_type": "markdown",
     "metadata": {},
     "source": [
      "$$\n",
      "\\langle \\mu\\nu|\\hat{v}|\\sigma\\tau\\rangle_{AS}= -\\langle \\mu\\nu|\\hat{v}|\\tau\\sigma\\rangle_{AS}=-\\langle \\nu\\mu|\\hat{v}|\\sigma\\tau\\rangle_{AS}.\n",
      "$$"
     ]
    },
    {
     "cell_type": "markdown",
     "metadata": {},
     "source": [
      "The antisymmetric matrix element is also hermitian, implying"
     ]
    },
    {
     "cell_type": "markdown",
     "metadata": {},
     "source": [
      "$$\n",
      "\\langle \\mu\\nu|\\hat{v}|\\sigma\\tau\\rangle_{AS}= \\langle \\sigma\\tau|\\hat{v}|\\mu\\nu\\rangle_{AS}.\n",
      "$$"
     ]
    },
    {
     "cell_type": "markdown",
     "metadata": {},
     "source": [
      "### Derivation of Hartree-Fock equations in coordinate space\n",
      "With these notations we rewrite the Hartree-Fock functional as"
     ]
    },
    {
     "cell_type": "markdown",
     "metadata": {},
     "source": [
      "<!-- Equation labels as ordinary links -->\n",
      "<div id=\"H2Expectation2\"></div>\n",
      "\n",
      "$$\n",
      "\\begin{equation}\n",
      "  \\int \\Phi^*\\hat{H_I}\\Phi d\\mathbf{\\tau} \n",
      "  = \\frac{1}{2}\\sum_{\\mu=1}^N\\sum_{\\nu=1}^N \\langle \\mu\\nu|\\hat{v}|\\mu\\nu\\rangle_{AS}. \\label{H2Expectation2} \\tag{10}\n",
      "\\end{equation}\n",
      "$$"
     ]
    },
    {
     "cell_type": "markdown",
     "metadata": {},
     "source": [
      "Adding the contribution from the one-body operator $\\hat{H}_0$ to\n",
      "[(10)](#H2Expectation2) we obtain the energy functional"
     ]
    },
    {
     "cell_type": "markdown",
     "metadata": {},
     "source": [
      "<!-- Equation labels as ordinary links -->\n",
      "<div id=\"FunctionalEPhi\"></div>\n",
      "\n",
      "$$\n",
      "\\begin{equation}\n",
      "  E[\\Phi] \n",
      "  = \\sum_{\\mu=1}^N \\langle \\mu | h | \\mu \\rangle +\n",
      "  \\frac{1}{2}\\sum_{{\\mu}=1}^N\\sum_{{\\nu}=1}^N \\langle \\mu\\nu|\\hat{v}|\\mu\\nu\\rangle_{AS}. \\label{FunctionalEPhi} \\tag{11}\n",
      "\\end{equation}\n",
      "$$"
     ]
    },
    {
     "cell_type": "markdown",
     "metadata": {},
     "source": [
      "In our coordinate space derivations below we will spell out the Hartree-Fock equations in terms of their integrals.\n",
      "\n",
      "\n",
      "\n",
      "\n",
      "### Derivation of Hartree-Fock equations in coordinate space\n",
      "If we generalize the Euler-Lagrange equations to more variables \n",
      "and introduce $N^2$ Lagrange multipliers which we denote by \n",
      "$\\epsilon_{\\mu\\nu}$, we can write the variational equation for the functional of $E$"
     ]
    },
    {
     "cell_type": "markdown",
     "metadata": {},
     "source": [
      "$$\n",
      "\\delta E - \\sum_{\\mu\\nu}^N \\epsilon_{\\mu\\nu} \\delta\n",
      "  \\int \\psi_{\\mu}^* \\psi_{\\nu} = 0.\n",
      "$$"
     ]
    },
    {
     "cell_type": "markdown",
     "metadata": {},
     "source": [
      "For the orthogonal wave functions $\\psi_{i}$ this reduces to"
     ]
    },
    {
     "cell_type": "markdown",
     "metadata": {},
     "source": [
      "$$\n",
      "\\delta E - \\sum_{\\mu=1}^N \\epsilon_{\\mu} \\delta\n",
      "  \\int \\psi_{\\mu}^* \\psi_{\\mu} = 0.\n",
      "$$"
     ]
    },
    {
     "cell_type": "markdown",
     "metadata": {},
     "source": [
      "### Derivation of Hartree-Fock equations in coordinate space\n",
      "Variation with respect to the single-particle wave functions $\\psi_{\\mu}$ yields then"
     ]
    },
    {
     "cell_type": "markdown",
     "metadata": {},
     "source": [
      "6\n",
      "1\n",
      " \n",
      "<\n",
      "<\n",
      "<\n",
      "!\n",
      "!\n",
      "M\n",
      "A\n",
      "T\n",
      "H\n",
      "_\n",
      "B\n",
      "L\n",
      "O\n",
      "C\n",
      "K"
     ]
    },
    {
     "cell_type": "markdown",
     "metadata": {},
     "source": [
      "$$\n",
      "\\sum_{\\mu=1}^N \\int \\psi_{\\mu}^*\\hat{h_0}(x_i)\\delta\\psi_{\\mu}\n",
      "  dx_i \n",
      "  + \\frac{1}{2}\\sum_{{\\mu}=1}^N\\sum_{{\\nu}=1}^N \\left[ \\int\n",
      "  \\psi_{\\mu}^*\\psi_{\\nu}^*\\hat{v}(r_{ij})\\delta\\psi_{\\mu}\\psi_{\\nu} dx_idx_j- \\int\n",
      "  \\psi_{\\mu}^*\\psi_{\\nu}^*\\hat{v}(r_{ij})\\psi_{\\nu}\\delta\\psi_{\\mu}\n",
      "  dx_idx_j \\right]-  \\sum_{{\\mu}=1}^N E_{\\mu} \\int \\delta\\psi_{\\mu}^*\n",
      "  \\psi_{\\mu}dx_i\n",
      "  -  \\sum_{{\\mu}=1}^N E_{\\mu} \\int \\psi_{\\mu}^*\n",
      "  \\delta\\psi_{\\mu}dx_i = 0.\n",
      "$$"
     ]
    },
    {
     "cell_type": "markdown",
     "metadata": {},
     "source": [
      "### Derivation of Hartree-Fock equations in coordinate space\n",
      "Although the variations $\\delta\\psi$ and $\\delta\\psi^*$ are not\n",
      "independent, they may in fact be treated as such, so that the \n",
      "terms dependent on either $\\delta\\psi$ and $\\delta\\psi^*$ individually \n",
      "may be set equal to zero. To see this, simply \n",
      "replace the arbitrary variation $\\delta\\psi$ by $i\\delta\\psi$, so that\n",
      "$\\delta\\psi^*$ is replaced by $-i\\delta\\psi^*$, and combine the two\n",
      "equations. We thus arrive at the Hartree-Fock equations"
     ]
    },
    {
     "cell_type": "markdown",
     "metadata": {},
     "source": [
      "<!-- Equation labels as ordinary links -->\n",
      "<div id=\"eq:hartreefockcoordinatespace\"></div>\n",
      "\n",
      "$$\n",
      "\\begin{equation}\n",
      "\\left[ -\\frac{1}{2}\\nabla_i^2+ \\sum_{\\nu=1}^N\\int \\psi_{\\nu}^*(x_j)\\hat{v}(r_{ij})\\psi_{\\nu}(x_j)dx_j \\right]\\psi_{\\mu}(x_i) - \\left[ \\sum_{{\\nu}=1}^N \\int\\psi_{\\nu}^*(x_j)\\hat{v}(r_{ij})\\psi_{\\mu}(x_j) dx_j\\right] \\psi_{\\nu}(x_i) = \\epsilon_{\\mu} \\psi_{\\mu}(x_i).  \\label{eq:hartreefockcoordinatespace} \\tag{12}\n",
      "\\end{equation}\n",
      "$$"
     ]
    },
    {
     "cell_type": "markdown",
     "metadata": {},
     "source": [
      "Notice that the integration $\\int dx_j$ implies an\n",
      "integration over the spatial coordinates $\\mathbf{r_j}$ and a summation\n",
      "over the spin-coordinate of fermion $j$. We note that the factor of $1/2$ in front of the sum involving the two-body interaction, has been removed. This is due to the fact that we need to vary both $\\delta\\psi_{\\mu}^*$ and\n",
      "$\\delta\\psi_{\\nu}^*$. Using the symmetry properties of the two-body interaction and interchanging $\\mu$ and $\\nu$\n",
      "as summation indices, we obtain two identical terms.\n",
      "\n",
      "\n",
      "\n",
      "### Derivation of Hartree-Fock equations in coordinate space\n",
      "The two first terms in the last equation are the one-body kinetic energy and the\n",
      "electron-nucleus potential. The third or *direct* term is the averaged electronic repulsion of the other\n",
      "electrons. As written, the\n",
      "term includes the *self-interaction* of \n",
      "electrons when $\\mu=\\nu$. The self-interaction is cancelled in the fourth\n",
      "term, or the *exchange* term. The exchange term results from our\n",
      "inclusion of the Pauli principle and the assumed determinantal form of\n",
      "the wave-function. Equation [(12)](#eq:hartreefockcoordinatespace), in addition to the kinetic energy and the attraction from the atomic nucleus that confines the motion of a single electron,   represents now the motion of a single-particle modified by the two-body interaction. The additional contribution to the Schroedinger equation due to the two-body interaction, represents a mean field set up by all the other bystanding electrons, the latter given by the sum over all single-particle states occupied by $N$ electrons. \n",
      "\n",
      "The Hartree-Fock equation is an example of an integro-differential equation. These equations involve repeated calculations of integrals, in addition to the solution of a set of coupled differential equations. \n",
      "The Hartree-Fock equations can also be rewritten in terms of an eigenvalue problem. The solution of an eigenvalue problem represents often a more practical algorithm and the  solution of  coupled  integro-differential equations.\n",
      "This alternative derivation of the Hartree-Fock equations is given below.\n",
      "\n",
      "\n",
      "\n",
      "\n",
      "### Analysis of Hartree-Fock equations in coordinate space\n",
      "  A theoretically convenient form of the\n",
      "Hartree-Fock equation is to regard the direct and exchange operator\n",
      "defined through"
     ]
    },
    {
     "cell_type": "markdown",
     "metadata": {},
     "source": [
      "$$\n",
      "V_{\\mu}^{d}(x_i) = \\int \\psi_{\\mu}^*(x_j) \n",
      " \\hat{v}(r_{ij})\\psi_{\\mu}(x_j) dx_j\n",
      "$$"
     ]
    },
    {
     "cell_type": "markdown",
     "metadata": {},
     "source": [
      "and"
     ]
    },
    {
     "cell_type": "markdown",
     "metadata": {},
     "source": [
      "$$\n",
      "V_{\\mu}^{ex}(x_i) g(x_i) \n",
      "  = \\left(\\int \\psi_{\\mu}^*(x_j) \n",
      " \\hat{v}(r_{ij})g(x_j) dx_j\n",
      "  \\right)\\psi_{\\mu}(x_i),\n",
      "$$"
     ]
    },
    {
     "cell_type": "markdown",
     "metadata": {},
     "source": [
      "respectively.\n",
      "\n",
      "\n",
      "\n",
      "### Analysis of Hartree-Fock equations in coordinate space\n",
      "The function $g(x_i)$ is an arbitrary function,\n",
      "and by the substitution $g(x_i) = \\psi_{\\nu}(x_i)$\n",
      "we get"
     ]
    },
    {
     "cell_type": "markdown",
     "metadata": {},
     "source": [
      "$$\n",
      "V_{\\mu}^{ex}(x_i) \\psi_{\\nu}(x_i) \n",
      "  = \\left(\\int \\psi_{\\mu}^*(x_j) \n",
      " \\hat{v}(r_{ij})\\psi_{\\nu}(x_j)\n",
      "  dx_j\\right)\\psi_{\\mu}(x_i).\n",
      "$$"
     ]
    },
    {
     "cell_type": "markdown",
     "metadata": {},
     "source": [
      "We may then rewrite the Hartree-Fock equations as"
     ]
    },
    {
     "cell_type": "markdown",
     "metadata": {},
     "source": [
      "$$\n",
      "\\hat{h}^{HF}(x_i) \\psi_{\\nu}(x_i) = \\epsilon_{\\nu}\\psi_{\\nu}(x_i),\n",
      "$$"
     ]
    },
    {
     "cell_type": "markdown",
     "metadata": {},
     "source": [
      "with"
     ]
    },
    {
     "cell_type": "markdown",
     "metadata": {},
     "source": [
      "$$\n",
      "\\hat{h}^{HF}(x_i)= \\hat{h}_0(x_i) + \\sum_{\\mu=1}^NV_{\\mu}^{d}(x_i) -\n",
      "  \\sum_{\\mu=1}^NV_{\\mu}^{ex}(x_i),\n",
      "$$"
     ]
    },
    {
     "cell_type": "markdown",
     "metadata": {},
     "source": [
      "and where $\\hat{h}_0(i)$ is the one-body part. The latter is normally chosen as a part which yields solutions in closed form. The harmonic oscilltor is a classical problem thereof.\n",
      "We normally rewrite the last equation as"
     ]
    },
    {
     "cell_type": "markdown",
     "metadata": {},
     "source": [
      "$$\n",
      "\\hat{h}^{HF}(x_i)= \\hat{h}_0(x_i) + \\hat{u}^{HF}(x_i).\n",
      "$$"
     ]
    },
    {
     "cell_type": "markdown",
     "metadata": {},
     "source": [
      "### Hartree-Fock by varying the coefficients of a wave function expansion\n",
      "Another possibility is to expand the single-particle functions in a known basis  and vary the coefficients, \n",
      "that is, the new single-particle wave function is written as a linear expansion\n",
      "in terms of a fixed chosen orthogonal basis (for example the well-known harmonic oscillator functions or the hydrogen-like functions etc).\n",
      "We define our new Hartree-Fock single-particle basis by performing a unitary transformation \n",
      "on our previous basis (labelled with greek indices) as"
     ]
    },
    {
     "cell_type": "markdown",
     "metadata": {},
     "source": [
      "<!-- Equation labels as ordinary links -->\n",
      "<div id=\"eq:newbasis\"></div>\n",
      "\n",
      "$$\n",
      "\\begin{equation}\n",
      "\\psi_p^{HF}  = \\sum_{\\lambda} C_{p\\lambda}\\phi_{\\lambda}. \\label{eq:newbasis} \\tag{13}\n",
      "\\end{equation}\n",
      "$$"
     ]
    },
    {
     "cell_type": "markdown",
     "metadata": {},
     "source": [
      "In this case we vary the coefficients $C_{p\\lambda}$. If the basis has infinitely many solutions, we need\n",
      "to truncate the above sum.  We assume that the basis $\\phi_{\\lambda}$ is orthogonal. A unitary transformation keeps the orthogonality, as discussed in exercise 1 below.\n",
      "\n",
      "\n",
      "\n",
      "### Hartree-Fock by varying the coefficients of a wave function expansion\n",
      "It is normal to choose a single-particle basis defined as the eigenfunctions\n",
      "of parts of the full Hamiltonian. The typical situation consists of the solutions of the one-body part of the Hamiltonian, that is we have"
     ]
    },
    {
     "cell_type": "markdown",
     "metadata": {},
     "source": [
      "$$\n",
      "\\hat{h}_0\\phi_{\\lambda}=\\epsilon_{\\lambda}\\phi_{\\lambda}.\n",
      "$$"
     ]
    },
    {
     "cell_type": "markdown",
     "metadata": {},
     "source": [
      "The single-particle wave functions $\\phi_{\\lambda}({\\bf r})$, defined by the quantum numbers $\\lambda$ and ${\\bf r}$\n",
      "are defined as the overlap"
     ]
    },
    {
     "cell_type": "markdown",
     "metadata": {},
     "source": [
      "$$\n",
      "\\phi_{\\lambda}({\\bf r})  = \\langle {\\bf r} | \\lambda \\rangle .\n",
      "$$"
     ]
    },
    {
     "cell_type": "markdown",
     "metadata": {},
     "source": [
      "### Hartree-Fock by varying the coefficients of a wave function expansion\n",
      "In our discussions hereafter we will use our definitions of single-particle states above and below the Fermi ($F$) level given by the labels\n",
      "$ijkl\\dots \\le F$ for so-called single-hole states and $abcd\\dots > F$ for so-called particle states.\n",
      "For general single-particle states we employ the labels $pqrs\\dots$.\n",
      "\n",
      "\n",
      "\n",
      "\n",
      "### Hartree-Fock by varying the coefficients of a wave function expansion\n",
      "In Eq. [(11)](#FunctionalEPhi), restated here"
     ]
    },
    {
     "cell_type": "markdown",
     "metadata": {},
     "source": [
      "$$\n",
      "E[\\Phi] \n",
      "  = \\sum_{\\mu=1}^N \\langle \\mu | h | \\mu \\rangle +\n",
      "  \\frac{1}{2}\\sum_{{\\mu}=1}^N\\sum_{{\\nu}=1}^N \\langle \\mu\\nu|\\hat{v}|\\mu\\nu\\rangle_{AS},\n",
      "$$"
     ]
    },
    {
     "cell_type": "markdown",
     "metadata": {},
     "source": [
      "we found the expression for the energy functional in terms of the basis function $\\phi_{\\lambda}({\\bf r})$. We then  varied the above energy functional with respect to the basis functions $|\\mu \\rangle$. \n",
      "Now we are interested in defining a new basis defined in terms of\n",
      "a chosen basis as defined in Eq. [(13)](#eq:newbasis). We can then rewrite the energy functional as"
     ]
    },
    {
     "cell_type": "markdown",
     "metadata": {},
     "source": [
      "<!-- Equation labels as ordinary links -->\n",
      "<div id=\"FunctionalEPhi2\"></div>\n",
      "\n",
      "$$\n",
      "\\begin{equation}\n",
      "  E[\\Phi^{HF}] \n",
      "  = \\sum_{i=1}^N \\langle i | h | i \\rangle +\n",
      "  \\frac{1}{2}\\sum_{ij=1}^N\\langle ij|\\hat{v}|ij\\rangle_{AS}, \\label{FunctionalEPhi2} \\tag{14}\n",
      "\\end{equation}\n",
      "$$"
     ]
    },
    {
     "cell_type": "markdown",
     "metadata": {},
     "source": [
      "where $\\Phi^{HF}$ is the new Slater determinant defined by the new basis of Eq. [(13)](#eq:newbasis).\n",
      "\n",
      "\n",
      "\n",
      "### Hartree-Fock by varying the coefficients of a wave function expansion\n",
      "Using Eq. [(13)](#eq:newbasis) we can rewrite Eq. [(14)](#FunctionalEPhi2) as"
     ]
    },
    {
     "cell_type": "markdown",
     "metadata": {},
     "source": [
      "<!-- Equation labels as ordinary links -->\n",
      "<div id=\"FunctionalEPhi3\"></div>\n",
      "\n",
      "$$\n",
      "\\begin{equation}\n",
      "  E[\\Psi] \n",
      "  = \\sum_{i=1}^N \\sum_{\\alpha\\beta} C^*_{i\\alpha}C_{i\\beta}\\langle \\alpha | h | \\beta \\rangle +\n",
      "  \\frac{1}{2}\\sum_{ij=1}^N\\sum_{{\\alpha\\beta\\gamma\\delta}} C^*_{i\\alpha}C^*_{j\\beta}C_{i\\gamma}C_{j\\delta}\\langle \\alpha\\beta|\\hat{v}|\\gamma\\delta\\rangle_{AS}. \\label{FunctionalEPhi3} \\tag{15}\n",
      "\\end{equation}\n",
      "$$"
     ]
    },
    {
     "cell_type": "markdown",
     "metadata": {},
     "source": [
      "### Hartree-Fock by varying the coefficients of a wave function expansion\n",
      "We wish now to minimize the above functional. We introduce again a set of Lagrange multipliers, noting that\n",
      "since $\\langle i | j \\rangle = \\delta_{i,j}$ and $\\langle \\alpha | \\beta \\rangle = \\delta_{\\alpha,\\beta}$, \n",
      "the coefficients $C_{i\\gamma}$ obey the relation"
     ]
    },
    {
     "cell_type": "markdown",
     "metadata": {},
     "source": [
      "$$\n",
      "\\langle i | j \\rangle=\\delta_{i,j}=\\sum_{\\alpha\\beta} C^*_{i\\alpha}C_{i\\beta}\\langle \\alpha | \\beta \\rangle=\n",
      "\\sum_{\\alpha} C^*_{i\\alpha}C_{i\\alpha},\n",
      "$$"
     ]
    },
    {
     "cell_type": "markdown",
     "metadata": {},
     "source": [
      "which allows us to define a functional to be minimized that reads"
     ]
    },
    {
     "cell_type": "markdown",
     "metadata": {},
     "source": [
      "$$\n",
      "\\begin{equation}\n",
      "  F[\\Phi^{HF}]=E[\\Phi^{HF}] - \\sum_{i=1}^N\\epsilon_i\\sum_{\\alpha} C^*_{i\\alpha}C_{i\\alpha}.\n",
      "\\end{equation}\n",
      "$$"
     ]
    },
    {
     "cell_type": "markdown",
     "metadata": {},
     "source": [
      "### Hartree-Fock by varying the coefficients of a wave function expansion\n",
      "Minimizing with respect to $C^*_{i\\alpha}$, remembering that the equations for $C^*_{i\\alpha}$ and $C_{i\\alpha}$\n",
      "can be written as two  independent equations, we obtain"
     ]
    },
    {
     "cell_type": "markdown",
     "metadata": {},
     "source": [
      "$$\n",
      "\\frac{d}{dC^*_{i\\alpha}}\\left[  E[\\Phi^{HF}] - \\sum_{j}\\epsilon_j\\sum_{\\alpha} C^*_{j\\alpha}C_{j\\alpha}\\right]=0,\n",
      "$$"
     ]
    },
    {
     "cell_type": "markdown",
     "metadata": {},
     "source": [
      "which yields for every single-particle state $i$ and index $\\alpha$ (recalling that the coefficients $C_{i\\alpha}$ are matrix elements of a unitary (or orthogonal for a real symmetric matrix) matrix)\n",
      "the following Hartree-Fock equations"
     ]
    },
    {
     "cell_type": "markdown",
     "metadata": {},
     "source": [
      "$$\n",
      "\\sum_{\\beta} C_{i\\beta}\\langle \\alpha | h | \\beta \\rangle+\n",
      "\\sum_{j=1}^N\\sum_{\\beta\\gamma\\delta} C^*_{j\\beta}C_{j\\delta}C_{i\\gamma}\\langle \\alpha\\beta|\\hat{v}|\\gamma\\delta\\rangle_{AS}=\\epsilon_i^{HF}C_{i\\alpha}.\n",
      "$$"
     ]
    },
    {
     "cell_type": "markdown",
     "metadata": {},
     "source": [
      "### Hartree-Fock by varying the coefficients of a wave function expansion\n",
      "We can rewrite this equation as (changing dummy variables)"
     ]
    },
    {
     "cell_type": "markdown",
     "metadata": {},
     "source": [
      "$$\n",
      "\\sum_{\\beta} \\left\\{\\langle \\alpha | h | \\beta \\rangle+\n",
      "\\sum_{j}^N\\sum_{\\gamma\\delta} C^*_{j\\gamma}C_{j\\delta}\\langle \\alpha\\gamma|\\hat{v}|\\beta\\delta\\rangle_{AS}\\right\\}C_{i\\beta}=\\epsilon_i^{HF}C_{i\\alpha}.\n",
      "$$"
     ]
    },
    {
     "cell_type": "markdown",
     "metadata": {},
     "source": [
      "Note that the sums over greek indices run over the number of basis set functions (in principle an infinite number).\n",
      "\n",
      "\n",
      "\n",
      "### Hartree-Fock by varying the coefficients of a wave function expansion\n",
      "Defining"
     ]
    },
    {
     "cell_type": "markdown",
     "metadata": {},
     "source": [
      "$$\n",
      "h_{\\alpha\\beta}^{HF}=\\langle \\alpha | h | \\beta \\rangle+\n",
      "\\sum_{j=1}^N\\sum_{\\gamma\\delta} C^*_{j\\gamma}C_{j\\delta}\\langle \\alpha\\gamma|\\hat{v}|\\beta\\delta\\rangle_{AS},\n",
      "$$"
     ]
    },
    {
     "cell_type": "markdown",
     "metadata": {},
     "source": [
      "we can rewrite the new equations as"
     ]
    },
    {
     "cell_type": "markdown",
     "metadata": {},
     "source": [
      "<!-- Equation labels as ordinary links -->\n",
      "<div id=\"eq:newhf\"></div>\n",
      "\n",
      "$$\n",
      "\\begin{equation}\n",
      "\\sum_{\\gamma}h_{\\alpha\\beta}^{HF}C_{i\\beta}=\\epsilon_i^{HF}C_{i\\alpha}. \\label{eq:newhf} \\tag{16}\n",
      "\\end{equation}\n",
      "$$"
     ]
    },
    {
     "cell_type": "markdown",
     "metadata": {},
     "source": [
      "The latter is nothing but a standard eigenvalue problem. Compared with Eq. [(12)](#eq:hartreefockcoordinatespace),\n",
      "we see that we do not need to compute any integrals in an iterative procedure for solving the equations.\n",
      "It suffices to tabulate the matrix elements $\\langle \\alpha | h | \\beta \\rangle$ and $\\langle \\alpha\\gamma|\\hat{v}|\\beta\\delta\\rangle_{AS}$ once and for all. Successive iterations require thus only a look-up in tables over one-body and two-body matrix elements. These details will be discussed below when we solve the Hartree-Fock equations numerical.\n",
      "\n",
      "\n",
      "\n",
      "### Hartree-Fock algorithm\n",
      "Our Hartree-Fock matrix  is thus"
     ]
    },
    {
     "cell_type": "markdown",
     "metadata": {},
     "source": [
      "$$\n",
      "\\hat{h}_{\\alpha\\beta}^{HF}=\\langle \\alpha | \\hat{h}_0 | \\beta \\rangle+\n",
      "\\sum_{j=1}^N\\sum_{\\gamma\\delta} C^*_{j\\gamma}C_{j\\delta}\\langle \\alpha\\gamma|\\hat{v}|\\beta\\delta\\rangle_{AS}.\n",
      "$$"
     ]
    },
    {
     "cell_type": "markdown",
     "metadata": {},
     "source": [
      "The Hartree-Fock equations are solved in an iterative waym starting with a guess for the coefficients $C_{j\\gamma}=\\delta_{j,\\gamma}$ and solving the equations by diagonalization till the new single-particle energies\n",
      "$\\epsilon_i^{\\mathrm{HF}}$ do not change anymore by a prefixed quantity.\n",
      "\n",
      "\n",
      "\n",
      "### Hartree-Fock algorithm\n",
      "Normally we assume that the single-particle basis $|\\beta\\rangle$ forms an eigenbasis for the operator\n",
      "$\\hat{h}_0$, meaning that the Hartree-Fock matrix becomes"
     ]
    },
    {
     "cell_type": "markdown",
     "metadata": {},
     "source": [
      "$$\n",
      "\\hat{h}_{\\alpha\\beta}^{HF}=\\epsilon_{\\alpha}\\delta_{\\alpha,\\beta}+\n",
      "\\sum_{j=1}^N\\sum_{\\gamma\\delta} C^*_{j\\gamma}C_{j\\delta}\\langle \\alpha\\gamma|\\hat{v}|\\beta\\delta\\rangle_{AS}.\n",
      "$$"
     ]
    },
    {
     "cell_type": "markdown",
     "metadata": {},
     "source": [
      "The Hartree-Fock eigenvalue problem"
     ]
    },
    {
     "cell_type": "markdown",
     "metadata": {},
     "source": [
      "$$\n",
      "\\sum_{\\beta}\\hat{h}_{\\alpha\\beta}^{HF}C_{i\\beta}=\\epsilon_i^{\\mathrm{HF}}C_{i\\alpha},\n",
      "$$"
     ]
    },
    {
     "cell_type": "markdown",
     "metadata": {},
     "source": [
      "can be written out in a more compact form as"
     ]
    },
    {
     "cell_type": "markdown",
     "metadata": {},
     "source": [
      "$$\n",
      "\\hat{h}^{HF}\\hat{C}=\\epsilon^{\\mathrm{HF}}\\hat{C}.\n",
      "$$"
     ]
    },
    {
     "cell_type": "markdown",
     "metadata": {},
     "source": [
      "### Hartree-Fock algorithm\n",
      "The Hartree-Fock equations are, in their simplest form, solved in an iterative way, starting with a guess for the\n",
      "coefficients $C_{i\\alpha}$. We label the coefficients as $C_{i\\alpha}^{(n)}$, where the subscript $n$ stands for iteration $n$.\n",
      "To set up the algorithm we can proceed as follows:\n",
      "\n",
      " * We start with a guess $C_{i\\alpha}^{(0)}=\\delta_{i,\\alpha}$. Alternatively, we could have used random starting values as long as the vectors are normalized. Another possibility is to give states below the Fermi level a larger weight.\n",
      "\n",
      " * The Hartree-Fock matrix simplifies then to (assuming that the coefficients $C_{i\\alpha} $  are real)"
     ]
    },
    {
     "cell_type": "markdown",
     "metadata": {},
     "source": [
      "$$\n",
      "\\hat{h}_{\\alpha\\beta}^{HF}=\\epsilon_{\\alpha}\\delta_{\\alpha,\\beta}+\n",
      "\\sum_{j = 1}^N\\sum_{\\gamma\\delta} C_{j\\gamma}^{(0)}C_{j\\delta}^{(0)}\\langle \\alpha\\gamma|\\hat{v}|\\beta\\delta\\rangle_{AS}.\n",
      "$$"
     ]
    },
    {
     "cell_type": "markdown",
     "metadata": {},
     "source": [
      "### Hartree-Fock algorithm\n",
      "Solving the Hartree-Fock eigenvalue problem yields then new eigenvectors $C_{i\\alpha}^{(1)}$ and eigenvalues\n",
      "$\\epsilon_i^{HF(1)}$. \n",
      " * With the new eigenvalues we can set up a new Hartree-Fock potential"
     ]
    },
    {
     "cell_type": "markdown",
     "metadata": {},
     "source": [
      "$$\n",
      "\\sum_{j = 1}^N\\sum_{\\gamma\\delta} C_{j\\gamma}^{(1)}C_{j\\delta}^{(1)}\\langle \\alpha\\gamma|\\hat{v}|\\beta\\delta\\rangle_{AS}.\n",
      "$$"
     ]
    },
    {
     "cell_type": "markdown",
     "metadata": {},
     "source": [
      "The diagonalization with the new Hartree-Fock potential yields new eigenvectors and eigenvalues.\n",
      "This process is continued till for example"
     ]
    },
    {
     "cell_type": "markdown",
     "metadata": {},
     "source": [
      "$$\n",
      "\\frac{\\sum_{p} |\\epsilon_i^{(n)}-\\epsilon_i^{(n-1)}|}{m} \\le \\lambda,\n",
      "$$"
     ]
    },
    {
     "cell_type": "markdown",
     "metadata": {},
     "source": [
      "where $\\lambda$ is a user prefixed quantity ($\\lambda \\sim 10^{-8}$ or smaller) and $p$ runs over all calculated single-particle\n",
      "energies and $m$ is the number of single-particle states.\n",
      "\n",
      "\n",
      "\n",
      "### Analysis of Hartree-Fock equations and Koopman's theorem\n",
      "We can rewrite the ground state energy by adding and subtracting $\\hat{u}^{HF}(x_i)$"
     ]
    },
    {
     "cell_type": "markdown",
     "metadata": {},
     "source": [
      "$$\n",
      "E_0^{HF} =\\langle \\Phi_0 | \\hat{H} | \\Phi_0\\rangle = \n",
      "\\sum_{i\\le F}^N \\langle i | \\hat{h}_0 +\\hat{u}^{HF}| j\\rangle+ \\frac{1}{2}\\sum_{i\\le F}^N\\sum_{j \\le F}^N\\left[\\langle ij |\\hat{v}|ij \\rangle-\\langle ij|\\hat{v}|ji\\rangle\\right]-\\sum_{i\\le F}^N \\langle i |\\hat{u}^{HF}| i\\rangle,\n",
      "$$"
     ]
    },
    {
     "cell_type": "markdown",
     "metadata": {},
     "source": [
      "which results in"
     ]
    },
    {
     "cell_type": "markdown",
     "metadata": {},
     "source": [
      "$$\n",
      "E_0^{HF}\n",
      "  = \\sum_{i\\le F}^N \\varepsilon_i^{HF} + \\frac{1}{2}\\sum_{i\\le F}^N\\sum_{j \\le F}^N\\left[\\langle ij |\\hat{v}|ij \\rangle-\\langle ij|\\hat{v}|ji\\rangle\\right]-\\sum_{i\\le F}^N \\langle i |\\hat{u}^{HF}| i\\rangle.\n",
      "$$"
     ]
    },
    {
     "cell_type": "markdown",
     "metadata": {},
     "source": [
      "Our single-particle states $ijk\\dots$ are now single-particle states obtained from the solution of the Hartree-Fock equations.\n",
      "\n",
      "\n",
      "\n",
      "### Analysis of Hartree-Fock equations and Koopman's theorem\n",
      "Using our definition of the Hartree-Fock single-particle energies we obtain then the following expression for the total ground-state energy"
     ]
    },
    {
     "cell_type": "markdown",
     "metadata": {},
     "source": [
      "$$\n",
      "E_0^{HF}\n",
      "  = \\sum_{i\\le F}^N \\varepsilon_i - \\frac{1}{2}\\sum_{i\\le F}^N\\sum_{j \\le F}^N\\left[\\langle ij |\\hat{v}|ij \\rangle-\\langle ij|\\hat{v}|ji\\rangle\\right].\n",
      "$$"
     ]
    },
    {
     "cell_type": "markdown",
     "metadata": {},
     "source": [
      "This form will be used in our discussion of Koopman's theorem.\n",
      "\n",
      "\n",
      "\n",
      "### Analysis of Hartree-Fock equations and Koopman's theorem\n",
      "**Atomic physics case.**\n",
      "\n",
      "We have"
     ]
    },
    {
     "cell_type": "markdown",
     "metadata": {},
     "source": [
      "$$\n",
      "E[\\Phi^{\\mathrm{HF}}(N)] \n",
      "  = \\sum_{i=1}^H \\langle i | \\hat{h}_0 | i \\rangle +\n",
      "  \\frac{1}{2}\\sum_{ij=1}^N\\langle ij|\\hat{v}|ij\\rangle_{AS},\n",
      "$$"
     ]
    },
    {
     "cell_type": "markdown",
     "metadata": {},
     "source": [
      "where $\\Phi^{\\mathrm{HF}}(N)$ is the new Slater determinant defined by the new basis of Eq. [(13)](#eq:newbasis)\n",
      "for $N$ electrons (same $Z$).  If we assume that the single-particle wave functions in the new basis do not change \n",
      "when we remove one electron or add one electron, we can then define the corresponding energy for the $N-1$ systems as"
     ]
    },
    {
     "cell_type": "markdown",
     "metadata": {},
     "source": [
      "$$\n",
      "E[\\Phi^{\\mathrm{HF}}(N-1)] \n",
      "  = \\sum_{i=1; i\\ne k}^N \\langle i | \\hat{h}_0 | i \\rangle +\n",
      "  \\frac{1}{2}\\sum_{ij=1;i,j\\ne k}^N\\langle ij|\\hat{v}|ij\\rangle_{AS},\n",
      "$$"
     ]
    },
    {
     "cell_type": "markdown",
     "metadata": {},
     "source": [
      "where we have removed a single-particle state $k\\le F$, that is a state below the Fermi level.\n",
      "\n",
      "\n",
      "\n",
      "### Analysis of Hartree-Fock equations and Koopman's theorem\n",
      "Calculating the difference"
     ]
    },
    {
     "cell_type": "markdown",
     "metadata": {},
     "source": [
      "$$\n",
      "E[\\Phi^{\\mathrm{HF}}(N)]-   E[\\Phi^{\\mathrm{HF}}(N-1)] = \\langle k | \\hat{h}_0 | k \\rangle +\n",
      "  \\frac{1}{2}\\sum_{i=1;i\\ne k}^N\\langle ik|\\hat{v}|ik\\rangle_{AS}  \\frac{1}{2}\\sum_{j=1;j\\ne k}^N\\langle kj|\\hat{v}|kj\\rangle_{AS},\n",
      "$$"
     ]
    },
    {
     "cell_type": "markdown",
     "metadata": {},
     "source": [
      "we obtain"
     ]
    },
    {
     "cell_type": "markdown",
     "metadata": {},
     "source": [
      "$$\n",
      "E[\\Phi^{\\mathrm{HF}}(N)]-   E[\\Phi^{\\mathrm{HF}}(N-1)] = \\langle k | \\hat{h}_0 | k \\rangle +\n",
      "  \\frac{1}{2}\\sum_{j=1}^N\\langle kj|\\hat{v}|kj\\rangle_{AS}\n",
      "$$"
     ]
    },
    {
     "cell_type": "markdown",
     "metadata": {},
     "source": [
      "which is just our definition of the Hartree-Fock single-particle energy"
     ]
    },
    {
     "cell_type": "markdown",
     "metadata": {},
     "source": [
      "$$\n",
      "E[\\Phi^{\\mathrm{HF}}(N)]-   E[\\Phi^{\\mathrm{HF}}(N-1)] = \\epsilon_k^{\\mathrm{HF}}\n",
      "$$"
     ]
    },
    {
     "cell_type": "markdown",
     "metadata": {},
     "source": [
      "### Analysis of Hartree-Fock equations and Koopman's theorem\n",
      "Similarly, we can now compute the difference (we label the single-particle states above the Fermi level as $abcd > F$)"
     ]
    },
    {
     "cell_type": "markdown",
     "metadata": {},
     "source": [
      "$$\n",
      "E[\\Phi^{\\mathrm{HF}}(N+1)]-   E[\\Phi^{\\mathrm{HF}}(N)]= \\epsilon_a^{\\mathrm{HF}}.\n",
      "$$"
     ]
    },
    {
     "cell_type": "markdown",
     "metadata": {},
     "source": [
      "These two equations can thus be used to the electron affinity or ionization energies, respectively. \n",
      "Koopman's theorem states that for example the ionization energy of a closed-shell system is given by the energy of the highest occupied single-particle state.  If we assume that changing the number of electrons from $N$ to $N+1$ does not change the Hartree-Fock single-particle energies and eigenfunctions, then Koopman's theorem simply states that the ionization energy of an atom is given by the single-particle energy of the last bound state. In a similar way, we can also define the electron affinities.\n",
      "\n",
      "\n",
      "\n",
      "### Analysis of Hartree-Fock equations and Koopman's theorem\n",
      "As an example, consider a simple model for atomic sodium, Na. Neutral sodium has eleven electrons, \n",
      "with the weakest bound one being confined the $3s$ single-particle quantum numbers. The energy needed to remove an electron from neutral sodium is rather small, 5.1391 eV, a feature which pertains to all alkali metals.\n",
      "Having performed a  Hartree-Fock calculation for neutral sodium would then allows us to compute the\n",
      "ionization energy by using the single-particle energy for the $3s$ states, namely $\\epsilon_{3s}^{\\mathrm{HF}}$. \n",
      "\n",
      "From these considerations, we see that Hartree-Fock theory allows us to make a connection between experimental \n",
      "observables (here ionization and affinity energies) and the underlying interactions between particles.  \n",
      "In this sense, we are now linking the dynamics and structure of a many-body system with the laws of motion which govern the system. Our approach is a reductionistic one, meaning that we want to understand the laws of motion \n",
      "in terms of the particles or degrees of freedom which we believe are the fundamental ones. Our Slater determinant, being constructed as the product of various single-particle functions, follows this philosophy.\n",
      "\n",
      "\n",
      "\n",
      "### Analysis of Hartree-Fock equations, Koopman's theorem\n",
      "With similar arguments as in atomic physics, we can now use Hartree-Fock theory to make a link\n",
      "between nuclear forces and separation energies. Changing to nuclear system, we define"
     ]
    },
    {
     "cell_type": "markdown",
     "metadata": {},
     "source": [
      "$$\n",
      "E[\\Phi^{\\mathrm{HF}}(A)] \n",
      "  = \\sum_{i=1}^N \\langle i | \\hat{h}_0 | i \\rangle +\n",
      "  \\frac{1}{2}\\sum_{ij=1}^N\\langle ij|\\hat{v}|ij\\rangle_{AS},\n",
      "$$"
     ]
    },
    {
     "cell_type": "markdown",
     "metadata": {},
     "source": [
      "where $\\Phi^{\\mathrm{HF}}(A)$ is the new Slater determinant defined by the new basis of Eq. [(13)](#eq:newbasis)\n",
      "for $A$ nucleons, where $A=N+Z$, with $N$ now being the number of neutrons and $Z$ th enumber of protons.  If we assume again that the single-particle wave functions in the new basis do not change from a nucleus with $A$ nucleons to a nucleus with $A-1$  nucleons, we can then define the corresponding energy for the $A-1$ systems as"
     ]
    },
    {
     "cell_type": "markdown",
     "metadata": {},
     "source": [
      "$$\n",
      "E[\\Phi^{\\mathrm{HF}}(A-1)] \n",
      "  = \\sum_{i=1; i\\ne k}^N \\langle i | \\hat{h}_0 | i \\rangle +\n",
      "  \\frac{1}{2}\\sum_{ij=1;i,j\\ne k}^N\\langle ij|\\hat{v}|ij\\rangle_{AS},\n",
      "$$"
     ]
    },
    {
     "cell_type": "markdown",
     "metadata": {},
     "source": [
      "where we have removed a single-particle state $k\\le F$, that is a state below the Fermi level.\n",
      "\n",
      "\n",
      "\n",
      "### Analysis of Hartree-Fock equations and Koopman's theorem\n",
      "Calculating the difference"
     ]
    },
    {
     "cell_type": "markdown",
     "metadata": {},
     "source": [
      "$$\n",
      "E[\\Phi^{\\mathrm{HF}}(A)]-   E[\\Phi^{\\mathrm{HF}}(A-1)] \n",
      "  = \\langle k | \\hat{h}_0 | k \\rangle +\n",
      "  \\frac{1}{2}\\sum_{i=1;i\\ne k}^N\\langle ik|\\hat{v}|ik\\rangle_{AS}  \\frac{1}{2}\\sum_{j=1;j\\ne k}^N\\langle kj|\\hat{v}|kj\\rangle_{AS},\n",
      "$$"
     ]
    },
    {
     "cell_type": "markdown",
     "metadata": {},
     "source": [
      "which becomes"
     ]
    },
    {
     "cell_type": "markdown",
     "metadata": {},
     "source": [
      "$$\n",
      "E[\\Phi^{\\mathrm{HF}}(A)]-   E[\\Phi^{\\mathrm{HF}}(A-1)] \n",
      "  = \\langle k | \\hat{h}_0 | k \\rangle +\n",
      "  \\frac{1}{2}\\sum_{j=1}^N\\langle kj|\\hat{v}|kj\\rangle_{AS}\n",
      "$$"
     ]
    },
    {
     "cell_type": "markdown",
     "metadata": {},
     "source": [
      "which is just our definition of the Hartree-Fock single-particle energy"
     ]
    },
    {
     "cell_type": "markdown",
     "metadata": {},
     "source": [
      "$$\n",
      "E[\\Phi^{\\mathrm{HF}}(A)]-   E[\\Phi^{\\mathrm{HF}}(A-1)] \n",
      "  = \\epsilon_k^{\\mathrm{HF}}\n",
      "$$"
     ]
    },
    {
     "cell_type": "markdown",
     "metadata": {},
     "source": [
      "### Analysis of Hartree-Fock equations and Koopman's theorem\n",
      "Similarly, we can now compute the difference (recall that the single-particle states $abcd > F$)"
     ]
    },
    {
     "cell_type": "markdown",
     "metadata": {},
     "source": [
      "$$\n",
      "E[\\Phi^{\\mathrm{HF}}(A+1)]-   E[\\Phi^{\\mathrm{HF}}(A)]= \\epsilon_a^{\\mathrm{HF}}.\n",
      "$$"
     ]
    },
    {
     "cell_type": "markdown",
     "metadata": {},
     "source": [
      "If we then recall that the binding energy differences"
     ]
    },
    {
     "cell_type": "markdown",
     "metadata": {},
     "source": [
      "$$\n",
      "BE(A)-BE(A-1) \\hspace{0.5cm} \\mathrm{and} \\hspace{0.5cm} BE(A+1)-BE(A),\n",
      "$$"
     ]
    },
    {
     "cell_type": "markdown",
     "metadata": {},
     "source": [
      "define the separation energies, we see that the Hartree-Fock single-particle energies can be used to\n",
      "define separation energies. We have thus our first link between nuclear forces (included in the potential energy term) and an observable quantity defined by differences in binding energies.\n",
      "\n",
      "\n",
      "\n",
      "### Analysis of Hartree-Fock equations and Koopman's theorem\n",
      "We have thus the following interpretations (if the single-particle field do not change)"
     ]
    },
    {
     "cell_type": "markdown",
     "metadata": {},
     "source": [
      "$$\n",
      "BE(A)-BE(A-1)\\approx  E[\\Phi^{\\mathrm{HF}}(A)]-   E[\\Phi^{\\mathrm{HF}}(A-1)] \n",
      "  = \\epsilon_k^{\\mathrm{HF}},\n",
      "$$"
     ]
    },
    {
     "cell_type": "markdown",
     "metadata": {},
     "source": [
      "and"
     ]
    },
    {
     "cell_type": "markdown",
     "metadata": {},
     "source": [
      "$$\n",
      "BE(A+1)-BE(A)\\approx  E[\\Phi^{\\mathrm{HF}}(A+1)]-   E[\\Phi^{\\mathrm{HF}}(A)] =  \\epsilon_a^{\\mathrm{HF}}.\n",
      "$$"
     ]
    },
    {
     "cell_type": "markdown",
     "metadata": {},
     "source": [
      "If  we use ${}^{16}\\mbox{O}$ as our closed-shell nucleus, we could then interpret the separation energy"
     ]
    },
    {
     "cell_type": "markdown",
     "metadata": {},
     "source": [
      "$$\n",
      "BE(^{16}\\mathrm{O})-BE(^{15}\\mathrm{O})\\approx \\epsilon_{0p^{\\nu}_{1/2}}^{\\mathrm{HF}},\n",
      "$$"
     ]
    },
    {
     "cell_type": "markdown",
     "metadata": {},
     "source": [
      "and"
     ]
    },
    {
     "cell_type": "markdown",
     "metadata": {},
     "source": [
      "$$\n",
      "BE(^{16}\\mathrm{O})-BE(^{15}\\mathrm{N})\\approx \\epsilon_{0p^{\\pi}_{1/2}}^{\\mathrm{HF}}.\n",
      "$$"
     ]
    },
    {
     "cell_type": "markdown",
     "metadata": {},
     "source": [
      "### Analysis of Hartree-Fock equations and Koopman's theorem\n",
      "Similalry, we could interpret"
     ]
    },
    {
     "cell_type": "markdown",
     "metadata": {},
     "source": [
      "$$\n",
      "BE(^{17}\\mathrm{O})-BE(^{16}\\mathrm{O})\\approx \\epsilon_{0d^{\\nu}_{5/2}}^{\\mathrm{HF}},\n",
      "$$"
     ]
    },
    {
     "cell_type": "markdown",
     "metadata": {},
     "source": [
      "and"
     ]
    },
    {
     "cell_type": "markdown",
     "metadata": {},
     "source": [
      "$$\n",
      "BE(^{17}\\mathrm{F})-BE(^{16}\\mathrm{O})\\approx\\epsilon_{0d^{\\pi}_{5/2}}^{\\mathrm{HF}}.\n",
      "$$"
     ]
    },
    {
     "cell_type": "markdown",
     "metadata": {},
     "source": [
      "We can continue like this for all $A\\pm 1$ nuclei where $A$ is a good closed-shell (or subshell closure)\n",
      "nucleus. Examples are ${}^{22}\\mbox{O}$, ${}^{24}\\mbox{O}$, ${}^{40}\\mbox{Ca}$, ${}^{48}\\mbox{Ca}$, ${}^{52}\\mbox{Ca}$, ${}^{54}\\mbox{Ca}$, ${}^{56}\\mbox{Ni}$, \n",
      "${}^{68}\\mbox{Ni}$, ${}^{78}\\mbox{Ni}$, ${}^{90}\\mbox{Zr}$, ${}^{88}\\mbox{Sr}$, ${}^{100}\\mbox{Sn}$, ${}^{132}\\mbox{Sn}$ and ${}^{208}\\mbox{Pb}$, to mention some possile cases.\n",
      "\n",
      "\n",
      "\n",
      "### Analysis of Hartree-Fock equations and Koopman's theorem\n",
      "We can thus make our first interpretation of the separation energies in terms of the simplest\n",
      "possible many-body theory. \n",
      "If we also recall that the so-called energy gap for neutrons (or protons) is defined as"
     ]
    },
    {
     "cell_type": "markdown",
     "metadata": {},
     "source": [
      "$$\n",
      "\\Delta S_n= 2BE(N,Z)-BE(N-1,Z)-BE(N+1,Z),\n",
      "$$"
     ]
    },
    {
     "cell_type": "markdown",
     "metadata": {},
     "source": [
      "for neutrons and the corresponding gap for protons"
     ]
    },
    {
     "cell_type": "markdown",
     "metadata": {},
     "source": [
      "$$\n",
      "\\Delta S_p= 2BE(N,Z)-BE(N,Z-1)-BE(N,Z+1),\n",
      "$$"
     ]
    },
    {
     "cell_type": "markdown",
     "metadata": {},
     "source": [
      "we can define the neutron and proton energy gaps for ${}^{16}\\mbox{O}$ as"
     ]
    },
    {
     "cell_type": "markdown",
     "metadata": {},
     "source": [
      "$$\n",
      "\\Delta S_{\\nu}=\\epsilon_{0d^{\\nu}_{5/2}}^{\\mathrm{HF}}-\\epsilon_{0p^{\\nu}_{1/2}}^{\\mathrm{HF}},\n",
      "$$"
     ]
    },
    {
     "cell_type": "markdown",
     "metadata": {},
     "source": [
      "and"
     ]
    },
    {
     "cell_type": "markdown",
     "metadata": {},
     "source": [
      "$$\n",
      "\\Delta S_{\\pi}=\\epsilon_{0d^{\\pi}_{5/2}}^{\\mathrm{HF}}-\\epsilon_{0p^{\\pi}_{1/2}}^{\\mathrm{HF}}.\n",
      "$$"
     ]
    },
    {
     "cell_type": "markdown",
     "metadata": {},
     "source": [
      "### Basic definitions and motivation\n",
      "\n",
      "Our final aim is to develop a Hartree-Fock code which can be used to study properties of\n",
      "both atoms and molecules.\n",
      "\n",
      "For a molecular system, the eigenfunctions of the Hartree-Fock equations are called\n",
      "*molecular orbitals* (MOs). It is important to distinguish these\n",
      "from the perhaps more familiar *atomic orbitals*, where we can think of (as we have done till now)\n",
      "that the electrons occupy some well-defined hydrogen-like states.\n",
      "\n",
      "An example like the $H_2$-molecule may suffice.\n",
      "In the ground state the electrons are not occupying the 1$s$-orbitals of atomic Hydrogen. The\n",
      "molecular system is entirely different from the atomic one, with an entirely different Hamiltonian,\n",
      "and the eigenstates of the Hartree-Fock equations will therefore also be different.\n",
      "\n",
      "\n",
      "\n",
      "\n",
      "\n",
      "\n",
      "\n",
      "### Basic definitions and motivation\n",
      "\n",
      "In order to solve the Hartree-Fock equations, we need to expand the molecular orbitals in a known\n",
      "set of basis functions"
     ]
    },
    {
     "cell_type": "markdown",
     "metadata": {},
     "source": [
      "$$\n",
      "\\begin{equation}\n",
      " \\phi_k(\\vec r) = \\sum_{\\mu=1}^M\\chi_{\\mu k}(\\vec r).\n",
      "\\end{equation}\n",
      "$$"
     ]
    },
    {
     "cell_type": "markdown",
     "metadata": {},
     "source": [
      "The question we then need to answer is how to choose basis functions $\\chi_{\\mu k}$? The answer to this\n",
      "is primarily dictated by the following three criteria:\n",
      "\n",
      "  * The functions should make physically sense, i.e., they should have a large probability where   the electrons are likely to be and small elsewhere.\n",
      "\n",
      "  * It should be possible to integrate the functions efficiently.\n",
      "\n",
      "  * The solution of the Hartree-Fock equations should converge towards the Hartree-Fock limit        as the number of basis functions increases.\n",
      "\n",
      "The first point suggests that we choose atomic orbitals as basis functions,  which is often\n",
      "referred to as \"linear combination of atomic orbitals\" (LCAO). In the project we will use the various atomic nuclei as mass centers which the electrons orbit around. However, this is not strictly required since the\n",
      "atomic orbitals are merely being used as basis functions, and they are not to be thought of\n",
      "as orbitals occupied by electrons.\n",
      "\n",
      "\n",
      "\n",
      "### Basic definitions, Slater orbitals\n",
      "\n",
      "A much set of state functions are the so-called \n",
      "Slater type orbitals (STO), defined as"
     ]
    },
    {
     "cell_type": "markdown",
     "metadata": {},
     "source": [
      "$$\n",
      "\\begin{equation}\n",
      " \\chi^{STO}(r,\\theta,\\phi,n,l,m) = \\frac{(2a)^{n+1/2}}{[(2n)!]^{1/2}}r^{n-1}\\exp(-a r) Y^m_l(\\theta,\\phi),\n",
      "\\end{equation}\n",
      "$$"
     ]
    },
    {
     "cell_type": "markdown",
     "metadata": {},
     "source": [
      "where $n$ is the principal quantum number, $l$ and $m$ are the orbital momentum quantum numbers,\n",
      "$Y^m_l(\\theta,\\phi)$ are the spherical harmonics familiar from the solution of the Schr\\\"odinger\n",
      "equation for the Hydrogen atom, and $a$ is an exponent which determines the radial decay of the\n",
      "function. The main attractive features of the STOs are that they have the correct exponential decay with\n",
      "increasing $r$ and that the orbital components are hydrogenic. \n",
      "Furthermore, they can be used to represent in a better way weakly bound states or even resonances. The hydrogen-like state functions \n",
      "represent only bound states.\n",
      "STOs are mainly \n",
      "used in atomic Hartree-Fock calculations. When doing molecular calculations, however, they have the\n",
      "disadvantage that the two-particle integrals $\\langle\\mu\\sigma\\vert g\\vert\\nu\\lambda\\rangle$ need to compute \n",
      "an anti-symmetrized matrix interaction element have no known closed form expression. This is because integrals of products\n",
      "of exponentials centered on different nuclei are difficult to handle. They can of course be calculated\n",
      "numerically, but for large molecules this is very time consuming.\n",
      "\n",
      "\n",
      "\n",
      "### Basic definitions\n",
      "\n",
      "A clever trick which makes multiple center integrals easier to handle is to replace the exponential\n",
      "term $\\exp(-a r)$ with $\\exp(-a r^2)$, that is, to functions proportional with Gaussians. This simplifies \n",
      "considerably the integrals to evaluate since the product of two Gaussians centered on nuclei with positions\n",
      "$\\vec A$ and $\\vec B$ is equal to *one* Gaussian centered on some point $\\vec P$ on\n",
      "the line between them:"
     ]
    },
    {
     "cell_type": "markdown",
     "metadata": {},
     "source": [
      "<!-- Equation labels as ordinary links -->\n",
      "<div id=\"eq:gaussian_product\"></div>\n",
      "\n",
      "$$\n",
      "\\begin{equation}\n",
      "\\label{eq:gaussian_product} \\tag{17}\n",
      " \\exp(-a|\\vec r - \\vec A|^2)\\cdot \\exp(-b|\\vec r - \\vec B|^2) = K_{AB}\\,\\exp(-p|\\vec r - \\vec P|^2),\n",
      "\\end{equation}\n",
      "$$"
     ]
    },
    {
     "cell_type": "markdown",
     "metadata": {},
     "source": [
      "where"
     ]
    },
    {
     "cell_type": "markdown",
     "metadata": {},
     "source": [
      "$$\n",
      "\\begin{equation}\n",
      " K_{AB}  =  \\exp\\Big(-\\frac{ab}{a + b}|\\vec A - \\vec B|^2\\Big), \n",
      "\\end{equation}\n",
      "$$"
     ]
    },
    {
     "cell_type": "markdown",
     "metadata": {},
     "source": [
      "$$\n",
      "\\begin{equation} \n",
      " \\vec P  =  \\frac{a \\vec A + b \\vec B}{a + b}, \n",
      "\\end{equation}\n",
      "$$"
     ]
    },
    {
     "cell_type": "markdown",
     "metadata": {},
     "source": [
      "$$\n",
      "\\begin{equation} \n",
      " p  =  a + b.\n",
      "\\end{equation}\n",
      "$$"
     ]
    },
    {
     "cell_type": "markdown",
     "metadata": {},
     "source": [
      "This is the so-called *Gaussian product theorem*.\n",
      "\n",
      "\n",
      "\n",
      "### Basic definitions\n",
      "\n",
      "The general functional form of a normalised Gaussian type orbital \n",
      "centered at $\\vec A$ is given by"
     ]
    },
    {
     "cell_type": "markdown",
     "metadata": {},
     "source": [
      "$$\n",
      "\\begin{equation}\n",
      " G_{ijk}(a, \\vec r_A) = \\Big(\\frac{2a}{\\pi}\\Big)^{3/4}\\Big[\\frac{(8a)^{i+j+k}\\,i!\\,j!\\,k!}{(2i)!\\,(2j)!\\,(2k)!}\\Big]x_A^i\\,y_A^j\\,z_A^k\\,\\exp(-a r_A^2),\n",
      "\\end{equation}\n",
      "$$"
     ]
    },
    {
     "cell_type": "markdown",
     "metadata": {},
     "source": [
      "where $\\vec r_A = \\vec r - \\vec A$ and the integers $i$, $j$, $k$ determine the orbital momentum quantum number $l=i+j+k$.\n",
      "\n",
      "\n",
      "\n",
      "### Disadvantages\n",
      "\n",
      "The greatest drawback with GTOs is that they do not have the proper exponential radial decay. This can be fixed by forming linear combinations of GTOs\n",
      "to resemble the STOs"
     ]
    },
    {
     "cell_type": "markdown",
     "metadata": {},
     "source": [
      "$$\n",
      "\\begin{equation}\n",
      " \\chi^{CGTO}(\\vec r_A,i,j,k) = \\sum_{p=1}^L d_p G_{ijk}(a_p, \\vec r_A).\n",
      "\\end{equation}\n",
      "$$"
     ]
    },
    {
     "cell_type": "markdown",
     "metadata": {},
     "source": [
      "These are called STO-LG basis functions, where L refers to the number of Gaussians used in the linear combination.\n",
      "The individual Gaussians are called *primitive* basis functions and the linear combinations are called *contracted* basis functions, hence the label\n",
      "CGTO (Contracted Gaussian Type Orbital). These are the functions we will employ in this project.\n",
      "\n",
      "A very common choice for the STO-LG basis sets is $L=3$. \n",
      "It is important to note that the parameters $(a_p,d_p)$ are static and that the linear combination of Gaussians constitute *one single*\n",
      "basis function. With the wording \"basis function\", we  will refer to a contracted basis function.\n",
      "\n",
      "\n",
      "\n",
      "### Basic definitions\n",
      "\n",
      "The STO-LG basis sets belong to the family of *minimal basis sets*.\n",
      "It means that there is one and only one basis function per atomic orbital.\n",
      "The STO-LG basis sets for the Hydrogen and Helium atoms, for example, contain only one basis\n",
      "function for the 1$s$ atomic orbital. This basis function is, as explained above, composed of\n",
      "a linear combination of L primitives. For the atoms Lithium through Neon the STO-LG basis\n",
      "sets contain 5 basis functions; one for each of the atomic orbitals\n",
      "$1s$, $2s$, $2p_x$, $2p_y$ and $2p_z$.\n",
      "\n",
      "\n",
      "<table border=\"1\">\n",
      "<thead>\n",
      "<tr><th align=\"center\"> $p$ </th> <th align=\"center\">  1   </th> <th align=\"center\">  2   </th> <th align=\"center\">  3   </th> </tr>\n",
      "</thead>\n",
      "<tbody>\n",
      "<tr><td align=\"center\">   $d_p$    </td> <td align=\"center\">   0.1543    </td> <td align=\"center\">   0.5353    </td> <td align=\"center\">   0.4446    </td> </tr>\n",
      "<tr><td align=\"center\">   $a_p$    </td> <td align=\"center\">   3.4252    </td> <td align=\"center\">   0.6239    </td> <td align=\"center\">   0.1688    </td> </tr>\n",
      "</tbody>\n",
      "</table>\n",
      "\n",
      "\n",
      "\n",
      "### Cartesian Gaussians and how to compute integrals\n",
      "\n",
      "Using GTOs as basis functions improves the speed of the integrations which must be done when setting up \n",
      "for example the Fock matrix.\n",
      "The Cartesian Gaussian functions centered at $\\vec A$ are given by"
     ]
    },
    {
     "cell_type": "markdown",
     "metadata": {},
     "source": [
      "$$\n",
      "\\begin{equation}\n",
      " G_{ijk}(a, \\vec r_A) = x^i_A\\,y^j_A\\,z^k_A\\,\\exp(-a r^2_A),\n",
      "\\end{equation}\n",
      "$$"
     ]
    },
    {
     "cell_type": "markdown",
     "metadata": {},
     "source": [
      "where $\\vec r_A = \\vec r - \\vec A$. These will be our so-called primitive basis functions (see also the flow chart of Hartree-Fock code). \n",
      "They factorize in the Cartesian components"
     ]
    },
    {
     "cell_type": "markdown",
     "metadata": {},
     "source": [
      "$$\n",
      "\\begin{equation}\n",
      " G_{ijk}(a, \\vec r_A) = G_i(a, x_A)\\,G_j(a, y_A)\\,G_k(a, z_A),\n",
      "\\end{equation}\n",
      "$$"
     ]
    },
    {
     "cell_type": "markdown",
     "metadata": {},
     "source": [
      "where"
     ]
    },
    {
     "cell_type": "markdown",
     "metadata": {},
     "source": [
      "$$\n",
      "\\begin{equation}\n",
      " G_i(a, x_A) = x^i_A\\,\\exp(-a x^2_A),\n",
      "\\end{equation}\n",
      "$$"
     ]
    },
    {
     "cell_type": "markdown",
     "metadata": {},
     "source": [
      "and the other factors are defined similarly. Each of the components obey the simple recurrence relation"
     ]
    },
    {
     "cell_type": "markdown",
     "metadata": {},
     "source": [
      "$$\n",
      "\\begin{equation}\n",
      " x_A\\,G_i = G_{i+1}.\n",
      "\\end{equation}\n",
      "$$"
     ]
    },
    {
     "cell_type": "markdown",
     "metadata": {},
     "source": [
      "### Integral evaluations\n",
      "\n",
      "We introduce  shorthand notation"
     ]
    },
    {
     "cell_type": "markdown",
     "metadata": {},
     "source": [
      "$$\n",
      "\\begin{equation}\n",
      "  G_a(\\vec r)  = G_{ikm}(a, \\vec r_A), \n",
      "\\end{equation}\n",
      "$$"
     ]
    },
    {
     "cell_type": "markdown",
     "metadata": {},
     "source": [
      "$$\n",
      "\\begin{equation} \n",
      "  G_b(\\vec r)  = G_{jln}(b, \\vec r_B),\n",
      "\\end{equation}\n",
      "$$"
     ]
    },
    {
     "cell_type": "markdown",
     "metadata": {},
     "source": [
      "and define the overlap distribution  as"
     ]
    },
    {
     "cell_type": "markdown",
     "metadata": {},
     "source": [
      "$$\n",
      "\\begin{equation}\n",
      " \\Omega_{ab}(\\vec r) = G_a(\\vec r)\\,G_b(\\vec r).\n",
      "\\end{equation}\n",
      "$$"
     ]
    },
    {
     "cell_type": "markdown",
     "metadata": {},
     "source": [
      "Using the Gaussian product theorem [(17)](#eq:gaussian_product) this can be written as"
     ]
    },
    {
     "cell_type": "markdown",
     "metadata": {},
     "source": [
      "$$\n",
      "\\begin{equation}\n",
      " \\Omega_{ab}(\\vec r) = K_{AB}\\,x^i_A\\,x^j_B\\,y^k_A\\,y^l_B\\,z^m_A\\,z^n_B\\,\\exp(-p\\,r^2_P),\n",
      "\\end{equation}\n",
      "$$"
     ]
    },
    {
     "cell_type": "markdown",
     "metadata": {},
     "source": [
      "where"
     ]
    },
    {
     "cell_type": "markdown",
     "metadata": {},
     "source": [
      "$$\n",
      "\\begin{equation}\n",
      " \\begin{split}\n",
      "  K_{AB}  = & \\exp\\Big(-\\frac{ab}{a + b}R^2_{AB}\\Big) \\\\\n",
      "  \\vec R_{AB} = &  \\vec A - \\vec B \\\\\n",
      "  p = & a + b\\\\\n",
      "  \\vec r_P = & \\vec r - \\vec P \\\\\n",
      "  \\vec P = & \\frac{a\\vec A + b\\vec B}{a + b}.\n",
      " \\end{split}\n",
      "\\end{equation}\n",
      "$$"
     ]
    },
    {
     "cell_type": "markdown",
     "metadata": {},
     "source": [
      "### Integral evaluations\n",
      "\n",
      "Because the Gaussians $G_a$ and $G_b$ factorize in their Cartesian components, such a factorization applies to the overlap distribution\n",
      "as well, namely"
     ]
    },
    {
     "cell_type": "markdown",
     "metadata": {},
     "source": [
      "$$\n",
      "\\begin{equation}\n",
      " \\Omega_{ab}(\\vec r) = \\Omega_{ij}(x)\\,\\Omega_{kl}(y)\\,\\Omega_{mn}(z),\n",
      "\\end{equation}\n",
      "$$"
     ]
    },
    {
     "cell_type": "markdown",
     "metadata": {},
     "source": [
      "where"
     ]
    },
    {
     "cell_type": "markdown",
     "metadata": {},
     "source": [
      "$$\n",
      "\\begin{equation}\n",
      " \\Omega_{ij} = K^x_{AB}\\,x^i_A\\,x^j_B\\,\\exp(-px^2_P)\n",
      "\\end{equation}\n",
      "$$"
     ]
    },
    {
     "cell_type": "markdown",
     "metadata": {},
     "source": [
      "and"
     ]
    },
    {
     "cell_type": "markdown",
     "metadata": {},
     "source": [
      "$$\n",
      "\\begin{equation}\n",
      "\\begin{split}\n",
      " K^x_{AB} = & \\exp\\Big(-\\frac{ab}{a + b}X^2_{AB}\\Big) \\\\\n",
      "   X_{AB} = & A_x - B_x.\n",
      "\\end{split}\n",
      "\\end{equation}\n",
      "$$"
     ]
    },
    {
     "cell_type": "markdown",
     "metadata": {},
     "source": [
      "The distributions $\\Omega_{kl}(y)$ and $\\Omega_{mn}(z)$ are defined similarly.\n",
      "\n",
      "\n",
      "\n",
      "### Integral evaluations\n",
      "\n",
      "A very useful representation of the Cartesian GTOs is given by the so-called Hermite Gaussians. These functions simplify \n",
      "the integrations significantly. The Hermite Gaussians centered at $\\vec P$ are defined by"
     ]
    },
    {
     "cell_type": "markdown",
     "metadata": {},
     "source": [
      "$$\n",
      "\\begin{equation}\n",
      " \\Lambda_{tuv}(p, \\vec r_p) = \\Big(\\frac{\\partial}{\\partial P_x}\\Big)^t \\Big(\\frac{\\partial}{\\partial P_y}\\Big)^u \\Big(\\frac{\\partial}{\\partial P_z}\\Big)^v \\exp(-p\\, r^2_P),\n",
      "\\end{equation}\n",
      "$$"
     ]
    },
    {
     "cell_type": "markdown",
     "metadata": {},
     "source": [
      "where $\\vec r_p = \\vec r - \\vec P$. They factorize as (like the cartesian GTOs also do)"
     ]
    },
    {
     "cell_type": "markdown",
     "metadata": {},
     "source": [
      "$$\n",
      "\\begin{equation}\n",
      " \\Lambda_{tuv}(p, \\vec r_P) = \\Lambda_t(p,x_P)\\,\\Lambda_u(p,y_P)\\,\\Lambda_v(p,z_P),\n",
      "\\end{equation}\n",
      "$$"
     ]
    },
    {
     "cell_type": "markdown",
     "metadata": {},
     "source": [
      "where"
     ]
    },
    {
     "cell_type": "markdown",
     "metadata": {},
     "source": [
      "<!-- Equation labels as ordinary links -->\n",
      "<div id=\"eq:HermiteGaussian_x\"></div>\n",
      "\n",
      "$$\n",
      "\\begin{equation}\n",
      "\\label{eq:HermiteGaussian_x} \\tag{18}\n",
      " \\Lambda_t(p,x_P) = \\Big(\\frac{\\partial}{\\partial P_x}\\Big)^t \\exp(-p\\,x^2_P),\n",
      "\\end{equation}\n",
      "$$"
     ]
    },
    {
     "cell_type": "markdown",
     "metadata": {},
     "source": [
      "and the other factors are defined similarly.\n",
      "\n",
      "\n",
      "\n",
      "### Integral evaluations\n",
      "\n",
      "However, their recurrence relation is quite different from that of the Cartesian Gaussians:"
     ]
    },
    {
     "cell_type": "markdown",
     "metadata": {},
     "source": [
      "$$\n",
      "\\begin{equation}\n",
      "\\begin{split}\n",
      " \\Lambda_{t+1}(p,x_P) & = \\Big(\\frac{\\partial}{\\partial P_x}\\Big)^t \\frac{\\partial}{\\partial P_x}\\exp(-px^2_P) \\\\\n",
      "                      & = \\Big(\\frac{\\partial}{\\partial P_x}\\Big)^t 2px_P \\exp(-px^2_P)  \\\\\n",
      "                      & = 2p[-t\\Big(\\frac{\\partial}{\\partial P_x}\\Big)^{t-1} + x_P \\Big(\\frac{\\partial}{\\partial P_x}\\Big)^t] \\exp(-px^2_P) \\\\\n",
      "                      & = 2p[-t\\Lambda_{t-1} + x_P \\Lambda_t],\n",
      "\\end{split}\n",
      "\\end{equation}\n",
      "$$"
     ]
    },
    {
     "cell_type": "markdown",
     "metadata": {},
     "source": [
      "where we have used that"
     ]
    },
    {
     "cell_type": "markdown",
     "metadata": {},
     "source": [
      "<!-- Equation labels as ordinary links -->\n",
      "<div id=\"eq:derivation_rule\"></div>\n",
      "\n",
      "$$\n",
      "\\begin{equation}\n",
      "\\label{eq:derivation_rule} \\tag{19}\n",
      " \\Big(\\frac{\\partial}{\\partial x}\\Big)^t x f(x) = t\\Big(\\frac{\\partial}{\\partial x}\\Big)^{t-1}f(x) + x\\Big(\\frac{\\partial}{\\partial x}\\Big)^t f(x).\n",
      "\\end{equation}\n",
      "$$"
     ]
    },
    {
     "cell_type": "markdown",
     "metadata": {},
     "source": [
      "The recurrence relation reads"
     ]
    },
    {
     "cell_type": "markdown",
     "metadata": {},
     "source": [
      "<!-- Equation labels as ordinary links -->\n",
      "<div id=\"eq:hermite_gaussian_recurrence\"></div>\n",
      "\n",
      "$$\n",
      "\\begin{equation}\n",
      "\\label{eq:hermite_gaussian_recurrence} \\tag{20}\n",
      " x_P \\Lambda_t = \\frac{1}{2p}\\Lambda_{t+1} + t\\Lambda_{t-1}.\n",
      "\\end{equation}\n",
      "$$"
     ]
    },
    {
     "cell_type": "markdown",
     "metadata": {},
     "source": [
      "### Integral evaluations\n",
      "\n",
      "Our first goal is to compute the overlap integral"
     ]
    },
    {
     "cell_type": "markdown",
     "metadata": {},
     "source": [
      "$$\n",
      "\\begin{equation}\n",
      "S_{ab}  = \\langle G_a|G_b\\rangle = \\int d\\vec r \\,\\Omega_{ab}(\\vec r)\n",
      "\\end{equation}\n",
      "$$"
     ]
    },
    {
     "cell_type": "markdown",
     "metadata": {},
     "source": [
      "between two Gaussians centered at the points $\\vec A$ and $\\vec B$.\n",
      "Since the overlap distribution $\\Omega_{ab}$ factorizes in the Cartesian components, the integrals over $x$, $y$ and $z$ can be calculated independently of each other"
     ]
    },
    {
     "cell_type": "markdown",
     "metadata": {},
     "source": [
      "$$\n",
      "\\begin{equation}\n",
      "\\begin{split}\n",
      " S_{ab} = & \\langle G_i|G_j\\rangle \\langle G_k|G_l\\rangle \\langle G_m|G_n\\rangle \\\\\n",
      "        = & S_{ij}\\,S_{kl}\\,S_{mn}.\n",
      "\\end{split}\n",
      "\\end{equation}\n",
      "$$"
     ]
    },
    {
     "cell_type": "markdown",
     "metadata": {},
     "source": [
      "The $x$ component of the overlap integral, for example, is given by"
     ]
    },
    {
     "cell_type": "markdown",
     "metadata": {},
     "source": [
      "<!-- Equation labels as ordinary links -->\n",
      "<div id=\"eq:intG_ij\"></div>\n",
      "\n",
      "$$\n",
      "\\begin{equation}\n",
      "\\label{eq:intG_ij} \\tag{21}\n",
      "\\begin{split}\n",
      " S_{ij} = & \\int dx \\,\\Omega_{ij}(x) \\\\\n",
      "        = & K_{AB}^x\\int dx \\,x_A^ix_B^j\\exp(-px_P^2),\n",
      "\\end{split}\n",
      "\\end{equation}\n",
      "$$"
     ]
    },
    {
     "cell_type": "markdown",
     "metadata": {},
     "source": [
      "### Integral evaluations\n",
      "\n",
      "In equation [(21)](#eq:intG_ij) the two-center GTOs have been reduced to a one-center Gaussian.\n",
      "However, the integral is still not straightforward to calculate because of the powers $x_A^i$ and $x_B^j$. A smart way to deal with this is to express the Cartesian Gaussian\n",
      "in terms of the Hermite Gaussians. Note that [(18)](#eq:HermiteGaussian_x) is a polynomial of order $t$ in $x$ multiplied by the exponential function. In equation [(21)](#eq:intG_ij) the polynomial\n",
      "is of order $i+j$. This means that we can express the overlap distribution $\\Omega_{ij}(x)$ in equation [(21)](#eq:intG_ij) in terms of the Hermite Gaussians in [(18)](#eq:HermiteGaussian_x) in the following way:"
     ]
    },
    {
     "cell_type": "markdown",
     "metadata": {},
     "source": [
      "<!-- Equation labels as ordinary links -->\n",
      "<div id=\"eq:LinCombOfHermGauss\"></div>\n",
      "\n",
      "$$\n",
      "\\begin{equation}\n",
      "\\label{eq:LinCombOfHermGauss} \\tag{22}\n",
      " \\Omega_{ij}(x) = \\sum_{t=0}^{i+j} E^{ij}_t \\Lambda_t(p, x_P),\n",
      "\\end{equation}\n",
      "$$"
     ]
    },
    {
     "cell_type": "markdown",
     "metadata": {},
     "source": [
      "where $E^{ij}_t$ are constants.\n",
      "Note that the sum is over $t$ only. The indices $i$ and $j$ are static and are determined from the powers of $x$ in $G_i$ and $G_j$.\n",
      "We use them as labels on the coefficients $E^{ij}_t$ because different sets of indices will lead to different sets of coefficients.\n",
      "\n",
      "\n",
      "\n",
      "### Integral evaluations\n",
      "\n",
      "To get the overlap integral in the $x$-direction we integrate [(22)](#eq:LinCombOfHermGauss) over $\\mathbb{R}$, which now turns out to be extremely easy;\n",
      "the only term that survives the integration is the term for $t=0$:"
     ]
    },
    {
     "cell_type": "markdown",
     "metadata": {},
     "source": [
      "$$\n",
      "\\begin{equation}\n",
      " \\int dx\\,\\Lambda_t(p,x_P)  =  \\int dx\\,\\Big(\\frac{\\partial}{\\partial P_x}\\Big)^t\\exp(-p\\,x^2_P), \n",
      "\\end{equation}\n",
      "$$"
     ]
    },
    {
     "cell_type": "markdown",
     "metadata": {},
     "source": [
      "$$\n",
      "\\begin{equation} \n",
      "                            =  \\Big(\\frac{\\partial}{\\partial P_x}\\Big)^t \\int dx\\,\\exp(-p\\,x^2_P), \n",
      "\\end{equation}\n",
      "$$"
     ]
    },
    {
     "cell_type": "markdown",
     "metadata": {},
     "source": [
      "$$\n",
      "\\begin{equation} \n",
      "                            =  \\sqrt{\\frac{\\pi}{p}}\\,\\delta_{t0}.\n",
      "\\end{equation}\n",
      "$$"
     ]
    },
    {
     "cell_type": "markdown",
     "metadata": {},
     "source": [
      "We have used Leibniz' rule, which says that the differentiation of an integrand with respect to a variable which is not an integration variable can\n",
      "be moved outside the integral. Thus the integral in [(21)](#eq:intG_ij) is simply"
     ]
    },
    {
     "cell_type": "markdown",
     "metadata": {},
     "source": [
      "$$\n",
      "\\begin{equation}\n",
      " S_{ij} = E^{ij}_0\\,\\sqrt{\\frac{\\pi}{p}}.\n",
      "\\end{equation}\n",
      "$$"
     ]
    },
    {
     "cell_type": "markdown",
     "metadata": {},
     "source": [
      "### Integral evaluations\n",
      "\n",
      "The same procedure can be used for the integrals with respect to $y$ and $z$, which means that the total overlap integral is"
     ]
    },
    {
     "cell_type": "markdown",
     "metadata": {},
     "source": [
      "$$\n",
      "\\begin{equation}\n",
      " S_{ab} = E^{ij}_0\\,E^{kl}_0\\,E^{mn}_0\\,\\Big(\\frac{\\pi}{p}\\Big)^{3/2}.\n",
      "\\end{equation}\n",
      "$$"
     ]
    },
    {
     "cell_type": "markdown",
     "metadata": {},
     "source": [
      "We need thereafter to determine the coefficients $E^{ij}_t$. When $i=j=0$ in equation [(22)](#eq:LinCombOfHermGauss)\n",
      "we have"
     ]
    },
    {
     "cell_type": "markdown",
     "metadata": {},
     "source": [
      "$$\n",
      "\\begin{equation}\n",
      " E^{0,0}_0 = K_{AB}^x.\n",
      "\\end{equation}\n",
      "$$"
     ]
    },
    {
     "cell_type": "markdown",
     "metadata": {},
     "source": [
      "The other coefficients are found via the following recurrence relations"
     ]
    },
    {
     "cell_type": "markdown",
     "metadata": {},
     "source": [
      "<!-- Equation labels as ordinary links -->\n",
      "<div id=\"eq:E_recurrence\"></div>\n",
      "\n",
      "$$\n",
      "\\begin{equation}\n",
      "\\label{eq:E_recurrence} \\tag{23}\n",
      "\\begin{split}\n",
      " E^{i+1,j}_t & = \\frac{1}{2p}E^{ij}_{t-1} + X_{PA}E^{ij}_t + (t+1)E^{ij}_{t+1} \\\\\n",
      " E^{i,j+1}_t & = \\frac{1}{2p}E^{ij}_{t-1} + X_{PB}E^{ij}_t + (t+1)E^{ij}_{t+1}.\n",
      "\\end{split}\n",
      "\\end{equation}\n",
      "$$"
     ]
    },
    {
     "cell_type": "markdown",
     "metadata": {},
     "source": [
      "### Integral evaluations\n",
      "\n",
      "Analogous expressions hold for the coefficients $E^{kl}_u$ and $E^{mn}_v$. The first equation in [(23)](#eq:E_recurrence) \n",
      "can be derived by comparing two equivalent ways of expanding the product $G_{i+1}G_j$\n",
      "in Hermite Gaussians. The first way is"
     ]
    },
    {
     "cell_type": "markdown",
     "metadata": {},
     "source": [
      "$$\n",
      "\\begin{equation}\n",
      " G_{i+1}\\,G_j= \\sum_{t=0}^{i+j+1}E^{i+1,j}_t \\Lambda_t,\n",
      "\\end{equation}\n",
      "$$"
     ]
    },
    {
     "cell_type": "markdown",
     "metadata": {},
     "source": [
      "and the second way is"
     ]
    },
    {
     "cell_type": "markdown",
     "metadata": {},
     "source": [
      "<!-- Equation labels as ordinary links -->\n",
      "<div id=\"eq:derivation_E_coeffs\"></div>\n",
      "\n",
      "$$\n",
      "\\begin{equation}\n",
      "\\label{eq:derivation_E_coeffs} \\tag{24}\n",
      "\\begin{split}\n",
      " G_{i+1}\\,G_j & = x_A G_i\\,G_j \\\\\n",
      "              & = [(x - P_x) + (P_x - A_x)]\\sum_{t=0}^{i+j} E^{ij}_t \\Lambda_t\\\\\n",
      "              & = \\sum_{t=0}^{i+j}[x_P + X_{PA}] E^{ij}_t \\Lambda_t \\\\\n",
      "              & = \\sum_{t=0}^{i+j}[\\frac{1}{2p}\\Lambda_{t+1} + t\\Lambda_{t-1} + X_{PA}\\Lambda_t]E^{ij}_t \\\\\n",
      "              & = \\sum_{t=0}^{i+j}[\\frac{1}{2p}E^{ij}_{t-1} + X_{PA}E^{ij}_t + (t+1)E^{ij}_{t+1}] \\Lambda_t,\n",
      "\\end{split}\n",
      "\\end{equation}\n",
      "$$"
     ]
    },
    {
     "cell_type": "markdown",
     "metadata": {},
     "source": [
      "where we have used the recurrence relation [(20)](#eq:hermite_gaussian_recurrence) on the fourth line and changed the \n",
      "summation indices on the fifth line.\n",
      "\n",
      "\n",
      "\n",
      "### Integral evaluations, kinetic energy\n",
      "\n",
      "Note that the change in summation indices in equation [(24)](#eq:derivation_E_coeffs) implies that we must define"
     ]
    },
    {
     "cell_type": "markdown",
     "metadata": {},
     "source": [
      "$$\n",
      "\\begin{equation}\n",
      " E^{ij}_t = 0, \\qquad \\text{if }t<0\\text{ or }t > i + j.\n",
      "\\end{equation}\n",
      "$$"
     ]
    },
    {
     "cell_type": "markdown",
     "metadata": {},
     "source": [
      "Next we turn to the evaluation of the kinetic integral:"
     ]
    },
    {
     "cell_type": "markdown",
     "metadata": {},
     "source": [
      "$$\n",
      "\\begin{equation}\n",
      "\\begin{split}\n",
      "T_{ab} & = -\\frac{1}{2}\\langle G_a\\vert\\nabla^2\\vert G_b\\rangle \\\\\n",
      "       & = -\\frac{1}{2}\\langle G_{ikm}(a, \\vec r_A)\\vert\\nabla^2\\vert G_{jln}(b, \\vec r_B)\\rangle \\\\\n",
      "       & = -\\frac{1}{2}(T_{ij}\\,S_{kl}\\,S_{mn} + S_{ij}\\,T_{kl}\\,S_{mn} + S_{ij}\\,S_{kl}\\,T_{mn}),\n",
      "\\end{split}\n",
      "\\end{equation}\n",
      "$$"
     ]
    },
    {
     "cell_type": "markdown",
     "metadata": {},
     "source": [
      "where"
     ]
    },
    {
     "cell_type": "markdown",
     "metadata": {},
     "source": [
      "$$\n",
      "\\begin{equation}\n",
      " T_{ij} = \\int dx \\,G_i(a,x_A)\\frac{\\partial^2}{\\partial x^2}G_j(b,x_B),\n",
      "\\end{equation}\n",
      "$$"
     ]
    },
    {
     "cell_type": "markdown",
     "metadata": {},
     "source": [
      "and the other factors are defined in the same way. Performing the differentiation yields"
     ]
    },
    {
     "cell_type": "markdown",
     "metadata": {},
     "source": [
      "$$\n",
      "\\begin{equation}\n",
      " T_{ij} = 4b^2\\,S_{i,j+2} - 2b(2j + 1)S_{i,j} + j(j-1)S_{i,j-2}.\n",
      "\\end{equation}\n",
      "$$"
     ]
    },
    {
     "cell_type": "markdown",
     "metadata": {},
     "source": [
      "Thus we see that the kinetic integrals are calculated easily as products of the overlap integrals.\n",
      "\n",
      "\n",
      "\n",
      "### Integral evaluations, one-body Coulomb interaction\n",
      "\n",
      "We now turn to the Coulomb integral due to the interaction between the electrons and the atomic nuclei"
     ]
    },
    {
     "cell_type": "markdown",
     "metadata": {},
     "source": [
      "$$\n",
      "\\begin{equation}\n",
      " V_{ab} = \\langle G_a\\vert\\frac{1}{r_C}\\vert G_b\\rangle,\n",
      "\\end{equation}\n",
      "$$"
     ]
    },
    {
     "cell_type": "markdown",
     "metadata": {},
     "source": [
      "where $r_C = |\\vec r - \\vec C|$. As before, the overlap distribution is expanded in terms of  Hermite Gaussians"
     ]
    },
    {
     "cell_type": "markdown",
     "metadata": {},
     "source": [
      "$$\n",
      "\\begin{equation}\n",
      "\\begin{split}\n",
      " V_{ab} & = \\int d\\vec r \\,\\frac{\\Omega_{ab}(\\vec r)}{r_C} \\\\\n",
      "        & = \\sum_{tuv}E^{ij}_t E^{kl}_u E^{mn}_v\\int d\\vec r \\, \\frac{\\Lambda_{tuv}(p,\\vec r_P)}{r_C} \\\\\n",
      "        & = \\sum_{tuv}E^{ab}_{tuv}\\int d\\vec r \\, \\frac{\\Lambda_{tuv}(p,\\vec r_P)}{r_C}. \\\\\n",
      "\\end{split}\n",
      "\\end{equation}\n",
      "$$"
     ]
    },
    {
     "cell_type": "markdown",
     "metadata": {},
     "source": [
      "Here we have used the shorthand notation"
     ]
    },
    {
     "cell_type": "markdown",
     "metadata": {},
     "source": [
      "$$\n",
      "\\begin{equation}\n",
      " E^{ab}_{tuv} = E^{ij}_t E^{kl}_u E^{mn}_v.\n",
      "\\end{equation}\n",
      "$$"
     ]
    },
    {
     "cell_type": "markdown",
     "metadata": {},
     "source": [
      "In this integral other terms besides $\\Lambda_{000}$ will survive due to the factor $1/r_C$. Let us nonetheless start by evaluating this term"
     ]
    },
    {
     "cell_type": "markdown",
     "metadata": {},
     "source": [
      "$$\n",
      "\\begin{equation}\n",
      " V_p = \\int d\\vec r \\, \\frac{\\Lambda_{000}(p,\\vec r_P)}{r_C} = \\int d\\vec r\\, \\frac{\\exp(-p\\,r_P^2)}{r_C}.\n",
      "\\end{equation}\n",
      "$$"
     ]
    },
    {
     "cell_type": "markdown",
     "metadata": {},
     "source": [
      "### Integral evaluations, one-body Coulomb interaction\n",
      "\n",
      "We will show that this three-dimensional integral can actually be converted to a one-dimensional one. The trick is to observe that the factor $1/r_C$ can be replaced by the integral"
     ]
    },
    {
     "cell_type": "markdown",
     "metadata": {},
     "source": [
      "$$\n",
      "\\begin{equation}\n",
      " \\frac{1}{r_C} = \\frac{1}{\\sqrt{\\pi}}\\int_{-\\infty}^\\infty dt\\,\\exp(-r^2_C\\,t^2).\n",
      "\\end{equation}\n",
      "$$"
     ]
    },
    {
     "cell_type": "markdown",
     "metadata": {},
     "source": [
      "Inserting this into $V_p$ and using the Gaussian product theorem gives"
     ]
    },
    {
     "cell_type": "markdown",
     "metadata": {},
     "source": [
      "$$\n",
      "\\begin{equation}\n",
      " V_p  =  \\int \\exp(-p\\,r_P^2)\\Big(\\frac{1}{\\sqrt{\\pi}}\\int_{-\\infty}^\\infty\\exp(-r^2_C\\,t^2)\\,dt\\Big)\\,d\\vec r \n",
      "\\end{equation}\n",
      "$$"
     ]
    },
    {
     "cell_type": "markdown",
     "metadata": {},
     "source": [
      "$$\n",
      "\\begin{equation} \n",
      "      =  \\frac{1}{\\sqrt{\\pi}}\\int_{-\\infty}^\\infty\\int\\exp\\Big(-\\frac{pt^2}{p + t^2}R^2_{PC}\\Big)\\,\\exp[-(p + t^2)r^2_S] d\\vec r\\, dt,\n",
      "\\end{equation}\n",
      "$$"
     ]
    },
    {
     "cell_type": "markdown",
     "metadata": {},
     "source": [
      "where $\\vec R_{PC} = \\vec P - \\vec C$ and $\\vec r_S = \\vec r - \\vec S$ for some point $\\vec S$. Doing the integral over the spatial coordinates reveals that the specific value of $\\vec S$ is not relevant"
     ]
    },
    {
     "cell_type": "markdown",
     "metadata": {},
     "source": [
      "$$\n",
      "\\begin{equation}\n",
      " V_p  =  \\frac{1}{\\sqrt{\\pi}}\\int_{-\\infty}^\\infty\\exp\\Big(-\\frac{pt^2}{p + t^2}R^2_{PC}\\Big)\\Big(\\frac{\\pi}{p + t^2}\\Big)^{3/2}\\,dt \n",
      "\\end{equation}\n",
      "$$"
     ]
    },
    {
     "cell_type": "markdown",
     "metadata": {},
     "source": [
      "$$\n",
      "\\begin{equation} \n",
      "      =  2\\pi\\int_0^\\infty\\exp\\Big(-\\frac{pt^2}{p + t^2}R^2_{PC}\\Big)\\frac{dt}{(p + t^2)^{3/2}}.\n",
      "\\end{equation}\n",
      "$$"
     ]
    },
    {
     "cell_type": "markdown",
     "metadata": {},
     "source": [
      "### Integral evaluations, one-body Coulomb interaction\n",
      "\n",
      "Next we change integration variable from $t$ to $u$ by defining"
     ]
    },
    {
     "cell_type": "markdown",
     "metadata": {},
     "source": [
      "$$\n",
      "\\begin{equation}\n",
      " u^2 = \\frac{t^2}{p + t^2}.\n",
      "\\end{equation}\n",
      "$$"
     ]
    },
    {
     "cell_type": "markdown",
     "metadata": {},
     "source": [
      "This will change the range of integration from $[0,\\infty\\rangle$ to $[0,1]$. This is beneficial because the final integral at which we arrive will be calculated numerically.\n",
      "The change of variables leads to"
     ]
    },
    {
     "cell_type": "markdown",
     "metadata": {},
     "source": [
      "<!-- Equation labels as ordinary links -->\n",
      "<div id=\"eq:V_p\"></div>\n",
      "\n",
      "$$\n",
      "\\begin{equation}\n",
      "\\label{eq:V_p} \\tag{25}\n",
      " V_p  = \\frac{2\\pi}{p}\\int_0^1\\exp(-p\\,R^2_{PC}\\,u^2)\\,du \n",
      "\\end{equation}\n",
      "$$"
     ]
    },
    {
     "cell_type": "markdown",
     "metadata": {},
     "source": [
      "$$\n",
      "\\begin{equation} \n",
      "      = \\frac{2\\pi}{p}F_0(p\\,R^2_{PC}),\n",
      "\\end{equation}\n",
      "$$"
     ]
    },
    {
     "cell_type": "markdown",
     "metadata": {},
     "source": [
      "where $F_0(x)$ is a special instance of the Boys function $F_n(x)$ which is defined as"
     ]
    },
    {
     "cell_type": "markdown",
     "metadata": {},
     "source": [
      "$$\n",
      "\\begin{equation}\n",
      " F_n(x) = \\int_0^1\\exp(-xt^2)\\,t^{2n}\\,dt.\n",
      "\\end{equation}\n",
      "$$"
     ]
    },
    {
     "cell_type": "markdown",
     "metadata": {},
     "source": [
      "We will discuss the Boys functions below\n",
      "\n",
      "\n",
      "\n",
      "### Integral evaluations, one-body Coulomb interaction\n",
      "\n",
      "We have now a  simplified way of calculating the integral of $\\Lambda_{000}/r_C$. However, we need to integrate $\\Lambda_{tuv}/r_C$ for general values of $t$, $u$ and $v$.\n",
      "These integrals are actually not that hard to do once the Boys function is calculated:"
     ]
    },
    {
     "cell_type": "markdown",
     "metadata": {},
     "source": [
      "$$\n",
      "\\begin{equation}\n",
      " V_{ab}  = \\frac{2\\pi}{p}\\sum_{tuv}E^{ab}_{tuv}\\int d\\vec r \\, \\frac{\\Lambda_{tuv}(p,\\vec r_p)}{r_C} \n",
      "\\end{equation}\n",
      "$$"
     ]
    },
    {
     "cell_type": "markdown",
     "metadata": {},
     "source": [
      "$$\n",
      "\\begin{equation} \n",
      "         = \\frac{2\\pi}{p}\\sum_{tuv}E^{ab}_{tuv} \\frac{\\partial^{t+u+v} F_0(p R^2_{PC})}{\\partial P_x^t \\partial P_y^u \\partial P_z^v} \n",
      "\\end{equation}\n",
      "$$"
     ]
    },
    {
     "cell_type": "markdown",
     "metadata": {},
     "source": [
      "<!-- Equation labels as ordinary links -->\n",
      "<div id=\"eq:V_ab\"></div>\n",
      "\n",
      "$$\n",
      "\\begin{equation} \n",
      "         = \\frac{2\\pi}{p}\\sum_{tuv}E^{ab}_{tuv} R_{tuv}(p,\\vec R_{PC}), \\label{eq:V_ab} \\tag{26}\n",
      "\\end{equation}\n",
      "$$"
     ]
    },
    {
     "cell_type": "markdown",
     "metadata": {},
     "source": [
      "where we have defined"
     ]
    },
    {
     "cell_type": "markdown",
     "metadata": {},
     "source": [
      "$$\n",
      "\\begin{equation}\n",
      " R_{tuv}(p,\\vec R_{PC}) = \\frac{\\partial^{t+u+v} F_0(p R^2_{PC})}{\\partial P_x^t \\partial P_y^u \\partial P_z^v}.\n",
      "\\end{equation}\n",
      "$$"
     ]
    },
    {
     "cell_type": "markdown",
     "metadata": {},
     "source": [
      "### Integral evaluations, one-body Coulomb interaction\n",
      "\n",
      "We need to calculate derivatives of the function $F_0$. Note first that"
     ]
    },
    {
     "cell_type": "markdown",
     "metadata": {},
     "source": [
      "$$\n",
      "\\begin{equation}\n",
      " \\frac{d}{dx}F_n(x) = -F_{n+1}(x).\n",
      "\\end{equation}\n",
      "$$"
     ]
    },
    {
     "cell_type": "markdown",
     "metadata": {},
     "source": [
      "This means that it is possible to derive analytical expressions for the Coulomb term $V_{ab}$. However, in practice they are calculated recursively in a manner similar to the way we calculate\n",
      "the coefficients $E^{ij}_t$. Before presenting the recursion relations, we introduce the so-called auxiliary Hermite integrals"
     ]
    },
    {
     "cell_type": "markdown",
     "metadata": {},
     "source": [
      "$$\n",
      "\\begin{equation}\n",
      " R^n_{tuv}(p,\\vec R_{PC}) = (-2p)^n\\,\\frac{\\partial^{t+u+v} F_n(p R^2_{PC})}{\\partial P_x^t \\partial P_y^u \\partial P_z^v}.\n",
      "\\end{equation}\n",
      "$$"
     ]
    },
    {
     "cell_type": "markdown",
     "metadata": {},
     "source": [
      "### Integral evaluations, one-body Coulomb interaction\n",
      "\n",
      "By starting with the source terms $R^n_{000}(p,\\vec R_{PC}) = (-2p)^n\\,F_n(p R^2_{PC})$ we can reach the targets $R^0_{tuv}(p,\\vec R_{PC}) = R_{tuv}(p,\\vec R_{PC})$ through the following\n",
      "recurrence relations"
     ]
    },
    {
     "cell_type": "markdown",
     "metadata": {},
     "source": [
      "<!-- Equation labels as ordinary links -->\n",
      "<div id=\"eq:R_recurrence\"></div>\n",
      "\n",
      "$$\n",
      "\\begin{equation}\n",
      "\\label{eq:R_recurrence} \\tag{27}\n",
      " \\begin{split}\n",
      "  R^n_{t+1,u,v} & = tR^{n+1}_{t-1,u,v} + X_{PC} R^{n+1}_{tuv} \\\\\n",
      "  R^n_{t,u+1,v} & = uR^{n+1}_{t,u-1,v} + Y_{PC} R^{n+1}_{tuv} \\\\\n",
      "  R^n_{t,u,v+1} & = vR^{n+1}_{t,u,v-1} + Z_{PC} R^{n+1}_{tuv}.\n",
      " \\end{split}\n",
      "\\end{equation}\n",
      "$$"
     ]
    },
    {
     "cell_type": "markdown",
     "metadata": {},
     "source": [
      "The first of these are derived as follows"
     ]
    },
    {
     "cell_type": "markdown",
     "metadata": {},
     "source": [
      "$$\n",
      "\\begin{equation}\n",
      " R^{n}_{t+1,u,v}  = (-2p)^n\\frac{\\partial^{t+u+v}}{\\partial P_x^t \\partial P_y^u \\partial P_z^v} [2pX_{PC}F'_n(pR_{PC}^2)] \n",
      "\\end{equation}\n",
      "$$"
     ]
    },
    {
     "cell_type": "markdown",
     "metadata": {},
     "source": [
      "$$\n",
      "\\begin{equation} \n",
      "                  = (-2p)^{n+1}\\frac{\\partial^{t+u+v}}{\\partial P_x^t\\partial P_y^u \\partial P_z^v}\\Big[X_{PC}F_{n+1}(pR_{PC}^2)\\Big] \n",
      "\\end{equation}\n",
      "$$"
     ]
    },
    {
     "cell_type": "markdown",
     "metadata": {},
     "source": [
      "$$\n",
      "\\begin{equation} \n",
      "                  = (-2p)^{n+1}\\frac{\\partial^{u+v}}{\\partial P_y^u \\partial P_z^v}\\Big[t\\frac{\\partial^{t-1}}{\\partial P_x^{t-1}} + X_{PC}\\frac{\\partial^t}{\\partial P_x^t}\\Big]F_{n+1}(pR_{PC}^2) \n",
      "\\end{equation}\n",
      "$$"
     ]
    },
    {
     "cell_type": "markdown",
     "metadata": {},
     "source": [
      "$$\n",
      "\\begin{equation} \n",
      "                  = tR^{n+1}_{t-1,u,v} + X_{PC}R^{n+1}_{tuv},\n",
      "\\end{equation}\n",
      "$$"
     ]
    },
    {
     "cell_type": "markdown",
     "metadata": {},
     "source": [
      "where we have used equation [(19)](#eq:derivation_rule) and the fact that $F'_n(x) = -F_{n+1}(x)$.\n",
      "\n",
      "\n",
      "\n",
      "### Integral evaluations, two-body Coulomb interaction\n",
      "\n",
      "Finally we show how to calculate the Coulomb integral due to the interaction between the electrons. It is given by"
     ]
    },
    {
     "cell_type": "markdown",
     "metadata": {},
     "source": [
      "$$\n",
      "\\begin{equation}\n",
      "\\begin{split}\n",
      "  g_{acbd} & = \\langle G_a G_c\\vert \\frac{1}{r_{12}}\\vert G_b G_d\\rangle \\\\\n",
      "           & = \\int\\int \\frac{\\Omega_{ab}(\\vec r_1)\\Omega_{cd}(\\vec r_2)}{r_{12}} d\\vec r_1 d\\vec r_2 \\\\\n",
      "           & = \\sum_{tuv}\\sum_{\\tau\\nu\\phi}E^{ab}_{tuv}E^{cd}_{\\tau\\nu\\phi}\\int\\int\\frac{\\Lambda_{tuv}(p,\\vec r_{1P})\\Lambda_{\\tau\\nu\\phi}(q,\\vec r_{2Q})}{r_{12}}d \\vec r_1 d\\vec r_2 \\\\\n",
      "           & = \\sum_{tuv}\\sum_{\\tau\\nu\\phi}E^{ab}_{tuv}E^{cd}_{\\tau\\nu\\phi}\\frac{\\partial^{t+u+v}}{\\partial P_x^t \\partial P_y^u \\partial P_z^v}\n",
      "                \\frac{\\partial^{\\tau+\\nu+\\phi}}{\\partial Q_x^\\tau \\partial Q_y^\\nu \\partial Q_z^\\phi} \\\\\n",
      "           &    \\hspace{30mm} \\int\\int\\frac{\\exp(-pr^2_{1P})\\exp(-qr^2_{2Q})}{r_{12}}d \\vec r_1 d\\vec r_2,\n",
      "\\end{split}\n",
      "\\end{equation}\n",
      "$$"
     ]
    },
    {
     "cell_type": "markdown",
     "metadata": {},
     "source": [
      "where, similar to $p$ and $\\vec r_{1P}$, we have defined"
     ]
    },
    {
     "cell_type": "markdown",
     "metadata": {},
     "source": [
      "$$\n",
      "\\begin{equation}\n",
      " \\begin{split}\n",
      "    q = & c + d\\\\\n",
      "  \\vec r_{2Q} = & \\vec r_2 - \\vec Q \\\\\n",
      "  \\vec Q = & \\frac{c\\,\\vec C + d\\,\\vec D}{c + d}.\n",
      " \\end{split}\n",
      "\\end{equation}\n",
      "$$"
     ]
    },
    {
     "cell_type": "markdown",
     "metadata": {},
     "source": [
      "### Integral evaluations, two-body Coulomb interaction\n",
      "\n",
      "Thus we need to evaluate the integral"
     ]
    },
    {
     "cell_type": "markdown",
     "metadata": {},
     "source": [
      "$$\n",
      "\\begin{equation}\n",
      " V_{pq} = \\int\\int\\frac{\\exp(-pr^2_{1P})\\exp(-qr^2_{2Q})}{r_{12}}d \\vec r_1 d\\vec r_2.\n",
      "\\end{equation}\n",
      "$$"
     ]
    },
    {
     "cell_type": "markdown",
     "metadata": {},
     "source": [
      "By first integrating over $\\vec r_1$ and using equation [(25)](#eq:V_p) this can be written as"
     ]
    },
    {
     "cell_type": "markdown",
     "metadata": {},
     "source": [
      "$$\n",
      "\\begin{equation}\n",
      " V_{pq} = \\int\\Big(\\frac{2\\pi}{p}\\int_0^1\\exp(-p\\,r^2_{2P}\\,u^2)\\,du\\Big)\\exp(-qr^2_{2Q}) d \\vec r_2.\n",
      "\\end{equation}\n",
      "$$"
     ]
    },
    {
     "cell_type": "markdown",
     "metadata": {},
     "source": [
      "Next we change the order of integration and use the Gaussian product theorem to get"
     ]
    },
    {
     "cell_type": "markdown",
     "metadata": {},
     "source": [
      "$$\n",
      "\\begin{equation}\n",
      "\\begin{split}\n",
      " V_{pq} & = \\frac{2\\pi}{p}\\int_0^1\\int\\exp(-\\frac{pqu^2}{pu^2+q}R^2_{PQ})\\exp[-(pu^2+q)r_{2S}^2] d\\vec r_2 du \\\\\n",
      "        & = \\frac{2\\pi}{p}\\int_0^1\\exp(-\\frac{pqu^2}{pu^2+q}R^2_{PQ})\\Big(\\frac{\\pi}{pu^2+q}\\Big)^{3/2} du.\n",
      "\\end{split}\n",
      "\\end{equation}\n",
      "$$"
     ]
    },
    {
     "cell_type": "markdown",
     "metadata": {},
     "source": [
      "### Integral evaluations, two-body Coulomb interaction\n",
      "\n",
      "Again, the value of $\\vec S$ in $\\vec r_{2S} = \\vec r_2 - \\vec S$ is not relevant. If we now make the change of variables"
     ]
    },
    {
     "cell_type": "markdown",
     "metadata": {},
     "source": [
      "$$\n",
      "\\begin{equation}\n",
      " \\frac{v^2}{p+q} = \\frac{u^2}{pu^2+q},\n",
      "\\end{equation}\n",
      "$$"
     ]
    },
    {
     "cell_type": "markdown",
     "metadata": {},
     "source": [
      "we get the result"
     ]
    },
    {
     "cell_type": "markdown",
     "metadata": {},
     "source": [
      "$$\n",
      "\\begin{equation}\n",
      " V_{pq} = \\frac{2\\pi^{5/2}}{pq\\sqrt{p+q}}F_0\\Big(\\frac{pq}{p+q}R^2_{PQ}\\Big).\n",
      "\\end{equation}\n",
      "$$"
     ]
    },
    {
     "cell_type": "markdown",
     "metadata": {},
     "source": [
      "From this we get the final answer"
     ]
    },
    {
     "cell_type": "markdown",
     "metadata": {},
     "source": [
      "$$\n",
      "\\begin{equation}\n",
      "\\begin{split}\n",
      " g_{acbd} & = \\frac{2\\pi^{5/2}}{pq\\sqrt{p+q}}\\sum_{tuv}\\sum_{\\tau\\nu\\phi}(-1)^{\\tau+\\nu+\\phi}E^{ab}_{tuv}E^{cd}_{\\tau\\nu\\phi} \\\\\n",
      "          & \\hspace{40mm} \\frac{\\partial^{t+u+v+\\tau+\\nu+\\phi}}{\\partial P_x^{t+\\tau} \\partial P_y^{u+\\nu} \\partial P_z^{v+\\phi}}F_0\\Big(\\frac{pq}{p+q}R^2_{PQ}\\Big) \\\\\n",
      "          & = \\frac{2\\pi^{5/2}}{pq\\sqrt{p+q}}\\sum_{tuv}\\sum_{\\tau\\nu\\phi}(-1)^{\\tau+\\nu+\\phi}E^{ab}_{tuv}E^{cd}_{\\tau\\nu\\phi}R_{t+\\tau,u+\\nu,v+\\phi}(\\alpha,\\vec R_{PQ}),\n",
      "\\end{split}\n",
      "\\end{equation}\n",
      "$$"
     ]
    },
    {
     "cell_type": "markdown",
     "metadata": {},
     "source": [
      "where $\\alpha = pq/(p+q)$. The term $(-)^{\\tau+\\nu+\\phi}$ arises due to the fact that"
     ]
    },
    {
     "cell_type": "markdown",
     "metadata": {},
     "source": [
      "$$\n",
      "\\begin{equation}\n",
      "\\frac{\\partial}{\\partial Q_x} F_0\\Big(\\frac{pq}{p+q}R^2_{PQ}\\Big) = - \\frac{\\partial}{\\partial P_x} F_0\\Big(\\frac{pq}{p+q}R^2_{PQ}\\Big).\n",
      "\\end{equation}\n",
      "$$"
     ]
    },
    {
     "cell_type": "markdown",
     "metadata": {},
     "source": [
      "### Integral evaluations, two-body Coulomb interaction and Boys function\n",
      "\n",
      "Calculating the Coulomb integrals boils down to evaluating the Boys function"
     ]
    },
    {
     "cell_type": "markdown",
     "metadata": {},
     "source": [
      "$$\n",
      "\\begin{equation}\n",
      " F_n(x) = \\int_0^1\\exp(-xt^2)\\,t^{2n}\\,dt.\n",
      "\\end{equation}\n",
      "$$"
     ]
    },
    {
     "cell_type": "markdown",
     "metadata": {},
     "source": [
      "Doing this by standard numerical procedures is computationally\n",
      "expensive and should therefore be avoided. Here we describe a possible way to calculate the Boys function efficiently.\n",
      "\n",
      "First note that if $x$ is very large, the function value will hardly be affected by changing the upper limit of the integral from $1$ to $\\infty$. Doing this is useful\n",
      "since the integral can be calculated exactly. Thus, we have the following approximation for the Boys function for large $x$:"
     ]
    },
    {
     "cell_type": "markdown",
     "metadata": {},
     "source": [
      "$$\n",
      "\\begin{equation}\n",
      " F_n(x) \\approx \\frac{(2n-1)!!}{2^{n+1}}\\sqrt{\\frac{\\pi}{x^{2n+1}}}. \\hspace{15mm} (x\\hspace{2mm}\\mathrm{large})\n",
      "\\end{equation}\n",
      "$$"
     ]
    },
    {
     "cell_type": "markdown",
     "metadata": {},
     "source": [
      "For small values of $x$ there seems to be no escape from numerical calculation. However, instead of doing the integral real time, it can be tabulated for regular values of $x$.\n",
      "For values between the tabulated ones, the function can be calculated by a Taylor expansion centered at the nearest tabulated point $x_t$:"
     ]
    },
    {
     "cell_type": "markdown",
     "metadata": {},
     "source": [
      "$$\n",
      "\\begin{equation}\n",
      " F_n(x_t+\\Delta x) = \\sum_{k=0}^\\infty\\frac{F_{n+k}(x_t) (-\\Delta x)^k}{k!}. \\hspace{15mm} (x\\hspace{2mm}\\mathrm{small})\n",
      "\\end{equation}\n",
      "$$"
     ]
    },
    {
     "cell_type": "markdown",
     "metadata": {},
     "source": [
      "### Integral evaluations, two-body Coulomb interaction and Boys function\n",
      "\n",
      "The computational cost can be reduced even further by calculating the Boys function according to the description above only for the highest values of $n$ needed; for lower values of $n$ the function\n",
      "can be found via the recursion relation"
     ]
    },
    {
     "cell_type": "markdown",
     "metadata": {},
     "source": [
      "$$\n",
      "\\begin{equation}\n",
      " F_n(x) = \\frac{2xF_{n+1}(x)+e^{-x}}{2n+1},\n",
      "\\end{equation}\n",
      "$$"
     ]
    },
    {
     "cell_type": "markdown",
     "metadata": {},
     "source": [
      "which can be shown by integrating the function by parts.\n",
      "\n",
      "\n",
      "\n",
      "### Integral evaluations, summarizing\n",
      "\n",
      "The Gaussian functions are given by"
     ]
    },
    {
     "cell_type": "markdown",
     "metadata": {},
     "source": [
      "$$\n",
      "\\begin{equation}\n",
      " \\begin{split}\n",
      "  G_a(\\vec r) & = G_{ikm}(a, \\vec r_A) = x^i_A\\,y^j_A\\,z^k_A\\exp(-a r^2_A), \\\\\n",
      "  G_b(\\vec r) & = G_{jln}(b, \\vec r_B) = x^i_B\\,y^j_B\\,z^k_B\\exp(-b r^2_B),\n",
      " \\end{split}\n",
      "\\end{equation}\n",
      "$$"
     ]
    },
    {
     "cell_type": "markdown",
     "metadata": {},
     "source": [
      "where $\\vec r_A = \\vec r - \\vec A$ and $\\vec r_B = \\vec r - \\vec B$. We further define"
     ]
    },
    {
     "cell_type": "markdown",
     "metadata": {},
     "source": [
      "$$\n",
      "\\begin{equation}\n",
      "\\begin{split}\n",
      "  p & = a + b, \\\\\n",
      " \\vec P & = \\frac{a\\vec A + b\\vec B}{a + b}.\n",
      "\\end{split}\n",
      "\\end{equation}\n",
      "$$"
     ]
    },
    {
     "cell_type": "markdown",
     "metadata": {},
     "source": [
      "### Integral evaluations, summarizing\n",
      "\n",
      "The overlap integral"
     ]
    },
    {
     "cell_type": "markdown",
     "metadata": {},
     "source": [
      "$$\n",
      "\\begin{equation}\n",
      " S_{ab} = \\langle G_a|G_b\\rangle\n",
      "\\end{equation}\n",
      "$$"
     ]
    },
    {
     "cell_type": "markdown",
     "metadata": {},
     "source": [
      "is calculated as"
     ]
    },
    {
     "cell_type": "markdown",
     "metadata": {},
     "source": [
      "$$\n",
      "\\begin{equation}\n",
      " S_{ab} = E^{ij}_0\\,E^{kl}_0\\,E^{mn}_0\\,\\Big(\\frac{\\pi}{p}\\Big)^{3/2},\n",
      "\\end{equation}\n",
      "$$"
     ]
    },
    {
     "cell_type": "markdown",
     "metadata": {},
     "source": [
      "where"
     ]
    },
    {
     "cell_type": "markdown",
     "metadata": {},
     "source": [
      "$$\n",
      "\\begin{equation}\n",
      " E^{i=0,j=0}_0 = \\exp(-\\frac{ab}{a+b}X_{AB}^2),\n",
      "\\end{equation}\n",
      "$$"
     ]
    },
    {
     "cell_type": "markdown",
     "metadata": {},
     "source": [
      "and the desired coefficients are found via"
     ]
    },
    {
     "cell_type": "markdown",
     "metadata": {},
     "source": [
      "$$\n",
      "\\begin{equation}\n",
      "\\begin{split}\n",
      " E^{i+1,j}_t & = \\frac{1}{2p}E^{ij}_{t-1} + X_{PA}E^{ij}_t + (t+1)E^{ij}_{t+1}, \\\\\n",
      " E^{i,j+1}_t & = \\frac{1}{2p}E^{ij}_{t-1} + X_{PB}E^{ij}_t + (t+1)E^{ij}_{t+1}.\n",
      "\\end{split}\n",
      "\\end{equation}\n",
      "$$"
     ]
    },
    {
     "cell_type": "markdown",
     "metadata": {},
     "source": [
      "### Integral evaluations, summarizing\n",
      "\n",
      "The kinetic integral is calculated as"
     ]
    },
    {
     "cell_type": "markdown",
     "metadata": {},
     "source": [
      "$$\n",
      "\\begin{equation}\n",
      " T_{ab} = -\\frac{1}{2}(T_{ij}\\,S_{kl}\\,S_{mn} + S_{ij}\\,T_{kl}\\,S_{mn} + S_{ij}\\,S_{kl}\\,T_{mn}),\n",
      "\\end{equation}\n",
      "$$"
     ]
    },
    {
     "cell_type": "markdown",
     "metadata": {},
     "source": [
      "where"
     ]
    },
    {
     "cell_type": "markdown",
     "metadata": {},
     "source": [
      "$$\n",
      "\\begin{equation}\n",
      " T_{ij} = 4b^2\\,S_{i,j+2} - 2b(2j + 1)S_{i,j} + j(j-1)S_{i,j-2}.\n",
      "\\end{equation}\n",
      "$$"
     ]
    },
    {
     "cell_type": "markdown",
     "metadata": {},
     "source": [
      "### Integral evaluations, summarizing\n",
      "\n",
      "The Coulomb integral"
     ]
    },
    {
     "cell_type": "markdown",
     "metadata": {},
     "source": [
      "$$\n",
      "\\begin{equation}\n",
      " V_{ab} = \\langle G_a\\vert\\frac{1}{r_C}\\vert G_b\\rangle\n",
      "\\end{equation}\n",
      "$$"
     ]
    },
    {
     "cell_type": "markdown",
     "metadata": {},
     "source": [
      "is calculated as"
     ]
    },
    {
     "cell_type": "markdown",
     "metadata": {},
     "source": [
      "$$\n",
      "\\begin{equation}\n",
      " V_{ab} = \\frac{2\\pi}{p}\\sum_{tuv}E^{ab}_{tuv} R_{tuv}(p,\\vec R_{PC}),\n",
      "\\end{equation}\n",
      "$$"
     ]
    },
    {
     "cell_type": "markdown",
     "metadata": {},
     "source": [
      "where"
     ]
    },
    {
     "cell_type": "markdown",
     "metadata": {},
     "source": [
      "$$\n",
      "\\begin{equation}\n",
      " E^{ab}_{tuv} = E^{ij}_t\\,E^{kl}_u\\,E^{mn}_v,\n",
      "\\end{equation}\n",
      "$$"
     ]
    },
    {
     "cell_type": "markdown",
     "metadata": {},
     "source": [
      "and $R_{tuv}(p,\\vec R_{PC})$ is found by first calculating the source term"
     ]
    },
    {
     "cell_type": "markdown",
     "metadata": {},
     "source": [
      "$$\n",
      "\\begin{equation}\n",
      " R^n_{000}(p,\\vec R_{PC}) = (-2p)^n\\,F_n(p R^2_{PC})\n",
      "\\end{equation}\n",
      "$$"
     ]
    },
    {
     "cell_type": "markdown",
     "metadata": {},
     "source": [
      "and then iterating towards the target $R^0_{tuv}(p,\\vec R_{PC}) = R_{tuv}(p,\\vec R_{PC})$ via the recurrence relations"
     ]
    },
    {
     "cell_type": "markdown",
     "metadata": {},
     "source": [
      "$$\n",
      "\\begin{equation}\n",
      " \\begin{split}\n",
      "  R^n_{t+1,u,v} & = tR^{n+1}_{t-1,u,v} + X_{PC} R^{n+1}_{tuv}, \\\\\n",
      "  R^n_{t,u+1,v} & = uR^{n+1}_{t,u-1,v} + Y_{PC} R^{n+1}_{tuv}, \\\\\n",
      "  R^n_{t,u,v+1} & = vR^{n+1}_{t,u,v11} + Z_{PC} R^{n+1}_{tuv}.\n",
      " \\end{split}\n",
      "\\end{equation}\n",
      "$$"
     ]
    },
    {
     "cell_type": "markdown",
     "metadata": {},
     "source": [
      "### Integral evaluations, summarizing\n",
      "\n",
      "The Coulomb integral"
     ]
    },
    {
     "cell_type": "markdown",
     "metadata": {},
     "source": [
      "$$\n",
      "\\begin{equation}\n",
      " g_{acbd} = \\langle G_a G_c\\vert \\frac{1}{r_{12}}\\vert G_b G_d\\rangle\n",
      "\\end{equation}\n",
      "$$"
     ]
    },
    {
     "cell_type": "markdown",
     "metadata": {},
     "source": [
      "is calculated as"
     ]
    },
    {
     "cell_type": "markdown",
     "metadata": {},
     "source": [
      "$$\n",
      "\\begin{equation}\n",
      " g_{acbd} = \\frac{2\\pi^{5/2}}{pq\\sqrt{p+q}}\\sum_{tuv}\\sum_{\\tau\\nu\\phi}(-1)^{\\tau+\\nu+\\phi}E^{ab}_{tuv}E^{cd}_{\\tau\\nu\\phi}R_{t+\\tau,u+\\nu,v+\\phi}(\\alpha,\\vec R_{PQ}),\n",
      "\\end{equation}\n",
      "$$"
     ]
    },
    {
     "cell_type": "markdown",
     "metadata": {},
     "source": [
      "where"
     ]
    },
    {
     "cell_type": "markdown",
     "metadata": {},
     "source": [
      "$$\n",
      "\\begin{equation}\n",
      "  \\alpha = \\frac{pq}{p + q}.\n",
      "\\end{equation}\n",
      "$$"
     ]
    },
    {
     "cell_type": "markdown",
     "metadata": {},
     "source": [
      "### Hartree-Fock equations with spin degrees of freedom\n",
      "\n",
      "Till now we have mainly dealt with the Hartree-Fock equations using anti-symmetrized matrix elements. Since the Hamiltonian does not \n",
      "contain operators acting on the spin states, it is common to write out the spin-degrees of freedom in an explicit way.\n",
      "\n",
      "We wrote the Hartree-Fock equations as"
     ]
    },
    {
     "cell_type": "markdown",
     "metadata": {},
     "source": [
      "$$\n",
      "\\hat{h}^{HF}(x_i) \\psi_{p}(x_i) = \\epsilon_{p}\\psi_{p}(x_i),\n",
      "$$"
     ]
    },
    {
     "cell_type": "markdown",
     "metadata": {},
     "source": [
      "with"
     ]
    },
    {
     "cell_type": "markdown",
     "metadata": {},
     "source": [
      "$$\n",
      "\\hat{h}^{HF}(x_i)= \\hat{h}_0(x_i) + \\sum_{j=1}^NV_{j}^{d}(x_i) -\n",
      "  \\sum_{j=1}^NV_{j}^{ex}(x_i),\n",
      "$$"
     ]
    },
    {
     "cell_type": "markdown",
     "metadata": {},
     "source": [
      "and where $\\hat{h}_0(i)$ is the one-body part.\n",
      "In this equations we include both spin and spatial degrees of freedom.\n",
      "\n",
      "The direct part is defined as"
     ]
    },
    {
     "cell_type": "markdown",
     "metadata": {},
     "source": [
      "$$\n",
      "V_{p}^{d}(x_i) = \\int \\psi_{p}^*(x_j)\\psi_{p}(x_j)\\hat{v}(r_{ij}) dx_j\n",
      "$$"
     ]
    },
    {
     "cell_type": "markdown",
     "metadata": {},
     "source": [
      "while the exchange operator (or Fock operator) is"
     ]
    },
    {
     "cell_type": "markdown",
     "metadata": {},
     "source": [
      "$$\n",
      "V_{p}^{ex}(x_i) \\psi_{q}(x_i) \n",
      "  = \\left(\\int \\psi_{p}^*(x_j) \n",
      "  \\hat{v}(r_{ij})\\psi_{q}(x_j)\n",
      "  dx_j\\right)\\psi_{p}(x_i).\n",
      "$$"
     ]
    },
    {
     "cell_type": "markdown",
     "metadata": {},
     "source": [
      "### Hartree-Fock equations with spin degrees of freedom\n",
      "If now deal explicitely with the spin degrees of freedom, we can write the single-particle state"
     ]
    },
    {
     "cell_type": "markdown",
     "metadata": {},
     "source": [
      "$$\n",
      "\\psi_{p}(x_i) = \\phi_{p}(\\mathbf{r}_i)\\xi_{\\sigma_i},\n",
      "$$"
     ]
    },
    {
     "cell_type": "markdown",
     "metadata": {},
     "source": [
      "where $\\xi_{\\sigma_i}$ is a standard Pauli spinor. Since we have only two possible spin values, the direct terms reduces then to\n",
      "(recall that we have defined $\\int dx_j = \\sum_{\\sigma_j} \\int d \\mathbf{r}_j$)"
     ]
    },
    {
     "cell_type": "markdown",
     "metadata": {},
     "source": [
      "$$\n",
      "V_{p}^{d}(\\mathbf{r}_i)\\phi_{q}(\\mathbf{r}_i) = 2\\int \\phi_{p}^*(\\mathbf{r}_j)\\phi_{p}(\\mathbf{r}_i)\\hat{v}(r_{ij}) d\\mathbf{r}_j\\phi_{q}(\\mathbf{r}_i)\n",
      "$$"
     ]
    },
    {
     "cell_type": "markdown",
     "metadata": {},
     "source": [
      "while the exchange operator (or Fock operator) is"
     ]
    },
    {
     "cell_type": "markdown",
     "metadata": {},
     "source": [
      "$$\n",
      "V_{p}^{ex}(\\mathbf{r}_i) \\phi_{q}(\\mathbf{r}_i) = \\left(\\int \\phi_{p}^*(\\mathbf{r}_j) \n",
      "  \\hat{v}(r_{ij})\\phi_{q}(\\mathbf{r}_j)\n",
      "  d\\mathbf{r}_j\\right)\\phi_{p}\\mathbf{r}_i).\n",
      "$$"
     ]
    },
    {
     "cell_type": "markdown",
     "metadata": {},
     "source": [
      "### Hartree-Fock equations with spin degrees of freedom\n",
      "\n",
      "In our Hartree-Fock calculation we expand the single-particle functions in terms of known basis functions (hydrogen-like one, STOs, GTOs etc), namely"
     ]
    },
    {
     "cell_type": "markdown",
     "metadata": {},
     "source": [
      "$$\n",
      "\\phi_{p}(\\mathbf{r}_i) = \\sum_{k=1}^{d}C_{pk}\\chi_k(\\mathbf{r}_i),\n",
      "$$"
     ]
    },
    {
     "cell_type": "markdown",
     "metadata": {},
     "source": [
      "$d$ is the number of basis functions $\\chi_k(\\mathbf{r}_i)$. The Hartree-Fock equations become then"
     ]
    },
    {
     "cell_type": "markdown",
     "metadata": {},
     "source": [
      "$$\n",
      "\\hat{h}^{HF}\\hat{C}_p=\\epsilon^{HF}\\hat{S}\\hat{C}_p,\n",
      "$$"
     ]
    },
    {
     "cell_type": "markdown",
     "metadata": {},
     "source": [
      "where $\\hat{S}$ is the overlap matrix needed in case the basis functions $\\chi_k(\\mathbf{r}_i)$ are not normalized (typically, GTOs are not). \n",
      "Our Hartree-Fock Hamiltonian leads then to matrix elements (in a bra-ket notation)"
     ]
    },
    {
     "cell_type": "markdown",
     "metadata": {},
     "source": [
      "$$\n",
      "\\langle p | \\hat{h}^{HF} | q \\rangle = \\langle p|\\hat{h}_0|q\\rangle +\\sum_{k\\le F}\\sum_{rs}C_{kr}^*C_{ks}\\left(2\\langle pr | \\hat{v}|qs\\rangle-\\langle pr | \\hat{v}|sq\\rangle\\right),\n",
      "$$"
     ]
    },
    {
     "cell_type": "markdown",
     "metadata": {},
     "source": [
      "with"
     ]
    },
    {
     "cell_type": "markdown",
     "metadata": {},
     "source": [
      "$$\n",
      "\\langle p|\\hat{h}_0|q\\rangle = \\int \\chi_{p}^*(\\mathbf{r}_j)\\left(-\\frac{1}{2}\\nabla^2-\\frac{Z}{\\mathbf{r}_j}  \\right)\\chi_{q}(\\mathbf{r}_j)\n",
      "  d\\mathbf{r}_j.\n",
      "$$"
     ]
    },
    {
     "cell_type": "markdown",
     "metadata": {},
     "source": [
      "### Hartree-Fock equations with spin degrees of freedom\n",
      "\n",
      "The other integrals are"
     ]
    },
    {
     "cell_type": "markdown",
     "metadata": {},
     "source": [
      "$$\n",
      "\\langle pr | \\hat{v}|qs\\rangle = \\int\\int \\chi_{p}^*(\\mathbf{r}_i)\\chi_{q}^*(\\mathbf{r}_j)\\hat{v}(r_{ij})\\chi_{r}(\\mathbf{r}_i)\\chi_{s}(\\mathbf{r}_j)\n",
      "  d\\mathbf{r}_id\\mathbf{r}_j.\n",
      "$$"
     ]
    },
    {
     "cell_type": "markdown",
     "metadata": {},
     "source": [
      "If we then introduce the density matrix defined as"
     ]
    },
    {
     "cell_type": "markdown",
     "metadata": {},
     "source": [
      "$$\n",
      "D_{pq}=\\sum_{k\\le F}C_{kp}C_{kq}^*,\n",
      "$$"
     ]
    },
    {
     "cell_type": "markdown",
     "metadata": {},
     "source": [
      "we can rewrite the Hartree-Fock matrix elements as"
     ]
    },
    {
     "cell_type": "markdown",
     "metadata": {},
     "source": [
      "$$\n",
      "\\langle p | \\hat{h}^{HF} | q \\rangle = \\langle p|\\hat{h}_0|q\\rangle +\\sum_{rs}D_{rs}\\left(2\\langle pr | \\hat{v}|qs\\rangle-\\langle pr | \\hat{v}|sq\\rangle\\right),\n",
      "$$"
     ]
    },
    {
     "cell_type": "markdown",
     "metadata": {},
     "source": [
      "meaning that the only quantity we need to calculate at every\n",
      "interation is the density matrix, which is evaluated using the eigenvector \n",
      "obtained from the diagonalization of the Hartree-Fock matrix.\n",
      "\n",
      "\n",
      "\n",
      "### Hartree-Fock equations with spin degrees of freedom\n",
      "\n",
      "From an algorithmic point of view, we see now that we need, with our GTO basis, to evaluate \n",
      "\n",
      "  * The overlap matrix $\\hat{S}$.\n",
      "\n",
      "  * The kinetic energy and one-body interaction matrix elements $\\langle p|hat{h}_0|q\\rangle $ and finally the\n",
      "\n",
      "  * two-body interaction matrix elements $\\langle pr | \\hat{v}|qs\\rangle$.\n",
      "\n",
      "All these elements can be computed once and for all and stored in\n",
      "memory. The overlap matrix $S$ and the one-body matrix elements\n",
      "$\\langle p|\\hat{h}_0|q\\rangle $ can be stored as simple\n",
      "one-dimensional arrays, or alternatively as matrices of small\n",
      "dimensions.  The time-consuming part in the Hartree-Fock calculations\n",
      "involves the calculation of the two-body matrix. Furthermore, the\n",
      "storage of these matrix elements plays also an important role, in\n",
      "particular we wish to access the table of matrix elements as fast as\n",
      "possible.\n",
      "\n",
      "\n",
      "\n",
      "### Hartree-Fock equations with spin degrees of freedom\n",
      "\n",
      "In a brute force algorithm for storing the matrix elements, if we have $d$ basis functions, we end up with the need of storing \n",
      "$d^4$ matrix elements. We can reduce this considerably by the following considerations.\n",
      "In the calculation of the two-body matrix elements $\\langle pr | \\hat{v}|qs\\rangle$ we have the following symmetries\n",
      "\n",
      "  * Invariance under permutations, that is"
     ]
    },
    {
     "cell_type": "markdown",
     "metadata": {},
     "source": [
      "$$\n",
      "\\langle pr | \\hat{v}|qs\\rangle = \\langle rp | \\hat{v}|sq\\rangle.\n",
      "$$"
     ]
    },
    {
     "cell_type": "markdown",
     "metadata": {},
     "source": [
      "* The functions entering the evaluation of the integrals are all real, meaning that if we interchange $p\\leftrightarrow q$ or  $r\\leftrightarrow s$, we end up with the same matrix element.\n",
      "\n",
      "This reduces by a factor of eight the total number of matrix elements to be stored.\n",
      "\n",
      "\n",
      "\n",
      "### Hartree-Fock equations with spin degrees of freedom\n",
      "\n",
      "Furthermore, in setting up a table for the two-body matrix elements we can convert the need of using four indices $pqrs$ of \n",
      "$\\langle pr | \\hat{v}|qs\\rangle$, which in a brute forces way could be coded as a four-dimensional array, to \n",
      "a two-dimensional array $V_{lm}$, where $l$ and $m$ stand for all possible two-body configurations $pq$.\n",
      "\n",
      "Each number $l$ and $m$ in $V_{lm}$  should then point to a set of single-particle  states $(p,q)$ and $(r,s)$.  \n",
      "\n",
      "In our case, since we have \n",
      "symmetries which allow us to set $p\\le q$, we have, with $d$ single particle states a total of $d(d+1)/2$ two-body configurations.\n",
      "How do we store such a matrix? The simplest thing to do is to convert it into a one-dimensional array. How do we achieve that?\n",
      "\n",
      "\n",
      "\n",
      "### Hartree-Fock equations with spin degrees of freedom\n",
      "\n",
      "We now have a matrix $V$ of dimension $n\\times n$ and we want to store the elements $V_{lm}$ as a one-dimensional array $A$ using\n",
      "$0 \\le l \\le m \\le n-1$. For\n",
      "\n",
      "  * $l=0$ we have $n$ elements\n",
      "\n",
      "  * $l=1$ we have $n-1$ elements\n",
      "\n",
      "  * $\\dots$\n",
      "\n",
      "  * $l=\\nu$ we have $n-\\nu$ elements\n",
      "\n",
      "  * $\\dots$\n",
      "\n",
      "  * $l=n-1$ we have $1$ element,\n",
      "\n",
      "and the total number is"
     ]
    },
    {
     "cell_type": "markdown",
     "metadata": {},
     "source": [
      "$$\n",
      "\\sum_{\\nu =0}^{n-1}\\left(n-\\nu\\right)=\\frac{n(n+1)}{2}.\n",
      "$$"
     ]
    },
    {
     "cell_type": "markdown",
     "metadata": {},
     "source": [
      "### Hartree-Fock equations with spin degrees of freedom\n",
      "\n",
      "To find the number ($\\mathrm{number}(l,m)$) in a one-dimensional array $A$ which corresponds to a matrix element $V_{lm}$, we note that"
     ]
    },
    {
     "cell_type": "markdown",
     "metadata": {},
     "source": [
      "$$\n",
      "\\mathrm{number}(l,m)=\\sum_{\\nu =0}^{l-1}\\left(n-\\nu\\right)+m-l=\\frac{l(2n-l-1)}{2}+m.\n",
      "$$"
     ]
    },
    {
     "cell_type": "markdown",
     "metadata": {},
     "source": [
      "The first matrix element $V(0,0)$ is obviously given by the element $A(0)$. \n",
      "\n",
      "We have thus reduced a four dimensional array to a one-dimensional array, where the given pairs $(p,q)$ and $(r,s)$ point to the matrix indices $l$\n",
      "and $m$, respectively. The latter are used to find the explicit number $\\mathrm{number}(l,m)$ which points to the desired matrix element stored \n",
      "in a one-dimensional array.\n",
      "\n",
      "\n",
      "\n",
      "### Exercises: Derivation of Hartree-Fock equations\n",
      "**Exercise 1.**\n",
      "\n",
      "Consider a Slater determinant built up of single-particle orbitals $\\psi_{\\lambda}$, \n",
      "with $\\lambda = 1,2,\\dots,N$.\n",
      "\n",
      "The unitary transformation"
     ]
    },
    {
     "cell_type": "markdown",
     "metadata": {},
     "source": [
      "$$\n",
      "\\psi_a  = \\sum_{\\lambda} C_{a\\lambda}\\phi_{\\lambda},\n",
      "$$"
     ]
    },
    {
     "cell_type": "markdown",
     "metadata": {},
     "source": [
      "brings us into the new basis.  \n",
      "The new basis has quantum numbers $a=1,2,\\dots,N$.\n",
      "Show that the new basis is orthonormal.\n",
      "Show that the new Slater determinant constructed from the new single-particle wave functions can be\n",
      "written as the determinant based on the previous basis and the determinant of the matrix $C$.\n",
      "Show that the old and the new Slater determinants are equal up to a complex constant with absolute value unity.\n",
      "(Hint, $C$ is a unitary matrix).\n",
      "\n",
      "\n",
      "\n",
      "### Exercises: Derivation of Hartree-Fock equations\n",
      "**Exercise 2.**\n",
      "\n",
      "Consider the  Slater  determinant"
     ]
    },
    {
     "cell_type": "markdown",
     "metadata": {},
     "source": [
      "$$\n",
      "\\Phi_{0}=\\frac{1}{\\sqrt{n!}}\\sum_{p}(-)^{p}P\n",
      "\\prod_{i=1}^{n}\\psi_{\\alpha_{i}}(x_{i}).\n",
      "$$"
     ]
    },
    {
     "cell_type": "markdown",
     "metadata": {},
     "source": [
      "A small variation in this function is given by"
     ]
    },
    {
     "cell_type": "markdown",
     "metadata": {},
     "source": [
      "$$\n",
      "\\delta\\Phi_{0}=\\frac{1}{\\sqrt{n!}}\\sum_{p}(-)^{p}P\n",
      "\\psi_{\\alpha_{1}}(x_{1})\\psi_{\\alpha_{2}}(x_{2})\\dots\n",
      "\\psi_{\\alpha_{i-1}}(x_{i-1})(\\delta\\psi_{\\alpha_{i}}(x_{i}))\n",
      "\\psi_{\\alpha_{i+1}}(x_{i+1})\\dots\\psi_{\\alpha_{n}}(x_{n}).\n",
      "$$"
     ]
    },
    {
     "cell_type": "markdown",
     "metadata": {},
     "source": [
      "Show that"
     ]
    },
    {
     "cell_type": "markdown",
     "metadata": {},
     "source": [
      "$$\n",
      "\\langle \\delta\\Phi_{0}|\\sum_{i=1}^{n}\\left\\{t(x_{i})+u(x_{i})\n",
      "\\right\\}+\\frac{1}{2}\n",
      "\\sum_{i\\neq j=1}^{n}v(x_{i},x_{j})|\\Phi_{0}\\rangle=\\sum_{i=1}^{n}\\langle \\delta\\psi_{\\alpha_{i}}|\\hat{t}+\\hat{u}\n",
      "|\\phi_{\\alpha_{i}}\\rangle\n",
      "+\\sum_{i\\neq j=1}^{n}\\left\\{\\langle\\delta\\psi_{\\alpha_{i}}\n",
      "\\psi_{\\alpha_{j}}|\\hat{v}|\\psi_{\\alpha_{i}}\\psi_{\\alpha_{j}}\\rangle-\n",
      "\\langle\\delta\\psi_{\\alpha_{i}}\\psi_{\\alpha_{j}}|\\hat{v}\n",
      "|\\psi_{\\alpha_{j}}\\psi_{\\alpha_{i}}\\rangle\\right\\}\n",
      "$$"
     ]
    }
   ],
   "metadata": {}
  }
 ]
}
