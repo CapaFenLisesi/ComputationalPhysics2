{
 "metadata": {},
 "nbformat": 3,
 "nbformat_minor": 0,
 "worksheets": [
  {
   "cells": [
    {
     "cell_type": "markdown",
     "metadata": {},
     "source": [
      "# How to parallelize a Variational Monte Carlo code with MPI and OpenMP\n",
      "**Spring 2015**\n",
      "\n",
      "### Your background\n",
      "* You have some experience in programming but have never tried to parallelize your codes\n",
      "\n",
      "* Here I will base my examples on C/C++ using Message Passing Interface (MPI) and OpenMP. \n",
      "\n",
      "* I will also give you some simple hints on how to run and install codes on your laptop/office PC\n",
      "\n",
      "* The programs and slides can be found at the weblink\n",
      "\n",
      "* Good text: Karniadakis and Kirby, Parallel Scientific Computing in C++ and MPI, Cambridge.\n",
      "\n",
      "We will discuss Message passing interface (MPI) and OpenMP.\n",
      "\n",
      "\n",
      "\n",
      "=====  =====\n",
      "* Develop codes locally, run with some few processes and test your codes.  Do benchmarking, timing and so forth on local nodes, for example your laptop or PC.  You can install MPICH2 on  your laptop/PC. \n",
      "\n",
      "* Test by typing *which mpd*\n",
      "\n",
      "* When you are convinced that your codes run correctly, you start your production runs on available supercomputers, in our case *smaug* locally (to be discussed after Easter).\n",
      "\n",
      "\n",
      "\n",
      "### How do I run MPI on a PC/Laptop?\n",
      "Most machines at computer labs at UiO are quad-cores\n",
      "* Compile with mpicxx or mpic++ or mpif90\n",
      "\n",
      "* Set up collaboration between processes and run"
     ]
    },
    {
     "cell_type": "markdown",
     "metadata": {},
     "source": [
      "        mpd --ncpus=4 &\n",
      "        #  run code with\n",
      "        mpiexec -n 4 ./nameofprog\n"
     ]
    },
    {
     "cell_type": "markdown",
     "metadata": {},
     "source": [
      "Here we declare that we will use 4 processes via the *-ncpus* option and via $-n 4$ when running.\n",
      "* End with *mpdallexit*\n",
      "\n",
      "\n",
      "### Can I do it on my own PC/laptop?\n",
      "Of course:\n",
      "* go to the website of [Argonne National Lab](http://www.mcs.anl.gov/research/projects/mpich2/)\n",
      "\n",
      "* follow the instructions and install it on your own PC/laptop\n",
      "\n",
      "* Versions for Ubuntu/Linux, windows and mac\n",
      "\n",
      "* For windows, you may think of installing WUBI\n",
      "\n",
      "\n",
      "\n",
      "### What is Message Passing Interface (MPI)?\n",
      "\n",
      "MPI is a library, not a language. It specifies the names, calling sequences and results of functions\n",
      "or subroutines to be called from C/C++ or Fortran programs, and the classes and methods that make up the MPI C++\n",
      "library. The programs that users write in Fortran, C or C++ are compiled with ordinary compilers and linked\n",
      "with the MPI library.\n",
      "\n",
      "MPI programs should be able to run\n",
      "on all possible machines and run all MPI implementetations without change.\n",
      "\n",
      "An MPI computation is a collection of processes communicating with messages.\n",
      "\n",
      "\n",
      "### Going Parallel with MPI\n",
      "**Task parallelism**: the work of a global problem can be divided\n",
      "into a number of independent tasks, which rarely need to synchronize. \n",
      "Monte Carlo simulations or numerical integration are examples of this.\n",
      "\n",
      "\n",
      "MPI is a message-passing library where all the routines\n",
      "have corresponding C/C++-binding"
     ]
    },
    {
     "cell_type": "markdown",
     "metadata": {},
     "source": [
      "           MPI_Command_name\n"
     ]
    },
    {
     "cell_type": "markdown",
     "metadata": {},
     "source": [
      "and Fortran-binding (routine names are in uppercase, but can also be in lower case)"
     ]
    },
    {
     "cell_type": "markdown",
     "metadata": {},
     "source": [
      "           MPI_COMMAND_NAME\n"
     ]
    },
    {
     "cell_type": "markdown",
     "metadata": {},
     "source": [
      "### MPI is a library\n",
      "MPI is a library specification for the message passing interface,\n",
      "proposed as a standard.\n",
      "\n",
      "* independent of hardware;\n",
      "\n",
      "* not a language or compiler specification;\n",
      "\n",
      "* not a specific implementation or product.\n",
      "\n",
      "A message passing standard for portability and ease-of-use. \n",
      "Designed for high performance.\n",
      "\n",
      "Insert communication and synchronization functions where necessary.\n",
      "\n",
      "\n",
      "### The basic ideas of parallel computing\n",
      "\n",
      "* Pursuit of shorter computation time and larger simulation size gives rise to parallel computing.\n",
      "\n",
      "* Multiple processors are involved to solve a global problem.\n",
      "\n",
      "* The essence is to divide the entire computation evenly among collaborative processors.  Divide and conquer.\n",
      "\n",
      "\n",
      "\n",
      "### A rough classification of hardware models\n",
      "\n",
      "* Conventional single-processor computers can be called SISD (single-instruction-single-data) machines.\n",
      "\n",
      "* SIMD (single-instruction-multiple-data) machines incorporate the idea of parallel processing, which use a large number of processing units to execute the same instruction on different data.\n",
      "\n",
      "* Modern parallel computers are so-called MIMD (multiple-instruction-multiple-data) machines and can execute different instruction streams in parallel on different data.\n",
      "\n",
      "\n",
      "### Shared memory and distributed memory\n",
      "\n",
      "* One way of categorizing modern parallel computers is to look at the memory configuration.\n",
      "\n",
      "* In shared memory systems the CPUs share the same address space. Any CPU can access any data in the global memory.\n",
      "\n",
      "* In distributed memory systems each CPU has its own memory.\n",
      "\n",
      "The CPUs are connected by some network and may exchange\n",
      "messages.\n",
      "\n",
      "\n",
      "\n",
      "### Different parallel programming paradigms\n",
      "\n",
      "* **Task parallelism**:  the work of a global problem can be divided into a number of independent tasks, which rarely need to synchronize.  Monte Carlo simulation is one example. Integration is another. However this paradigm is of limited use.\n",
      "\n",
      "* **Data parallelism**:  use of multiple threads (e.g. one thread per processor) to dissect loops over arrays etc.  This paradigm requires a single memory address space.  Communication and synchronization between processors are often hidden, thus easy to program. However, the user surrenders much control to a specialized compiler. Examples of data parallelism are compiler-based parallelization and OpenMP directives.\n",
      "\n",
      "\n",
      "### Different parallel programming paradigms\n",
      "\n",
      "* **Message passing**:  all involved processors have an independent memory address space. The user is responsible for  partitioning the data/work of a global problem and distributing the  subproblems to the processors. Collaboration between processors is achieved by explicit message passing, which is used for data transfer plus synchronization.\n",
      "\n",
      "* This paradigm is the most general one where the user has full control. Better parallel efficiency is usually achieved by explicit message passing. However, message-passing programming is more difficult.\n",
      "\n",
      "\n",
      "### SPMD (single-program-multiple-data)\n",
      "\n",
      "Although message-passing programming supports MIMD, it \n",
      "suffices with an SPMD (single-program-multiple-data) model, which\n",
      "is flexible enough for practical cases:\n",
      "\n",
      "* Same executable for all the processors.\n",
      "\n",
      "* Each processor works primarily with its assigned local data.\n",
      "\n",
      "* Progression of code is allowed to differ between synchronization points.\n",
      "\n",
      "* Possible to have a master/slave model. The standard option in Monte Carlo calculations and numerical integration.\n",
      "\n",
      "\n",
      "### Today's situation of parallel computing\n",
      "\n",
      "* Distributed memory is the dominant hardware configuration. There is a large diversity in these machines, from  MPP (massively parallel processing) systems to clusters of off-the-shelf PCs, which are very cost-effective.\n",
      "\n",
      "* Message-passing is a mature programming paradigm and widely accepted. It often provides an efficient match to the hardware. It is primarily used for the distributed memory systems, but can also be used on shared memory systems.\n",
      "\n",
      "* Modern nodes have nowadays several cores, which makes it interesting to use both shared memory (the given node) and distributed memory (several nodes with communication). This leads often to codes which use both MPI and OpenMP.\n",
      "\n",
      "Our lectures will focus on both MPI and OpenMP.\n",
      "\n",
      "\n",
      "\n",
      "### Overhead present in parallel computing\n",
      "\n",
      "* **Uneven load balance**:  not all the processors can perform useful work at all time.\n",
      "\n",
      "* **Overhead of synchronization**\n",
      "\n",
      "* **Overhead of communication**\n",
      "\n",
      "* **Extra computation due to parallelization**\n",
      "\n",
      "Due to the above overhead and that certain part of a sequential\n",
      "algorithm cannot be parallelized we may not achieve an optimal parallelization.\n",
      "\n",
      "\n",
      "\n",
      "\n",
      "### Parallelizing a sequential algorithm\n",
      "\n",
      "* Identify the part(s) of a sequential algorithm that can be  executed in parallel. This is the difficult part,\n",
      "\n",
      "* Distribute the global work and data among $P$ processors.\n",
      "\n",
      "\n",
      "\n",
      "\n",
      "### Bindings to MPI routines\n",
      "\n",
      "\n",
      "MPI is a message-passing library where all the routines\n",
      "have corresponding C/C++-binding"
     ]
    },
    {
     "cell_type": "markdown",
     "metadata": {},
     "source": [
      "           MPI_Command_name\n"
     ]
    },
    {
     "cell_type": "markdown",
     "metadata": {},
     "source": [
      "and Fortran-binding (routine names are in uppercase, but can also be in lower case)"
     ]
    },
    {
     "cell_type": "markdown",
     "metadata": {},
     "source": [
      "           MPI_COMMAND_NAME\n"
     ]
    },
    {
     "cell_type": "markdown",
     "metadata": {},
     "source": [
      "The discussion in these slides focuses on the C++ binding.\n",
      "\n",
      "\n",
      "\n",
      "\n",
      "### Communicator\n",
      "* A group of MPI processes with a name (context).\n",
      "\n",
      "* Any process is identified by its rank. The rank is only meaningful within a particular communicator.\n",
      "\n",
      "* By default communicator $MPI\\_COMM\\_WORLD$ contains all the MPI processes.\n",
      "\n",
      "* Mechanism to identify subset of processes.\n",
      "\n",
      "* Promotes modular design of parallel libraries.\n",
      "\n",
      "\n",
      "\n",
      "\n",
      "### Some of the most  important MPI functions\n",
      "\n",
      "\n",
      "\n",
      "* $MPI\\_Init$ - initiate an MPI computation\n",
      "\n",
      "* $MPI\\_Finalize$ - terminate the MPI computation and clean up\n",
      "\n",
      "* $MPI\\_Comm\\_size$ - how many processes participate in a given MPI communicator?\n",
      "\n",
      "* $MPI\\_Comm\\_rank$ - which one am I? (A number between 0 and size-1.)\n",
      "\n",
      "* $MPI\\_Send$ - send a message to a particular process within an MPI communicator\n",
      "\n",
      "* $MPI\\_Recv$ - receive a message from a particular process within an MPI communicator\n",
      "\n",
      "* $MPI\\_reduce$  or $MPI\\_Allreduce$, send and receive messages\n",
      "\n",
      "\n",
      "\n",
      "\n",
      "### The first MPI C/C++ program\n",
      "\n",
      "\n",
      "Let every process write \"Hello world\" (oh not this program again!!) on the standard output."
     ]
    },
    {
     "cell_type": "markdown",
     "metadata": {},
     "source": [
      "        using namespace std;\n",
      "        #include <mpi.h>\n",
      "        #include <iostream>\n",
      "        int main (int nargs, char* args[])\n",
      "        {\n",
      "        int numprocs, my_rank;\n",
      "        //   MPI initializations\n",
      "        MPI_Init (&nargs, &args);\n",
      "        MPI_Comm_size (MPI_COMM_WORLD, &numprocs);\n",
      "        MPI_Comm_rank (MPI_COMM_WORLD, &my_rank);\n",
      "        cout << \"Hello world, I have  rank \" << my_rank << \" out of \" \n",
      "             << numprocs << endl;\n",
      "        //  End MPI\n",
      "        MPI_Finalize ();\n"
     ]
    },
    {
     "cell_type": "markdown",
     "metadata": {},
     "source": [
      "### The Fortran program"
     ]
    },
    {
     "cell_type": "markdown",
     "metadata": {},
     "source": [
      "        PROGRAM hello\n",
      "        INCLUDE \"mpif.h\"\n",
      "        INTEGER:: size, my_rank, ierr\n",
      "        \n",
      "        CALL  MPI_INIT(ierr)\n",
      "        CALL MPI_COMM_SIZE(MPI_COMM_WORLD, size, ierr)\n",
      "        CALL MPI_COMM_RANK(MPI_COMM_WORLD, my_rank, ierr)\n",
      "        WRITE(*,*)\"Hello world, I've rank \",my_rank,\" out of \",size\n",
      "        CALL MPI_FINALIZE(ierr)\n",
      "        \n",
      "        END PROGRAM hello\n"
     ]
    },
    {
     "cell_type": "markdown",
     "metadata": {},
     "source": [
      "### Note 1\n",
      "\n",
      "* The output to screen is not ordered since all processes are trying to write  to screen simultaneously.\n",
      "\n",
      "* It is the operating system which opts for an ordering.  \n",
      "\n",
      "* If we wish to have an organized output, starting from the first process, we may rewrite our program as in the next example.\n",
      "\n",
      "\n",
      "\n",
      "\n",
      "### Ordered output with $MPI\\_Barrier$"
     ]
    },
    {
     "cell_type": "markdown",
     "metadata": {},
     "source": [
      "        int main (int nargs, char* args[])\n",
      "        {\n",
      "         int numprocs, my_rank, i;\n",
      "         MPI_Init (&nargs, &args);\n",
      "         MPI_Comm_size (MPI_COMM_WORLD, &numprocs);\n",
      "         MPI_Comm_rank (MPI_COMM_WORLD, &my_rank);\n",
      "         for (i = 0; i < numprocs; i++) {}\n",
      "         MPI_Barrier (MPI_COMM_WORLD);\n",
      "         if (i == my_rank) {\n",
      "         cout << \"Hello world, I have  rank \" << my_rank << \n",
      "                \" out of \" << numprocs << endl;}\n",
      "              MPI_Finalize ();\n"
     ]
    },
    {
     "cell_type": "markdown",
     "metadata": {},
     "source": [
      "### Note 2\n",
      "* Here we have used the $MPI\\_Barrier$ function to ensure that that every process has completed  its set of instructions in  a particular order.\n",
      "\n",
      "* A barrier is a special collective operation that does not allow the processes to continue until all processes in the communicator (here $MPI\\_COMM\\_WORLD$) have called $MPI\\_Barrier$. \n",
      "\n",
      "* The barriers make sure that all processes have reached the same point in the code. Many of the collective operations like $MPI\\_ALLREDUCE$ to be discussed later, have the same property; that is, no process can exit the operation until all processes have started. \n",
      "\n",
      "However, this is slightly more time-consuming since the processes synchronize between themselves as many times as there\n",
      "are processes.  In the next Hello world example we use the send and receive functions in order to a have a synchronized\n",
      "action.\n",
      "\n",
      "\n",
      "\n",
      "\n",
      "### Ordered output with $MPI\\_Recv$ and $MPI\\_Send$"
     ]
    },
    {
     "cell_type": "markdown",
     "metadata": {},
     "source": [
      "        .....\n",
      "        int numprocs, my_rank, flag;\n",
      "        MPI_Status status;\n",
      "        MPI_Init (&nargs, &args);\n",
      "        MPI_Comm_size (MPI_COMM_WORLD, &numprocs);\n",
      "        MPI_Comm_rank (MPI_COMM_WORLD, &my_rank);\n",
      "        if (my_rank > 0)\n",
      "        MPI_Recv (&flag, 1, MPI_INT, my_rank-1, 100, \n",
      "                   MPI_COMM_WORLD, &status);\n",
      "        cout << \"Hello world, I have  rank \" << my_rank << \" out of \" \n",
      "        << numprocs << endl;\n",
      "        if (my_rank < numprocs-1)\n",
      "        MPI_Send (&my_rank, 1, MPI_INT, my_rank+1, \n",
      "                  100, MPI_COMM_WORLD);\n",
      "        MPI_Finalize ();\n"
     ]
    },
    {
     "cell_type": "markdown",
     "metadata": {},
     "source": [
      "### Note 3\n",
      "\n",
      "\n",
      "The basic sending of messages is given by the function $MPI\\_SEND$, which in C/C++\n",
      "is defined as"
     ]
    },
    {
     "cell_type": "markdown",
     "metadata": {},
     "source": [
      "        int MPI_Send(void *buf, int count, \n",
      "                     MPI_Datatype datatype, \n",
      "                     int dest, int tag, MPI_Comm comm)}\n"
     ]
    },
    {
     "cell_type": "markdown",
     "metadata": {},
     "source": [
      "This single command allows the passing of any kind of variable, even a large array, to any group of tasks. \n",
      "The variable **buf** is the variable we wish to send while **count**\n",
      "is the  number of variables we are passing. If we are passing only a single value, this should be 1. \n",
      "\n",
      "If we transfer an array, it is  the overall size of the array. \n",
      "For example, if we want to send a 10 by 10 array, count would be $10\\times 10=100$ \n",
      "since we are  actually passing 100 values.\n",
      "\n",
      "\n",
      "\n",
      "\n",
      "### Note 4\n",
      "\n",
      "Once you have  sent a message, you must receive it on another task. The function $MPI\\_RECV$\n",
      "is similar to the send call."
     ]
    },
    {
     "cell_type": "markdown",
     "metadata": {},
     "source": [
      "        int MPI_Recv( void *buf, int count, MPI_Datatype datatype, \n",
      "                    int source, \n",
      "                    int tag, MPI_Comm comm, MPI_Status *status )\n"
     ]
    },
    {
     "cell_type": "markdown",
     "metadata": {},
     "source": [
      "The arguments that are different from those in MPI\\_SEND are\n",
      "**buf** which  is the name of the variable where you will  be storing the received data, \n",
      "**source** which  replaces the destination in the send command. This is the return ID of the sender.\n",
      "\n",
      "Finally,  we have used  $MPI\\_Status\\_status$,  \n",
      "where one can check if the receive was completed.\n",
      "\n",
      "The output of this code is the same as the previous example, but now\n",
      "process 0 sends a message to process 1, which forwards it further\n",
      "to process 2, and so forth.\n",
      "\n",
      "\n",
      "\n",
      "### Numerical integration in parallel\n",
      "**Integrating $\\pi$.**\n",
      "\n",
      "\n",
      "* The code example computes $\\pi$ using the trapezoidal rules.\n",
      "\n",
      "* The trapezoidal rule"
     ]
    },
    {
     "cell_type": "markdown",
     "metadata": {},
     "source": [
      "$$\n",
      "I=\\int_a^bf(x) dx\\approx h\\left(f(a)/2 + f(a+h) +f(a+2h)+\\dots +f(b-h)+ f(b)/2\\right).\n",
      "$$"
     ]
    },
    {
     "cell_type": "markdown",
     "metadata": {},
     "source": [
      "### Dissection of trapezoidal rule with $MPI\\_reduce$"
     ]
    },
    {
     "cell_type": "markdown",
     "metadata": {},
     "source": [
      "        //    Trapezoidal rule and numerical integration usign MPI\n",
      "        using namespace std;\n",
      "        #include <mpi.h>\n",
      "        #include <iostream>\n",
      "        \n",
      "        //     Here we define various functions called by the main program\n",
      "        \n",
      "        double int_function(double );\n",
      "        double trapezoidal_rule(double , double , int , double (*)(double));\n",
      "        \n",
      "        //   Main function begins here\n",
      "        int main (int nargs, char* args[])\n",
      "        {\n",
      "          int n, local_n, numprocs, my_rank; \n",
      "          double a, b, h, local_a, local_b, total_sum, local_sum;   \n",
      "          double  time_start, time_end, total_time;\n"
     ]
    },
    {
     "cell_type": "markdown",
     "metadata": {},
     "source": [
      "### Dissection of trapezoidal rule with $MPI\\_reduce$"
     ]
    },
    {
     "cell_type": "markdown",
     "metadata": {},
     "source": [
      "          //  MPI initializations\n",
      "          MPI_Init (&nargs, &args);\n",
      "          MPI_Comm_size (MPI_COMM_WORLD, &numprocs);\n",
      "          MPI_Comm_rank (MPI_COMM_WORLD, &my_rank);\n",
      "          time_start = MPI_Wtime();\n",
      "          //  Fixed values for a, b and n \n",
      "          a = 0.0 ; b = 1.0;  n = 1000;\n",
      "          h = (b-a)/n;    // h is the same for all processes \n",
      "          local_n = n/numprocs;  \n",
      "          // make sure n > numprocs, else integer division gives zero\n",
      "          // Length of each process' interval of\n",
      "          // integration = local_n*h.  \n",
      "          local_a = a + my_rank*local_n*h;\n",
      "          local_b = local_a + local_n*h;\n"
     ]
    },
    {
     "cell_type": "markdown",
     "metadata": {},
     "source": [
      "### Integrating with **MPI**"
     ]
    },
    {
     "cell_type": "markdown",
     "metadata": {},
     "source": [
      "          total_sum = 0.0;\n",
      "          local_sum = trapezoidal_rule(local_a, local_b, local_n, \n",
      "                                       &int_function); \n",
      "          MPI_Reduce(&local_sum, &total_sum, 1, MPI_DOUBLE, \n",
      "                      MPI_SUM, 0, MPI_COMM_WORLD);\n",
      "          time_end = MPI_Wtime();\n",
      "          total_time = time_end-time_start;\n",
      "          if ( my_rank == 0) {\n",
      "            cout << \"Trapezoidal rule = \" <<  total_sum << endl;\n",
      "            cout << \"Time = \" <<  total_time  \n",
      "                 << \" on number of processors: \"  << numprocs  << endl;\n",
      "          }\n",
      "          // End MPI\n",
      "          MPI_Finalize ();  \n",
      "          return 0;\n",
      "        }  // end of main program\n"
     ]
    },
    {
     "cell_type": "markdown",
     "metadata": {},
     "source": [
      "### How do I use $MPI\\_reduce$?\n",
      "\n",
      "Here we have used"
     ]
    },
    {
     "cell_type": "markdown",
     "metadata": {},
     "source": [
      "        MPI_reduce( void *senddata, void* resultdata, int count, \n",
      "             MPI_Datatype datatype, MPI_Op, int root, MPI_Comm comm)\n"
     ]
    },
    {
     "cell_type": "markdown",
     "metadata": {},
     "source": [
      "The two variables $senddata$ and $resultdata$ are obvious, besides the fact that one sends the address\n",
      "of the variable or the first element of an array.  If they are arrays they need to have the same size. \n",
      "The variable $count$ represents the total dimensionality, 1 in case of just one variable, \n",
      "while $MPI\\_Datatype$ \n",
      "defines the type of variable which is sent and received.  \n",
      "\n",
      "The new feature is $MPI\\_Op$. It defines the type\n",
      "of operation we want to do.\n",
      "\n",
      "\n",
      "\n",
      "### More on $MPI\\_Reduce$\n",
      "In our case, since we are summing\n",
      "the rectangle  contributions from every process we define  $MPI\\_Op = MPI\\_SUM$.\n",
      "If we have an array or matrix we can search for the largest og smallest element by sending either $MPI\\_MAX$ or \n",
      "$MPI\\_MIN$.  If we want the location as well (which array element) we simply transfer \n",
      "$MPI\\_MAXLOC$ or $MPI\\_MINOC$. If we want the product we write $MPI\\_PROD$. \n",
      "\n",
      "$MPI\\_Allreduce$ is defined as"
     ]
    },
    {
     "cell_type": "markdown",
     "metadata": {},
     "source": [
      "        MPI_Allreduce( void *senddata, void* resultdata, int count, \n",
      "                  MPI_Datatype datatype, MPI_Op, MPI_Comm comm)        \n"
     ]
    },
    {
     "cell_type": "markdown",
     "metadata": {},
     "source": [
      "### Dissection of trapezoidal rule with $MPI\\_reduce$\n",
      "\n",
      "We use $MPI\\_reduce$ to collect data from each process. Note also the use of the function \n",
      "$MPI\\_Wtime$."
     ]
    },
    {
     "cell_type": "markdown",
     "metadata": {},
     "source": [
      "        //  this function defines the function to integrate\n",
      "        double int_function(double x)\n",
      "        {\n",
      "          double value = 4./(1.+x*x);\n",
      "          return value;\n",
      "        } // end of function to evaluate\n",
      "        \n"
     ]
    },
    {
     "cell_type": "markdown",
     "metadata": {},
     "source": [
      "### Dissection of trapezoidal rule with $MPI\\_reduce$"
     ]
    },
    {
     "cell_type": "markdown",
     "metadata": {},
     "source": [
      "        //  this function defines the trapezoidal rule\n",
      "        double trapezoidal_rule(double a, double b, int n, \n",
      "                                 double (*func)(double))\n",
      "        {\n",
      "          double trapez_sum;\n",
      "          double fa, fb, x, step;\n",
      "          int    j;\n",
      "          step=(b-a)/((double) n);\n",
      "          fa=(*func)(a)/2. ;\n",
      "          fb=(*func)(b)/2. ;\n",
      "          trapez_sum=0.;\n",
      "          for (j=1; j <= n-1; j++){\n",
      "            x=j*step+a;\n",
      "            trapez_sum+=(*func)(x);\n",
      "          }\n",
      "          trapez_sum=(trapez_sum+fb+fa)*step;\n",
      "          return trapez_sum;\n",
      "        }  // end trapezoidal_rule \n"
     ]
    },
    {
     "cell_type": "markdown",
     "metadata": {},
     "source": [
      "### Optimization and profiling\n",
      "\n",
      "\n",
      "Till now we have not paid much attention to speed and possible optimization possibilities\n",
      "inherent in the various compilers. We have compiled and linked as"
     ]
    },
    {
     "cell_type": "markdown",
     "metadata": {},
     "source": [
      "        mpic++  -c  mycode.cpp\n",
      "        mpic++  -o  mycode.exe  mycode.o\n"
     ]
    },
    {
     "cell_type": "markdown",
     "metadata": {},
     "source": [
      "For Fortran replace with mpif90.\n",
      "This is what we call a flat compiler option and should be used when we develop the code.\n",
      "It produces normally a very large and slow code when translated to machine instructions.\n",
      "We use this option for debugging and for establishing the correct program output because\n",
      "every operation is done precisely as the user specified it.\n",
      "\n",
      "It is instructive to look up the compiler manual for further instructions"
     ]
    },
    {
     "cell_type": "markdown",
     "metadata": {},
     "source": [
      "        man mpic++  >  out_to_file\n"
     ]
    },
    {
     "cell_type": "markdown",
     "metadata": {},
     "source": [
      "### More on optimization\n",
      "We have additional compiler options for optimization. These may include procedure inlining where \n",
      "performance may be improved, moving constants inside loops outside the loop, \n",
      "identify potential parallelism, include automatic vectorization or replace a division with a reciprocal\n",
      "and a multiplication if this speeds up the code."
     ]
    },
    {
     "cell_type": "markdown",
     "metadata": {},
     "source": [
      "        mpic++  -O3 -c  mycode.cpp\n",
      "        mpic++  -O3 -o  mycode.exe  mycode.o\n"
     ]
    },
    {
     "cell_type": "markdown",
     "metadata": {},
     "source": [
      "This is the recommended option. **But you must check that you get the same results as previously**.\n",
      "\n",
      "\n",
      "### Optimization and profiling\n",
      "It is also useful to profile your program under the development stage.\n",
      "You would then compile with"
     ]
    },
    {
     "cell_type": "markdown",
     "metadata": {},
     "source": [
      "        mpic++  -pg -O3 -c  mycode.cpp\n",
      "        mpic++  -pg -O3 -o  mycode.exe  mycode.o\n"
     ]
    },
    {
     "cell_type": "markdown",
     "metadata": {},
     "source": [
      "After you have run the code you can obtain the profiling information via"
     ]
    },
    {
     "cell_type": "markdown",
     "metadata": {},
     "source": [
      "        gprof mycode.exe >  out_to_profile\n"
     ]
    },
    {
     "cell_type": "markdown",
     "metadata": {},
     "source": [
      "When you have profiled properly your code, you must take out this option as it \n",
      "increases your CPU expenditure.\n",
      "For memory tests use \"valgrind\":\"http:www.valgrind.org\". An excellent GUI is also Qt, with debugging facilities.\n",
      "\n",
      "\n",
      "### Optimization and profiling\n",
      "Other hints\n",
      "* avoid if tests or call to functions inside loops, if possible. \n",
      "\n",
      "* avoid multiplication with constants inside loops if possible\n",
      "\n",
      "Bad code"
     ]
    },
    {
     "cell_type": "markdown",
     "metadata": {},
     "source": [
      "        for i = 1:n\n",
      "            a(i) = b(i) +c*d\n",
      "            e = g(k)\n",
      "        end\n"
     ]
    },
    {
     "cell_type": "markdown",
     "metadata": {},
     "source": [
      "Better code"
     ]
    },
    {
     "cell_type": "markdown",
     "metadata": {},
     "source": [
      "        temp = c*d\n",
      "        for i = 1:n\n",
      "            a(i) = b(i) + temp\n",
      "        end\n",
      "        e = g(k)\n"
     ]
    },
    {
     "cell_type": "markdown",
     "metadata": {},
     "source": [
      "### What is OpenMP\n",
      "* OpenMP provides high-level thread programming\n",
      "\n",
      "* Multiple cooperating threads are allowed to run simultaneously\n",
      "\n",
      "* Threads are created and destroyed dynamically in a fork-join pattern\n",
      "\n",
      "   * An OpenMP program consists of a number of parallel regions\n",
      "\n",
      "   * Between two parallel regions there is only one master thread\n",
      "\n",
      "   * In the beginning of a parallel region, a team of new threads is spawned\n",
      "\n",
      "\n",
      "  * The newly spawned threads work simultaneously with the master thread\n",
      "\n",
      "  * At the end of a parallel region, the new threads are destroyed\n",
      "\n",
      "\n",
      "\n",
      "### Getting started, things to remember\n",
      " * Remember the header file"
     ]
    },
    {
     "cell_type": "markdown",
     "metadata": {},
     "source": [
      "        #include <omp.h>\n"
     ]
    },
    {
     "cell_type": "markdown",
     "metadata": {},
     "source": [
      "* Insert compiler directives in C++ syntax as"
     ]
    },
    {
     "cell_type": "markdown",
     "metadata": {},
     "source": [
      "        #pragma omp...\n"
     ]
    },
    {
     "cell_type": "markdown",
     "metadata": {},
     "source": [
      "* Compile with for example *c++ -fopenmp code.cpp*\n",
      "\n",
      "* Execute\n",
      "\n",
      "  * Remember to assign the environment variable **OMP NUM THREADS**\n",
      "\n",
      "  * It specifies the total number of threads inside a parallel region, if not otherwise overwritten\n",
      "\n",
      "\n",
      "\n",
      "### General code structure"
     ]
    },
    {
     "cell_type": "markdown",
     "metadata": {},
     "source": [
      "        #include <omp.h>\n",
      "        main ()\n",
      "        {\n",
      "        int var1, var2, var3;\n",
      "        /* serial code */\n",
      "        /* ... */\n",
      "        /* start of a parallel region */\n",
      "        #pragma omp parallel private(var1, var2) shared(var3)\n",
      "        {\n",
      "        /* ... */\n",
      "        }\n",
      "        /* more serial code */\n",
      "        /* ... */\n",
      "        /* another parallel region */\n",
      "        #pragma omp parallel\n",
      "        {\n",
      "        /* ... */\n",
      "        }\n",
      "        }\n"
     ]
    },
    {
     "cell_type": "markdown",
     "metadata": {},
     "source": [
      "### Parallel region\n",
      "* A parallel region is a block of code that is executed by a team of threads\n",
      "\n",
      "* The following compiler directive creates a parallel region"
     ]
    },
    {
     "cell_type": "markdown",
     "metadata": {},
     "source": [
      "        #pragma omp parallel { ... }\n"
     ]
    },
    {
     "cell_type": "markdown",
     "metadata": {},
     "source": [
      "* Clauses can be added at the end of the directive\n",
      "\n",
      "* Most often used clauses:\n",
      "\n",
      " * **default(shared)** or **default(none)**\n",
      "\n",
      " * **public(list of variables)**\n",
      "\n",
      " * **private(list of variables)**\n",
      "\n",
      "\n",
      "\n",
      "### Hello world, not again, please!"
     ]
    },
    {
     "cell_type": "markdown",
     "metadata": {},
     "source": [
      "        #include <omp.h>\n",
      "        #include <stdio.h>\n",
      "        int main (int argc, char *argv[])\n",
      "        {\n",
      "        int th_id, nthreads;\n",
      "        #pragma omp parallel private(th_id) shared(nthreads)\n",
      "        {\n",
      "        th_id = omp_get_thread_num();\n",
      "        printf(\"Hello World from thread %d\\n\", th_id);\n",
      "        #pragma omp barrier\n",
      "        if ( th_id == 0 ) {\n",
      "        nthreads = omp_get_num_threads();\n",
      "        printf(\"There are %d threads\\n\",nthreads);\n",
      "        }\n",
      "        }\n",
      "        return 0;\n",
      "        }\n"
     ]
    },
    {
     "cell_type": "markdown",
     "metadata": {},
     "source": [
      "### Important OpenMP library routines\n",
      "\n",
      "* **int omp get num threads ()**, returns the number of threads inside a parallel region\n",
      "\n",
      "* **int omp get thread num ()**,  returns the  a thread for each thread inside a parallel region\n",
      "\n",
      "* **void omp set num threads (int)**, sets the number of threads to be used\n",
      "\n",
      "* **void omp set nested (int)**,  turns nested parallelism on/off\n",
      "\n",
      "\n",
      "\n",
      "### Parallel for loop\n",
      " * Inside a parallel region, the following compiler directive can be used to parallelize a for-loop:"
     ]
    },
    {
     "cell_type": "markdown",
     "metadata": {},
     "source": [
      "        #pragma omp for\n"
     ]
    },
    {
     "cell_type": "markdown",
     "metadata": {},
     "source": [
      "* Clauses can be added, such as\n",
      "\n",
      "  * **schedule(static, chunk size)**\n",
      "\n",
      "  * **schedule(dynamic, chunk size)** \n",
      "\n",
      "  * **schedule(guided, chunk size)** (non-deterministic allocation)\n",
      "\n",
      "  * **schedule(runtime)**\n",
      "\n",
      "  * **private(list of variables)**\n",
      "\n",
      "  * **reduction(operator:variable)**\n",
      "\n",
      "  * **nowait**\n",
      "\n",
      "\n",
      "\n",
      "### Example code"
     ]
    },
    {
     "cell_type": "markdown",
     "metadata": {},
     "source": [
      "        #include <omp.h>\n",
      "        #define CHUNKSIZE 100\n",
      "        #define N\n",
      "        1000\n",
      "        main ()\n",
      "        {\n",
      "        int i, chunk;\n",
      "        float a[N], b[N], c[N];\n",
      "        for (i=0; i < N; i++)\n",
      "        a[i] = b[i] = i * 1.0;\n",
      "        chunk = CHUNKSIZE;\n",
      "        #pragma omp parallel shared(a,b,c,chunk) private(i)\n",
      "        {\n",
      "        #pragma omp for schedule(dynamic,chunk)\n",
      "        for (i=0; i < N; i++)\n",
      "        c[i] = a[i] + b[i];\n",
      "        } /* end of parallel region */\n",
      "        }\n"
     ]
    },
    {
     "cell_type": "markdown",
     "metadata": {},
     "source": [
      "### More on Parallel for loop\n",
      "* The number of loop iterations can not be non-deterministic; break, return, exit, goto not allowed inside the for-loop\n",
      "\n",
      "* The loop index is private to each thread\n",
      "\n",
      "* A reduction variable is special\n",
      "\n",
      "  * During the for-loop there is a local private copy in each thread\n",
      "\n",
      "  * At the end of the for-loop, all the local copies are combined together by the reduction operation\n",
      "\n",
      "\n",
      "* Unless the nowait clause is used, an implicit barrier synchronization will be added at the end by the compiler"
     ]
    },
    {
     "cell_type": "markdown",
     "metadata": {},
     "source": [
      "        // #pragma omp parallel and #pragma omp for\n"
     ]
    },
    {
     "cell_type": "markdown",
     "metadata": {},
     "source": [
      "can be combined into"
     ]
    },
    {
     "cell_type": "markdown",
     "metadata": {},
     "source": [
      "        #pragma omp parallel for\n"
     ]
    },
    {
     "cell_type": "markdown",
     "metadata": {},
     "source": [
      "### Inner product"
     ]
    },
    {
     "cell_type": "markdown",
     "metadata": {},
     "source": [
      "1\n",
      " \n",
      "<\n",
      "<\n",
      "<\n",
      "!\n",
      "!\n",
      "M\n",
      "A\n",
      "T\n",
      "H\n",
      "_\n",
      "B\n",
      "L\n",
      "O\n",
      "C\n",
      "K"
     ]
    },
    {
     "cell_type": "markdown",
     "metadata": {},
     "source": [
      "        int i;\n",
      "        double sum = 0.;\n",
      "        /* allocating and initializing arrays */\n",
      "        /* ... */\n",
      "        #pragma omp parallel for default(shared) private(i) \n",
      "        reduction(+:sum)\n",
      "        for (i=0; i<N; i++)\n",
      "        sum += a[i]*b[i];\n",
      "        }\n"
     ]
    },
    {
     "cell_type": "markdown",
     "metadata": {},
     "source": [
      "### Different threads do different tasks\n",
      "\n",
      "Different threads do different tasks independently, each section is executed by one thread."
     ]
    },
    {
     "cell_type": "markdown",
     "metadata": {},
     "source": [
      "        #pragma omp parallel\n",
      "        {\n",
      "        #pragma omp sections\n",
      "        {\n",
      "        #pragma omp section\n",
      "        funcA ();\n",
      "        #pragma omp section\n",
      "        funcB ();\n",
      "        #pragma omp section\n",
      "        funcC ();\n",
      "        }\n",
      "        }\n"
     ]
    },
    {
     "cell_type": "markdown",
     "metadata": {},
     "source": [
      "### Single execution"
     ]
    },
    {
     "cell_type": "markdown",
     "metadata": {},
     "source": [
      "        #pragma omp single { ... }\n"
     ]
    },
    {
     "cell_type": "markdown",
     "metadata": {},
     "source": [
      "The code is executed by one thread only, no guarantee which thread\n",
      "\n",
      "Can introduce an implicit barrier at the end"
     ]
    },
    {
     "cell_type": "markdown",
     "metadata": {},
     "source": [
      "        #pragma omp master { ... }\n"
     ]
    },
    {
     "cell_type": "markdown",
     "metadata": {},
     "source": [
      "Code executed by the master thread, guaranteed and no implicit barrier at the end.\n",
      "\n",
      "\n",
      "\n",
      "\n",
      "### Coordination and synchronization"
     ]
    },
    {
     "cell_type": "markdown",
     "metadata": {},
     "source": [
      "        #pragma omp barrier\n"
     ]
    },
    {
     "cell_type": "markdown",
     "metadata": {},
     "source": [
      "Synchronization, must be encountered by all threads in a team (or none)"
     ]
    },
    {
     "cell_type": "markdown",
     "metadata": {},
     "source": [
      "        #pragma omp ordered { a block of codes }\n"
     ]
    },
    {
     "cell_type": "markdown",
     "metadata": {},
     "source": [
      "is another form of synchronization (in sequential order).\n",
      "The form"
     ]
    },
    {
     "cell_type": "markdown",
     "metadata": {},
     "source": [
      "        #pragma omp critical { a block of codes }\n"
     ]
    },
    {
     "cell_type": "markdown",
     "metadata": {},
     "source": [
      "and"
     ]
    },
    {
     "cell_type": "markdown",
     "metadata": {},
     "source": [
      "        #pragma omp atomic { single assignment statement }\n"
     ]
    },
    {
     "cell_type": "markdown",
     "metadata": {},
     "source": [
      "is  more efficient than"
     ]
    },
    {
     "cell_type": "markdown",
     "metadata": {},
     "source": [
      "        #pragma omp critical\n"
     ]
    },
    {
     "cell_type": "markdown",
     "metadata": {},
     "source": [
      "### Data scope\n",
      "* OpenMP data scope attribute clauses:\n",
      "\n",
      " * **shared**\n",
      "\n",
      " * **private**\n",
      "\n",
      " * **firstprivate**\n",
      "\n",
      " * **lastprivate**\n",
      "\n",
      " * **reduction**\n",
      "\n",
      "\n",
      "What are the purposes of these attributes\n",
      "* define how and which variables are transferred to a parallel region (and back)\n",
      "\n",
      "* define which variables are visible to all threads in a parallel region, and which variables are privately allocated to each thread\n",
      "\n",
      "\n",
      "\n",
      "\n",
      "### Some remarks\n",
      "\n",
      "* When entering a parallel region, the **private** clause ensures each thread having its own new variable instances. The new variables are assumed to be uninitialized.\n",
      "\n",
      "* A shared variable exists in only one memory location and all threads can read and write to that address. It is the programmer's responsibility to ensure that multiple threads properly access a shared variable.\n",
      "\n",
      "* The **firstprivate** clause combines the behavior of the private clause with automatic initialization.\n",
      "\n",
      "* The **lastprivate** clause combines the behavior of the private clause with a copy back (from the last loop iteration or section) to the original variable outside the parallel region.\n",
      "\n",
      "\n",
      "\n",
      "\n",
      "### Parallelizing nested for-loops\n",
      "\n",
      " * Serial code"
     ]
    },
    {
     "cell_type": "markdown",
     "metadata": {},
     "source": [
      "        for (i=0; i<100; i++)\n",
      "        for (j=0; j<100; j++)\n",
      "        a[i][j] = b[i][j] + c[i][j]\n"
     ]
    },
    {
     "cell_type": "markdown",
     "metadata": {},
     "source": [
      "* Parallelization"
     ]
    },
    {
     "cell_type": "markdown",
     "metadata": {},
     "source": [
      "        #pragma omp parallel for private(j)\n",
      "        for (i=0; i<100; i++)\n",
      "        for (j=0; j<100; j++)\n",
      "        a[i][j] = b[i][j] + c[i][j]\n"
     ]
    },
    {
     "cell_type": "markdown",
     "metadata": {},
     "source": [
      "* Why not parallelize the inner loop? to save overhead of repeated thread forks-joins\n",
      "\n",
      "* Why must **j** be private? To avoid race condition among the threads\n",
      "\n",
      "\n",
      "\n",
      "\n",
      "### Nested parallelism\n",
      "When a thread in a parallel region encounters another parallel construct, it\n",
      "may create a new team of threads and become the master of the new\n",
      "team."
     ]
    },
    {
     "cell_type": "markdown",
     "metadata": {},
     "source": [
      "        #pragma omp parallel num_threads(4)\n",
      "        {\n",
      "        /* .... */\n",
      "        #pragma omp parallel num_threads(2)\n",
      "        {\n",
      "        //  \n",
      "        }\n",
      "        }\n"
     ]
    },
    {
     "cell_type": "markdown",
     "metadata": {},
     "source": [
      "### Parallel tasks"
     ]
    },
    {
     "cell_type": "markdown",
     "metadata": {},
     "source": [
      "        #pragma omp task \n",
      "        #pragma omp parallel shared(p_vec) private(i)\n",
      "        {\n",
      "        #pragma omp single\n",
      "        {\n",
      "        for (i=0; i<N; i++) {\n",
      "        double r = random_number();\n",
      "        if (p_vec[i] > r) {\n",
      "        #pragma omp task\n",
      "        do_work (p_vec[i]);\n"
     ]
    },
    {
     "cell_type": "markdown",
     "metadata": {},
     "source": [
      "### Common mistakes\n",
      "Race condition"
     ]
    },
    {
     "cell_type": "markdown",
     "metadata": {},
     "source": [
      "        int nthreads;\n",
      "        #pragma omp parallel shared(nthreads)\n",
      "        {\n",
      "        nthreads = omp_get_num_threads();\n",
      "        }\n"
     ]
    },
    {
     "cell_type": "markdown",
     "metadata": {},
     "source": [
      "Deadlock"
     ]
    },
    {
     "cell_type": "markdown",
     "metadata": {},
     "source": [
      "        #pragma omp parallel\n",
      "        {\n",
      "        ...\n",
      "        #pragma omp critical\n",
      "        {\n",
      "        ...\n",
      "        #pragma omp barrier\n",
      "        }\n",
      "        }\n"
     ]
    },
    {
     "cell_type": "markdown",
     "metadata": {},
     "source": [
      "### Matrix-matrix multiplication"
     ]
    },
    {
     "cell_type": "markdown",
     "metadata": {},
     "source": [
      "        # include <cstdlib>\n",
      "        # include <iostream>\n",
      "        # include <cmath>\n",
      "        # include <ctime>\n",
      "        # include <omp.h>\n",
      "        \n",
      "        using namespace std;\n",
      "        \n",
      "        // Main function\n",
      "        int main ( )\n",
      "        {\n",
      "        // brute force coding of arrays\n",
      "          double a[500][500];\n",
      "          double angle;\n",
      "          double b[500][500];\n",
      "          double c[500][500];\n",
      "          int i;\n",
      "          int j;\n",
      "          int k;\n"
     ]
    },
    {
     "cell_type": "markdown",
     "metadata": {},
     "source": [
      "### Matrix-matrix multiplication"
     ]
    },
    {
     "cell_type": "markdown",
     "metadata": {},
     "source": [
      "          int n = 500;\n",
      "          double pi = acos(-1.0);\n",
      "          double s;\n",
      "          int thread_num;\n",
      "          double wtime;\n",
      "        \n",
      "          cout << \"\\n\";\n",
      "          cout << \"  C++/OpenMP version\\n\";\n",
      "          cout << \"  Compute matrix product C = A * B.\\n\";\n",
      "        \n",
      "          thread_num = omp_get_max_threads ( );\n",
      "        \n",
      "        //\n",
      "        //  Loop 1: Evaluate A.\n",
      "        //\n",
      "          s = 1.0 / sqrt ( ( double ) ( n ) );\n",
      "        \n",
      "          wtime = omp_get_wtime ( );\n"
     ]
    },
    {
     "cell_type": "markdown",
     "metadata": {},
     "source": [
      "### Matrix-matrix multiplication"
     ]
    },
    {
     "cell_type": "markdown",
     "metadata": {},
     "source": [
      "        # pragma omp parallel shared ( a, b, c, n, pi, s ) \n",
      "        private ( angle, i, j, k )\n",
      "        {\n",
      "          # pragma omp for\n",
      "          for ( i = 0; i < n; i++ )\n",
      "          {\n",
      "            for ( j = 0; j < n; j++ )\n",
      "            {\n",
      "              angle = 2.0 * pi * i * j / ( double ) n;\n",
      "              a[i][j] = s * ( sin ( angle ) + cos ( angle ) );\n",
      "            }\n",
      "          }\n",
      "        //\n",
      "        //  Loop 2: Copy A into B.\n",
      "        //\n",
      "          # pragma omp for\n",
      "          for ( i = 0; i < n; i++ )\n",
      "          {\n",
      "            for ( j = 0; j < n; j++ )\n",
      "            {\n",
      "              b[i][j] = a[i][j];\n",
      "            }\n",
      "          }\n"
     ]
    },
    {
     "cell_type": "markdown",
     "metadata": {},
     "source": [
      "### Matrix-matrix multiplication"
     ]
    },
    {
     "cell_type": "markdown",
     "metadata": {},
     "source": [
      "        //  Loop 3: Compute C = A * B.\n",
      "        //\n",
      "          # pragma omp for\n",
      "          for ( i = 0; i < n; i++ )\n",
      "          {\n",
      "            for ( j = 0; j < n; j++ )\n",
      "            {\n",
      "              c[i][j] = 0.0;\n",
      "              for ( k = 0; k < n; k++ )\n",
      "              {\n",
      "                c[i][j] = c[i][j] + a[i][k] * b[k][j];\n",
      "              }\n",
      "            }\n",
      "          }\n",
      "        }\n",
      "          wtime = omp_get_wtime ( ) - wtime;\n",
      "          cout << \"  Elapsed seconds = \" << wtime << \"\\n\";\n",
      "          cout << \"  C(100,100)  = \" << c[99][99] << \"\\n\";\n",
      "        //\n",
      "        //  Terminate.\n",
      "        //\n",
      "          cout << \"\\n\";\n",
      "          cout << \"  Normal end of execution.\\n\";\n",
      "          return 0;\n"
     ]
    }
   ],
   "metadata": {}
  }
 ]
}
