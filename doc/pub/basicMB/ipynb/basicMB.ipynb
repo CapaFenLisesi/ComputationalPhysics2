{
 "cells": [
  {
   "cell_type": "markdown",
   "metadata": {},
   "source": [
    "<!-- Slides for FYS4411 -->\n",
    "<!-- dom:TITLE: Computational Physics 2:  Definitions of the many-body problem -->\n",
    "# Computational Physics 2:  Definitions of the many-body problem\n",
    "<!-- dom:AUTHOR: Morten Hjorth-Jensen  Email morten.hjorth-jensen@fys.uio.no at Department of Physics, University of Oslo & Department of Physics and Astronomy and National Superconducting Cyclotron Laboratory, Michigan State University -->\n",
    "<!-- Author: --> **Morten Hjorth-Jensen  Email morten.hjorth-jensen@fys.uio.no**, Department of Physics, University of Oslo and Department of Physics and Astronomy and National Superconducting Cyclotron Laboratory, Michigan State University\n",
    "\n",
    "Date: **Spring 2016**\n",
    "\n",
    "## Quantum Many-particle Methods\n",
    "* Large-scale diagonalization (Iterative methods, Lanczo's method, dimensionalities $10^{10}$ states), discussed in [FYS-KJM4480](http://www.uio.no/studier/emner/matnat/fys/FYS-KJM4480/)\n",
    "\n",
    "* Coupled cluster theory, favoured method in quantum chemistry, molecular and atomic physics. Applications to ab initio calculations in nuclear physics as well for large nuclei, discussed in [FYS-KJM4480](http://www.uio.no/studier/emner/matnat/fys/FYS-KJM4480/)\n",
    "\n",
    "* Perturbative many-body methods, discussed in [FYS-KJM4480](http://www.uio.no/studier/emner/matnat/fys/FYS-KJM4480/)\n",
    "\n",
    "* Density functional theories/Mean-field theory and Hartree-Fock theory,also  discussed in [FYS-KJM4480](http://www.uio.no/studier/emner/matnat/fys/FYS-KJM4480/)\n",
    "\n",
    "* Monte-Carlo methods (Only in FYS4411, Computational quantum mechanics)\n",
    "\n",
    "* Green's function theories (depending on interest)\n",
    "\n",
    "* and other. The physics of the system hints at which many-body methods to use.\n",
    "\n",
    "\n",
    "\n",
    "## Selected Texts and Many-body theory\n",
    "* Blaizot and Ripka, *Quantum Theory of Finite systems*, MIT press 1986\n",
    "\n",
    "* Negele and Orland, *Quantum Many-Particle Systems*, Addison-Wesley, 1987.\n",
    "\n",
    "* Fetter and Walecka, *Quantum Theory of Many-Particle Systems*, McGraw-Hill, 1971.\n",
    "\n",
    "* Helgaker, Jorgensen and Olsen, *Molecular Electronic Structure Theory*, Wiley, 2001.\n",
    "\n",
    "* Mattuck, *Guide to Feynman Diagrams in the Many-Body Problem*, Dover, 1971.\n",
    "\n",
    "* Dickhoff and Van Neck, *Many-Body Theory Exposed*, World Scientific, 2006.\n",
    "\n",
    "\n",
    "\n",
    "\n",
    "<!-- !split  -->\n",
    "## Definitions\n",
    "An operator is defined as $\\hat{O}$ throughout. Unless otherwise specified the number of particles is\n",
    "always $N$ and $d$ is the dimension of the system.  In nuclear physics\n",
    "we normally define the total number of particles to be $A=N+Z$, where\n",
    "$N$ is total number of neutrons and $Z$ the total number of\n",
    "protons. In case of other baryons such isobars $\\Delta$ or various\n",
    "hyperons such as $\\Lambda$ or $\\Sigma$, one needs to add their\n",
    "definitions.  Hereafter, $N$ is reserved for the total number of\n",
    "particles, unless otherwise specificied.\n",
    "\n",
    "\n",
    "\n",
    "## Definitions\n",
    "The quantum numbers of a single-particle state in coordinate space are\n",
    "defined by the variable"
   ]
  },
  {
   "cell_type": "markdown",
   "metadata": {},
   "source": [
    "$$\n",
    "x=({\\bf r},\\sigma),\n",
    "$$"
   ]
  },
  {
   "cell_type": "markdown",
   "metadata": {},
   "source": [
    "where"
   ]
  },
  {
   "cell_type": "markdown",
   "metadata": {},
   "source": [
    "$$\n",
    "{\\bf r}\\in {\\mathbb{R}}^{d},\n",
    "$$"
   ]
  },
  {
   "cell_type": "markdown",
   "metadata": {},
   "source": [
    "with $d=1,2,3$ represents the spatial coordinates and $\\sigma$ is the eigenspin of the particle. For fermions with eigenspin $1/2$ this means that"
   ]
  },
  {
   "cell_type": "markdown",
   "metadata": {},
   "source": [
    "$$\n",
    "x\\in {\\mathbb{R}}^{d}\\oplus (\\frac{1}{2}),\n",
    "$$"
   ]
  },
  {
   "cell_type": "markdown",
   "metadata": {},
   "source": [
    "and the integral $\\int dx = \\sum_{\\sigma}\\int d^dr = \\sum_{\\sigma}\\int d{\\bf r}$,\n",
    "and"
   ]
  },
  {
   "cell_type": "markdown",
   "metadata": {},
   "source": [
    "$$\n",
    "\\int d^Nx= \\int dx_1\\int dx_2\\dots\\int dx_N.\n",
    "$$"
   ]
  },
  {
   "cell_type": "markdown",
   "metadata": {},
   "source": [
    "## Definitions\n",
    "The quantum mechanical wave function of a given state with quantum numbers $\\lambda$ (encompassing all quantum numbers needed to specify the system), ignoring time, is"
   ]
  },
  {
   "cell_type": "markdown",
   "metadata": {},
   "source": [
    "$$\n",
    "\\Psi_{\\lambda}=\\Psi_{\\lambda}(x_1,x_2,\\dots,x_N),\n",
    "$$"
   ]
  },
  {
   "cell_type": "markdown",
   "metadata": {},
   "source": [
    "with $x_i=({\\bf r}_i,\\sigma_i)$ and the projection of $\\sigma_i$ takes the values\n",
    "$\\{-1/2,+1/2\\}$ for particles with spin $1/2$. \n",
    "We will hereafter always refer to $\\Psi_{\\lambda}$ as the exact wave function, and if the ground state is not degenerate we label it as"
   ]
  },
  {
   "cell_type": "markdown",
   "metadata": {},
   "source": [
    "$$\n",
    "\\Psi_0=\\Psi_0(x_1,x_2,\\dots,x_N).\n",
    "$$"
   ]
  },
  {
   "cell_type": "markdown",
   "metadata": {},
   "source": [
    "## Definitions\n",
    "Since the solution $\\Psi_{\\lambda}$ seldomly can be found in closed form, approximations are sought. Here we define an approximative wave function or an ansatz to the exact wave function as"
   ]
  },
  {
   "cell_type": "markdown",
   "metadata": {},
   "source": [
    "$$\n",
    "\\Phi_{\\lambda}=\\Phi_{\\lambda}(x_1,x_2,\\dots,x_N),\n",
    "$$"
   ]
  },
  {
   "cell_type": "markdown",
   "metadata": {},
   "source": [
    "with"
   ]
  },
  {
   "cell_type": "markdown",
   "metadata": {},
   "source": [
    "$$\n",
    "\\Phi_0=\\Phi_0(x_1,x_2,\\dots,x_N),\n",
    "$$"
   ]
  },
  {
   "cell_type": "markdown",
   "metadata": {},
   "source": [
    "being the ansatz to the ground state.\n",
    "\n",
    "\n",
    "\n",
    "\n",
    "## Definitions\n",
    "The wave function $\\Psi_{\\lambda}$ is sought in the Hilbert space of either symmetric or anti-symmetric $N$-body functions, namely"
   ]
  },
  {
   "cell_type": "markdown",
   "metadata": {},
   "source": [
    "$$\n",
    "\\Psi_{\\lambda}\\in {\\cal H}_N:= {\\cal H}_1\\oplus{\\cal H}_1\\oplus\\dots\\oplus{\\cal H}_1,\n",
    "$$"
   ]
  },
  {
   "cell_type": "markdown",
   "metadata": {},
   "source": [
    "where the single-particle Hilbert space $\\hat{H}_1$ is the space of square integrable functions over\n",
    "$\\in {\\mathbb{R}}^{d}\\oplus (\\sigma)$\n",
    "resulting in"
   ]
  },
  {
   "cell_type": "markdown",
   "metadata": {},
   "source": [
    "$$\n",
    "{\\cal H}_1:= L^2(\\mathbb{R}^{d}\\oplus (\\sigma)).\n",
    "$$"
   ]
  },
  {
   "cell_type": "markdown",
   "metadata": {},
   "source": [
    "## Definitions\n",
    "Our Hamiltonian is invariant under the permutation (interchange) of two particles.\n",
    "Since we deal with fermions however, the total wave function is antisymmetric.\n",
    "Let $\\hat{P}$ be an operator which interchanges two particles.\n",
    "Due to the symmetries we have ascribed to our Hamiltonian, this operator commutes with the total Hamiltonian,"
   ]
  },
  {
   "cell_type": "markdown",
   "metadata": {},
   "source": [
    "$$\n",
    "[\\hat{H},\\hat{P}] = 0,\n",
    "$$"
   ]
  },
  {
   "cell_type": "markdown",
   "metadata": {},
   "source": [
    "meaning that $\\Psi_{\\lambda}(x_1, x_2, \\dots , x_N)$ is an eigenfunction of \n",
    "$\\hat{P}$ as well, that is"
   ]
  },
  {
   "cell_type": "markdown",
   "metadata": {},
   "source": [
    "$$\n",
    "\\hat{P}_{ij}\\Psi_{\\lambda}(x_1, x_2, \\dots,x_i,\\dots,x_j,\\dots,x_N)=\n",
    "\\beta\\Psi_{\\lambda}(x_1, x_2, \\dots,x_j,\\dots,x_i,\\dots,x_N),\n",
    "$$"
   ]
  },
  {
   "cell_type": "markdown",
   "metadata": {},
   "source": [
    "where $\\beta$ is the eigenvalue of $\\hat{P}$. We have introduced the suffix $ij$ in order to indicate that we permute particles $i$ and $j$.\n",
    "The Pauli principle tells us that the total wave function for a system of fermions\n",
    "has to be antisymmetric, resulting in the eigenvalue $\\beta = -1$.\n",
    "\n",
    "\n",
    "\n",
    "\n",
    "## Definitions and notations\n",
    "The Schrodinger equation reads"
   ]
  },
  {
   "cell_type": "markdown",
   "metadata": {},
   "source": [
    "<!-- Equation labels as ordinary links -->\n",
    "<div id=\"eq:basicSE1\"></div>\n",
    "\n",
    "$$\n",
    "\\begin{equation}\n",
    "\\hat{H}(x_1, x_2, \\dots , x_N) \\Psi_{\\lambda}(x_1, x_2, \\dots , x_N) = \n",
    "E_\\lambda  \\Psi_\\lambda(x_1, x_2, \\dots , x_N), \\label{eq:basicSE1} \\tag{1}\n",
    "\\end{equation}\n",
    "$$"
   ]
  },
  {
   "cell_type": "markdown",
   "metadata": {},
   "source": [
    "where the vector $x_i$ represents the coordinates (spatial and spin) of particle $i$, $\\lambda$ stands  for all the quantum\n",
    "numbers needed to classify a given $N$-particle state and $\\Psi_{\\lambda}$ is the pertaining eigenfunction.  Throughout this course,\n",
    "$\\Psi$ refers to the exact eigenfunction, unless otherwise stated.\n",
    "\n",
    "\n",
    "\n",
    "## Definitions and notations\n",
    "We write the Hamilton operator, or Hamiltonian,  in a generic way"
   ]
  },
  {
   "cell_type": "markdown",
   "metadata": {},
   "source": [
    "$$\n",
    "\\hat{H} = \\hat{T} + \\hat{V}\n",
    "$$"
   ]
  },
  {
   "cell_type": "markdown",
   "metadata": {},
   "source": [
    "where $\\hat{T}$  represents the kinetic energy of the system"
   ]
  },
  {
   "cell_type": "markdown",
   "metadata": {},
   "source": [
    "$$\n",
    "\\hat{T} = \\sum_{i=1}^N \\frac{\\mathbf{p}_i^2}{2m_i} = \\sum_{i=1}^N \\left( -\\frac{\\hbar^2}{2m_i} \\mathbf{\\nabla_i}^2 \\right) =\n",
    "\t\t\\sum_{i=1}^N t(x_i)\n",
    "$$"
   ]
  },
  {
   "cell_type": "markdown",
   "metadata": {},
   "source": [
    "while the operator $\\hat{V}$ for the potential energy is given by"
   ]
  },
  {
   "cell_type": "markdown",
   "metadata": {},
   "source": [
    "<!-- Equation labels as ordinary links -->\n",
    "<div id=\"eq:firstv\"></div>\n",
    "\n",
    "$$\n",
    "\\begin{equation}\n",
    "\t\\hat{V} = \\sum_{i=1}^N \\hat{u}_{\\mathrm{ext}}(x_i) + \\sum_{j < i=1}^N v(x_i,x_j)+\\sum_{i< j < k=1}^Nv(x_i,x_j,x_k)+\\dots\n",
    "\\label{eq:firstv} \\tag{2}\n",
    "\\end{equation}\n",
    "$$"
   ]
  },
  {
   "cell_type": "markdown",
   "metadata": {},
   "source": [
    "Hereafter we use natural units, viz. $\\hbar=c=e=1$, with $e$ the elementary charge and $c$ the speed of light. This means that momenta and masses\n",
    "have dimension energy.\n",
    "\n",
    "\n",
    "\n",
    "\n",
    "## Definitions and notations\n",
    "If one does quantum chemistry, after having introduced the  Born-Oppenheimer approximation which effectively freezes out the nucleonic degrees of freedom, the Hamiltonian for $N=n_e$ electrons takes the following form"
   ]
  },
  {
   "cell_type": "markdown",
   "metadata": {},
   "source": [
    "$$\n",
    "\\hat{H} = \\sum_{i=1}^{n_e} t(x_i) - \\sum_{i=1}^{n_e} k\\frac{Z}{r_i} + \\sum_{i < j}^{n_e} \\frac{k}{r_{ij}},\n",
    "$$"
   ]
  },
  {
   "cell_type": "markdown",
   "metadata": {},
   "source": [
    "with $k=1.44$ eVnm\n",
    "\n",
    "\n",
    "\n",
    "\n",
    "## Definitions and notations\n",
    "We can rewrite this as"
   ]
  },
  {
   "cell_type": "markdown",
   "metadata": {},
   "source": [
    "<!-- Equation labels as ordinary links -->\n",
    "<div id=\"H1H2\"></div>\n",
    "\n",
    "$$\n",
    "\\begin{equation}\n",
    "    \\hat{H} = \\hat{H}_0 + \\hat{H}_I \n",
    "    = \\sum_{i=1}^{n_e}\\hat{h}_0(x_i) + \\sum_{i < j}^{n_e}\\frac{1}{r_{ij}},\n",
    "\\label{H1H2} \\tag{3}\n",
    "\\end{equation}\n",
    "$$"
   ]
  },
  {
   "cell_type": "markdown",
   "metadata": {},
   "source": [
    "where  we have defined"
   ]
  },
  {
   "cell_type": "markdown",
   "metadata": {},
   "source": [
    "$$\n",
    "r_{ij}=| {\\bf r}_i-{\\bf r}_j|,\n",
    "$$"
   ]
  },
  {
   "cell_type": "markdown",
   "metadata": {},
   "source": [
    "and"
   ]
  },
  {
   "cell_type": "markdown",
   "metadata": {},
   "source": [
    "<!-- Equation labels as ordinary links -->\n",
    "<div id=\"hi\"></div>\n",
    "\n",
    "$$\n",
    "\\begin{equation}\n",
    "  \\hat{h}_0(x_i) =  \\hat{t}(x_i) - \\frac{Z}{x_i}.\n",
    "\\label{hi} \\tag{4}\n",
    "\\end{equation}\n",
    "$$"
   ]
  },
  {
   "cell_type": "markdown",
   "metadata": {},
   "source": [
    "The first term of Eq. [(3)](#H1H2), $H_0$, is the sum of the $N$\n",
    "*one-body* Hamiltonians $\\hat{h}_0$. Each individual\n",
    "Hamiltonian $\\hat{h}_0$ contains the kinetic energy operator of an\n",
    "electron and its potential energy due to the attraction of the\n",
    "nucleus. The second term, $H_I$, is the sum of the $n_e(n_e-1)/2$\n",
    "two-body interactions between each pair of electrons. Note that the double sum carries a restriction $i < j$.\n",
    "\n",
    "\n",
    "\n",
    "\n",
    "## Definitions and notations\n",
    "The potential energy term due to the attraction of the nucleus defines the onebody field $u_i=u_{\\mathrm{ext}}(x_i)$ of Eq. [(2)](#eq:firstv).\n",
    "We have moved this term into the $\\hat{H}_0$ part of the Hamiltonian, instead of keeping  it in $\\hat{V}$ as in  Eq. [(2)](#eq:firstv).\n",
    "The reason is that we will hereafter treat $\\hat{H}_0$ as our non-interacting  Hamiltonian. For a many-body wavefunction $\\Phi_{\\lambda}$ defined by an  \n",
    "appropriate single-particle basis, we may solve exactly the non-interacting eigenvalue problem"
   ]
  },
  {
   "cell_type": "markdown",
   "metadata": {},
   "source": [
    "$$\n",
    "\\hat{H}_0\\Phi_{\\lambda}= w_{\\lambda}\\Phi_{\\lambda},\n",
    "$$"
   ]
  },
  {
   "cell_type": "markdown",
   "metadata": {},
   "source": [
    "with $w_{\\lambda}$ being the non-interacting energy. This energy is defined by the sum over single-particle energies to be defined below.\n",
    "For atoms the single-particle energies could be the hydrogen-like single-particle energies corrected for the charge $Z$. For nuclei and quantum\n",
    "dots, these energies could be given by the harmonic oscillator in three and two dimensions, respectively.\n",
    "\n",
    "\n",
    "\n",
    "## Definitions and notations\n",
    "We will assume that the interacting part of the Hamiltonian\n",
    "can be approximated by a two-body interaction.\n",
    "This means that our Hamiltonian is written as"
   ]
  },
  {
   "cell_type": "markdown",
   "metadata": {},
   "source": [
    "<!-- Equation labels as ordinary links -->\n",
    "<div id=\"Hnuclei\"></div>\n",
    "\n",
    "$$\n",
    "\\begin{equation}\n",
    "    \\hat{H} = \\hat{H}_0 + \\hat{H}_I \n",
    "    = \\sum_{i=1}^N \\hat{h}_0(x_i) + \\sum_{i < j}^N V(r_{ij}),\n",
    "\\label{Hnuclei} \\tag{5}\n",
    "\\end{equation}\n",
    "$$"
   ]
  },
  {
   "cell_type": "markdown",
   "metadata": {},
   "source": [
    "with"
   ]
  },
  {
   "cell_type": "markdown",
   "metadata": {},
   "source": [
    "<!-- Equation labels as ordinary links -->\n",
    "<div id=\"hinuclei\"></div>\n",
    "\n",
    "$$\n",
    "\\begin{equation}\n",
    "  H_0=\\sum_{i=1}^N \\hat{h}_0(x_i) =  \\sum_{i=1}^N\\left(\\hat{t}(x_i) + \\hat{u}_{\\mathrm{ext}}(x_i)\\right).\n",
    "\\label{hinuclei} \\tag{6}\n",
    "\\end{equation}\n",
    "$$"
   ]
  },
  {
   "cell_type": "markdown",
   "metadata": {},
   "source": [
    "The onebody part $u_{\\mathrm{ext}}(x_i)$ is normally approximated by a harmonic oscillator potential or the Coulomb interaction an electron feels from the nucleus. However, other potentials are fully possible, such as \n",
    "one derived from the self-consistent solution of the Hartree-Fock equations.\n",
    "\n",
    "\n",
    "\n",
    "\n",
    "## Definitions and notations\n",
    "Our Hamiltonian is invariant under the permutation (interchange) of two particles. % (exercise here, prove it)\n",
    "Since we deal with fermions however, the total wave function is antisymmetric.\n",
    "Let $\\hat{P}$ be an operator which interchanges two particles.\n",
    "Due to the symmetries we have ascribed to our Hamiltonian, this operator commutes with the total Hamiltonian,"
   ]
  },
  {
   "cell_type": "markdown",
   "metadata": {},
   "source": [
    "$$\n",
    "[\\hat{H},\\hat{P}] = 0,\n",
    "$$"
   ]
  },
  {
   "cell_type": "markdown",
   "metadata": {},
   "source": [
    "meaning that $\\Psi_{\\lambda}(x_1, x_2, \\dots , x_N)$ is an eigenfunction of \n",
    "$\\hat{P}$ as well, that is"
   ]
  },
  {
   "cell_type": "markdown",
   "metadata": {},
   "source": [
    "$$\n",
    "\\hat{P}_{ij}\\Psi_{\\lambda}(x_1, x_2, \\dots,x_i,\\dots,x_j,\\dots,x_N)=\n",
    "\\beta\\Psi_{\\lambda}(x_1, x_2, \\dots,x_i,\\dots,x_j,\\dots,x_N),\n",
    "$$"
   ]
  },
  {
   "cell_type": "markdown",
   "metadata": {},
   "source": [
    "where $\\beta$ is the eigenvalue of $\\hat{P}$. We have introduced the suffix $ij$ in order to indicate that we permute particles $i$ and $j$.\n",
    "The Pauli principle tells us that the total wave function for a system of fermions\n",
    "has to be antisymmetric, resulting in the eigenvalue $\\beta = -1$.\n",
    "\n",
    "\n",
    "\n",
    "## Definitions and notations\n",
    "In our case we assume that  we can approximate the exact eigenfunction with a Slater determinant"
   ]
  },
  {
   "cell_type": "markdown",
   "metadata": {},
   "source": [
    "<!-- Equation labels as ordinary links -->\n",
    "<div id=\"eq:HartreeFockDet\"></div>\n",
    "\n",
    "$$\n",
    "\\begin{equation}\n",
    "   \\Phi(x_1, x_2,\\dots ,x_N,\\alpha,\\beta,\\dots, \\sigma)=\\frac{1}{\\sqrt{N!}}\n",
    "\\left| \\begin{array}{ccccc} \\psi_{\\alpha}(x_1)& \\psi_{\\alpha}(x_2)& \\dots & \\dots & \\psi_{\\alpha}(x_N)\\\\\n",
    "                            \\psi_{\\beta}(x_1)&\\psi_{\\beta}(x_2)& \\dots & \\dots & \\psi_{\\beta}(x_N)\\\\  \n",
    "                            \\dots & \\dots & \\dots & \\dots & \\dots \\\\\n",
    "                            \\dots & \\dots & \\dots & \\dots & \\dots \\\\\n",
    "                     \\psi_{\\sigma}(x_1)&\\psi_{\\sigma}(x_2)& \\dots & \\dots & \\psi_{\\sigma}(x_N)\\end{array} \\right|, \\label{eq:HartreeFockDet} \\tag{7}\n",
    "\\end{equation}\n",
    "$$"
   ]
  },
  {
   "cell_type": "markdown",
   "metadata": {},
   "source": [
    "where  $x_i$  stand for the coordinates and spin values of a particle $i$ and $\\alpha,\\beta,\\dots, \\gamma$ \n",
    "are quantum numbers needed to describe remaining quantum numbers.\n",
    "\n",
    "\n",
    "\n",
    "## Definitions and notations\n",
    "The single-particle function $\\psi_{\\alpha}(x_i)$  are eigenfunctions of the onebody\n",
    "Hamiltonian $h_i$, that is"
   ]
  },
  {
   "cell_type": "markdown",
   "metadata": {},
   "source": [
    "$$\n",
    "\\hat{h}_0(x_i)=\\hat{t}(x_i) + \\hat{u}_{\\mathrm{ext}}(x_i),\n",
    "$$"
   ]
  },
  {
   "cell_type": "markdown",
   "metadata": {},
   "source": [
    "with eigenvalues"
   ]
  },
  {
   "cell_type": "markdown",
   "metadata": {},
   "source": [
    "$$\n",
    "\\hat{h}_0(x_i) \\psi_{\\alpha}(x_i)=\\left(\\hat{t}(x_i) + \\hat{u}_{\\mathrm{ext}}(x_i)\\right)\\psi_{\\alpha}(x_i)=\\varepsilon_{\\alpha}\\psi_{\\alpha}(x_i).\n",
    "$$"
   ]
  },
  {
   "cell_type": "markdown",
   "metadata": {},
   "source": [
    "The energies $\\varepsilon_{\\alpha}$ are the so-called non-interacting single-particle energies, or unperturbed energies. \n",
    "The total energy is in this case the sum over all  single-particle energies, if no two-body or more complicated\n",
    "many-body interactions are present.\n",
    "\n",
    "\n",
    "\n",
    "## Definitions and notations\n",
    "Let us denote the ground state energy by $E_0$. According to the\n",
    "variational principle we have"
   ]
  },
  {
   "cell_type": "markdown",
   "metadata": {},
   "source": [
    "$$\n",
    "E_0 \\le E[\\Phi] = \\int \\Phi^*\\hat{H}\\Phi d\\mathbf{\\tau}\n",
    "$$"
   ]
  },
  {
   "cell_type": "markdown",
   "metadata": {},
   "source": [
    "where $\\Phi$ is a trial function which we assume to be normalized"
   ]
  },
  {
   "cell_type": "markdown",
   "metadata": {},
   "source": [
    "$$\n",
    "\\int \\Phi^*\\Phi d\\mathbf{\\tau} = 1,\n",
    "$$"
   ]
  },
  {
   "cell_type": "markdown",
   "metadata": {},
   "source": [
    "where we have used the shorthand $d\\mathbf{\\tau}=d\\mathbf{r}_1d\\mathbf{r}_2\\dots d\\mathbf{r}_N$.\n",
    "\n",
    "\n",
    "\n",
    "\n",
    "## Brief reminder on some linear algebra properties\n",
    "Before we proceed with a more compact representation of a Slater determinant, we would like to repeat some linear algebra properties which will be useful for our derivations of the energy as function of a Slater determinant, Hartree-Fock theory and later the nuclear shell model.\n",
    "\n",
    "The inverse of a matrix is defined by"
   ]
  },
  {
   "cell_type": "markdown",
   "metadata": {},
   "source": [
    "$$\n",
    "\\mathbf{A}^{-1} \\cdot \\mathbf{A} = I\n",
    "$$"
   ]
  },
  {
   "cell_type": "markdown",
   "metadata": {},
   "source": [
    "A unitary matrix $\\mathbf{A}$ is one whose inverse is its adjoint"
   ]
  },
  {
   "cell_type": "markdown",
   "metadata": {},
   "source": [
    "$$\n",
    "\\mathbf{A}^{-1}=\\mathbf{A}^{\\dagger}\n",
    "$$"
   ]
  },
  {
   "cell_type": "markdown",
   "metadata": {},
   "source": [
    "A real unitary matrix is called orthogonal and its inverse is equal to its transpose.\n",
    "A hermitian matrix is its own self-adjoint, that  is"
   ]
  },
  {
   "cell_type": "markdown",
   "metadata": {},
   "source": [
    "$$\n",
    "\\mathbf{A}=\\mathbf{A}^{\\dagger}.\n",
    "$$"
   ]
  },
  {
   "cell_type": "markdown",
   "metadata": {},
   "source": [
    "## Basic Matrix Features\n",
    "\n",
    "**Matrix Properties Reminder.**\n",
    "\n",
    "\n",
    "<table border=\"1\">\n",
    "<thead>\n",
    "<tr><th align=\"center\">              Relations               </th> <th align=\"center\">      Name     </th> <th align=\"center\">                            matrix elements                            </th> </tr>\n",
    "</thead>\n",
    "<tbody>\n",
    "<tr><td align=\"center\">   $A = A^{T}$                               </td> <td align=\"center\">   symmetric          </td> <td align=\"center\">   $a_{ij} = a_{ji}$                                                          </td> </tr>\n",
    "<tr><td align=\"center\">   $A = \\left (A^{T} \\right )^{-1}$          </td> <td align=\"center\">   real orthogonal    </td> <td align=\"center\">   $\\sum_k a_{ik} a_{jk} = \\sum_k a_{ki} a_{kj} = \\delta_{ij}$                </td> </tr>\n",
    "<tr><td align=\"center\">   $A = A^{ * }$                             </td> <td align=\"center\">   real matrix        </td> <td align=\"center\">   $a_{ij} = a_{ij}^{ * }$                                                    </td> </tr>\n",
    "<tr><td align=\"center\">   $A = A^{\\dagger}$                         </td> <td align=\"center\">   hermitian          </td> <td align=\"center\">   $a_{ij} = a_{ji}^{ * }$                                                    </td> </tr>\n",
    "<tr><td align=\"center\">   $A = \\left (A^{\\dagger} \\right )^{-1}$    </td> <td align=\"center\">   unitary            </td> <td align=\"center\">   $\\sum_k a_{ik} a_{jk}^{ * } = \\sum_k a_{ki}^{ * } a_{kj} = \\delta_{ij}$    </td> </tr>\n",
    "</tbody>\n",
    "</table>\n",
    "\n",
    "\n",
    "\n",
    "\n",
    "\n",
    "## Basic Matrix Features\n",
    "Since we will deal with Fermions (identical and indistinguishable particles) we will \n",
    "form an ansatz for a given state in terms of so-called Slater determinants determined\n",
    "by a chosen basis of single-particle functions. \n",
    "\n",
    "For a given $n\\times n$ matrix $\\mathbf{A}$ we can write its determinant"
   ]
  },
  {
   "cell_type": "markdown",
   "metadata": {},
   "source": [
    "$$\n",
    "det(\\mathbf{A})=|\\mathbf{A}|=\n",
    "\\left| \\begin{array}{ccccc} a_{11}& a_{12}& \\dots & \\dots & a_{1n}\\\\\n",
    "                            a_{21}&a_{22}& \\dots & \\dots & a_{2n}\\\\  \n",
    "                            \\dots & \\dots & \\dots & \\dots & \\dots \\\\\n",
    "                            \\dots & \\dots & \\dots & \\dots & \\dots \\\\\n",
    "                            a_{n1}& a_{n2}& \\dots & \\dots & a_{nn}\\end{array} \\right|,\n",
    "$$"
   ]
  },
  {
   "cell_type": "markdown",
   "metadata": {},
   "source": [
    "in a more compact form as"
   ]
  },
  {
   "cell_type": "markdown",
   "metadata": {},
   "source": [
    "$$\n",
    "|\\mathbf{A}|= \\sum_{i=1}^{n!}(-1)^{p_i}\\hat{P}_i a_{11}a_{22}\\dots a_{nn},\n",
    "$$"
   ]
  },
  {
   "cell_type": "markdown",
   "metadata": {},
   "source": [
    "where $\\hat{P}_i$ is a permutation operator which permutes the column indices $1,2,3,\\dots,n$\n",
    "and the sum runs over all $n!$ permutations.  The quantity $p_i$ represents the number of transpositions of column indices that are needed in order to bring a given permutation back to its initial ordering, in our case given by $a_{11}a_{22}\\dots a_{nn}$ here.\n",
    "\n",
    "\n",
    "\n",
    "\n",
    "## Basic Matrix Features, simple $2 \\times 2$ determinant\n",
    "A simple $2\\times 2$ determinant illustrates this. We have"
   ]
  },
  {
   "cell_type": "markdown",
   "metadata": {},
   "source": [
    "$$\n",
    "det(\\mathbf{A})=\n",
    "\\left| \\begin{array}{cc} a_{11}& a_{12}\\\\\n",
    "                            a_{21}&a_{22}\\end{array} \\right|= (-1)^0a_{11}a_{22}+(-1)^1a_{12}a_{21},\n",
    "$$"
   ]
  },
  {
   "cell_type": "markdown",
   "metadata": {},
   "source": [
    "where in the last term we have interchanged the column indices $1$ and $2$. The natural ordering we have chosen is $a_{11}a_{22}$.\n",
    "\n",
    "\n",
    "\n",
    "\n",
    "\n",
    "## Definitions and notations\n",
    "With the above we can rewrite our Slater determinant in a more compact form.\n",
    "In the Hartree-Fock method the trial function is the Slater\n",
    "determinant of Eq. [(7)](#eq:HartreeFockDet) which can be rewritten as"
   ]
  },
  {
   "cell_type": "markdown",
   "metadata": {},
   "source": [
    "$$\n",
    "\\Phi(x_1,x_2,\\dots,x_N,\\alpha,\\beta,\\dots,\\nu) = \\frac{1}{\\sqrt{N!}}\\sum_{P} (-)^P\\hat{P}\\psi_{\\alpha}(x_1)\n",
    "    \\psi_{\\beta}(x_2)\\dots\\psi_{\\nu}(x_N)=\\sqrt{N!}\\hat{A}\\Phi_H,\n",
    "$$"
   ]
  },
  {
   "cell_type": "markdown",
   "metadata": {},
   "source": [
    "where we have introduced the antisymmetrization operator $\\hat{A}$ defined by the \n",
    "summation over all possible permutations of two particles.\n",
    "\n",
    "\n",
    "\n",
    "## Definitions and notations\n",
    "It is defined as"
   ]
  },
  {
   "cell_type": "markdown",
   "metadata": {},
   "source": [
    "<!-- Equation labels as ordinary links -->\n",
    "<div id=\"antiSymmetryOperator\"></div>\n",
    "\n",
    "$$\n",
    "\\begin{equation}\n",
    "  \\hat{A} = \\frac{1}{N!}\\sum_{p} (-)^p\\hat{P},\n",
    "\\label{antiSymmetryOperator} \\tag{8}\n",
    "\\end{equation}\n",
    "$$"
   ]
  },
  {
   "cell_type": "markdown",
   "metadata": {},
   "source": [
    "with $p$ standing for the number of permutations. We have introduced for later use the so-called\n",
    "Hartree-function, defined by the simple product of all possible single-particle functions"
   ]
  },
  {
   "cell_type": "markdown",
   "metadata": {},
   "source": [
    "$$\n",
    "\\Phi_H(x_1,x_2,\\dots,x_N,\\alpha,\\beta,\\dots,\\nu) =\n",
    "  \\psi_{\\alpha}(x_1)\n",
    "    \\psi_{\\beta}(x_2)\\dots\\psi_{\\nu}(x_N).\n",
    "$$"
   ]
  },
  {
   "cell_type": "markdown",
   "metadata": {},
   "source": [
    "## Definitions and notations\n",
    "Both $\\hat{H}_0$ and $\\hat{H}_I$ are invariant under all possible permutations of any two particles\n",
    "and hence commute with $\\hat{A}$"
   ]
  },
  {
   "cell_type": "markdown",
   "metadata": {},
   "source": [
    "<!-- Equation labels as ordinary links -->\n",
    "<div id=\"commutionAntiSym\"></div>\n",
    "\n",
    "$$\n",
    "\\begin{equation}\n",
    "  [H_0,\\hat{A}] = [H_I,\\hat{A}] = 0. \\label{commutionAntiSym} \\tag{9}\n",
    "\\end{equation}\n",
    "$$"
   ]
  },
  {
   "cell_type": "markdown",
   "metadata": {},
   "source": [
    "Furthermore, $\\hat{A}$ satisfies"
   ]
  },
  {
   "cell_type": "markdown",
   "metadata": {},
   "source": [
    "<!-- Equation labels as ordinary links -->\n",
    "<div id=\"AntiSymSquared\"></div>\n",
    "\n",
    "$$\n",
    "\\begin{equation}\n",
    "  \\hat{A}^2 = \\hat{A},  \\label{AntiSymSquared} \\tag{10}\n",
    "\\end{equation}\n",
    "$$"
   ]
  },
  {
   "cell_type": "markdown",
   "metadata": {},
   "source": [
    "since every permutation of the Slater\n",
    "determinant reproduces it.\n",
    "\n",
    "\n",
    "\n",
    "## Definitions and notations\n",
    "The expectation value of $\\hat{H}_0$"
   ]
  },
  {
   "cell_type": "markdown",
   "metadata": {},
   "source": [
    "$$\n",
    "\\int \\Phi^*\\hat{H}_0\\Phi d\\mathbf{\\tau} \n",
    "  = N! \\int \\Phi_H^*\\hat{A}\\hat{H}_0\\hat{A}\\Phi_H d\\mathbf{\\tau}\n",
    "$$"
   ]
  },
  {
   "cell_type": "markdown",
   "metadata": {},
   "source": [
    "is readily reduced to"
   ]
  },
  {
   "cell_type": "markdown",
   "metadata": {},
   "source": [
    "$$\n",
    "\\int \\Phi^*\\hat{H}_0\\Phi d\\mathbf{\\tau} \n",
    "  = N! \\int \\Phi_H^*\\hat{H}_0\\hat{A}\\Phi_H d\\mathbf{\\tau},\n",
    "$$"
   ]
  },
  {
   "cell_type": "markdown",
   "metadata": {},
   "source": [
    "where we have used Eqs. [(9)](#commutionAntiSym) and\n",
    "[(10)](#AntiSymSquared). The next step is to replace the antisymmetrization\n",
    "operator by its definition and to\n",
    "replace $\\hat{H}_0$ with the sum of one-body operators"
   ]
  },
  {
   "cell_type": "markdown",
   "metadata": {},
   "source": [
    "$$\n",
    "\\int \\Phi^*\\hat{H}_0\\Phi  d\\mathbf{\\tau}\n",
    "  = \\sum_{i=1}^N \\sum_{p} (-)^p\\int \n",
    "  \\Phi_H^*\\hat{h}_0\\hat{P}\\Phi_H d\\mathbf{\\tau}.\n",
    "$$"
   ]
  },
  {
   "cell_type": "markdown",
   "metadata": {},
   "source": [
    "## Definitions and notations\n",
    "The integral vanishes if two or more particles are permuted in only one\n",
    "of the Hartree-functions $\\Phi_H$ because the individual single-particle wave functions are\n",
    "orthogonal. We obtain then"
   ]
  },
  {
   "cell_type": "markdown",
   "metadata": {},
   "source": [
    "$$\n",
    "\\int \\Phi^*\\hat{H}_0\\Phi  d\\mathbf{\\tau}= \\sum_{i=1}^N \\int \\Phi_H^*\\hat{h}_0\\Phi_H  d\\mathbf{\\tau}.\n",
    "$$"
   ]
  },
  {
   "cell_type": "markdown",
   "metadata": {},
   "source": [
    "Orthogonality of the single-particle functions allows us to further simplify the integral, and we\n",
    "arrive at the following expression for the expectation values of the\n",
    "sum of one-body Hamiltonians"
   ]
  },
  {
   "cell_type": "markdown",
   "metadata": {},
   "source": [
    "<!-- Equation labels as ordinary links -->\n",
    "<div id=\"H1Expectation\"></div>\n",
    "\n",
    "$$\n",
    "\\begin{equation}\n",
    "  \\int \\Phi^*\\hat{H}_0\\Phi  d\\mathbf{\\tau}\n",
    "  = \\sum_{\\mu=1}^N \\int \\psi_{\\mu}^*(\\mathbf{r})\\hat{h}_0\\psi_{\\mu}(\\mathbf{r})\n",
    "  d\\mathbf{r}.\n",
    "\\label{H1Expectation} \\tag{11}\n",
    "\\end{equation}\n",
    "$$"
   ]
  },
  {
   "cell_type": "markdown",
   "metadata": {},
   "source": [
    "## Definitions and notations\n",
    "We introduce the following shorthand for the above integral"
   ]
  },
  {
   "cell_type": "markdown",
   "metadata": {},
   "source": [
    "$$\n",
    "\\langle \\mu | \\hat{h}_0 | \\mu \\rangle = \\int \\psi_{\\mu}^*(\\mathbf{r})\\hat{h}_0\\psi_{\\mu}(\\mathbf{r})  d\\mathbf{r},\n",
    "$$"
   ]
  },
  {
   "cell_type": "markdown",
   "metadata": {},
   "source": [
    "and rewrite Eq. [(11)](#H1Expectation) as"
   ]
  },
  {
   "cell_type": "markdown",
   "metadata": {},
   "source": [
    "<!-- Equation labels as ordinary links -->\n",
    "<div id=\"H1Expectation1\"></div>\n",
    "\n",
    "$$\n",
    "\\begin{equation}\n",
    "  \\int \\Phi^*\\hat{H}_0\\Phi  d\\mathbf{\\tau}\n",
    "  = \\sum_{\\mu=1}^N \\langle \\mu | \\hat{h}_0 | \\mu \\rangle.\n",
    "\\label{H1Expectation1} \\tag{12}\n",
    "\\end{equation}\n",
    "$$"
   ]
  },
  {
   "cell_type": "markdown",
   "metadata": {},
   "source": [
    "## Definitions and notations\n",
    "The expectation value of the two-body part of the Hamiltonian is obtained in a\n",
    "similar manner. We have"
   ]
  },
  {
   "cell_type": "markdown",
   "metadata": {},
   "source": [
    "$$\n",
    "\\int \\Phi^*\\hat{H}_I\\Phi d\\mathbf{\\tau} \n",
    "  = N! \\int \\Phi_H^*\\hat{A}\\hat{H}_I\\hat{A}\\Phi_H d\\mathbf{\\tau},\n",
    "$$"
   ]
  },
  {
   "cell_type": "markdown",
   "metadata": {},
   "source": [
    "which reduces to"
   ]
  },
  {
   "cell_type": "markdown",
   "metadata": {},
   "source": [
    "$$\n",
    "\\int \\Phi^*\\hat{H}_I\\Phi d\\mathbf{\\tau} \n",
    "  = \\sum_{i\\le j=1}^N \\sum_{p} (-)^p\\int \n",
    "  \\Phi_H^*V(r_{ij})\\hat{P}\\Phi_H d\\mathbf{\\tau},\n",
    "$$"
   ]
  },
  {
   "cell_type": "markdown",
   "metadata": {},
   "source": [
    "by following the same arguments as for the one-body\n",
    "Hamiltonian.\n",
    "\n",
    "\n",
    "\n",
    "## Definitions and notations\n",
    "Because of the dependence on the inter-particle distance $r_{ij}$,  permutations of\n",
    "any two particles no longer vanish, and we get"
   ]
  },
  {
   "cell_type": "markdown",
   "metadata": {},
   "source": [
    "$$\n",
    "\\int \\Phi^*\\hat{H}_I\\Phi d\\mathbf{\\tau} \n",
    "  = \\sum_{i < j=1}^N \\int  \n",
    "  \\Phi_H^*V(r_{ij})(1-P_{ij})\\Phi_H d\\mathbf{\\tau}.\n",
    "$$"
   ]
  },
  {
   "cell_type": "markdown",
   "metadata": {},
   "source": [
    "where $P_{ij}$ is the permutation operator that interchanges\n",
    "particle $i$ and particle $j$. Again we use the assumption that the single-particle wave functions\n",
    "are orthogonal.\n",
    "\n",
    "\n",
    "\n",
    "\n",
    "## Definitions and notations\n",
    "We obtain"
   ]
  },
  {
   "cell_type": "markdown",
   "metadata": {},
   "source": [
    "<!-- Equation labels as ordinary links -->\n",
    "<div id=\"_auto1\"></div>\n",
    "\n",
    "$$\n",
    "\\begin{equation}\n",
    "  \\int \\Phi^*\\hat{H}_I\\Phi d\\mathbf{\\tau} \n",
    "  = \\frac{1}{2}\\sum_{\\mu=1}^N\\sum_{\\nu=1}^N\n",
    "    \\left[ \\int \\psi_{\\mu}^*(x_i)\\psi_{\\nu}^*(x_j)V(r_{ij})\\psi_{\\mu}(x_i)\\psi_{\\nu}(x_j)\n",
    "    dx_idx_j \\right.\n",
    "\\label{_auto1} \\tag{13}\n",
    "\\end{equation}\n",
    "$$"
   ]
  },
  {
   "cell_type": "markdown",
   "metadata": {},
   "source": [
    "<!-- Equation labels as ordinary links -->\n",
    "<div id=\"H2Expectation\"></div>\n",
    "\n",
    "$$\n",
    "\\begin{equation} \n",
    "  \\left.\n",
    "  - \\int \\psi_{\\mu}^*(x_i)\\psi_{\\nu}^*(x_j)\n",
    "  V(r_{ij})\\psi_{\\nu}(x_i)\\psi_{\\mu}(x_j)\n",
    "  dx_idx_j\n",
    "  \\right]. \\label{H2Expectation} \\tag{14}\n",
    "\\end{equation}\n",
    "$$"
   ]
  },
  {
   "cell_type": "markdown",
   "metadata": {},
   "source": [
    "The first term is the so-called direct term. It is frequently also called the  Hartree term, \n",
    "while the second is due to the Pauli principle and is called\n",
    "the exchange term or just the Fock term.\n",
    "The factor  $1/2$ is introduced because we now run over\n",
    "all pairs twice.\n",
    "\n",
    "\n",
    "\n",
    "## Definitions and notations\n",
    "The last equation allows us to  introduce some further definitions.  \n",
    "The single-particle wave functions $\\psi_{\\mu}(x)$, defined by the quantum numbers $\\mu$ and $x$\n",
    "are defined as the overlap"
   ]
  },
  {
   "cell_type": "markdown",
   "metadata": {},
   "source": [
    "$$\n",
    "\\psi_{\\alpha}(x)  = \\langle x | \\alpha \\rangle .\n",
    "$$"
   ]
  },
  {
   "cell_type": "markdown",
   "metadata": {},
   "source": [
    "## Definitions and notations\n",
    "We introduce the following shorthands for the above two integrals"
   ]
  },
  {
   "cell_type": "markdown",
   "metadata": {},
   "source": [
    "$$\n",
    "\\langle \\mu\\nu|\\hat{v}|\\mu\\nu\\rangle =  \\int \\psi_{\\mu}^*(x_i)\\psi_{\\nu}^*(x_j)V(r_{ij})\\psi_{\\mu}(x_i)\\psi_{\\nu}(x_j)\n",
    "    dx_idx_j,\n",
    "$$"
   ]
  },
  {
   "cell_type": "markdown",
   "metadata": {},
   "source": [
    "and"
   ]
  },
  {
   "cell_type": "markdown",
   "metadata": {},
   "source": [
    "$$\n",
    "\\langle \\mu\\nu|\\hat{v}|\\nu\\mu\\rangle = \\int \\psi_{\\mu}^*(x_i)\\psi_{\\nu}^*(x_j)\n",
    "  V(r_{ij})\\psi_{\\nu}(x_i)\\psi_{\\mu}(x_j)\n",
    "  dx_idx_j.\n",
    "$$"
   ]
  },
  {
   "cell_type": "markdown",
   "metadata": {},
   "source": [
    "## Definitions and notations\n",
    "The direct and exchange matrix elements can be  brought together if we define the antisymmetrized matrix element"
   ]
  },
  {
   "cell_type": "markdown",
   "metadata": {},
   "source": [
    "$$\n",
    "\\langle \\mu\\nu|\\hat{v}|\\mu\\nu\\rangle_{\\mathrm{AS}}= \\langle \\mu\\nu|\\hat{v}|\\mu\\nu\\rangle-\\langle \\mu\\nu|\\hat{v}|\\nu\\mu\\rangle,\n",
    "$$"
   ]
  },
  {
   "cell_type": "markdown",
   "metadata": {},
   "source": [
    "or for a general matrix element"
   ]
  },
  {
   "cell_type": "markdown",
   "metadata": {},
   "source": [
    "$$\n",
    "\\langle \\mu\\nu|\\hat{v}|\\sigma\\tau\\rangle_{\\mathrm{AS}}= \\langle \\mu\\nu|\\hat{v}|\\sigma\\tau\\rangle-\\langle \\mu\\nu|\\hat{v}|\\tau\\sigma\\rangle.\n",
    "$$"
   ]
  },
  {
   "cell_type": "markdown",
   "metadata": {},
   "source": [
    "It has the symmetry property"
   ]
  },
  {
   "cell_type": "markdown",
   "metadata": {},
   "source": [
    "$$\n",
    "\\langle \\mu\\nu|\\hat{v}|\\sigma\\tau\\rangle_{\\mathrm{AS}}= -\\langle \\mu\\nu|\\hat{v}|\\tau\\sigma\\rangle_{\\mathrm{AS}}=-\\langle \\nu\\mu|\\hat{v}|\\sigma\\tau\\rangle_{\\mathrm{AS}}.\n",
    "$$"
   ]
  },
  {
   "cell_type": "markdown",
   "metadata": {},
   "source": [
    "## Definitions and notations\n",
    "The antisymmetric matrix element is also hermitian, implying"
   ]
  },
  {
   "cell_type": "markdown",
   "metadata": {},
   "source": [
    "$$\n",
    "\\langle \\mu\\nu|\\hat{v}|\\sigma\\tau\\rangle_{\\mathrm{AS}}= \\langle \\sigma\\tau|\\hat{v}|\\mu\\nu\\rangle_{\\mathrm{AS}}.\n",
    "$$"
   ]
  },
  {
   "cell_type": "markdown",
   "metadata": {},
   "source": [
    "With these notations we rewrite Eq. [(14)](#H2Expectation) as"
   ]
  },
  {
   "cell_type": "markdown",
   "metadata": {},
   "source": [
    "<!-- Equation labels as ordinary links -->\n",
    "<div id=\"H2Expectation2\"></div>\n",
    "\n",
    "$$\n",
    "\\begin{equation}\n",
    "  \\int \\Phi^*\\hat{H}_I\\Phi d\\mathbf{\\tau} \n",
    "  = \\frac{1}{2}\\sum_{\\mu=1}^N\\sum_{\\nu=1}^N \\langle \\mu\\nu|\\hat{v}|\\mu\\nu\\rangle_{\\mathrm{AS}}.\n",
    "\\label{H2Expectation2} \\tag{15}\n",
    "\\end{equation}\n",
    "$$"
   ]
  },
  {
   "cell_type": "markdown",
   "metadata": {},
   "source": [
    "## Definitions and notations\n",
    "Combining Eqs. [(12)](#H1Expectation1) and\n",
    "[(15)](#H2Expectation2) we obtain the energy functional"
   ]
  },
  {
   "cell_type": "markdown",
   "metadata": {},
   "source": [
    "<!-- Equation labels as ordinary links -->\n",
    "<div id=\"FunctionalEPhi\"></div>\n",
    "\n",
    "$$\n",
    "\\begin{equation}\n",
    "  E[\\Phi] \n",
    "  = \\sum_{\\mu=1}^N \\langle \\mu | \\hat{h}_0 | \\mu \\rangle +\n",
    "  \\frac{1}{2}\\sum_{{\\mu}=1}^N\\sum_{{\\nu}=1}^N \\langle \\mu\\nu|\\hat{v}|\\mu\\nu\\rangle_{\\mathrm{AS}}.\n",
    "\\label{FunctionalEPhi} \\tag{16}\n",
    "\\end{equation}\n",
    "$$"
   ]
  },
  {
   "cell_type": "markdown",
   "metadata": {},
   "source": [
    "which we will use as our starting point for the Hartree-Fock calculations later in this course.\n",
    "\n",
    "\n",
    "\n",
    "\n",
    "## Our system, quantum dots\n",
    "We consider a system of electrons confined in a pure isotropic harmonic oscillator potential $V(\\vec{r})=m^* \\omega_0^2 r^2/2$, where $m^*$ is the effective mass of the electrons in the host semiconductor, $\\omega_0$ is the oscillator frequency of the confining potential, and $\\vec{r}=(x,y,z)$ denotes the position of the particle.\n",
    "\n",
    "The Hamiltonian of a single particle trapped in this harmonic oscillator potential simply reads"
   ]
  },
  {
   "cell_type": "markdown",
   "metadata": {},
   "source": [
    "$$\n",
    "\\hat{H}= \\frac{\\textbf{p}^2}{2m^*}  + \\frac{1}{2} m^* \\omega_0^2 {\\textbf{r}}^2\n",
    "$$"
   ]
  },
  {
   "cell_type": "markdown",
   "metadata": {},
   "source": [
    "where $\\textbf{p}$ is the canonical momentum of the particle.\n",
    "\n",
    "\n",
    "\n",
    "\n",
    "\n",
    "## Our system, quantum dots\n",
    "When considering several particles trapped in the same quantum dot, the Coulomb repulsion between those electrons has to be added to the single particle Hamiltonian which gives"
   ]
  },
  {
   "cell_type": "markdown",
   "metadata": {},
   "source": [
    "$$\n",
    "\\hat{H}=\\sum_{i=1}^{N_e} \\left( \\frac{\\mathbf{p_i}^2}{2m^*}+ \\frac{1}{2} m^* \\omega_0^2 {\\mathbf{r_i}}^2 \\right) + \\frac{e^2}{4 \\pi \\epsilon_0 \\epsilon_r} \\sum_{i < j} \\frac{1}{{\\mathbf{r_i}-\\mathbf{r_j}}},\n",
    "$$"
   ]
  },
  {
   "cell_type": "markdown",
   "metadata": {},
   "source": [
    "where $N_e$ is the number of electrons, $-e \\;  (e>0)$ is the charge of the electron, $\\epsilon_0$ and $\\epsilon_r$ are respectively the free space permittivity and the relative permittivity of the host material (also called dielectric constant), and the index $i$ labels the electrons.\n",
    "\n",
    "\n",
    "\n",
    "\n",
    "## Our system, quantum dots\n",
    "We assume that the magnetic field $\\overrightarrow{B}$ is static and along the $z$ axis.\n",
    "At first we ignore the spin-dependent terms. The Hamiltonian of these electrons in a magnetic field now reads"
   ]
  },
  {
   "cell_type": "markdown",
   "metadata": {},
   "source": [
    "<!-- Equation labels as ordinary links -->\n",
    "<div id=\"_auto2\"></div>\n",
    "\n",
    "$$\n",
    "\\begin{equation}\n",
    "  \\hat{H}=\\sum_{i=1}^{N_e}\\left(  \\frac{(\\mathbf{p_i}+e\\mathbf{A})^2}{2m^*}  + \\frac{1}{2} m^* \\omega_0^2 {\\mathbf{r_i}}^2  \\right) + \\frac{e^2}{4 \\pi \\epsilon_0 \\epsilon_r} \\sum_{i < j}\\frac{1}{{\\mathbf{r_i}-\\mathbf{r_j}}}, \n",
    "\\label{_auto2} \\tag{17}\n",
    "\\end{equation}\n",
    "$$"
   ]
  },
  {
   "cell_type": "markdown",
   "metadata": {},
   "source": [
    "<!-- Equation labels as ordinary links -->\n",
    "<div id=\"_auto3\"></div>\n",
    "\n",
    "$$\n",
    "\\begin{equation} \n",
    "=\\sum_{i=1}^{N_e}\\left(  \\frac{\\mathbf{p_i}^2}{2m^*} + \\frac{e}{2m^*}(\\mathbf{A}\\cdot \\mathbf{p_i}+\\mathbf{p_i}\\cdot \\mathbf{A}) + \\frac{e^2}{2m^*}\\mathbf{A}^2  + \\frac{1}{2} m^* \\omega_0^2 {\\mathbf{r_i}}^2  \\right) \n",
    "\\label{_auto3} \\tag{18}\n",
    "\\end{equation}\n",
    "$$"
   ]
  },
  {
   "cell_type": "markdown",
   "metadata": {},
   "source": [
    "<!-- Equation labels as ordinary links -->\n",
    "<div id=\"_auto4\"></div>\n",
    "\n",
    "$$\n",
    "\\begin{equation} \n",
    " + \\frac{e^2}{4 \\pi \\epsilon_0 \\epsilon_r} \\sum_{i < j}\\frac{1}{{\\mathbf{r_i}-\\mathbf{r_j}}},\n",
    "\\label{_auto4} \\tag{19}\n",
    "\\end{equation}\n",
    "$$"
   ]
  },
  {
   "cell_type": "markdown",
   "metadata": {},
   "source": [
    "where $\\mathbf{A}$ is the vector potential defined by $\\mathbf{B}=\\nabla \\times \\mathbf{A}$.\n",
    "\n",
    "\n",
    "\n",
    "\n",
    "## Our system, quantum dots\n",
    "In coordinate space, $\\mathbf{p}_i$ is the operator $-i \\hbar \\nabla_i$ and by applying the Hamiltonian on the total wave function $\\Psi(\\mathbf{r})$ in the Schroedinger equation, we obtain the following operator acting on $\\Psi(\\mathbf{r})$"
   ]
  },
  {
   "cell_type": "markdown",
   "metadata": {},
   "source": [
    "<!-- Equation labels as ordinary links -->\n",
    "<div id=\"_auto5\"></div>\n",
    "\n",
    "$$\n",
    "\\begin{equation}\n",
    "\\mathbf{A}\\cdot \\mathbf{p_i}+\\mathbf{p_i}\\cdot \\mathbf{A} = - i \\hbar \\left( \\mathbf{A}\\cdot \\nabla_i+\\nabla_i\\cdot \\mathbf{A} \\right) \\Psi \n",
    "\\label{_auto5} \\tag{20}\n",
    "\\end{equation}\n",
    "$$"
   ]
  },
  {
   "cell_type": "markdown",
   "metadata": {},
   "source": [
    "<!-- Equation labels as ordinary links -->\n",
    "<div id=\"_auto6\"></div>\n",
    "\n",
    "$$\n",
    "\\begin{equation} \n",
    "=  - i \\hbar \\left( \\mathbf{A}\\cdot  ( \\nabla_i \\Psi)+\\nabla_i\\cdot (\\mathbf{A} \\Psi) \\right) \n",
    "\\label{_auto6} \\tag{21}\n",
    "\\end{equation}\n",
    "$$"
   ]
  },
  {
   "cell_type": "markdown",
   "metadata": {},
   "source": [
    "## Our system, quantum dots\n",
    "We note that if we use the product rule and the Coulomb gauge $\\nabla \\cdot \\mathbf{A} = 0$ (by choosing the vector potential as $\\mathbf{A} = \\frac{1}{2} \\mathbf{B} \\times \\mathbf{r}$), $\\mathbf{p_i}$ and $\\nabla_i$ commute and we obtain"
   ]
  },
  {
   "cell_type": "markdown",
   "metadata": {},
   "source": [
    "$$\n",
    "\\nabla_i \\cdot (\\mathbf{A}\\Psi) = \\mathbf{A} \\cdot (\\nabla_i\\Psi) + (\\underbrace{\\nabla_i \\cdot \\mathbf{A})}_0 \\Psi=\\mathbf{A} \\cdot (\\nabla_i\\Psi)\n",
    "$$"
   ]
  },
  {
   "cell_type": "markdown",
   "metadata": {},
   "source": [
    "## Our system, quantum dots\n",
    "This leads us to the following Hamiltonian:"
   ]
  },
  {
   "cell_type": "markdown",
   "metadata": {},
   "source": [
    "$$\n",
    "\\hat{H}=\\sum_{i=1}^{N_e}\\left(  -\\frac{ \\hbar^2}{2m^*} \\nabla_i^2- i \\hbar \\frac{e}{m^*} \\mathbf{A}\\cdot \\nabla_i + \\frac{e^2}{2m^*}\\mathbf{A}^2  + \\frac{1}{2} m^* \\omega_0^2 {\\mathbf{r_i}}^2  \\right)\n",
    "+ \\frac{e^2}{4 \\pi \\epsilon_0 \\epsilon_r} \\sum_{i < j}\\frac{1}{{\\mathbf{r_i}-\\mathbf{r_j}}},\n",
    "$$"
   ]
  },
  {
   "cell_type": "markdown",
   "metadata": {},
   "source": [
    "## Our system, quantum dots\n",
    "The linear term in $\\mathbf{A}$ becomes, in terms of $\\mathbf{B}$:"
   ]
  },
  {
   "cell_type": "markdown",
   "metadata": {},
   "source": [
    "<!-- Equation labels as ordinary links -->\n",
    "<div id=\"eq:linearTermA\"></div>\n",
    "\n",
    "$$\n",
    "\\begin{equation}\n",
    "\\label{eq:linearTermA} \\tag{22}\n",
    "\\frac{-i \\hbar e}{m^*} \\mathbf{A} \\cdot \\nabla_i = -\\frac{i \\hbar e}{2m^*} (\\mathbf{B} \\times \\mathbf{r_i}) \\cdot \\nabla_i \n",
    "\\end{equation}\n",
    "$$"
   ]
  },
  {
   "cell_type": "markdown",
   "metadata": {},
   "source": [
    "<!-- Equation labels as ordinary links -->\n",
    "<div id=\"_auto7\"></div>\n",
    "\n",
    "$$\n",
    "\\begin{equation} \n",
    "= \\frac{-i \\hbar e}{2m^*} \\mathbf{B} \\cdot( \\mathbf{r_i} \\times \\nabla_i)  \n",
    "\\label{_auto7} \\tag{23}\n",
    "\\end{equation}\n",
    "$$"
   ]
  },
  {
   "cell_type": "markdown",
   "metadata": {},
   "source": [
    "<!-- Equation labels as ordinary links -->\n",
    "<div id=\"_auto8\"></div>\n",
    "\n",
    "$$\n",
    "\\begin{equation} \n",
    "= \\frac{ e}{2m^*} \\mathbf{B} \\cdot \\mathbf{L} \n",
    "\\label{_auto8} \\tag{24}\n",
    "\\end{equation}\n",
    "$$"
   ]
  },
  {
   "cell_type": "markdown",
   "metadata": {},
   "source": [
    "where $\\mathbf{L}=-i \\hbar (\\mathbf{r_i} \\times \\nabla_i)$ is the orbital angular momentum operator of the electron $i$.\n",
    "\n",
    "If we assume that the electrons are confined in the $xy$-plane, the quadratic term in $\\mathbf{A}$ can be written as"
   ]
  },
  {
   "cell_type": "markdown",
   "metadata": {},
   "source": [
    "$$\n",
    "\\frac{e^2}{2m^*} \\mathbf{A}^2 = \\frac{e^2}{8m^*} (\\mathbf{B} \\times \\mathbf{r})^2\n",
    "= \\frac{e^2}{8m^*} B^2 r_i^2\n",
    "$$"
   ]
  },
  {
   "cell_type": "markdown",
   "metadata": {},
   "source": [
    "## Our system, quantum dots\n",
    "Until this point we have neglected the intrinsic magnetic moment of the electrons which is due to the electron spin in the host material. We will now add its effect to the Hamiltonian. This intrinsic magnetic moment is given by $\\mathcal{M}_s=-g^*_s (e \\mathbf{S})/(2m^*)$, where $\\mathbf{S}$ is the spin operator of the electron and $g^*_s$ its effective spin gyromagnetic ratio (or effective \\textit{g-factor} in the host material).% Dirac's relativistic theory predicts for $g_s$, the value $g_s=2$ which is in very good agreement with experiment.\n",
    "We see that the spin magnetic moment $\\mathcal{M}_s$ gives rise to an additional interaction energy linear in the magnetic field,"
   ]
  },
  {
   "cell_type": "markdown",
   "metadata": {},
   "source": [
    "$$\n",
    "\\hat{H_s}= - \\mathcal{M}_s \\cdot \\mathbf{B} = g^*_s \\frac{e }{2 m^*} B \\hat{S_z}= g^*_s \\frac{\\omega_c}{2} \\hat{S_z}\n",
    "$$"
   ]
  },
  {
   "cell_type": "markdown",
   "metadata": {},
   "source": [
    "where $\\omega_c=e B/m^*$ is known as the cyclotron frequency.\n",
    "\n",
    "\n",
    "\n",
    "\n",
    "## Quantum dots, final Hamiltonian\n",
    "The final Hamiltonian reads"
   ]
  },
  {
   "cell_type": "markdown",
   "metadata": {},
   "source": [
    "<!-- Equation labels as ordinary links -->\n",
    "<div id=\"_auto9\"></div>\n",
    "\n",
    "$$\n",
    "\\begin{equation}\n",
    "  \\hat{H}=\\sum_{i=1}^{N_e} \\bigg(  \\frac{- \\hbar^2}{2m^*} \\nabla_i^2 + \\overbrace{\\frac{1}{2} m^* \\omega_0^2 {\\mathbf{r_i}}^2}^{\\begin{smallmatrix}\n",
    "  \\text{Harmonic ocscillator} \n",
    "\\label{_auto9} \\tag{25}\n",
    "\\end{equation}\n",
    "$$"
   ]
  },
  {
   "cell_type": "markdown",
   "metadata": {},
   "source": [
    "<!-- Equation labels as ordinary links -->\n",
    "<div id=\"_auto10\"></div>\n",
    "\n",
    "$$\n",
    "\\begin{equation} \n",
    "  \\text{potential}\n",
    "\\end{smallmatrix}} \\bigg) + \\overbrace{\\frac{e^2}{4 \\pi \\epsilon_0 \\epsilon_r} \\sum_{i < j}\\frac{1}{\\vert\\mathbf{r_i}-\\mathbf{r_j}\\vert}}^{\\begin{smallmatrix}\n",
    "  \\text{Coulomb} \n",
    "\\label{_auto10} \\tag{26}\n",
    "\\end{equation}\n",
    "$$"
   ]
  },
  {
   "cell_type": "markdown",
   "metadata": {},
   "source": [
    "$$\n",
    "\\text{interactions}\n",
    "\\end{smallmatrix}}  \\nonumber\n",
    "$$"
   ]
  },
  {
   "cell_type": "markdown",
   "metadata": {},
   "source": [
    "<!-- Equation labels as ordinary links -->\n",
    "<div id=\"_auto11\"></div>\n",
    "\n",
    "$$\n",
    "\\begin{equation} \n",
    "+  \\underbrace{\\sum_{i=1}^{N_e} \\left( \\frac{1}{2} m^* \\left( \\frac{\\omega_c}{2} \\right)^2 {\\mathbf{r_i}}^2 + \\frac{1}{2}  \\omega_c \\hat{L}_z^{(i)}+ \\frac{1  }{2} g_s^*  \\omega_c \\hat{S}_z^{(i)}\\right)}_{\\begin{smallmatrix}\n",
    "  \\text{single particle interactions} \n",
    "\\label{_auto11} \\tag{27}\n",
    "\\end{equation}\n",
    "$$"
   ]
  },
  {
   "cell_type": "markdown",
   "metadata": {},
   "source": [
    "<!-- Equation labels as ordinary links -->\n",
    "<div id=\"_auto12\"></div>\n",
    "\n",
    "$$\n",
    "\\begin{equation} \n",
    "  \\text{with the magnetic field}\n",
    "\\end{smallmatrix}},\n",
    "\\label{_auto12} \\tag{28}\n",
    "\\end{equation}\n",
    "$$"
   ]
  },
  {
   "cell_type": "markdown",
   "metadata": {},
   "source": [
    "## Our system, quantum dots\n",
    "In order to simplify the computation, the Hamiltonian can be rewritten on dimensionless form.\n",
    "For this purpose, we introduce the following constants:\n",
    "* The oscillator frequency $\\omega = \\omega_0\\sqrt{1+\\omega_c^2/ (4\\omega_0^2)}$,\n",
    "\n",
    "* A new energy unit $\\hbar \\omega$,\n",
    "\n",
    "* A new length unit, the oscillator length defined by $l=\\sqrt{\\hbar /(m^* \\omega)}$, also called the characteristic length unit.\n",
    "\n",
    "We rewrite the Hamiltonian in dimensionless units using\n",
    "$$\\mathbf{r} \\longrightarrow \\frac{\\mathbf{r}}{l}, \\quad \\nabla \\longrightarrow l \\;\\nabla \\quad \\text{and} \\quad \\hat{L}_z \\longrightarrow \\hat{L}_z$$\n",
    "\n",
    "\n",
    "\n",
    "\n",
    "## Quantum dots Hamiltonian\n",
    "It leads to the following Hamiltonian"
   ]
  },
  {
   "cell_type": "markdown",
   "metadata": {},
   "source": [
    "<!-- Equation labels as ordinary links -->\n",
    "<div id=\"_auto13\"></div>\n",
    "\n",
    "$$\n",
    "\\begin{equation}\n",
    "\\hat{H}=\\sum_{i=1}^{N_e} \\left(  -\\frac{1}{2} \\nabla_i^2 + \\frac{1}{2} r_i^2 \\right)  + \\overbrace{\\frac{e^2}{4 \\pi \\epsilon_0 \\epsilon_r} \\frac{1}{\\hbar \\omega l}}^{\\begin{smallmatrix}\n",
    "  \\text{Dimensionless} \n",
    "\\label{_auto13} \\tag{29}\n",
    "\\end{equation}\n",
    "$$"
   ]
  },
  {
   "cell_type": "markdown",
   "metadata": {},
   "source": [
    "<!-- Equation labels as ordinary links -->\n",
    "<div id=\"_auto14\"></div>\n",
    "\n",
    "$$\n",
    "\\begin{equation} \n",
    " \\text{confinement } \n",
    "\\label{_auto14} \\tag{30}\n",
    "\\end{equation}\n",
    "$$"
   ]
  },
  {
   "cell_type": "markdown",
   "metadata": {},
   "source": [
    "$$\n",
    "\\text{strength ($\\lambda$)}\n",
    "\\end{smallmatrix}}\n",
    "\\sum_{i < j}\\frac{1}{r_{ij}}  \\nonumber\n",
    "$$"
   ]
  },
  {
   "cell_type": "markdown",
   "metadata": {},
   "source": [
    "<!-- Equation labels as ordinary links -->\n",
    "<div id=\"_auto15\"></div>\n",
    "\n",
    "$$\n",
    "\\begin{equation} \n",
    "+  \\sum_{i=1}^{N_e} \\left(  \\frac{1}{2}  \\frac{\\omega_c}{\\hbar \\omega} \\hat{L}_z^{(i)}+ \\frac{1  }{2} g_s^* \\frac{\\omega_c}{\\hbar \\omega} \\hat{S}_z^{(i)}\\right),\n",
    "\\label{_auto15} \\tag{31}\n",
    "\\end{equation}\n",
    "Lengths are now measured in units of $l=\\sqrt{\\hbar/(m^*\\omega)}$, and energies in units of $\\hbar \\omega$.\n",
    "$$"
   ]
  },
  {
   "cell_type": "markdown",
   "metadata": {},
   "source": [
    "## Our system, quantum dots\n",
    "A new dimensionless parameter $\\lambda=l / a_0^*$ (where $a_0^*= 4 \\pi \\epsilon_0 \\epsilon_r \\hbar^2 / (e^2 m^*)$ is the effective Bohr radius) describes the strength of the electron-electron interaction.\n",
    "Large $\\lambda$ implies strong interaction and/or large quantum dot.\n",
    "\n",
    "Since both $\\hat{L_z}$ and $\\hat{S_z}$ commute with the Hamiltonian we can perform the calculations separately in subspaces of given quantum numbers $L_z$ and $S_z$."
   ]
  },
  {
   "cell_type": "markdown",
   "metadata": {},
   "source": [
    "$$\n",
    "The simplified dimensionless Hamiltonian becomes\n",
    "\n",
    "  \\hat{H}=\\sum_{i=1}^{N_e} \\left[  -\\frac{1}{2} \\nabla_i^2 + \\frac{1}{2} r_i^2  \\right]+ \\lambda \\sum_{i < j}\\frac{1}{r_{ij}} +  \\sum_{i=1}^{N_e} \\left(  \\frac{1}{2}  \\frac{\\omega_c}{\\hbar \\omega} L_z^{(i)}+ \\frac{1  }{2} g_s^* \\frac{\\omega_c}{\\hbar \\omega} S_z^{(i)}\\right),\n",
    "$$"
   ]
  },
  {
   "cell_type": "markdown",
   "metadata": {},
   "source": [
    "## Our system, quantum dots\n",
    "The last sum which is proportional to the magnetic field involves only the quantum numbers $L_z$ and $S_z$ and not the operators themselves. Therefore these terms can be put aside during the resolution, the squizzing effect of the magnetic field being included simply in the parameter $\\lambda$. The contribution of these terms will be added when the other part has been solved. This brings us to the simple and general form of the Hamiltonian"
   ]
  },
  {
   "cell_type": "markdown",
   "metadata": {},
   "source": [
    "$$\n",
    "\\hat{H}=\\sum_{i=1}^{N_e} \\left(  -\\frac{1}{2} \\nabla_i^2 + \\frac{1}{2} r_i^2  \\right)+ \\lambda \\sum_{i < j}\\frac{1}{r_{ij}}.\n",
    "$$"
   ]
  },
  {
   "cell_type": "markdown",
   "metadata": {},
   "source": [
    "The form"
   ]
  },
  {
   "cell_type": "markdown",
   "metadata": {},
   "source": [
    "$$\n",
    "\\hat{H}=\\sum_{i=1}^{N_e} \\left(  -\\frac{1}{2} \\nabla_i^2 + \\frac{1}{2} r_i^2  \\right)+ \\lambda \\sum_{i < j}\\frac{1}{r_{ij}},\n",
    "$$"
   ]
  },
  {
   "cell_type": "markdown",
   "metadata": {},
   "source": [
    "is however not so practical since the interaction carries a strength $\\lambda$. Why?\n",
    "\n",
    "\n",
    "\n",
    "\n",
    "## Our system, quantum dots\n",
    "We rewrite it as a one-body part"
   ]
  },
  {
   "cell_type": "markdown",
   "metadata": {},
   "source": [
    "$$\n",
    "\\hat{H}_0=\\sum_{i=1}^{N_e}\\left(-{\\frac{1}{2}}\\nabla^2_{i}+\\frac{ \\omega^2}{2}r^2_{i} \\right),\n",
    "$$"
   ]
  },
  {
   "cell_type": "markdown",
   "metadata": {},
   "source": [
    "and interacting part"
   ]
  },
  {
   "cell_type": "markdown",
   "metadata": {},
   "source": [
    "$$\n",
    "\\hat{V}=\\sum_{i < j}^{N_e}\\frac{1}{|{\\bf r}_i-{\\bf r}_j|}.\n",
    "$$"
   ]
  },
  {
   "cell_type": "markdown",
   "metadata": {},
   "source": [
    "The unperturbed part of the Hamiltonian yields the  single-particle energies"
   ]
  },
  {
   "cell_type": "markdown",
   "metadata": {},
   "source": [
    "$$\n",
    "\\epsilon_i = \\omega\\left(2n+|m| + 1\\right),\n",
    "$$"
   ]
  },
  {
   "cell_type": "markdown",
   "metadata": {},
   "source": [
    "where $n = 0,1,2,3,..$ and $m = 0, \\pm 1, \\pm 2,..$. The index $i$ runs from $0,1,2,\\dots$.\n",
    "\n",
    "\n",
    "\n",
    "\n",
    "## Small tasks\n",
    "Set up the harmonic oscillator wave function in cartesian coordinates  for an electron with $n_x=n_y=0$ and find the oscillator energy.\n",
    "Use this result to find the unperturbed energy"
   ]
  },
  {
   "cell_type": "markdown",
   "metadata": {},
   "source": [
    "$$\n",
    "\\int \\Phi^*\\hat{H_0}\\Phi  d\\mathbf{\\tau}\n",
    "  = \\sum_{\\mu=1}^N \\langle \\mu | h | \\mu \\rangle.\n",
    "$$"
   ]
  },
  {
   "cell_type": "markdown",
   "metadata": {},
   "source": [
    "for two electrons with the same quantum numbers. \n",
    "\n",
    "* Repeat for six electrons (find the relevant harmonic oscillator quantum numbers)\n",
    "\n",
    "* Repeat for 12 and 20 electrons"
   ]
  }
 ],
 "metadata": {},
 "nbformat": 4,
 "nbformat_minor": 0
}
