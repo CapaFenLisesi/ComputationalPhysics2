{
 "metadata": {},
 "nbformat": 3,
 "nbformat_minor": 0,
 "worksheets": [
  {
   "cells": [
    {
     "cell_type": "markdown",
     "metadata": {},
     "source": [
      "# Variational Monte Carlo methods\n",
      "**Spring 2015**\n",
      "\n",
      "### Quantum Monte Carlo Motivation\n",
      "Given a hamiltonian $H$ and a trial wave function $\\Psi_T$, the variational principle states that the expectation value of $\\langle H \\rangle$, defined through"
     ]
    },
    {
     "cell_type": "markdown",
     "metadata": {},
     "source": [
      "$$\n",
      "E[H]= \\langle H \\rangle =\n",
      "   \\frac{\\int d\\boldsymbol{R}\\Psi^{\\ast}_T(\\boldsymbol{R})H(\\boldsymbol{R})\\Psi_T(\\boldsymbol{R})}\n",
      "        {\\int d\\boldsymbol{R}\\Psi^{\\ast}_T(\\boldsymbol{R})\\Psi_T(\\boldsymbol{R})},\n",
      "$$"
     ]
    },
    {
     "cell_type": "markdown",
     "metadata": {},
     "source": [
      "is an upper bound to the ground state energy $E_0$ of the hamiltonian $H$, that is"
     ]
    },
    {
     "cell_type": "markdown",
     "metadata": {},
     "source": [
      "$$\n",
      "E_0 \\le \\langle H \\rangle .\n",
      "$$"
     ]
    },
    {
     "cell_type": "markdown",
     "metadata": {},
     "source": [
      "In general, the integrals involved in the calculation of various  expectation values  are multi-dimensional ones. Traditional integration methods such as the Gauss-Legendre will not be adequate for say the  computation of the energy of a many-body system.\n",
      "\n",
      "\n",
      "\n",
      "### Quantum Monte Carlo Motivation\n",
      "The trial wave function can be expanded in the eigenstates of the hamiltonian since they form a complete set, viz.,"
     ]
    },
    {
     "cell_type": "markdown",
     "metadata": {},
     "source": [
      "$$\n",
      "\\Psi_T(\\boldsymbol{R})=\\sum_i a_i\\Psi_i(\\boldsymbol{R}),\n",
      "$$"
     ]
    },
    {
     "cell_type": "markdown",
     "metadata": {},
     "source": [
      "and assuming the set of eigenfunctions to be normalized one obtains"
     ]
    },
    {
     "cell_type": "markdown",
     "metadata": {},
     "source": [
      "$$\n",
      "\\frac{\\sum_{nm}a^*_ma_n \\int d\\boldsymbol{R}\\Psi^{\\ast}_m(\\boldsymbol{R})H(\\boldsymbol{R})\\Psi_n(\\boldsymbol{R})}\n",
      "        {\\sum_{nm}a^*_ma_n \\int d\\boldsymbol{R}\\Psi^{\\ast}_m(\\boldsymbol{R})\\Psi_n(\\boldsymbol{R})} =\\frac{\\sum_{n}a^2_n E_n}\n",
      "        {\\sum_{n}a^2_n} \\ge E_0,\n",
      "$$"
     ]
    },
    {
     "cell_type": "markdown",
     "metadata": {},
     "source": [
      "where we used that $H(\\boldsymbol{R})\\Psi_n(\\boldsymbol{R})=E_n\\Psi_n(\\boldsymbol{R})$.\n",
      "In general, the integrals involved in the calculation of various  expectation\n",
      "values  are multi-dimensional ones. \n",
      "The variational principle yields the lowest state of a given symmetry.\n",
      "\n",
      "\n",
      "\n",
      "\n",
      "### Quantum Monte Carlo Motivation\n",
      "In most cases, a wave function has only small values in large parts of \n",
      "configuration space, and a straightforward procedure which uses\n",
      "homogenously distributed random points in configuration space \n",
      "will most likely lead to poor results. This may suggest that some kind\n",
      "of importance sampling combined with e.g., the Metropolis algorithm \n",
      "may be  a more efficient way of obtaining the ground state energy.\n",
      "The hope is then that those regions of configurations space where\n",
      "the wave function assumes appreciable values are sampled more \n",
      "efficiently.\n",
      "\n",
      "\n",
      "\n",
      "\n",
      "### Quantum Monte Carlo Motivation\n",
      "The tedious part in a VMC calculation is the search for the variational\n",
      "minimum. A good knowledge of the system is required in order to carry out\n",
      "reasonable VMC calculations. This is not always the case, \n",
      "and often VMC calculations \n",
      "serve rather as the starting\n",
      "point for so-called diffusion Monte Carlo calculations (DMC). DMC is a way of\n",
      "solving exactly the many-body Schroedinger equation by means of \n",
      "a stochastic procedure. A good guess on the binding energy\n",
      "and its wave function is however necessary. \n",
      "A carefully performed VMC calculation can aid in this context.\n",
      "\n",
      "\n",
      "\n",
      "\n",
      "### Quantum Monte Carlo Motivation\n",
      "* Construct first a trial wave function $\\psi_T(\\boldsymbol{R},\\boldsymbol{\\alpha})$,  for a many-body system consisting of $N$ particles located at positions \n",
      "\n",
      "$\\boldsymbol{R}=(\\boldsymbol{R}_1,\\dots ,\\boldsymbol{R}_N)$. The trial wave function depends on $\\alpha$ variational parameters $\\boldsymbol{\\alpha}=(\\alpha_1,\\dots ,\\alpha_M)$.\n",
      "* Then we evaluate the expectation value of the hamiltonian $H$"
     ]
    },
    {
     "cell_type": "markdown",
     "metadata": {},
     "source": [
      "$$\n",
      "E[H]=\\langle H \\rangle =\n",
      "   \\frac{\\int d\\boldsymbol{R}\\Psi^{\\ast}_{T}(\\boldsymbol{R},\\boldsymbol{\\alpha})H(\\boldsymbol{R})\\Psi_{T}(\\boldsymbol{R},\\boldsymbol{\\alpha})}\n",
      "        {\\int d\\boldsymbol{R}\\Psi^{\\ast}_{T}(\\boldsymbol{R},\\boldsymbol{\\alpha})\\Psi_{T}(\\boldsymbol{R},\\boldsymbol{\\alpha})}.\n",
      "$$"
     ]
    },
    {
     "cell_type": "markdown",
     "metadata": {},
     "source": [
      "* Thereafter we vary $\\alpha$ according to some minimization algorithm and return to the first step.\n",
      "\n",
      "\n",
      "\n",
      "\n",
      "### Quantum Monte Carlo Motivation\n",
      "**Basic steps.**\n",
      "\n",
      "Choose a trial wave function\n",
      "$\\psi_T(\\boldsymbol{R})$."
     ]
    },
    {
     "cell_type": "markdown",
     "metadata": {},
     "source": [
      "$$\n",
      "P(\\boldsymbol{R})= \\frac{\\left|\\psi_T(\\boldsymbol{R})\\right|^2}{\\int \\left|\\psi_T(\\boldsymbol{R})\\right|^2d\\boldsymbol{R}}.\n",
      "$$"
     ]
    },
    {
     "cell_type": "markdown",
     "metadata": {},
     "source": [
      "This is our new probability distribution function  (PDF).\n",
      "The approximation to the expectation value of the Hamiltonian is now"
     ]
    },
    {
     "cell_type": "markdown",
     "metadata": {},
     "source": [
      "$$\n",
      "E[H(\\boldsymbol{\\alpha})] = \n",
      "   \\frac{\\int d\\boldsymbol{R}\\Psi^{\\ast}_T(\\boldsymbol{R},\\boldsymbol{\\alpha})H(\\boldsymbol{R})\\Psi_T(\\boldsymbol{R},\\boldsymbol{\\alpha})}\n",
      "        {\\int d\\boldsymbol{R}\\Psi^{\\ast}_T(\\boldsymbol{R},\\boldsymbol{\\alpha})\\Psi_T(\\boldsymbol{R},\\boldsymbol{\\alpha})}.\n",
      "$$"
     ]
    },
    {
     "cell_type": "markdown",
     "metadata": {},
     "source": [
      "### Quantum Monte Carlo Motivation\n",
      "Define a new quantity"
     ]
    },
    {
     "cell_type": "markdown",
     "metadata": {},
     "source": [
      "<!-- Equation labels as ordinary links -->\n",
      "<div id=\"eq:locale1\"></div>\n",
      "\n",
      "$$\n",
      "E_L(\\boldsymbol{R},\\boldsymbol{\\alpha})=\\frac{1}{\\psi_T(\\boldsymbol{R},\\boldsymbol{\\alpha})}H\\psi_T(\\boldsymbol{R},\\boldsymbol{\\alpha}),\n",
      "   \\label{eq:locale1} \\tag{1}\n",
      "$$"
     ]
    },
    {
     "cell_type": "markdown",
     "metadata": {},
     "source": [
      "called the local energy, which, together with our trial PDF yields"
     ]
    },
    {
     "cell_type": "markdown",
     "metadata": {},
     "source": [
      "<!-- Equation labels as ordinary links -->\n",
      "<div id=\"eq:vmc1\"></div>\n",
      "\n",
      "$$\n",
      "E[H(\\boldsymbol{\\alpha})]=\\int P(\\boldsymbol{R})E_L(\\boldsymbol{R}) d\\boldsymbol{R}\\approx \\frac{1}{N}\\sum_{i=1}^NP(\\boldsymbol{R_i},\\boldsymbol{\\alpha})E_L(\\boldsymbol{R_i},\\boldsymbol{\\alpha})\n",
      "  \\label{eq:vmc1} \\tag{2}\n",
      "$$"
     ]
    },
    {
     "cell_type": "markdown",
     "metadata": {},
     "source": [
      "with $N$ being the number of Monte Carlo samples.\n",
      "\n",
      "\n",
      "\n",
      "\n",
      "\n",
      "\n",
      "\n",
      "\n",
      "### Quantum Monte Carlo\n",
      "The Algorithm for performing a variational Monte Carlo calculations runs thus as this\n",
      "\n",
      "   * Initialisation: Fix the number of Monte Carlo steps. Choose an initial $\\boldsymbol{R}$ and variational parameters $\\alpha$ and calculate $\\left|\\psi_T^{\\alpha}(\\boldsymbol{R})\\right|^2$. \n",
      "\n",
      "   * Initialise the energy and the variance and start the Monte Carlo calculation.\n",
      "\n",
      "      * Calculate  a trial position  $\\boldsymbol{R}_p=\\boldsymbol{R}+r*step$ where $r$ is a random variable $r \\in [0,1]$.\n",
      "\n",
      "      * Metropolis algorithm to accept or reject this move  $w = P(\\boldsymbol{R}_p)/P(\\boldsymbol{R})$.\n",
      "\n",
      "      * If the step is accepted, then we set $\\boldsymbol{R}=\\boldsymbol{R}_p$. \n",
      "\n",
      "      * Update averages\n",
      "\n",
      "\n",
      "   * Finish and compute final averages.\n",
      "\n",
      "Observe that the jumping in space is governed by the variable *step*. This is Called brute-force sampling.\n",
      "Need importance sampling to get more relevant sampling, see lectures below.\n",
      "\n",
      "\n",
      "\n",
      "### Quantum Monte Carlo: hydrogen atom\n",
      "The radial Schroedinger equation for the hydrogen atom can be\n",
      "written as"
     ]
    },
    {
     "cell_type": "markdown",
     "metadata": {},
     "source": [
      "$$\n",
      "-\\frac{\\hbar^2}{2m}\\frac{\\partial^2 u(r)}{\\partial r^2}-\n",
      "\\left(\\frac{ke^2}{r}-\\frac{\\hbar^2l(l+1)}{2mr^2}\\right)u(r)=Eu(r),\n",
      "$$"
     ]
    },
    {
     "cell_type": "markdown",
     "metadata": {},
     "source": [
      "or with dimensionless variables"
     ]
    },
    {
     "cell_type": "markdown",
     "metadata": {},
     "source": [
      "<!-- Equation labels as ordinary links -->\n",
      "<div id=\"eq:hydrodimless1\"></div>\n",
      "\n",
      "$$\n",
      "-\\frac{1}{2}\\frac{\\partial^2 u(\\rho)}{\\partial \\rho^2}-\n",
      "\\frac{u(\\rho)}{\\rho}+\\frac{l(l+1)}{2\\rho^2}u(\\rho)-\\lambda u(\\rho)=0,\n",
      "\\label{eq:hydrodimless1} \\tag{3}\n",
      "$$"
     ]
    },
    {
     "cell_type": "markdown",
     "metadata": {},
     "source": [
      "with the hamiltonian"
     ]
    },
    {
     "cell_type": "markdown",
     "metadata": {},
     "source": [
      "$$\n",
      "H=-\\frac{1}{2}\\frac{\\partial^2 }{\\partial \\rho^2}-\n",
      "\\frac{1}{\\rho}+\\frac{l(l+1)}{2\\rho^2}.\n",
      "$$"
     ]
    },
    {
     "cell_type": "markdown",
     "metadata": {},
     "source": [
      "Use variational parameter $\\alpha$ in the trial\n",
      "wave function"
     ]
    },
    {
     "cell_type": "markdown",
     "metadata": {},
     "source": [
      "<!-- Equation labels as ordinary links -->\n",
      "<div id=\"eq:trialhydrogen\"></div>\n",
      "\n",
      "$$\n",
      "u_T^{\\alpha}(\\rho)=\\alpha\\rho e^{-\\alpha\\rho}. \n",
      "   \\label{eq:trialhydrogen} \\tag{4}\n",
      "$$"
     ]
    },
    {
     "cell_type": "markdown",
     "metadata": {},
     "source": [
      "### Quantum Monte Carlo: hydrogen atom\n",
      "Inserting this wave function into the expression for the\n",
      "local energy $E_L$ gives"
     ]
    },
    {
     "cell_type": "markdown",
     "metadata": {},
     "source": [
      "$$\n",
      "E_L(\\rho)=-\\frac{1}{\\rho}-\n",
      "              \\frac{\\alpha}{2}\\left(\\alpha-\\frac{2}{\\rho}\\right).\n",
      "$$"
     ]
    },
    {
     "cell_type": "markdown",
     "metadata": {},
     "source": [
      "A simple variational Monte Carlo calculation results in\n",
      "<table border=\"1\">\n",
      "<thead>\n",
      "<tr><th align=\"center\">  $\\alpha$ </th> <th align=\"center\">$\\langle H \\rangle $</th> <th align=\"center\"> $\\sigma^2$</th> <th align=\"center\">$\\sigma/\\sqrt{N}$</th> </tr>\n",
      "</thead>\n",
      "<tbody>\n",
      "<tr><td align=\"center\">   7.00000E-01    </td> <td align=\"center\">   -4.57759E-01            </td> <td align=\"center\">   4.51201E-02    </td> <td align=\"center\">   6.71715E-04          </td> </tr>\n",
      "<tr><td align=\"center\">   8.00000E-01    </td> <td align=\"center\">   -4.81461E-01            </td> <td align=\"center\">   3.05736E-02    </td> <td align=\"center\">   5.52934E-04          </td> </tr>\n",
      "<tr><td align=\"center\">   9.00000E-01    </td> <td align=\"center\">   -4.95899E-01            </td> <td align=\"center\">   8.20497E-03    </td> <td align=\"center\">   2.86443E-04          </td> </tr>\n",
      "<tr><td align=\"center\">   1.00000E-00    </td> <td align=\"center\">   -5.00000E-01            </td> <td align=\"center\">   0.00000E+00    </td> <td align=\"center\">   0.00000E+00          </td> </tr>\n",
      "<tr><td align=\"center\">   1.10000E+00    </td> <td align=\"center\">   -4.93738E-01            </td> <td align=\"center\">   1.16989E-02    </td> <td align=\"center\">   3.42036E-04          </td> </tr>\n",
      "<tr><td align=\"center\">   1.20000E+00    </td> <td align=\"center\">   -4.75563E-01            </td> <td align=\"center\">   8.85899E-02    </td> <td align=\"center\">   9.41222E-04          </td> </tr>\n",
      "<tr><td align=\"center\">   1.30000E+00    </td> <td align=\"center\">   -4.54341E-01            </td> <td align=\"center\">   1.45171E-01    </td> <td align=\"center\">   1.20487E-03          </td> </tr>\n",
      "</tbody>\n",
      "</table>\n",
      "\n",
      "\n",
      "\n",
      "\n",
      "### Quantum Monte Carlo: hydrogen atom\n",
      "\n",
      "We note that at $\\alpha=1$ we obtain the exact\n",
      "result, and the variance is zero, as it should. The reason is that \n",
      "we then have the exact wave function, and the action of the hamiltionan\n",
      "on the wave function"
     ]
    },
    {
     "cell_type": "markdown",
     "metadata": {},
     "source": [
      "$$\n",
      "H\\psi = \\mathrm{constant}\\times \\psi,\n",
      "$$"
     ]
    },
    {
     "cell_type": "markdown",
     "metadata": {},
     "source": [
      "yields just a constant. The integral which defines various \n",
      "expectation values involving moments of the hamiltonian becomes then"
     ]
    },
    {
     "cell_type": "markdown",
     "metadata": {},
     "source": [
      "$$\n",
      "\\langle H^n \\rangle =\n",
      "   \\frac{\\int d\\boldsymbol{R}\\Psi^{\\ast}_T(\\boldsymbol{R})H^n(\\boldsymbol{R})\\Psi_T(\\boldsymbol{R})}\n",
      "        {\\int d\\boldsymbol{R}\\Psi^{\\ast}_T(\\boldsymbol{R})\\Psi_T(\\boldsymbol{R})}=\n",
      "\\mathrm{constant}\\times\\frac{\\int d\\boldsymbol{R}\\Psi^{\\ast}_T(\\boldsymbol{R})\\Psi_T(\\boldsymbol{R})}\n",
      "        {\\int d\\boldsymbol{R}\\Psi^{\\ast}_T(\\boldsymbol{R})\\Psi_T(\\boldsymbol{R})}=\\mathrm{constant}.\n",
      "$$"
     ]
    },
    {
     "cell_type": "markdown",
     "metadata": {},
     "source": [
      "**This gives an important information: the exact wave function leads to zero variance!**\n",
      "Variation is then performed by minimizing both the energy and the variance.\n",
      "\n",
      "\n",
      "\n",
      "\n",
      "\n",
      "### Quantum Monte Carlo: the helium atom\n",
      "The helium atom consists of two electrons and a nucleus with\n",
      "charge $Z=2$. \n",
      "The contribution  \n",
      "to the potential energy due to the attraction from the nucleus is"
     ]
    },
    {
     "cell_type": "markdown",
     "metadata": {},
     "source": [
      "$$\n",
      "-\\frac{2ke^2}{r_1}-\\frac{2ke^2}{r_2},\n",
      "$$"
     ]
    },
    {
     "cell_type": "markdown",
     "metadata": {},
     "source": [
      "and if we add the repulsion arising from the two \n",
      "interacting electrons, we obtain the potential energy"
     ]
    },
    {
     "cell_type": "markdown",
     "metadata": {},
     "source": [
      "$$\n",
      "V(r_1, r_2)=-\\frac{2ke^2}{r_1}-\\frac{2ke^2}{r_2}+\n",
      "               \\frac{ke^2}{r_{12}},\n",
      "$$"
     ]
    },
    {
     "cell_type": "markdown",
     "metadata": {},
     "source": [
      "with the electrons separated at a distance \n",
      "$r_{12}=|\\boldsymbol{r}_1-\\boldsymbol{r}_2|$.\n",
      "\n",
      "\n",
      "\n",
      "\n",
      "### Quantum Monte Carlo: the helium atom\n",
      "\n",
      "The hamiltonian becomes then"
     ]
    },
    {
     "cell_type": "markdown",
     "metadata": {},
     "source": [
      "$$\n",
      "\\hat{H}=-\\frac{\\hbar^2\\nabla_1^2}{2m}-\\frac{\\hbar^2\\nabla_2^2}{2m}\n",
      "          -\\frac{2ke^2}{r_1}-\\frac{2ke^2}{r_2}+\n",
      "               \\frac{ke^2}{r_{12}},\n",
      "$$"
     ]
    },
    {
     "cell_type": "markdown",
     "metadata": {},
     "source": [
      "and  Schroedingers equation reads"
     ]
    },
    {
     "cell_type": "markdown",
     "metadata": {},
     "source": [
      "$$\n",
      "\\hat{H}\\psi=E\\psi.\n",
      "$$"
     ]
    },
    {
     "cell_type": "markdown",
     "metadata": {},
     "source": [
      "All observables are evaluated with respect to the probability distribution"
     ]
    },
    {
     "cell_type": "markdown",
     "metadata": {},
     "source": [
      "$$\n",
      "P(\\boldsymbol{R})= \\frac{\\left|\\psi_T(\\boldsymbol{R})\\right|^2}{\\int \\left|\\psi_T(\\boldsymbol{R})\\right|^2d\\boldsymbol{R}}.\n",
      "$$"
     ]
    },
    {
     "cell_type": "markdown",
     "metadata": {},
     "source": [
      "generated by the trial wave function.   \n",
      "The trial wave function must approximate an exact \n",
      "eigenstate in order that accurate results are to be obtained.\n",
      "\n",
      "\n",
      "\n",
      "### Quantum Monte Carlo: the helium atom\n",
      "Choice of trial wave function for Helium:\n",
      "Assume $r_1 \\rightarrow 0$."
     ]
    },
    {
     "cell_type": "markdown",
     "metadata": {},
     "source": [
      "2\n",
      "1\n",
      " \n",
      "<\n",
      "<\n",
      "<\n",
      "!\n",
      "!\n",
      "M\n",
      "A\n",
      "T\n",
      "H\n",
      "_\n",
      "B\n",
      "L\n",
      "O\n",
      "C\n",
      "K"
     ]
    },
    {
     "cell_type": "markdown",
     "metadata": {},
     "source": [
      "$$\n",
      "E_L(R)=\n",
      "    \\frac{1}{{\\cal R}_T(r_1)}\\left(-\\frac{1}{2}\\frac{d^2}{dr_1^2}-\n",
      "     \\frac{1}{r_1}\\frac{d}{dr_1}\n",
      "     -\\frac{Z}{r_1}\\right){\\cal R}_T(r_1) + \\mathrm{finite\\hspace{0.1cm} terms}\n",
      "$$"
     ]
    },
    {
     "cell_type": "markdown",
     "metadata": {},
     "source": [
      "For small values of $r_1$, the terms which dominate are"
     ]
    },
    {
     "cell_type": "markdown",
     "metadata": {},
     "source": [
      "$$\n",
      "\\lim_{r_1 \\rightarrow 0}E_L(R)=\n",
      "    \\frac{1}{{\\cal R}_T(r_1)}\\left(-\n",
      "     \\frac{1}{r_1}\\frac{d}{dr_1}\n",
      "     -\\frac{Z}{r_1}\\right){\\cal R}_T(r_1),\n",
      "$$"
     ]
    },
    {
     "cell_type": "markdown",
     "metadata": {},
     "source": [
      "since the second derivative does not diverge due to the finiteness of  $\\Psi$ at the origin.\n",
      "\n",
      "\n",
      "\n",
      "\n",
      "\n",
      "\n",
      "### Quantum Monte Carlo: the helium atom\n",
      "This results in"
     ]
    },
    {
     "cell_type": "markdown",
     "metadata": {},
     "source": [
      "$$\n",
      "\\frac{1}{{\\cal R}_T(r_1)}\\frac{d {\\cal R}_T(r_1)}{dr_1}=-Z,\n",
      "$$"
     ]
    },
    {
     "cell_type": "markdown",
     "metadata": {},
     "source": [
      "and"
     ]
    },
    {
     "cell_type": "markdown",
     "metadata": {},
     "source": [
      "$$\n",
      "{\\cal R}_T(r_1)\\propto e^{-Zr_1}.\n",
      "$$"
     ]
    },
    {
     "cell_type": "markdown",
     "metadata": {},
     "source": [
      "A similar condition applies to electron 2 as well. \n",
      "For orbital momenta $l > 0$ we have"
     ]
    },
    {
     "cell_type": "markdown",
     "metadata": {},
     "source": [
      "$$\n",
      "\\frac{1}{{\\cal R}_T(r)}\\frac{d {\\cal R}_T(r)}{dr}=-\\frac{Z}{l+1}.\n",
      "$$"
     ]
    },
    {
     "cell_type": "markdown",
     "metadata": {},
     "source": [
      "Similarly, studying the case $r_{12}\\rightarrow 0$ we can write \n",
      "a possible trial wave function as"
     ]
    },
    {
     "cell_type": "markdown",
     "metadata": {},
     "source": [
      "<!-- Equation labels as ordinary links -->\n",
      "<div id=\"eq:wavehelium2\"></div>\n",
      "\n",
      "$$\n",
      "\\psi_T(\\boldsymbol{R})=e^{-\\alpha(r_1+r_2)}e^{\\beta r_{12}}.\n",
      "    \\label{eq:wavehelium2} \\tag{5}\n",
      "$$"
     ]
    },
    {
     "cell_type": "markdown",
     "metadata": {},
     "source": [
      "The last equation can be generalized to"
     ]
    },
    {
     "cell_type": "markdown",
     "metadata": {},
     "source": [
      "$$\n",
      "\\psi_T(\\boldsymbol{R})=\\phi(\\boldsymbol{r}_1)\\phi(\\boldsymbol{r}_2)\\dots\\phi(\\boldsymbol{r}_N)\n",
      "                   \\prod_{i < j}f(r_{ij}),\n",
      "$$"
     ]
    },
    {
     "cell_type": "markdown",
     "metadata": {},
     "source": [
      "for a system with $N$ electrons or particles.\n",
      "\n",
      "\n",
      "\n",
      "\n",
      "\n",
      "\n",
      "### The first attempt at solving the helium atom\n",
      "\n",
      "During the development of our code we need to make several checks. It is also very instructive to compute a closed form expression for the local energy. Since our wave function is rather simple  it is straightforward\n",
      "to find an analytic expressions.  Consider first the case of the simple helium function"
     ]
    },
    {
     "cell_type": "markdown",
     "metadata": {},
     "source": [
      "$$\n",
      "\\Psi_T(\\boldsymbol{r}_1,\\boldsymbol{r}_2) = e^{-\\alpha(r_1+r_2)}\n",
      "$$"
     ]
    },
    {
     "cell_type": "markdown",
     "metadata": {},
     "source": [
      "The local energy is for this case"
     ]
    },
    {
     "cell_type": "markdown",
     "metadata": {},
     "source": [
      "$$\n",
      "E_{L1} = \\left(\\alpha-Z\\right)\\left(\\frac{1}{r_1}+\\frac{1}{r_2}\\right)+\\frac{1}{r_{12}}-\\alpha^2\n",
      "$$"
     ]
    },
    {
     "cell_type": "markdown",
     "metadata": {},
     "source": [
      "which gives an expectation value for the local energy given by"
     ]
    },
    {
     "cell_type": "markdown",
     "metadata": {},
     "source": [
      "$$\n",
      "\\langle E_{L1} \\rangle = \\alpha^2-2\\alpha\\left(Z-\\frac{5}{16}\\right)\n",
      "$$"
     ]
    },
    {
     "cell_type": "markdown",
     "metadata": {},
     "source": [
      "### The first attempt at solving the Helium atom\n",
      "\n",
      "With closed form formulae we  can speed up the computation of the correlation. In our case\n",
      "we write it as"
     ]
    },
    {
     "cell_type": "markdown",
     "metadata": {},
     "source": [
      "$$\n",
      "\\Psi_C= \\exp{\\left\\{\\sum_{i < j}\\frac{ar_{ij}}{1+\\beta r_{ij}}\\right\\}},\n",
      "$$"
     ]
    },
    {
     "cell_type": "markdown",
     "metadata": {},
     "source": [
      "which means that the gradient needed for the so-called quantum force and local energy \n",
      "can be calculated analytically.\n",
      "This will speed up your code since the computation of the correlation part and the Slater determinant are the most \n",
      "time consuming parts in your code.  \n",
      "\n",
      "We will refer to this correlation function as $\\Psi_C$ or the *linear Pade-Jastrow*.\n",
      "\n",
      "\n",
      "\n",
      "### The first attempt at solving the Helium atom\n",
      "\n",
      "We can test this by computing the local energy for our helium wave function"
     ]
    },
    {
     "cell_type": "markdown",
     "metadata": {},
     "source": [
      "$$\n",
      "\\psi_{T}(\\boldsymbol{r}_1,\\boldsymbol{r}_2) = \n",
      "   \\exp{\\left(-\\alpha(r_1+r_2)\\right)}\n",
      "   \\exp{\\left(\\frac{r_{12}}{2(1+\\beta r_{12})}\\right)},\n",
      "$$"
     ]
    },
    {
     "cell_type": "markdown",
     "metadata": {},
     "source": [
      "with $\\alpha$ and $\\beta$ as variational parameters.\n",
      "\n",
      "The local energy is for this case"
     ]
    },
    {
     "cell_type": "markdown",
     "metadata": {},
     "source": [
      "$$\n",
      "E_{L2} = E_{L1}+\\frac{1}{2(1+\\beta r_{12})^2}\\left\\{\\frac{\\alpha(r_1+r_2)}{r_{12}}(1-\\frac{\\boldsymbol{r}_1\\boldsymbol{r}_2}{r_1r_2})-\\frac{1}{2(1+\\beta r_{12})^2}-\\frac{2}{r_{12}}+\\frac{2\\beta}{1+\\beta r_{12}}\\right\\}\n",
      "$$"
     ]
    },
    {
     "cell_type": "markdown",
     "metadata": {},
     "source": [
      "It is very useful to test your code against these expressions. It means also that you don't need to\n",
      "compute a derivative numerically as discussed in the code example below.\n",
      "\n",
      "\n",
      "\n",
      "### The first attempt at solving the Helium atom\n",
      "For the computation of various derivatives with different types of wave functions, you will find it useful to use python with symbolic python, that is sympy, see <http://docs.sympy.org/latest/index.html>.  Using sympy allows you autogenerate both Latex code as well c++, python or Fortran codes. Here you will find some simple examples. We choose \n",
      "the $2s$ hydrogen-orbital  (not normalized) as an example"
     ]
    },
    {
     "cell_type": "markdown",
     "metadata": {},
     "source": [
      "$$\n",
      "\\phi_{2s}(\\boldsymbol{r}) = (Zr - 2)\\exp{-(\\frac{1}{2}Zr)},\n",
      "$$"
     ]
    },
    {
     "cell_type": "markdown",
     "metadata": {},
     "source": [
      "with $ r^2 = x^2 + y^2 + z^2$."
     ]
    },
    {
     "cell_type": "code",
     "collapsed": false,
     "input": [
      "from sympy import symbols, diff, exp, sqrt\n",
      "x, y, z, Z = symbols('x y z Z')\n",
      "r = sqrt(x*x + y*y + z*z)\n",
      "r\n",
      "phi = (Z*r - 2)*exp(-Z*r/2)\n",
      "phi\n",
      "diff(phi, x)\n"
     ],
     "language": "python",
     "metadata": {},
     "outputs": [],
     "prompt_number": 1
    },
    {
     "cell_type": "markdown",
     "metadata": {},
     "source": [
      "This doesn't look very nice, but sympy provides several functions that allow for improving and simplifying the output.\n",
      "\n",
      "\n",
      "\n",
      "### The first attempt at solving the Helium atom\n",
      "We can improve our output by factorizing and substituting expressions"
     ]
    },
    {
     "cell_type": "code",
     "collapsed": false,
     "input": [
      "from sympy import symbols, diff, exp, sqrt, factor, Symbol, printing\n",
      "x, y, z, Z = symbols('x y z Z')\n",
      "r = sqrt(x*x + y*y + z*z)\n",
      "phi = (Z*r - 2)*exp(-Z*r/2)\n",
      "R = Symbol('r') #Creates a symbolic equivalent of r\n",
      "#print latex and c++ code\n",
      "print printing.latex(diff(phi, x).factor().subs(r, R))\n",
      "print printing.ccode(diff(phi, x).factor().subs(r, R))\n"
     ],
     "language": "python",
     "metadata": {},
     "outputs": [],
     "prompt_number": 1
    },
    {
     "cell_type": "markdown",
     "metadata": {},
     "source": [
      "### The first attempt at solving the Helium atom\n",
      "We can in turn look at second derivatives"
     ]
    },
    {
     "cell_type": "code",
     "collapsed": false,
     "input": [
      "from sympy import symbols, diff, exp, sqrt, factor, Symbol, printing\n",
      "x, y, z, Z = symbols('x y z Z')\n",
      "r = sqrt(x*x + y*y + z*z)\n",
      "phi = (Z*r - 2)*exp(-Z*r/2)\n",
      "R = Symbol('r') #Creates a symbolic equivalent of r\n",
      "(diff(diff(phi, x), x) + diff(diff(phi, y), y) + diff(diff(phi, z), z)).factor().subs(r, R)\n",
      "# Collect the Z values\n",
      "(diff(diff(phi, x), x) + diff(diff(phi, y), y) +diff(diff(phi, z), z)).factor().collect(Z).subs(r, R)\n",
      "# Factorize also the r**2 terms\n",
      "(diff(diff(phi, x), x) + diff(diff(phi, y), y) + diff(diff(phi, z), z)).factor().collect(Z).subs(r, R).subs(r**2, R**2).factor()\n",
      "print printing.ccode((diff(diff(phi, x), x) + diff(diff(phi, y), y) + diff(diff(phi, z), z)).factor().collect(Z).subs(r, R).subs(r**2, R**2).factor())\n"
     ],
     "language": "python",
     "metadata": {},
     "outputs": [],
     "prompt_number": 1
    },
    {
     "cell_type": "markdown",
     "metadata": {},
     "source": [
      "With some practice this allows one to be able to check one's own calculation and translate automatically into code lines.\n",
      "\n",
      "\n",
      "\n",
      "### The first attempt at solving the Helium atom\n",
      "**The c++ code with a VMC Solver class, main program first.**"
     ]
    },
    {
     "cell_type": "markdown",
     "metadata": {},
     "source": [
      "        #include \"vmcsolver.h\"\n",
      "        #include <iostream>\n",
      "        using namespace std;\n",
      "        \n",
      "        int main()\n",
      "        {\n",
      "            VMCSolver *solver = new VMCSolver();\n",
      "            solver->runMonteCarloIntegration();\n",
      "            return 0;\n",
      "        }\n"
     ]
    },
    {
     "cell_type": "markdown",
     "metadata": {},
     "source": [
      "### The first attempt at solving the Helium atom\n",
      "**The c++ code with a VMC Solver class, the VMCSolver header file.**"
     ]
    },
    {
     "cell_type": "markdown",
     "metadata": {},
     "source": [
      "        #ifndef VMCSOLVER_H\n",
      "        #define VMCSOLVER_H\n",
      "        #include <armadillo>\n",
      "        using namespace arma;\n",
      "        class VMCSolver\n",
      "        {\n",
      "        public:\n",
      "            VMCSolver();\n",
      "            void runMonteCarloIntegration();\n",
      "        \n",
      "        private:\n",
      "            double waveFunction(const mat &r);\n",
      "            double localEnergy(const mat &r);\n",
      "            int nDimensions;\n",
      "            int charge;\n",
      "            double stepLength;\n",
      "            int nParticles;\n",
      "            double h;\n",
      "            double h2;\n",
      "            long idum;\n",
      "            double alpha;\n",
      "            int nCycles;\n",
      "            mat rOld;\n",
      "            mat rNew;\n",
      "        };\n",
      "        #endif // VMCSOLVER_H\n"
     ]
    },
    {
     "cell_type": "markdown",
     "metadata": {},
     "source": [
      "### The first attempt at solving the Helium atom\n",
      "**The c++ code with a VMC Solver class, VMCSolver codes, initialize.**"
     ]
    },
    {
     "cell_type": "markdown",
     "metadata": {},
     "source": [
      "        #include \"vmcsolver.h\"\n",
      "        #include \"lib.h\"\n",
      "        #include <armadillo>\n",
      "        #include <iostream>\n",
      "        using namespace arma;\n",
      "        using namespace std;\n",
      "        \n",
      "        VMCSolver::VMCSolver() :\n",
      "            nDimensions(3),\n",
      "            charge(2),\n",
      "            stepLength(1.0),\n",
      "            nParticles(2),\n",
      "            h(0.001),\n",
      "            h2(1000000),\n",
      "            idum(-1),\n",
      "            alpha(0.5*charge),\n",
      "            nCycles(1000000)\n",
      "        {\n",
      "        }\n"
     ]
    },
    {
     "cell_type": "markdown",
     "metadata": {},
     "source": [
      "### The first attempt at solving the Helium atom\n",
      "**The c++ code with a VMC Solver class, VMCSolver codes.**"
     ]
    },
    {
     "cell_type": "markdown",
     "metadata": {},
     "source": [
      "        void VMCSolver::runMonteCarloIntegration()\n",
      "        {\n",
      "            rOld = zeros<mat>(nParticles, nDimensions);\n",
      "            rNew = zeros<mat>(nParticles, nDimensions);\n",
      "            double waveFunctionOld = 0;\n",
      "            double waveFunctionNew = 0;\n",
      "            double energySum = 0;\n",
      "            double energySquaredSum = 0;\n",
      "            double deltaE;\n",
      "            // initial trial positions\n",
      "            for(int i = 0; i < nParticles; i++) {\n",
      "                for(int j = 0; j < nDimensions; j++) {\n",
      "                    rOld(i,j) = stepLength * (ran2(&idum) - 0.5);\n",
      "                }\n",
      "            }\n",
      "            rNew = rOld;\n",
      "            // loop over Monte Carlo cycles\n",
      "            for(int cycle = 0; cycle < nCycles; cycle++) {\n",
      "                // Store the current value of the wave function\n",
      "                waveFunctionOld = waveFunction(rOld);\n",
      "                // New position to test\n",
      "                for(int i = 0; i < nParticles; i++) {\n",
      "                    for(int j = 0; j < nDimensions; j++) {\n",
      "                        rNew(i,j) = rOld(i,j) + stepLength*(ran2(&idum) - 0.5);\n",
      "                    }\n",
      "                    // Recalculate the value of the wave function\n",
      "                    waveFunctionNew = waveFunction(rNew);\n",
      "                    // Check for step acceptance (if yes, update position, if no, reset position)\n",
      "                    if(ran2(&idum) <= (waveFunctionNew*waveFunctionNew) / (waveFunctionOld*waveFunctionOld)) {\n",
      "                        for(int j = 0; j < nDimensions; j++) {\n",
      "                            rOld(i,j) = rNew(i,j);\n",
      "                            waveFunctionOld = waveFunctionNew;\n",
      "                        }\n",
      "                    } else {\n",
      "                        for(int j = 0; j < nDimensions; j++) {\n",
      "                            rNew(i,j) = rOld(i,j);\n",
      "                        }\n",
      "                    }\n",
      "                    // update energies\n",
      "                    deltaE = localEnergy(rNew);\n",
      "                    energySum += deltaE;\n",
      "                    energySquaredSum += deltaE*deltaE;\n",
      "                }\n",
      "            }\n",
      "            double energy = energySum/(nCycles * nParticles);\n",
      "            double energySquared = energySquaredSum/(nCycles * nParticles);\n",
      "            cout << \"Energy: \" << energy << \" Energy (squared sum): \" << energySquared << endl;\n",
      "        }\n"
     ]
    },
    {
     "cell_type": "markdown",
     "metadata": {},
     "source": [
      "### The first attempt at solving the Helium atom\n",
      "**The c++ code with a VMC Solver class, VMCSolver codes.**"
     ]
    },
    {
     "cell_type": "markdown",
     "metadata": {},
     "source": [
      "        double VMCSolver::localEnergy(const mat &r)\n",
      "        {\n",
      "            mat rPlus = zeros<mat>(nParticles, nDimensions);\n",
      "            mat rMinus = zeros<mat>(nParticles, nDimensions);\n",
      "            rPlus = rMinus = r;\n",
      "            double waveFunctionMinus = 0;\n",
      "            double waveFunctionPlus = 0;\n",
      "            double waveFunctionCurrent = waveFunction(r);\n",
      "            // Kinetic energy, brute force derivations\n",
      "            double kineticEnergy = 0;\n",
      "            for(int i = 0; i < nParticles; i++) {\n",
      "                for(int j = 0; j < nDimensions; j++) {\n",
      "                    rPlus(i,j) += h;\n",
      "                    rMinus(i,j) -= h;\n",
      "                    waveFunctionMinus = waveFunction(rMinus);\n",
      "                    waveFunctionPlus = waveFunction(rPlus);\n",
      "                    kineticEnergy -= (waveFunctionMinus + waveFunctionPlus - 2 * waveFunctionCurrent);\n",
      "                    rPlus(i,j) = r(i,j);\n",
      "                    rMinus(i,j) = r(i,j);\n",
      "                }\n",
      "            }\n",
      "            kineticEnergy = 0.5 * h2 * kineticEnergy / waveFunctionCurrent;\n",
      "            // Potential energy\n",
      "            double potentialEnergy = 0;\n",
      "            double rSingleParticle = 0;\n",
      "            for(int i = 0; i < nParticles; i++) {\n",
      "                rSingleParticle = 0;\n",
      "                for(int j = 0; j < nDimensions; j++) {\n",
      "                    rSingleParticle += r(i,j)*r(i,j);\n",
      "                }\n",
      "                potentialEnergy -= charge / sqrt(rSingleParticle);\n",
      "            }\n",
      "            // Contribution from electron-electron potential\n",
      "            double r12 = 0;\n",
      "            for(int i = 0; i < nParticles; i++) {\n",
      "                for(int j = i + 1; j < nParticles; j++) {\n",
      "                    r12 = 0;\n",
      "                    for(int k = 0; k < nDimensions; k++) {\n",
      "                        r12 += (r(i,k) - r(j,k)) * (r(i,k) - r(j,k));\n",
      "                    }\n",
      "                    potentialEnergy += 1 / sqrt(r12);\n",
      "                }\n",
      "            }\n",
      "            return kineticEnergy + potentialEnergy;\n",
      "        }\n"
     ]
    },
    {
     "cell_type": "markdown",
     "metadata": {},
     "source": [
      "### The first attempt at solving the Helium atom\n",
      "**The c++ code with a VMC Solver class, VMCSolver codes.**"
     ]
    },
    {
     "cell_type": "markdown",
     "metadata": {},
     "source": [
      "        double VMCSolver::waveFunction(const mat &r)\n",
      "        {\n",
      "            double argument = 0;\n",
      "            for(int i = 0; i < nParticles; i++) {\n",
      "                double rSingleParticle = 0;\n",
      "                for(int j = 0; j < nDimensions; j++) {\n",
      "                    rSingleParticle += r(i,j) * r(i,j);\n",
      "                }\n",
      "                argument += sqrt(rSingleParticle);\n",
      "            }\n",
      "            return exp(-argument * alpha);\n",
      "        }\n"
     ]
    },
    {
     "cell_type": "markdown",
     "metadata": {},
     "source": [
      "### The first attempt at solving the Helium atom\n",
      "**The c++ code with a VMC Solver class, the VMCSolver header file.**"
     ]
    },
    {
     "cell_type": "markdown",
     "metadata": {},
     "source": [
      "        #include <armadillo>\n",
      "        #include <iostream>\n",
      "        using namespace arma;\n",
      "        using namespace std;\n",
      "        double ran2(long *);\n",
      "        \n",
      "        class VMCSolver\n",
      "        {\n",
      "        public:\n",
      "            VMCSolver();\n",
      "            void runMonteCarloIntegration();\n",
      "        \n",
      "        private:\n",
      "            double waveFunction(const mat &r);\n",
      "            double localEnergy(const mat &r);\n",
      "            int nDimensions;\n",
      "            int charge;\n",
      "            double stepLength;\n",
      "            int nParticles;\n",
      "            double h;\n",
      "            double h2;\n",
      "            long idum;\n",
      "            double alpha;\n",
      "            int nCycles;\n",
      "            mat rOld;\n",
      "            mat rNew;\n",
      "        };\n",
      "        \n",
      "        VMCSolver::VMCSolver() :\n",
      "            nDimensions(3),\n",
      "            charge(2),\n",
      "            stepLength(1.0),\n",
      "            nParticles(2),\n",
      "            h(0.001),\n",
      "            h2(1000000),\n",
      "            idum(-1),\n",
      "            alpha(0.5*charge),\n",
      "            nCycles(1000000)\n",
      "        {\n",
      "        }\n",
      "        \n",
      "        void VMCSolver::runMonteCarloIntegration()\n",
      "        {\n",
      "            rOld = zeros<mat>(nParticles, nDimensions);\n",
      "            rNew = zeros<mat>(nParticles, nDimensions);\n",
      "            double waveFunctionOld = 0;\n",
      "            double waveFunctionNew = 0;\n",
      "            double energySum = 0;\n",
      "            double energySquaredSum = 0;\n",
      "            double deltaE;\n",
      "            // initial trial positions\n",
      "            for(int i = 0; i < nParticles; i++) {\n",
      "                for(int j = 0; j < nDimensions; j++) {\n",
      "                    rOld(i,j) = stepLength * (ran2(&idum) - 0.5);\n",
      "                }\n",
      "            }\n",
      "            rNew = rOld;\n",
      "            // loop over Monte Carlo cycles\n",
      "            for(int cycle = 0; cycle < nCycles; cycle++) {\n",
      "                // Store the current value of the wave function\n",
      "                waveFunctionOld = waveFunction(rOld);\n",
      "                // New position to test\n",
      "                for(int i = 0; i < nParticles; i++) {\n",
      "                    for(int j = 0; j < nDimensions; j++) {\n",
      "                        rNew(i,j) = rOld(i,j) + stepLength*(ran2(&idum) - 0.5);\n",
      "                    }\n",
      "                    // Recalculate the value of the wave function\n",
      "                    waveFunctionNew = waveFunction(rNew);\n",
      "                    // Check for step acceptance (if yes, update position, if no, reset position)\n",
      "                    if(ran2(&idum) <= (waveFunctionNew*waveFunctionNew) / (waveFunctionOld*waveFunctionOld)) {\n",
      "                        for(int j = 0; j < nDimensions; j++) {\n",
      "                            rOld(i,j) = rNew(i,j);\n",
      "                            waveFunctionOld = waveFunctionNew;\n",
      "                        }\n",
      "                    } else {\n",
      "                        for(int j = 0; j < nDimensions; j++) {\n",
      "                            rNew(i,j) = rOld(i,j);\n",
      "                        }\n",
      "                    }\n",
      "                    // update energies\n",
      "                    deltaE = localEnergy(rNew);\n",
      "                    energySum += deltaE;\n",
      "                    energySquaredSum += deltaE*deltaE;\n",
      "                }\n",
      "            }\n",
      "            double energy = energySum/(nCycles * nParticles);\n",
      "            double energySquared = energySquaredSum/(nCycles * nParticles);\n",
      "            cout << \"Energy: \" << energy << \" Energy (squared sum): \" << energySquared << endl;\n",
      "        }\n",
      "        \n",
      "        double VMCSolver::localEnergy(const mat &r)\n",
      "        {\n",
      "            mat rPlus = zeros<mat>(nParticles, nDimensions);\n",
      "            mat rMinus = zeros<mat>(nParticles, nDimensions);\n",
      "            rPlus = rMinus = r;\n",
      "            double waveFunctionMinus = 0;\n",
      "            double waveFunctionPlus = 0;\n",
      "            double waveFunctionCurrent = waveFunction(r);\n",
      "            // Kinetic energy, brute force derivations\n",
      "            double kineticEnergy = 0;\n",
      "            for(int i = 0; i < nParticles; i++) {\n",
      "                for(int j = 0; j < nDimensions; j++) {\n",
      "                    rPlus(i,j) += h;\n",
      "                    rMinus(i,j) -= h;\n",
      "                    waveFunctionMinus = waveFunction(rMinus);\n",
      "                    waveFunctionPlus = waveFunction(rPlus);\n",
      "                    kineticEnergy -= (waveFunctionMinus + waveFunctionPlus - 2 * waveFunctionCurrent);\n",
      "                    rPlus(i,j) = r(i,j);\n",
      "                    rMinus(i,j) = r(i,j);\n",
      "                }\n",
      "            }\n",
      "            kineticEnergy = 0.5 * h2 * kineticEnergy / waveFunctionCurrent;\n",
      "            // Potential energy\n",
      "            double potentialEnergy = 0;\n",
      "            double rSingleParticle = 0;\n",
      "            for(int i = 0; i < nParticles; i++) {\n",
      "                rSingleParticle = 0;\n",
      "                for(int j = 0; j < nDimensions; j++) {\n",
      "                    rSingleParticle += r(i,j)*r(i,j);\n",
      "                }\n",
      "                potentialEnergy -= charge / sqrt(rSingleParticle);\n",
      "            }\n",
      "            // Contribution from electron-electron potential\n",
      "            double r12 = 0;\n",
      "            for(int i = 0; i < nParticles; i++) {\n",
      "                for(int j = i + 1; j < nParticles; j++) {\n",
      "                    r12 = 0;\n",
      "                    for(int k = 0; k < nDimensions; k++) {\n",
      "                        r12 += (r(i,k) - r(j,k)) * (r(i,k) - r(j,k));\n",
      "                    }\n",
      "                    potentialEnergy += 1 / sqrt(r12);\n",
      "                }\n",
      "            }\n",
      "            return kineticEnergy + potentialEnergy;\n",
      "        }\n",
      "        \n",
      "        double VMCSolver::waveFunction(const mat &r)\n",
      "        {\n",
      "            double argument = 0;\n",
      "            for(int i = 0; i < nParticles; i++) {\n",
      "                double rSingleParticle = 0;\n",
      "                for(int j = 0; j < nDimensions; j++) {\n",
      "                    rSingleParticle += r(i,j) * r(i,j);\n",
      "                }\n",
      "                argument += sqrt(rSingleParticle);\n",
      "            }\n",
      "            return exp(-argument * alpha);\n",
      "        }\n",
      "        \n",
      "        /*\n",
      "        ** The function\n",
      "        **         ran2()\n",
      "        ** is a long periode (> 2 x 10^18) random number generator of\n",
      "        ** L'Ecuyer and Bays-Durham shuffle and added safeguards.\n",
      "        ** Call with idum a negative integer to initialize; thereafter,\n",
      "        ** do not alter idum between sucessive deviates in a\n",
      "        ** sequence. RNMX should approximate the largest floating point value\n",
      "        ** that is less than 1.\n",
      "        ** The function returns a uniform deviate between 0.0 and 1.0\n",
      "        ** (exclusive of end-point values).\n",
      "        */\n",
      "        \n",
      "        #define IM1 2147483563\n",
      "        #define IM2 2147483399\n",
      "        #define AM (1.0/IM1)\n",
      "        #define IMM1 (IM1-1)\n",
      "        #define IA1 40014\n",
      "        #define IA2 40692\n",
      "        #define IQ1 53668\n",
      "        #define IQ2 52774\n",
      "        #define IR1 12211\n",
      "        #define IR2 3791\n",
      "        #define NTAB 32\n",
      "        #define NDIV (1+IMM1/NTAB)\n",
      "        #define EPS 1.2e-7\n",
      "        #define RNMX (1.0-EPS)\n",
      "        \n",
      "        double ran2(long *idum)\n",
      "        {\n",
      "          int            j;\n",
      "          long           k;\n",
      "          static long    idum2 = 123456789;\n",
      "          static long    iy=0;\n",
      "          static long    iv[NTAB];\n",
      "          double         temp;\n",
      "        \n",
      "          if(*idum <= 0) {\n",
      "            if(-(*idum) < 1) *idum = 1;\n",
      "            else             *idum = -(*idum);\n",
      "            idum2 = (*idum);\n",
      "            for(j = NTAB + 7; j >= 0; j--) {\n",
      "              k     = (*idum)/IQ1;\n",
      "              *idum = IA1*(*idum - k*IQ1) - k*IR1;\n",
      "              if(*idum < 0) *idum +=  IM1;\n",
      "              if(j < NTAB)  iv[j]  = *idum;\n",
      "            }\n",
      "            iy=iv[0];\n",
      "          }\n",
      "          k     = (*idum)/IQ1;\n",
      "          *idum = IA1*(*idum - k*IQ1) - k*IR1;\n",
      "          if(*idum < 0) *idum += IM1;\n",
      "          k     = idum2/IQ2;\n",
      "          idum2 = IA2*(idum2 - k*IQ2) - k*IR2;\n",
      "          if(idum2 < 0) idum2 += IM2;\n",
      "          j     = iy/NDIV;\n",
      "          iy    = iv[j] - idum2;\n",
      "          iv[j] = *idum;\n",
      "          if(iy < 1) iy += IMM1;\n",
      "          if((temp = AM*iy) > RNMX) return RNMX;\n",
      "          else return temp;\n",
      "        }\n",
      "        #undef IM1\n",
      "        #undef IM2\n",
      "        #undef AM\n",
      "        #undef IMM1\n",
      "        #undef IA1\n",
      "        #undef IA2\n",
      "        #undef IQ1\n",
      "        #undef IQ2\n",
      "        #undef IR1\n",
      "        #undef IR2\n",
      "        #undef NTAB\n",
      "        #undef NDIV\n",
      "        #undef EPS\n",
      "        #undef RNMX\n",
      "        \n",
      "        // End: function ran2()\n",
      "        \n",
      "        \n",
      "        #include <iostream>\n",
      "        using namespace std;\n",
      "        \n",
      "        int main()\n",
      "        {\n",
      "            VMCSolver *solver = new VMCSolver();\n",
      "            solver->runMonteCarloIntegration();\n",
      "            return 0;\n",
      "        }\n"
     ]
    },
    {
     "cell_type": "markdown",
     "metadata": {},
     "source": [
      "### The first attempt at solving the Helium atom\n",
      "**Exercises for first lab session, Thursday 22.**\n",
      "\n",
      "\n",
      " * If you have never used git, Qt, armadillo etc, get familiar with them, see the guides at the official UiO website of the course.\n",
      "\n",
      " * Study the simple program in the folder <https://github.com/CompPhysics/ComputationalPhysics2/tree/gh-pages/doc/pub/vmc/programs/>\n",
      "\n",
      " * Implement the closed form expression for the local energy and the so-called quantum force\n",
      "\n",
      " * Convince yourself that the closed form expressions are correct. Check both wave functions\n",
      "\n",
      " * Implement the closed form expression for the local energy and compare with a code where the second derivatives are computed numerically.\n",
      "\n",
      "\n",
      "\n",
      "\n",
      "### The Metropolis algorithm\n",
      "The Metropolis algorithm , see <http://scitation.aip.org/content/aip/journal/jcp/21/6/10.1063/1.1699114>  (see also the FYS3150 lectures <http://www.uio.no/studier/emner/matnat/fys/FYS3150/h14/index.html>)\n",
      "was invented by Metropolis et. al\n",
      "and is often simply called the Metropolis algorithm.\n",
      "It is a method to sample a normalized probability\n",
      "distribution by a stochastic process. We define ${\\cal P}_i^{(n)}$ to\n",
      "be the probability for finding the system in the state $i$ at step $n$.\n",
      "The algorithm is then\n",
      "\n",
      "* Sample a possible new state $j$ with some probability $T_{i\\rightarrow j}$.\n",
      "\n",
      "* Accept the new state $j$ with probability $A_{i \\rightarrow j}$ and use it as the next sample. With probability $1-A_{i\\rightarrow j}$ the move is rejected and the original state $i$ is used again as a sample.\n",
      "\n",
      "\n",
      "\n",
      "\n",
      "### The Metropolis algorithm\n",
      "We wish to derive the required properties of $T$ and $A$ such that\n",
      "${\\cal P}_i^{(n\\rightarrow \\infty)} \\rightarrow p_i$ so that starting\n",
      "from any distribution, the method converges to the correct distribution.\n",
      "Note that the description here is for a discrete probability distribution.\n",
      "Replacing probabilities $p_i$ with expressions like $p(x_i)dx_i$ will\n",
      "take all of these over to the corresponding continuum expressions.\n",
      "\n",
      "\n",
      "\n",
      "\n",
      "### The Metropolis algorithm\n",
      "The dynamical equation for ${\\cal P}_i^{(n)}$ can be written directly from\n",
      "the description above. The probability of being in the state $i$ at step $n$\n",
      "is given by the probability of being in any state $j$ at the previous step,\n",
      "and making an accepted transition to $i$ added to the probability of\n",
      "being in the state $i$, making a transition to any state $j$ and\n",
      "rejecting the move:"
     ]
    },
    {
     "cell_type": "markdown",
     "metadata": {},
     "source": [
      "$$\n",
      "{\\cal P}^{(n)}_i = \\sum_j \\left [\n",
      "{\\cal P}^{(n-1)}_jT_{j\\rightarrow i} A_{j\\rightarrow i} \n",
      "+{\\cal P}^{(n-1)}_iT_{i\\rightarrow j}\\left ( 1- A_{i\\rightarrow j} \\right)\n",
      "\\right ] \\,.\n",
      "$$"
     ]
    },
    {
     "cell_type": "markdown",
     "metadata": {},
     "source": [
      "Since the probability of making some transition must be 1,\n",
      "$\\sum_j T_{i\\rightarrow j} = 1$, and the above equation becomes"
     ]
    },
    {
     "cell_type": "markdown",
     "metadata": {},
     "source": [
      "$$\n",
      "{\\cal P}^{(n)}_i = {\\cal P}^{(n-1)}_i +\n",
      " \\sum_j \\left [\n",
      "{\\cal P}^{(n-1)}_jT_{j\\rightarrow i} A_{j\\rightarrow i} \n",
      "-{\\cal P}^{(n-1)}_iT_{i\\rightarrow j}A_{i\\rightarrow j}\n",
      "\\right ] \\,.\n",
      "$$"
     ]
    },
    {
     "cell_type": "markdown",
     "metadata": {},
     "source": [
      "### The Metropolis algorithm\n",
      "For large $n$ we require that ${\\cal P}^{(n\\rightarrow \\infty)}_i = p_i$,\n",
      "the desired probability distribution. Taking this limit, gives the\n",
      "balance requirement"
     ]
    },
    {
     "cell_type": "markdown",
     "metadata": {},
     "source": [
      "$$\n",
      "\\sum_j \\left [\n",
      "p_jT_{j\\rightarrow i} A_{j\\rightarrow i}\n",
      "-p_iT_{i\\rightarrow j}A_{i\\rightarrow j}\n",
      "\\right ] = 0 \\,.\n",
      "$$"
     ]
    },
    {
     "cell_type": "markdown",
     "metadata": {},
     "source": [
      "The balance requirement is very weak. Typically the much stronger detailed\n",
      "balance requirement is enforced, that is rather than the sum being\n",
      "set to zero, we set each term separately to zero and use this\n",
      "to determine the acceptance probabilities. Rearranging, the result is"
     ]
    },
    {
     "cell_type": "markdown",
     "metadata": {},
     "source": [
      "$$\n",
      "\\frac{ A_{j\\rightarrow i}}{A_{i\\rightarrow j}}\n",
      "= \\frac{p_iT_{i\\rightarrow j}}{ p_jT_{j\\rightarrow i}} \\,.\n",
      "$$"
     ]
    },
    {
     "cell_type": "markdown",
     "metadata": {},
     "source": [
      "### The Metropolis algorithm\n",
      "The Metropolis choice is to maximize the $A$ values, that is"
     ]
    },
    {
     "cell_type": "markdown",
     "metadata": {},
     "source": [
      "$$\n",
      "A_{j \\rightarrow i} = \\min \\left ( 1,\n",
      "\\frac{p_iT_{i\\rightarrow j}}{ p_jT_{j\\rightarrow i}}\\right ).\n",
      "$$"
     ]
    },
    {
     "cell_type": "markdown",
     "metadata": {},
     "source": [
      "Other choices are possible, but they all correspond to multilplying\n",
      "$A_{i\\rightarrow j}$ and $A_{j\\rightarrow i}$ by the same constant\n",
      "smaller than unity.\\footnote{The penalty function method uses just such\n",
      "a factor to compensate for $p_i$ that are evaluated stochastically\n",
      "and are therefore noisy.}\n",
      "\n",
      "\n",
      "\n",
      "### The Metropolis algorithm\n",
      "Having chosen the acceptance probabilities, we have guaranteed that\n",
      "if the  ${\\cal P}_i^{(n)}$ has equilibrated, that is if it is equal to $p_i$,\n",
      "it will remain equilibrated. Next we need to find the circumstances for\n",
      "convergence to equilibrium.\n",
      "\n",
      "The dynamical equation can be written as"
     ]
    },
    {
     "cell_type": "markdown",
     "metadata": {},
     "source": [
      "$$\n",
      "{\\cal P}^{(n)}_i = \\sum_j M_{ij}{\\cal P}^{(n-1)}_j\n",
      "$$"
     ]
    },
    {
     "cell_type": "markdown",
     "metadata": {},
     "source": [
      "with the matrix $M$ given by"
     ]
    },
    {
     "cell_type": "markdown",
     "metadata": {},
     "source": [
      "$$\n",
      "M_{ij} = \\delta_{ij}\\left [ 1 -\\sum_k T_{i\\rightarrow k} A_{i \\rightarrow k}\n",
      "\\right ] + T_{j\\rightarrow i} A_{j\\rightarrow i} \\,.\n",
      "$$"
     ]
    },
    {
     "cell_type": "markdown",
     "metadata": {},
     "source": [
      "Summing over $i$ shows that $\\sum_i M_{ij} = 1$, and since\n",
      "$\\sum_k T_{i\\rightarrow k} = 1$, and $A_{i \\rightarrow k} \\leq 1$, the\n",
      "elements of the matrix satisfy $M_{ij} \\geq 0$. The matrix $M$ is therefore\n",
      "a stochastic matrix.\n",
      "\n",
      "\n",
      "\n",
      "\n",
      "### The Metropolis algorithm\n",
      "The Metropolis method is simply the power method for computing the\n",
      "right eigenvector of $M$ with the largest magnitude eigenvalue.\n",
      "By construction, the correct probability distribution is a right eigenvector\n",
      "with eigenvalue 1. Therefore, for the Metropolis method to converge\n",
      "to this result, we must show that $M$ has only one eigenvalue with this\n",
      "magnitude, and all other eigenvalues are smaller.\n",
      "\n",
      "\n",
      "\n",
      "\n",
      "### Why blocking?\n",
      "**Statistical analysis.**\n",
      "\n",
      "    * Monte Carlo simulations can be treated as *computer experiments*\n",
      "\n",
      "    * The results can be analysed with the same statistical tools as we would use analysing experimental data.\n",
      "\n",
      "    * As in all experiments, we are looking for expectation values and an estimate of how accurate they are, i.e., possible sources for errors.\n",
      "\n",
      "    \n",
      "\n",
      "### Why blocking?\n",
      "**Statistical analysis.**\n",
      "\n",
      "    * As in other experiments, Monte Carlo experiments have two classes of errors:\n",
      "\n",
      "      * Statistical errors\n",
      "\n",
      "      * Systematical errors\n",
      "\n",
      "\n",
      "    * Statistical errors can be estimated using standard tools from statistics\n",
      "\n",
      "    * Systematical errors are method specific and must be treated differently from case to case. (In VMC a common source is the step length or time step in importance sampling)\n",
      "\n",
      "    \n",
      "\n",
      "### Statistics and blocking\n",
      "The *probability distribution function (PDF)* is a function\n",
      "$p(x)$ on the domain which, in the discrete case, gives us the\n",
      "probability or relative frequency with which these values of $X$ occur:"
     ]
    },
    {
     "cell_type": "markdown",
     "metadata": {},
     "source": [
      "$$\n",
      "p(x) = \\mathrm{prob}(X=x)\n",
      "$$"
     ]
    },
    {
     "cell_type": "markdown",
     "metadata": {},
     "source": [
      "In the continuous case, the PDF does not directly depict the\n",
      "actual probability. Instead we define the probability for the\n",
      "stochastic variable to assume any value on an infinitesimal interval\n",
      "around $x$ to be $p(x)dx$. The continuous function $p(x)$ then gives us\n",
      "the *density* of the probability rather than the probability\n",
      "itself. The probability for a stochastic variable to assume any value\n",
      "on a non-infinitesimal interval $[a,\\,b]$ is then just the integral:"
     ]
    },
    {
     "cell_type": "markdown",
     "metadata": {},
     "source": [
      "$$\n",
      "\\mathrm{prob}(a\\leq X\\leq b) = \\int_a^b p(x)dx\n",
      "$$"
     ]
    },
    {
     "cell_type": "markdown",
     "metadata": {},
     "source": [
      "Qualitatively speaking, a stochastic variable represents the values of\n",
      "numbers chosen as if by chance from some specified PDF so that the\n",
      "selection of a large set of these numbers reproduces this PDF.\n",
      "\n",
      "\n",
      "\n",
      "### Statistics and blocking\n",
      "Also of interest to us is the *cumulative probability distribution function (CDF)*, $P(x)$, which is just the probability\n",
      "for a stochastic variable $X$ to assume any value less than $x$:"
     ]
    },
    {
     "cell_type": "markdown",
     "metadata": {},
     "source": [
      "$$\n",
      "P(x)=\\mathrm{Prob(}X\\leq x\\mathrm{)} =\\int_{-\\infty}^x p(x^{\\prime})dx^{\\prime}\n",
      "$$"
     ]
    },
    {
     "cell_type": "markdown",
     "metadata": {},
     "source": [
      "The relation between a CDF and its corresponding PDF is then:"
     ]
    },
    {
     "cell_type": "markdown",
     "metadata": {},
     "source": [
      "$$\n",
      "p(x) = \\frac{d}{dx}P(x)\n",
      "$$"
     ]
    },
    {
     "cell_type": "markdown",
     "metadata": {},
     "source": [
      "### Statistics and blocking\n",
      "A particularly useful class of special expectation values are the\n",
      "*moments*. The $n$-th moment of the PDF $p$ is defined as\n",
      "follows:"
     ]
    },
    {
     "cell_type": "markdown",
     "metadata": {},
     "source": [
      "$$\n",
      "\\langle x^n\\rangle \\equiv \\int\\! x^n p(x)\\,dx\n",
      "$$"
     ]
    },
    {
     "cell_type": "markdown",
     "metadata": {},
     "source": [
      "The zero-th moment $\\langle 1\\rangle$ is just the normalization condition of\n",
      "$p$. The first moment, $\\langle x\\rangle$, is called the *mean* of $p$\n",
      "and often denoted by the letter $\\mu$:"
     ]
    },
    {
     "cell_type": "markdown",
     "metadata": {},
     "source": [
      "$$\n",
      "\\langle x\\rangle = \\mu \\equiv \\int\\! x p(x)\\,dx\n",
      "$$"
     ]
    },
    {
     "cell_type": "markdown",
     "metadata": {},
     "source": [
      "### Statistics and blocking\n",
      "A special version of the moments is the set of *central moments*,\n",
      "the n-th central moment defined as:"
     ]
    },
    {
     "cell_type": "markdown",
     "metadata": {},
     "source": [
      "$$\n",
      "\\langle (x-\\langle x \\rangle )^n\\rangle \\equiv \\int\\! (x-\\langle x\\rangle)^n p(x)\\,dx\n",
      "$$"
     ]
    },
    {
     "cell_type": "markdown",
     "metadata": {},
     "source": [
      "The zero-th and first central moments are both trivial, equal $1$ and\n",
      "$0$, respectively. But the second central moment, known as the\n",
      "*variance* of $p$, is of particular interest. For the stochastic\n",
      "variable $X$, the variance is denoted as $\\sigma^2_X$ or $\\mathrm{var}(X)$:"
     ]
    },
    {
     "cell_type": "markdown",
     "metadata": {},
     "source": [
      "$$\n",
      "\\begin{eqnarray}\n",
      "\\sigma^2_X\\ \\ =\\ \\ \\mathrm{var}(X) & = & \\langle (x-\\langle x\\rangle)^2\\rangle =\n",
      "\\int\\! (x-\\langle x\\rangle)^2 p(x)\\,dx\\\\\n",
      "& = & \\int\\! \\left(x^2 - 2 x \\langle x\\rangle^{2} +\n",
      "  \\langle x\\rangle^2\\right)p(x)\\,dx\\\\\n",
      "& = & \\langle x^2\\rangle - 2 \\langle x\\rangle\\langle x\\rangle + \\langle x\\rangle^2\\\\\n",
      "& = & \\langle x^2\\rangle - \\langle x\\rangle^2\n",
      "\\end{eqnarray}\n",
      "$$"
     ]
    },
    {
     "cell_type": "markdown",
     "metadata": {},
     "source": [
      "The square root of the variance, $\\sigma =\\sqrt{\\langle (x-\\langle x\\rangle)^2\\rangle}$ is called the *standard deviation* of $p$. It is clearly just the RMS (root-mean-square)\n",
      "value of the deviation of the PDF from its mean value, interpreted\n",
      "qualitatively as the *spread* of $p$ around its mean.\n",
      "\n",
      "\n",
      "\n",
      "### Statistics and blocking\n",
      "Another important quantity is the so called covariance, a variant of\n",
      "the above defined variance. Consider again the set $\\{X_i\\}$ of $n$\n",
      "stochastic variables (not necessarily uncorrelated) with the\n",
      "multivariate PDF $P(x_1,\\dots,x_n)$. The *covariance* of two\n",
      "of the stochastic variables, $X_i$ and $X_j$, is defined as follows:"
     ]
    },
    {
     "cell_type": "markdown",
     "metadata": {},
     "source": [
      "<!-- Equation labels as ordinary links -->\n",
      "<div id=\"eq:def_covariance\"></div>\n",
      "\n",
      "$$\n",
      "\\begin{eqnarray}\n",
      "\\mathrm{cov}(X_i,\\,X_j) &\\equiv& \\langle (x_i-\\langle x_i\\rangle)(x_j-\\langle x_j\\rangle)\\rangle\n",
      "\\nonumber\\\\\n",
      "&=&\n",
      "\\int\\!\\cdots\\!\\int\\!(x_i-\\langle x_i \\rangle)(x_j-\\langle x_j \\rangle)\\,\n",
      "P(x_1,\\dots,x_n)\\,dx_1\\dots dx_n\n",
      "\\label{eq:def_covariance} \\tag{6}\n",
      "\\end{eqnarray}\n",
      "$$"
     ]
    },
    {
     "cell_type": "markdown",
     "metadata": {},
     "source": [
      "with"
     ]
    },
    {
     "cell_type": "markdown",
     "metadata": {},
     "source": [
      "$$\n",
      "\\langle x_i\\rangle =\n",
      "\\int\\!\\cdots\\!\\int\\!x_i\\,P(x_1,\\dots,x_n)\\,dx_1\\dots dx_n\n",
      "$$"
     ]
    },
    {
     "cell_type": "markdown",
     "metadata": {},
     "source": [
      "### Statistics and blocking\n",
      "If we consider the above covariance as a matrix $C_{ij}=\\mathrm{cov}(X_i,\\,X_j)$, then the diagonal elements are just the familiar\n",
      "variances, $C_{ii} = \\mathrm{cov}(X_i,\\,X_i) = \\mathrm{var}(X_i)$. It turns out that\n",
      "all the off-diagonal elements are zero if the stochastic variables are\n",
      "uncorrelated. This is easy to show, keeping in mind the linearity of\n",
      "the expectation value. Consider the stochastic variables $X_i$ and\n",
      "$X_j$, ($i\\neq j$):"
     ]
    },
    {
     "cell_type": "markdown",
     "metadata": {},
     "source": [
      "$$\n",
      "\\begin{eqnarray}\n",
      "\\mathrm{cov}(X_i,\\,X_j) &=& \\langle(x_i-\\langle x_i\\rangle)(x_j-\\langle x_j\\rangle)\\rangle\\\\\n",
      "&=&\\langle x_i x_j - x_i\\langle x_j\\rangle - \\langle x_i\\rangle x_j + \\langle x_i\\rangle\\langle x_j\\rangle\\rangle \\\\\n",
      "&=&\\langle x_i x_j\\rangle - \\langle x_i\\langle x_j\\rangle\\rangle - \\langle \\langle x_i\\rangle x_j\\rangle +\n",
      "\\langle \\langle x_i\\rangle\\langle x_j\\rangle\\rangle\\\\\n",
      "&=&\\langle x_i x_j\\rangle - \\langle x_i\\rangle\\langle x_j\\rangle - \\langle x_i\\rangle\\langle x_j\\rangle +\n",
      "\\langle x_i\\rangle\\langle x_j\\rangle\\\\\n",
      "&=&\\langle x_i x_j\\rangle - \\langle x_i\\rangle\\langle x_j\\rangle\n",
      "\\end{eqnarray}\n",
      "$$"
     ]
    },
    {
     "cell_type": "markdown",
     "metadata": {},
     "source": [
      "### Statistics and blocking\n",
      "If $X_i$ and $X_j$ are independent, we get \n",
      "$\\langle x_i x_j\\rangle =\\langle x_i\\rangle\\langle x_j\\rangle$, resulting in $\\mathrm{cov}(X_i, X_j) = 0\\ \\ (i\\neq j)$.\n",
      "\n",
      "Also useful for us is the covariance of linear combinations of\n",
      "stochastic variables. Let $\\{X_i\\}$ and $\\{Y_i\\}$ be two sets of\n",
      "stochastic variables. Let also $\\{a_i\\}$ and $\\{b_i\\}$ be two sets of\n",
      "scalars. Consider the linear combination:"
     ]
    },
    {
     "cell_type": "markdown",
     "metadata": {},
     "source": [
      "$$\n",
      "U = \\sum_i a_i X_i \\qquad V = \\sum_j b_j Y_j\n",
      "$$"
     ]
    },
    {
     "cell_type": "markdown",
     "metadata": {},
     "source": [
      "By the linearity of the expectation value"
     ]
    },
    {
     "cell_type": "markdown",
     "metadata": {},
     "source": [
      "$$\n",
      "\\mathrm{cov}(U, V) = \\sum_{i,j}a_i b_j \\mathrm{cov}(X_i, Y_j)\n",
      "$$"
     ]
    },
    {
     "cell_type": "markdown",
     "metadata": {},
     "source": [
      "### Statistics and blocking\n",
      "Now, since the variance is just $\\mathrm{var}(X_i) = \\mathrm{cov}(X_i, X_i)$, we get\n",
      "the variance of the linear combination $U = \\sum_i a_i X_i$:"
     ]
    },
    {
     "cell_type": "markdown",
     "metadata": {},
     "source": [
      "<!-- Equation labels as ordinary links -->\n",
      "<div id=\"eq:variance_linear_combination\"></div>\n",
      "\n",
      "$$\n",
      "\\begin{equation}\n",
      "\\mathrm{var}(U) = \\sum_{i,j}a_i a_j \\mathrm{cov}(X_i, X_j)\n",
      "\\label{eq:variance_linear_combination} \\tag{7}\n",
      "\\end{equation}\n",
      "$$"
     ]
    },
    {
     "cell_type": "markdown",
     "metadata": {},
     "source": [
      "And in the special case when the stochastic variables are\n",
      "uncorrelated, the off-diagonal elements of the covariance are as we\n",
      "know zero, resulting in:"
     ]
    },
    {
     "cell_type": "markdown",
     "metadata": {},
     "source": [
      "5\n",
      "7\n",
      " \n",
      "<\n",
      "<\n",
      "<\n",
      "!\n",
      "!\n",
      "M\n",
      "A\n",
      "T\n",
      "H\n",
      "_\n",
      "B\n",
      "L\n",
      "O\n",
      "C\n",
      "K"
     ]
    },
    {
     "cell_type": "markdown",
     "metadata": {},
     "source": [
      "$$\n",
      "\\mathrm{var}(\\sum_i a_i X_i) = \\sum_i a_i^2 \\mathrm{var}(X_i)\n",
      "$$"
     ]
    },
    {
     "cell_type": "markdown",
     "metadata": {},
     "source": [
      "which will become very useful in our study of the error in the mean\n",
      "value of a set of measurements.\n",
      "\n",
      "\n",
      "\n",
      "### Statistics and blocking\n",
      "A *stochastic process* is a process that produces sequentially a\n",
      "chain of values:"
     ]
    },
    {
     "cell_type": "markdown",
     "metadata": {},
     "source": [
      "$$\n",
      "\\{x_1, x_2,\\dots\\,x_k,\\dots\\}.\n",
      "$$"
     ]
    },
    {
     "cell_type": "markdown",
     "metadata": {},
     "source": [
      "We will call these\n",
      "values our *measurements* and the entire set as our measured\n",
      "*sample*.  The action of measuring all the elements of a sample\n",
      "we will call a stochastic *experiment* since, operationally,\n",
      "they are often associated with results of empirical observation of\n",
      "some physical or mathematical phenomena; precisely an experiment. We\n",
      "assume that these values are distributed according to some \n",
      "PDF $p_X^{\\phantom X}(x)$, where $X$ is just the formal symbol for the\n",
      "stochastic variable whose PDF is $p_X^{\\phantom X}(x)$. Instead of\n",
      "trying to determine the full distribution $p$ we are often only\n",
      "interested in finding the few lowest moments, like the mean\n",
      "$\\mu_X^{\\phantom X}$ and the variance $\\sigma_X^{\\phantom X}$.\n",
      "\n",
      "\n",
      "\n",
      "\n",
      "<!-- !split  -->\n",
      "### Statistics and blocking\n",
      "In practical situations a sample is always of finite size. Let that\n",
      "size be $n$. The expectation value of a sample, the *sample mean*, is then defined as follows:"
     ]
    },
    {
     "cell_type": "markdown",
     "metadata": {},
     "source": [
      "$$\n",
      "\\bar{x}_n \\equiv \\frac{1}{n}\\sum_{k=1}^n x_k\n",
      "$$"
     ]
    },
    {
     "cell_type": "markdown",
     "metadata": {},
     "source": [
      "The *sample variance* is:"
     ]
    },
    {
     "cell_type": "markdown",
     "metadata": {},
     "source": [
      "$$\n",
      "\\mathrm{var}(x) \\equiv \\frac{1}{n}\\sum_{k=1}^n (x_k - \\bar{x}_n)^2\n",
      "$$"
     ]
    },
    {
     "cell_type": "markdown",
     "metadata": {},
     "source": [
      "its square root being the *standard deviation of the sample*. The\n",
      "*sample covariance* is:"
     ]
    },
    {
     "cell_type": "markdown",
     "metadata": {},
     "source": [
      "$$\n",
      "\\mathrm{cov}(x)\\equiv\\frac{1}{n}\\sum_{kl}(x_k - \\bar{x}_n)(x_l - \\bar{x}_n)\n",
      "$$"
     ]
    },
    {
     "cell_type": "markdown",
     "metadata": {},
     "source": [
      "### Statistics and blocking\n",
      "Note that the sample variance is the sample covariance without the\n",
      "cross terms. In a similar manner as the covariance in Eq. [(6)](#eq:def_covariance) is a measure of the correlation between\n",
      "two stochastic variables, the above defined sample covariance is a\n",
      "measure of the sequential correlation between succeeding measurements\n",
      "of a sample.\n",
      "\n",
      "These quantities, being known experimental values, differ\n",
      "significantly from and must not be confused with the similarly named\n",
      "quantities for stochastic variables, mean $\\mu_X$, variance $\\mathrm{var}(X)$\n",
      "and covariance $\\mathrm{cov}(X,Y)$.\n",
      "\n",
      "\n",
      "\n",
      "### Statistics and blocking\n",
      "The law of large numbers\n",
      "states that as the size of our sample grows to infinity, the sample\n",
      "mean approaches the true mean $\\mu_X^{\\phantom X}$ of the chosen PDF:"
     ]
    },
    {
     "cell_type": "markdown",
     "metadata": {},
     "source": [
      "$$\n",
      "\\lim_{n\\to\\infty}\\bar{x}_n = \\mu_X^{\\phantom X}\n",
      "$$"
     ]
    },
    {
     "cell_type": "markdown",
     "metadata": {},
     "source": [
      "The sample mean $\\bar{x}_n$ works therefore as an estimate of the true\n",
      "mean $\\mu_X^{\\phantom X}$.\n",
      "\n",
      "What we need to find out is how good an approximation $\\bar{x}_n$ is to\n",
      "$\\mu_X^{\\phantom X}$. In any stochastic measurement, an estimated\n",
      "mean is of no use to us without a measure of its error. A quantity\n",
      "that tells us how well we can reproduce it in another experiment. We\n",
      "are therefore interested in the PDF of the sample mean itself. Its\n",
      "standard deviation will be a measure of the spread of sample means,\n",
      "and we will simply call it the *error* of the sample mean, or\n",
      "just sample error, and denote it by $\\mathrm{err}_X^{\\phantom X}$. In\n",
      "practice, we will only be able to produce an *estimate* of the\n",
      "sample error since the exact value would require the knowledge of the\n",
      "true PDFs behind, which we usually do not have.\n",
      "\n",
      "\n",
      "\n",
      "### Statistics and blocking\n",
      "The straight forward brute force way of estimating the sample error is\n",
      "simply by producing a number of samples, and treating the mean of each\n",
      "as a measurement. The standard deviation of these means will then be\n",
      "an estimate of the original sample error. If we are unable to produce\n",
      "more than one sample, we can split it up sequentially into smaller\n",
      "ones, treating each in the same way as above. This procedure is known\n",
      "as *blocking* and will be given more attention shortly. At this\n",
      "point it is worth while exploring more indirect methods of estimation\n",
      "that will help us understand some important underlying principles of\n",
      "correlational effects.\n",
      "\n",
      "\n",
      "\n",
      "\n",
      "### Statistics and blocking\n",
      "Let us first take a look at what happens to the sample error as the\n",
      "size of the sample grows. In a sample, each of the measurements $x_i$\n",
      "can be associated with its own stochastic variable $X_i$. The\n",
      "stochastic variable $\\overline X_n$ for the sample mean $\\bar{x}_n$ is\n",
      "then just a linear combination, already familiar to us:"
     ]
    },
    {
     "cell_type": "markdown",
     "metadata": {},
     "source": [
      "$$\n",
      "\\overline X_n = \\frac{1}{n}\\sum_{i=1}^n X_i\n",
      "$$"
     ]
    },
    {
     "cell_type": "markdown",
     "metadata": {},
     "source": [
      "All the coefficients are just equal $1/n$. The PDF of $\\overline X_n$,\n",
      "denoted by $p_{\\overline X_n}(x)$ is the desired PDF of the sample\n",
      "means.\n",
      "\n",
      "\n",
      "\n",
      "### Statistics and blocking\n",
      "The probability density of obtaining a sample mean $\\bar x_n$\n",
      "is the product of probabilities of obtaining arbitrary values $x_1,\n",
      "x_2,\\dots,x_n$ with the constraint that the mean of the set $\\{x_i\\}$\n",
      "is $\\bar x_n$:"
     ]
    },
    {
     "cell_type": "markdown",
     "metadata": {},
     "source": [
      "$$\n",
      "p_{\\overline X_n}(x) = \\int p_X^{\\phantom X}(x_1)\\cdots\n",
      "\\int p_X^{\\phantom X}(x_n)\\ \n",
      "\\delta\\!\\left(x - \\frac{x_1+x_2+\\dots+x_n}{n}\\right)dx_n \\cdots dx_1\n",
      "$$"
     ]
    },
    {
     "cell_type": "markdown",
     "metadata": {},
     "source": [
      "And in particular we are interested in its variance $\\mathrm{var}(\\overline X_n)$.\n",
      "\n",
      "\n",
      "\n",
      "\n",
      "\n",
      "### Statistics and blocking\n",
      "It is generally not possible to express $p_{\\overline X_n}(x)$ in a\n",
      "closed form given an arbitrary PDF $p_X^{\\phantom X}$ and a number\n",
      "$n$. But for the limit $n\\to\\infty$ it is possible to make an\n",
      "approximation. The very important result is called *the central limit theorem*. It tells us that as $n$ goes to infinity,\n",
      "$p_{\\overline X_n}(x)$ approaches a Gaussian distribution whose mean\n",
      "and variance equal the true mean and variance, $\\mu_{X}^{\\phantom X}$\n",
      "and $\\sigma_{X}^{2}$, respectively:"
     ]
    },
    {
     "cell_type": "markdown",
     "metadata": {},
     "source": [
      "<!-- Equation labels as ordinary links -->\n",
      "<div id=\"eq:central_limit_gaussian\"></div>\n",
      "\n",
      "$$\n",
      "\\begin{equation}\n",
      "\\lim_{n\\to\\infty} p_{\\overline X_n}(x) =\n",
      "\\left(\\frac{n}{2\\pi\\mathrm{var}(X)}\\right)^{1/2}\n",
      "e^{-\\frac{n(x-\\bar x_n)^2}{2\\mathrm{var}(X)}}\n",
      "\\label{eq:central_limit_gaussian} \\tag{8}\n",
      "\\end{equation}\n",
      "$$"
     ]
    },
    {
     "cell_type": "markdown",
     "metadata": {},
     "source": [
      "### Statistics and blocking\n",
      "The desired variance\n",
      "$\\mathrm{var}(\\overline X_n)$, i.e. the sample error squared\n",
      "$\\mathrm{err}_X^2$, is given by:"
     ]
    },
    {
     "cell_type": "markdown",
     "metadata": {},
     "source": [
      "<!-- Equation labels as ordinary links -->\n",
      "<div id=\"eq:error_exact\"></div>\n",
      "\n",
      "$$\n",
      "\\begin{equation}\n",
      "\\mathrm{err}_X^2 = \\mathrm{var}(\\overline X_n) = \\frac{1}{n^2}\n",
      "\\sum_{ij} \\mathrm{cov}(X_i, X_j)\n",
      "\\label{eq:error_exact} \\tag{9}\n",
      "\\end{equation}\n",
      "$$"
     ]
    },
    {
     "cell_type": "markdown",
     "metadata": {},
     "source": [
      "We see now that in order to calculate the exact error of the sample\n",
      "with the above expression, we would need the true means\n",
      "$\\mu_{X_i}^{\\phantom X}$ of the stochastic variables $X_i$. To\n",
      "calculate these requires that we know the true multivariate PDF of all\n",
      "the $X_i$. But this PDF is unknown to us, we have only got the measurements of\n",
      "one sample. The best we can do is to let the sample itself be an\n",
      "estimate of the PDF of each of the $X_i$, estimating all properties of\n",
      "$X_i$ through the measurements of the sample.\n",
      "\n",
      "\n",
      "\n",
      "\n",
      "### Statistics and blocking\n",
      "Our estimate of $\\mu_{X_i}^{\\phantom X}$ is then the sample mean $\\bar x$\n",
      "itself, in accordance with the the central limit theorem:"
     ]
    },
    {
     "cell_type": "markdown",
     "metadata": {},
     "source": [
      "$$\n",
      "\\mu_{X_i}^{\\phantom X} = \\langle x_i\\rangle \\approx \\frac{1}{n}\\sum_{k=1}^n x_k = \\bar x\n",
      "$$"
     ]
    },
    {
     "cell_type": "markdown",
     "metadata": {},
     "source": [
      "Using $\\bar x$ in place of $\\mu_{X_i}^{\\phantom X}$ we can give an\n",
      "*estimate* of the covariance in Eq. [(9)](#eq:error_exact)"
     ]
    },
    {
     "cell_type": "markdown",
     "metadata": {},
     "source": [
      "$$\n",
      "\\mathrm{cov}(X_i, X_j) = \\langle (x_i-\\langle x_i\\rangle)(x_j-\\langle x_j\\rangle)\\rangle\n",
      "\\approx\\langle (x_i - \\bar x)(x_j - \\bar{x})\\rangle,\n",
      "$$"
     ]
    },
    {
     "cell_type": "markdown",
     "metadata": {},
     "source": [
      "resulting in"
     ]
    },
    {
     "cell_type": "markdown",
     "metadata": {},
     "source": [
      "$$\n",
      "\\frac{1}{n} \\sum_{l}^n \\left(\\frac{1}{n}\\sum_{k}^n (x_k -\\bar x_n)(x_l - \\bar x_n)\\right)=\\frac{1}{n}\\frac{1}{n} \\sum_{kl} (x_k -\\bar x_n)(x_l - \\bar x_n)=\\frac{1}{n}\\mathrm{cov}(x)\n",
      "$$"
     ]
    },
    {
     "cell_type": "markdown",
     "metadata": {},
     "source": [
      "### Statistics and blocking\n",
      "By the same procedure we can use the sample variance as an\n",
      "estimate of the variance of any of the stochastic variables $X_i$"
     ]
    },
    {
     "cell_type": "markdown",
     "metadata": {},
     "source": [
      "$$\n",
      "\\mathrm{var}(X_i)=\\langle x_i - \\langle x_i\\rangle\\rangle \\approx \\langle x_i - \\bar x_n\\rangle\\nonumber,\n",
      "$$"
     ]
    },
    {
     "cell_type": "markdown",
     "metadata": {},
     "source": [
      "which is approximated as"
     ]
    },
    {
     "cell_type": "markdown",
     "metadata": {},
     "source": [
      "<!-- Equation labels as ordinary links -->\n",
      "<div id=\"eq:var_estimate_i_think\"></div>\n",
      "\n",
      "$$\n",
      "\\begin{equation}\n",
      "\\mathrm{var}(X_i)\\approx \\frac{1}{n}\\sum_{k=1}^n (x_k - \\bar x_n)=\\mathrm{var}(x)\n",
      "\\label{eq:var_estimate_i_think} \\tag{10}\n",
      "\\end{equation}\n",
      "$$"
     ]
    },
    {
     "cell_type": "markdown",
     "metadata": {},
     "source": [
      "Now we can calculate an estimate of the error\n",
      "$\\mathrm{err}_X^{\\phantom X}$ of the sample mean $\\bar x_n$:"
     ]
    },
    {
     "cell_type": "markdown",
     "metadata": {},
     "source": [
      "<!-- Equation labels as ordinary links -->\n",
      "<div id=\"eq:error_estimate\"></div>\n",
      "\n",
      "$$\n",
      "\\begin{eqnarray}\n",
      "\\mathrm{err}_X^2\n",
      "&=&\\frac{1}{n^2}\\sum_{ij} \\mathrm{cov}(X_i, X_j) \\nonumber \\\\\n",
      "&\\approx&\\frac{1}{n^2}\\sum_{ij}\\frac{1}{n}\\mathrm{cov}(x) =\\frac{1}{n^2}n^2\\frac{1}{n}\\mathrm{cov}(x)\\nonumber\\\\\n",
      "&=&\\frac{1}{n}\\mathrm{cov}(x)\n",
      "\\label{eq:error_estimate} \\tag{11}\n",
      "\\end{eqnarray}\n",
      "$$"
     ]
    },
    {
     "cell_type": "markdown",
     "metadata": {},
     "source": [
      "which is nothing but the sample covariance divided by the number of\n",
      "measurements in the sample.\n",
      "\n",
      "\n",
      "\n",
      "### Statistics and blocking\n",
      "\n",
      "In the special case that the measurements of the sample are\n",
      "uncorrelated (equivalently the stochastic variables $X_i$ are\n",
      "uncorrelated) we have that the off-diagonal elements of the covariance\n",
      "are zero. This gives the following estimate of the sample error:"
     ]
    },
    {
     "cell_type": "markdown",
     "metadata": {},
     "source": [
      "$$\n",
      "\\mathrm{err}_X^2=\\frac{1}{n^2}\\sum_{ij} \\mathrm{cov}(X_i, X_j) =\n",
      "\\frac{1}{n^2} \\sum_i \\mathrm{var}(X_i),\n",
      "$$"
     ]
    },
    {
     "cell_type": "markdown",
     "metadata": {},
     "source": [
      "resulting in"
     ]
    },
    {
     "cell_type": "markdown",
     "metadata": {},
     "source": [
      "<!-- Equation labels as ordinary links -->\n",
      "<div id=\"eq:error_estimate_uncorrel\"></div>\n",
      "\n",
      "$$\n",
      "\\begin{equation}\n",
      "\\mathrm{err}_X^2\\approx \\frac{1}{n^2} \\sum_i \\mathrm{var}(x)= \\frac{1}{n}\\mathrm{var}(x)\n",
      "\\label{eq:error_estimate_uncorrel} \\tag{12}\n",
      "\\end{equation}\n",
      "$$"
     ]
    },
    {
     "cell_type": "markdown",
     "metadata": {},
     "source": [
      "where in the second step we have used Eq. [(10)](#eq:var_estimate_i_think).\n",
      "The error of the sample is then just its standard deviation divided by\n",
      "the square root of the number of measurements the sample contains.\n",
      "This is a very useful formula which is easy to compute. It acts as a\n",
      "first approximation to the error, but in numerical experiments, we\n",
      "cannot overlook the always present correlations.\n",
      "\n",
      "\n",
      "\n",
      "### Statistics and blocking\n",
      "For computational purposes one usually splits up the estimate of\n",
      "$\\mathrm{err}_X^2$, given by Eq. [(11)](#eq:error_estimate), into two\n",
      "parts"
     ]
    },
    {
     "cell_type": "markdown",
     "metadata": {},
     "source": [
      "$$\n",
      "\\mathrm{err}_X^2 = \\frac{1}{n}\\mathrm{var}(x) + \\frac{1}{n}(\\mathrm{cov}(x)-\\mathrm{var}(x)),\n",
      "$$"
     ]
    },
    {
     "cell_type": "markdown",
     "metadata": {},
     "source": [
      "which equals"
     ]
    },
    {
     "cell_type": "markdown",
     "metadata": {},
     "source": [
      "<!-- Equation labels as ordinary links -->\n",
      "<div id=\"eq:error_estimate_split_up\"></div>\n",
      "\n",
      "$$\n",
      "\\begin{equation}\n",
      "\\frac{1}{n^2}\\sum_{k=1}^n (x_k - \\bar x_n)^2 +\\frac{2}{n^2}\\sum_{k<l} (x_k - \\bar x_n)(x_l - \\bar x_n)\n",
      "\\label{eq:error_estimate_split_up} \\tag{13}\n",
      "\\end{equation}\n",
      "$$"
     ]
    },
    {
     "cell_type": "markdown",
     "metadata": {},
     "source": [
      "The first term is the same as the error in the uncorrelated case,\n",
      "Eq. [(12)](#eq:error_estimate_uncorrel). This means that the second\n",
      "term accounts for the error correction due to correlation between the\n",
      "measurements. For uncorrelated measurements this second term is zero.\n",
      "\n",
      "\n",
      "\n",
      "### Statistics and blocking\n",
      "Computationally the uncorrelated first term is much easier to treat\n",
      "efficiently than the second."
     ]
    },
    {
     "cell_type": "markdown",
     "metadata": {},
     "source": [
      "$$\n",
      "\\mathrm{var}(x) = \\frac{1}{n}\\sum_{k=1}^n (x_k - \\bar x_n)^2 =\n",
      "\\left(\\frac{1}{n}\\sum_{k=1}^n x_k^2\\right) - \\bar x_n^2\n",
      "$$"
     ]
    },
    {
     "cell_type": "markdown",
     "metadata": {},
     "source": [
      "We just accumulate separately the values $x^2$ and $x$ for every\n",
      "measurement $x$ we receive. The correlation term, though, has to be\n",
      "calculated at the end of the experiment since we need all the\n",
      "measurements to calculate the cross terms. Therefore, all measurements\n",
      "have to be stored throughout the experiment.\n",
      "\n",
      "\n",
      "\n",
      "\n",
      "\n",
      "\n",
      "### Statistics and blocking\n",
      "Let us analyze the problem by splitting up the correlation term into\n",
      "partial sums of the form:"
     ]
    },
    {
     "cell_type": "markdown",
     "metadata": {},
     "source": [
      "$$\n",
      "f_d = \\frac{1}{n-d}\\sum_{k=1}^{n-d}(x_k - \\bar x_n)(x_{k+d} - \\bar x_n)\n",
      "$$"
     ]
    },
    {
     "cell_type": "markdown",
     "metadata": {},
     "source": [
      "The correlation term of the error can now be rewritten in terms of\n",
      "$f_d$"
     ]
    },
    {
     "cell_type": "markdown",
     "metadata": {},
     "source": [
      "$$\n",
      "\\frac{2}{n}\\sum_{k<l} (x_k - \\bar x_n)(x_l - \\bar x_n) =\n",
      "2\\sum_{d=1}^{n-1} f_d\n",
      "$$"
     ]
    },
    {
     "cell_type": "markdown",
     "metadata": {},
     "source": [
      "The value of $f_d$ reflects the correlation between measurements\n",
      "separated by the distance $d$ in the sample samples.  Notice that for\n",
      "$d=0$, $f$ is just the sample variance, $\\mathrm{var}(x)$. If we divide $f_d$\n",
      "by $\\mathrm{var}(x)$, we arrive at the so called *autocorrelation function*"
     ]
    },
    {
     "cell_type": "markdown",
     "metadata": {},
     "source": [
      "$$\n",
      "\\kappa_d = \\frac{f_d}{\\mathrm{var}(x)}\n",
      "$$"
     ]
    },
    {
     "cell_type": "markdown",
     "metadata": {},
     "source": [
      "which gives us a useful measure of the correlation pair correlation\n",
      "starting always at $1$ for $d=0$.\n",
      "\n",
      "\n",
      "\n",
      "\n",
      "### Statistics and blocking\n",
      "The sample error (see eq. [(13)](#eq:error_estimate_split_up)) can now be\n",
      "written in terms of the autocorrelation function:"
     ]
    },
    {
     "cell_type": "markdown",
     "metadata": {},
     "source": [
      "<!-- Equation labels as ordinary links -->\n",
      "<div id=\"eq:error_estimate_corr_time\"></div>\n",
      "\n",
      "$$\n",
      "\\begin{eqnarray}\n",
      "\\mathrm{err}_X^2 &=&\n",
      "\\frac{1}{n}\\mathrm{var}(x)+\\frac{2}{n}\\cdot\\mathrm{var}(x)\\sum_{d=1}^{n-1}\n",
      "\\frac{f_d}{\\mathrm{var}(x)}\\nonumber\\\\ &=&\n",
      "\\left(1+2\\sum_{d=1}^{n-1}\\kappa_d\\right)\\frac{1}{n}\\mathrm{var}(x)\\nonumber\\\\\n",
      "&=&\\frac{\\tau}{n}\\cdot\\mathrm{var}(x)\n",
      "\\label{eq:error_estimate_corr_time} \\tag{14}\n",
      "\\end{eqnarray}\n",
      "$$"
     ]
    },
    {
     "cell_type": "markdown",
     "metadata": {},
     "source": [
      "and we see that $\\mathrm{err}_X$ can be expressed in terms the\n",
      "uncorrelated sample variance times a correction factor $\\tau$ which\n",
      "accounts for the correlation between measurements. We call this\n",
      "correction factor the *autocorrelation time*:"
     ]
    },
    {
     "cell_type": "markdown",
     "metadata": {},
     "source": [
      "<!-- Equation labels as ordinary links -->\n",
      "<div id=\"eq:autocorrelation_time\"></div>\n",
      "\n",
      "$$\n",
      "\\begin{equation}\n",
      "\\tau = 1+2\\sum_{d=1}^{n-1}\\kappa_d\n",
      "\\label{eq:autocorrelation_time} \\tag{15}\n",
      "\\end{equation}\n",
      "$$"
     ]
    },
    {
     "cell_type": "markdown",
     "metadata": {},
     "source": [
      "### Statistics and blocking\n",
      "For a correlation free experiment, $\\tau$\n",
      "equals 1. From the point of view of\n",
      "eq. [(14)](#eq:error_estimate_corr_time) we can interpret a sequential\n",
      "correlation as an effective reduction of the number of measurements by\n",
      "a factor $\\tau$. The effective number of measurements becomes:"
     ]
    },
    {
     "cell_type": "markdown",
     "metadata": {},
     "source": [
      "$$\n",
      "n_\\mathrm{eff} = \\frac{n}{\\tau}\n",
      "$$"
     ]
    },
    {
     "cell_type": "markdown",
     "metadata": {},
     "source": [
      "To neglect the autocorrelation time $\\tau$ will always cause our\n",
      "simple uncorrelated estimate of $\\mathrm{err}_X^2\\approx \\mathrm{var}(x)/n$ to\n",
      "be less than the true sample error. The estimate of the error will be\n",
      "too *good*. On the other hand, the calculation of the full\n",
      "autocorrelation time poses an efficiency problem if the set of\n",
      "measurements is very large.\n",
      "\n",
      "\n",
      "\n",
      "\n",
      "\n",
      "\n",
      "\n",
      "### Can we understand this? Time Auto-correlation Function\n",
      "The so-called time-displacement autocorrelation $\\phi(t)$ for a quantity ${\\cal M}$ is given by"
     ]
    },
    {
     "cell_type": "markdown",
     "metadata": {},
     "source": [
      "$$\n",
      "\\phi(t) = \\int dt' \\left[{\\cal M}(t')-\\langle {\\cal M} \\rangle\\right]\\left[{\\cal M}(t'+t)-\\langle {\\cal M} \\rangle\\right],\n",
      "$$"
     ]
    },
    {
     "cell_type": "markdown",
     "metadata": {},
     "source": [
      "which can be rewritten as"
     ]
    },
    {
     "cell_type": "markdown",
     "metadata": {},
     "source": [
      "$$\n",
      "\\phi(t) = \\int dt' \\left[{\\cal M}(t'){\\cal M}(t'+t)-\\langle {\\cal M} \\rangle^2\\right],\n",
      "$$"
     ]
    },
    {
     "cell_type": "markdown",
     "metadata": {},
     "source": [
      "where $\\langle {\\cal M} \\rangle$ is the average value and\n",
      "${\\cal M}(t)$ its instantaneous value. We can discretize this function as follows, where we used our\n",
      "set of computed values ${\\cal M}(t)$ for a set of discretized times (our Monte Carlo cycles corresponding to moving all electrons?)"
     ]
    },
    {
     "cell_type": "markdown",
     "metadata": {},
     "source": [
      "<!-- Equation labels as ordinary links -->\n",
      "<div id=\"eq:phitf\"></div>\n",
      "\n",
      "$$\n",
      "\\phi(t)  = \\frac{1}{t_{\\mathrm{max}}-t}\\sum_{t'=0}^{t_{\\mathrm{max}}-t}{\\cal M}(t'){\\cal M}(t'+t)\n",
      "-\\frac{1}{t_{\\mathrm{max}}-t}\\sum_{t'=0}^{t_{\\mathrm{max}}-t}{\\cal M}(t')\\times\n",
      "\\frac{1}{t_{\\mathrm{max}}-t}\\sum_{t'=0}^{t_{\\mathrm{max}}-t}{\\cal M}(t'+t).\n",
      "\\label{eq:phitf} \\tag{16}\n",
      "$$"
     ]
    },
    {
     "cell_type": "markdown",
     "metadata": {},
     "source": [
      "### Time Auto-correlation Function\n",
      "One should be careful with times close to $t_{\\mathrm{max}}$, the upper limit of the sums \n",
      "becomes small and we end up integrating over a rather small time interval. This means that the statistical\n",
      "error in $\\phi(t)$ due to the random nature of the fluctuations in ${\\cal M}(t)$ can become large.\n",
      "\n",
      "One should therefore choose $t \\ll t_{\\mathrm{max}}$.\n",
      "\n",
      "Note that the variable ${\\cal M}$ can be any expectation values of interest.\n",
      "\n",
      "\n",
      "\n",
      "The time-correlation function gives a measure of the correlation between the various values of the variable \n",
      "at a time $t'$ and a time $t'+t$. If we multiply the values of ${\\cal M}$ at these two different times,\n",
      "we will get a positive contribution if they are fluctuating in the same direction, or a negative value\n",
      "if they fluctuate in the opposite direction. If we then integrate over time, or use the discretized version of, the time correlation function $\\phi(t)$ should take a non-zero value if the fluctuations are \n",
      "correlated, else it should gradually go to zero. For times a long way apart \n",
      "the different values of ${\\cal M}$  are most likely \n",
      "uncorrelated and $\\phi(t)$ should be zero.\n",
      "\n",
      "\n",
      "\n",
      "\n",
      "\n",
      "\n",
      "### Time Auto-correlation Function\n",
      "We can derive the correlation time by observing that our Metropolis algorithm is based on a random\n",
      "walk in the space of all  possible spin configurations. \n",
      "Our probability \n",
      "distribution function $\\mathbf{\\hat{w}}(t)$ after a given number of time steps $t$ could be written as"
     ]
    },
    {
     "cell_type": "markdown",
     "metadata": {},
     "source": [
      "$$\n",
      "\\mathbf{\\hat{w}}(t) = \\mathbf{\\hat{W}^t\\hat{w}}(0),\n",
      "$$"
     ]
    },
    {
     "cell_type": "markdown",
     "metadata": {},
     "source": [
      "with $\\mathbf{\\hat{w}}(0)$ the distribution at $t=0$ and $\\mathbf{\\hat{W}}$ representing the \n",
      "transition probability matrix. \n",
      "We can always expand $\\mathbf{\\hat{w}}(0)$ in terms of the right eigenvectors of \n",
      "$\\mathbf{\\hat{v}}$ of $\\mathbf{\\hat{W}}$ as"
     ]
    },
    {
     "cell_type": "markdown",
     "metadata": {},
     "source": [
      "$$\n",
      "\\mathbf{\\hat{w}}(0)  = \\sum_i\\alpha_i\\mathbf{\\hat{v}}_i,\n",
      "$$"
     ]
    },
    {
     "cell_type": "markdown",
     "metadata": {},
     "source": [
      "resulting in"
     ]
    },
    {
     "cell_type": "markdown",
     "metadata": {},
     "source": [
      "$$\n",
      "\\mathbf{\\hat{w}}(t) = \\mathbf{\\hat{W}}^t\\mathbf{\\hat{w}}(0)=\\mathbf{\\hat{W}}^t\\sum_i\\alpha_i\\mathbf{\\hat{v}}_i=\n",
      "\\sum_i\\lambda_i^t\\alpha_i\\mathbf{\\hat{v}}_i,\n",
      "$$"
     ]
    },
    {
     "cell_type": "markdown",
     "metadata": {},
     "source": [
      "with $\\lambda_i$ the $i^{\\mathrm{th}}$ eigenvalue corresponding to  \n",
      "the eigenvector $\\mathbf{\\hat{v}}_i$.\n",
      "\n",
      "\n",
      "\n",
      "\n",
      "\n",
      "\n",
      "### Time Auto-correlation Function\n",
      "If we assume that $\\lambda_0$ is the largest eigenvector we see that in the limit $t\\rightarrow \\infty$,\n",
      "$\\mathbf{\\hat{w}}(t)$ becomes proportional to the corresponding eigenvector \n",
      "$\\mathbf{\\hat{v}}_0$. This is our steady state or final distribution. \n",
      "\n",
      "We can relate this property to an observable like the mean energy.\n",
      "With the probabilty $\\mathbf{\\hat{w}}(t)$ (which in our case is the squared trial wave function) we\n",
      "can write the expectation values as"
     ]
    },
    {
     "cell_type": "markdown",
     "metadata": {},
     "source": [
      "$$\n",
      "\\langle {\\cal M}(t) \\rangle  = \\sum_{\\mu} \\mathbf{\\hat{w}}(t)_{\\mu}{\\cal M}_{\\mu},\n",
      "$$"
     ]
    },
    {
     "cell_type": "markdown",
     "metadata": {},
     "source": [
      "or as the scalar of a  vector product"
     ]
    },
    {
     "cell_type": "markdown",
     "metadata": {},
     "source": [
      "$$\n",
      "\\langle {\\cal M}(t) \\rangle  = \\mathbf{\\hat{w}}(t)\\mathbf{m},\n",
      "$$"
     ]
    },
    {
     "cell_type": "markdown",
     "metadata": {},
     "source": [
      "with $\\mathbf{m}$ being the vector whose elements are the values of ${\\cal M}_{\\mu}$ in its \n",
      "various microstates $\\mu$.\n",
      "\n",
      "\n",
      "\n",
      "\n",
      "### Time Auto-correlation Function\n",
      "We rewrite this relation  as"
     ]
    },
    {
     "cell_type": "markdown",
     "metadata": {},
     "source": [
      "$$\n",
      "\\langle {\\cal M}(t) \\rangle  = \\mathbf{\\hat{w}}(t)\\mathbf{m}=\\sum_i\\lambda_i^t\\alpha_i\\mathbf{\\hat{v}}_i\\mathbf{m}_i.\n",
      "$$"
     ]
    },
    {
     "cell_type": "markdown",
     "metadata": {},
     "source": [
      "If we define $m_i=\\mathbf{\\hat{v}}_i\\mathbf{m}_i$ as the expectation value of\n",
      "${\\cal M}$ in the $i^{\\mathrm{th}}$ eigenstate we can rewrite the last equation as"
     ]
    },
    {
     "cell_type": "markdown",
     "metadata": {},
     "source": [
      "$$\n",
      "\\langle {\\cal M}(t) \\rangle  = \\sum_i\\lambda_i^t\\alpha_im_i.\n",
      "$$"
     ]
    },
    {
     "cell_type": "markdown",
     "metadata": {},
     "source": [
      "Since we have that in the limit $t\\rightarrow \\infty$ the mean value is dominated by the \n",
      "the largest eigenvalue $\\lambda_0$, we can rewrite the last equation as"
     ]
    },
    {
     "cell_type": "markdown",
     "metadata": {},
     "source": [
      "$$\n",
      "\\langle {\\cal M}(t) \\rangle  = \\langle {\\cal M}(\\infty) \\rangle+\\sum_{i\\ne 0}\\lambda_i^t\\alpha_im_i.\n",
      "$$"
     ]
    },
    {
     "cell_type": "markdown",
     "metadata": {},
     "source": [
      "We define the quantity"
     ]
    },
    {
     "cell_type": "markdown",
     "metadata": {},
     "source": [
      "$$\n",
      "\\tau_i=-\\frac{1}{log\\lambda_i},\n",
      "$$"
     ]
    },
    {
     "cell_type": "markdown",
     "metadata": {},
     "source": [
      "and rewrite the last expectation value as"
     ]
    },
    {
     "cell_type": "markdown",
     "metadata": {},
     "source": [
      "<!-- Equation labels as ordinary links -->\n",
      "<div id=\"eq:finalmeanm\"></div>\n",
      "\n",
      "$$\n",
      "\\langle {\\cal M}(t) \\rangle  = \\langle {\\cal M}(\\infty) \\rangle+\\sum_{i\\ne 0}\\alpha_im_ie^{-t/\\tau_i}.\n",
      "\\label{eq:finalmeanm} \\tag{17}\n",
      "$$"
     ]
    },
    {
     "cell_type": "markdown",
     "metadata": {},
     "source": [
      "### Time Auto-correlation Function\n",
      "\n",
      "The quantities $\\tau_i$ are the correlation times for the system. They control also the auto-correlation function \n",
      "discussed above.  The longest correlation time is obviously given by the second largest\n",
      "eigenvalue $\\tau_1$, which normally defines the correlation time discussed above. For large times, this is the \n",
      "only correlation time that survives. If higher eigenvalues of the transition matrix are well separated from \n",
      "$\\lambda_1$ and we simulate long enough,  $\\tau_1$ may well define the correlation time. \n",
      "In other cases we may not be able to extract a reliable result for $\\tau_1$. \n",
      "Coming back to the time correlation function $\\phi(t)$ we can present a more general definition in terms\n",
      "of the mean magnetizations $ \\langle {\\cal M}(t) \\rangle$. Recalling that the mean value is equal \n",
      "to $ \\langle {\\cal M}(\\infty) \\rangle$ we arrive at the expectation values"
     ]
    },
    {
     "cell_type": "markdown",
     "metadata": {},
     "source": [
      "$$\n",
      "\\phi(t) =\\langle {\\cal M}(0)-{\\cal M}(\\infty)\\rangle \\langle {\\cal M}(t)-{\\cal M}(\\infty)\\rangle,\n",
      "$$"
     ]
    },
    {
     "cell_type": "markdown",
     "metadata": {},
     "source": [
      "resulting in"
     ]
    },
    {
     "cell_type": "markdown",
     "metadata": {},
     "source": [
      "$$\n",
      "\\phi(t) =\\sum_{i,j\\ne 0}m_i\\alpha_im_j\\alpha_je^{-t/\\tau_i},\n",
      "$$"
     ]
    },
    {
     "cell_type": "markdown",
     "metadata": {},
     "source": [
      "which is appropriate for all times.\n",
      "\n",
      "\n",
      "\n",
      "\n",
      "\n",
      "### Correlation Time\n",
      "\n",
      "If the correlation function decays exponentially"
     ]
    },
    {
     "cell_type": "markdown",
     "metadata": {},
     "source": [
      "$$\n",
      "\\phi (t) \\sim \\exp{(-t/\\tau)}\n",
      "$$"
     ]
    },
    {
     "cell_type": "markdown",
     "metadata": {},
     "source": [
      "then the exponential correlation time can be computed as the average"
     ]
    },
    {
     "cell_type": "markdown",
     "metadata": {},
     "source": [
      "$$\n",
      "\\tau_{\\mathrm{exp}}  =  -\\langle  \\frac{t}{log|\\frac{\\phi(t)}{\\phi(0)}|} \\rangle.\n",
      "$$"
     ]
    },
    {
     "cell_type": "markdown",
     "metadata": {},
     "source": [
      "If the decay is exponential, then"
     ]
    },
    {
     "cell_type": "markdown",
     "metadata": {},
     "source": [
      "$$\n",
      "\\int_0^{\\infty} dt \\phi(t)  = \\int_0^{\\infty} dt \\phi(0)\\exp{(-t/\\tau)}  = \\tau \\phi(0),\n",
      "$$"
     ]
    },
    {
     "cell_type": "markdown",
     "metadata": {},
     "source": [
      "which  suggests another measure of correlation"
     ]
    },
    {
     "cell_type": "markdown",
     "metadata": {},
     "source": [
      "$$\n",
      "\\tau_{\\mathrm{int}} = \\sum_k \\frac{\\phi(k)}{\\phi(0)},\n",
      "$$"
     ]
    },
    {
     "cell_type": "markdown",
     "metadata": {},
     "source": [
      "called the integrated correlation time.\n",
      "\n",
      "\n",
      "\n",
      "\n",
      "### What is blocking?\n",
      "**Blocking.**\n",
      "\n",
      "    * Say that we have a set of samples from a Monte Carlo experiment\n",
      "\n",
      "    * Assuming (wrongly) that our samples are uncorrelated our best estimate of the standard deviation of the mean $\\langle {\\cal M}\\rangle$ is given by"
     ]
    },
    {
     "cell_type": "markdown",
     "metadata": {},
     "source": [
      "$$\n",
      "\\sigma=\\sqrt{\\frac{1}{n}\\left(\\langle {\\cal M}^2\\rangle-\\langle {\\cal M}\\rangle^2\\right)}\n",
      "$$"
     ]
    },
    {
     "cell_type": "markdown",
     "metadata": {},
     "source": [
      "* If the samples are correlated we can rewrite our results to show  that"
     ]
    },
    {
     "cell_type": "markdown",
     "metadata": {},
     "source": [
      "$$\n",
      "\\sigma=\\sqrt{\\frac{1+2\\tau/\\Delta t}{n}\\left(\\langle {\\cal M}^2\\rangle-\\langle {\\cal M}\\rangle^2\\right)}\n",
      "$$"
     ]
    },
    {
     "cell_type": "markdown",
     "metadata": {},
     "source": [
      "where $\\tau$ is the correlation time (the time between a sample and the next uncorrelated sample) and $\\Delta t$ is time between each sample\n",
      "\n",
      "    \n",
      "\n",
      "### What is blocking?\n",
      "**Blocking.**\n",
      "\n",
      "    * If $\\Delta t\\gg\\tau$ our first estimate of $\\sigma$ still holds\n",
      "\n",
      "    * Much more common that $\\Delta t<\\tau$\n",
      "\n",
      "    * In the method of data blocking we divide the sequence of samples into blocks\n",
      "\n",
      "    * We then take the mean $\\langle {\\cal M}_i\\rangle$ of block $i=1\\ldots n_{blocks}$ to calculate the total mean and variance\n",
      "\n",
      "    * The size of each block must be so large that sample $j$ of block $i$ is not correlated with sample $j$ of block $i+1$\n",
      "\n",
      "    * The correlation time $\\tau$ would be a good choice\n",
      "\n",
      "\n",
      "\n",
      "### What is blocking?\n",
      "**Blocking.**\n",
      "\n",
      "    * Problem: We don't know $\\tau$ or it is too expensive to compute\n",
      "\n",
      "    * Solution: Make a plot of std. dev. as a function of blocksize\n",
      "\n",
      "    * The estimate of std. dev. of correlated data is too low $\\to$ the error will increase with increasing block size until the blocks are uncorrelated, where we reach a plateau\n",
      "\n",
      "    * When the std. dev. stops increasing the blocks are uncorrelated\n",
      "\n",
      "\n",
      "\n",
      "### Implementation\n",
      "**Main ideas.**\n",
      "\n",
      "    * Do a Monte Carlo simulation, storing all samples to file\n",
      "\n",
      "    * Do the statistical analysis on this file, independently of your Monte Carlo program\n",
      "\n",
      "    * Read the file into an array\n",
      "\n",
      "    * Loop over various block sizes\n",
      "\n",
      "    * For each block size $n_b$, loop over the array in steps of $n_b$ taking the mean of elements $i n_b,\\ldots,(i+1) n_b$\n",
      "\n",
      "    * Take the mean and variance of the resulting array\n",
      "\n",
      "    * Write the results for each block size to file for later\n",
      "      analysis\n",
      "\n",
      "\n",
      "\n",
      "\n",
      "\n",
      "### Importance sampling\n",
      "**Main ideas.**\n",
      "\n",
      "We need to replace the brute force\n",
      "Metropolis algorithm with a walk in coordinate space biased by the trial wave function.\n",
      "This approach is based on the Fokker-Planck equation and the Langevin equation for generating a trajectory in coordinate space.  The link between the Fokker-Planck equation and the Langevin equations are explained, only partly, in the slides below.\n",
      "An excellent reference on topics like Brownian motion, Markov chains, the Fokker-Planck equation and the Langevin equation is the text by  Van Kampen, see <http://www.elsevier.com/books/stochastic-processes-in-physics-and-chemistry/van-kampen/978-0-444-52965-7>\n",
      "Here we will focus first on the implementation part first.\n",
      "\n",
      "For a diffusion process characterized by a time-dependent probability density $P(x,t)$ in one dimension the Fokker-Planck\n",
      "equation reads (for one particle /walker)"
     ]
    },
    {
     "cell_type": "markdown",
     "metadata": {},
     "source": [
      "$$\n",
      "\\frac{\\partial P}{\\partial t} = D\\frac{\\partial }{\\partial x}\\left(\\frac{\\partial }{\\partial x} -F\\right)P(x,t),\n",
      "$$"
     ]
    },
    {
     "cell_type": "markdown",
     "metadata": {},
     "source": [
      "where $F$ is a drift term and $D$ is the diffusion coefficient.\n",
      "\n",
      "\n",
      "\n",
      "\n",
      "### Importance sampling\n",
      "**Main ideas.**\n",
      "\n",
      "The new positions in coordinate space are given as the solutions of the Langevin equation using Euler's method, namely,\n",
      "we go from the Langevin equation"
     ]
    },
    {
     "cell_type": "markdown",
     "metadata": {},
     "source": [
      "$$\n",
      "\\frac{\\partial x(t)}{\\partial t} = DF(x(t)) +\\eta,\n",
      "$$"
     ]
    },
    {
     "cell_type": "markdown",
     "metadata": {},
     "source": [
      "with $\\eta$ a random variable,\n",
      "yielding a new position"
     ]
    },
    {
     "cell_type": "markdown",
     "metadata": {},
     "source": [
      "$$\n",
      "y = x+DF(x)\\Delta t +\\xi,\n",
      "$$"
     ]
    },
    {
     "cell_type": "markdown",
     "metadata": {},
     "source": [
      "where $\\xi$ is gaussian random variable and $\\Delta t$ is a chosen time step.\n",
      "\n",
      "\n",
      "\n",
      "### Importance sampling\n",
      "**Main ideas.**\n",
      "\n",
      "The process of isotropic diffusion characterized by a time-dependent probability density $P(\\mathbf{x},t)$ obeys (as an approximation) the so-called Fokker-Planck equation"
     ]
    },
    {
     "cell_type": "markdown",
     "metadata": {},
     "source": [
      "$$\n",
      "\\frac{\\partial P}{\\partial t} = \\sum_i D\\frac{\\partial }{\\partial \\mathbf{x_i}}\\left(\\frac{\\partial }{\\partial \\mathbf{x_i}} -\\mathbf{F_i}\\right)P(\\mathbf{x},t),\n",
      "$$"
     ]
    },
    {
     "cell_type": "markdown",
     "metadata": {},
     "source": [
      "where $\\mathbf{F_i}$ is the $i^{th}$ component of the drift term (drift velocity) caused by an external potential, and $D$ is the diffusion coefficient. The convergence to a stationary probability density can be obtained by setting the left hand side to zero. The resulting equation will be satisfied if and only if all the terms of the sum are equal zero,"
     ]
    },
    {
     "cell_type": "markdown",
     "metadata": {},
     "source": [
      "$$\n",
      "\\frac{\\partial^2 P}{\\partial {\\mathbf{x_i}^2}} = P\\frac{\\partial}{\\partial {\\mathbf{x_i}}}\\mathbf{F_i} + \\mathbf{F_i}\\frac{\\partial}{\\partial {\\mathbf{x_i}}}P.\n",
      "$$"
     ]
    },
    {
     "cell_type": "markdown",
     "metadata": {},
     "source": [
      "### Importance sampling\n",
      "**Main ideas.**\n",
      "\n",
      "The drift vector should be of the form $\\mathbf{F} = g(\\mathbf{x}) \\frac{\\partial P}{\\partial \\mathbf{x}}$. Then,"
     ]
    },
    {
     "cell_type": "markdown",
     "metadata": {},
     "source": [
      "$$\n",
      "\\frac{\\partial^2 P}{\\partial {\\mathbf{x_i}^2}} = P\\frac{\\partial g}{\\partial P}\\left( \\frac{\\partial P}{\\partial {\\mathbf{x}_i}}  \\right)^2 + P g \\frac{\\partial ^2 P}{\\partial {\\mathbf{x}_i^2}}  + g \\left( \\frac{\\partial P}{\\partial {\\mathbf{x}_i}}  \\right)^2.\n",
      "$$"
     ]
    },
    {
     "cell_type": "markdown",
     "metadata": {},
     "source": [
      "The condition of stationary density means that the left hand side equals zero. In other words, the terms containing first and second derivatives have to cancel each other. It is possible only if $g = \\frac{1}{P}$, which yields"
     ]
    },
    {
     "cell_type": "markdown",
     "metadata": {},
     "source": [
      "<!-- Equation labels as ordinary links -->\n",
      "<div id=\"quantumForceEQ\"></div>\n",
      "\n",
      "$$\n",
      "\\begin{equation}\n",
      "\\boxed{\\mathbf{F} = 2\\frac{1}{\\Psi_T}\\nabla\\Psi_T,}\n",
      "\\end{equation}\n",
      "\\label{quantumForceEQ} \\tag{18}\n",
      "$$"
     ]
    },
    {
     "cell_type": "markdown",
     "metadata": {},
     "source": [
      "which is known as the so-called *quantum force*. This term is responsible for pushing the walker towards regions of configuration space where the trial wave function is large, increasing the efficiency of the simulation in contrast to the Metropolis algorithm where the walker has the same probability of moving in every direction.\n",
      "\n",
      "\n",
      "\n",
      "\n",
      "\n",
      "### Importance sampling\n",
      "**Main ideas.**\n",
      "\n",
      "The Fokker-Planck equation yields a (the solution to the equation) transition probability given by the Green's function"
     ]
    },
    {
     "cell_type": "markdown",
     "metadata": {},
     "source": [
      "$$\n",
      "G(y,x,\\Delta t) = \\frac{1}{(4\\pi D\\Delta t)^{3N/2}} \\exp{\\left(-(y-x-D\\Delta t F(x))^2/4D\\Delta t\\right)}\n",
      "$$"
     ]
    },
    {
     "cell_type": "markdown",
     "metadata": {},
     "source": [
      "which in turn means that our brute force Metropolis algorithm"
     ]
    },
    {
     "cell_type": "markdown",
     "metadata": {},
     "source": [
      "$$\n",
      "A(y,x) = \\mathrm{min}(1,q(y,x))),\n",
      "$$"
     ]
    },
    {
     "cell_type": "markdown",
     "metadata": {},
     "source": [
      "with $q(y,x) = |\\Psi_T(y)|^2/|\\Psi_T(x)|^2$ is now replaced by the Metropolis-Hastings algorithm, see\n",
      "<http://scitation.aip.org/content/aip/journal/jcp/21/6/10.1063/1.1699114> and URL \"http://biomet.oxfordjournals.org/content/57/1/97.abstract\","
     ]
    },
    {
     "cell_type": "markdown",
     "metadata": {},
     "source": [
      "$$\n",
      "q(y,x) = \\frac{G(x,y,\\Delta t)|\\Psi_T(y)|^2}{G(y,x,\\Delta t)|\\Psi_T(x)|^2}\n",
      "$$"
     ]
    },
    {
     "cell_type": "markdown",
     "metadata": {},
     "source": [
      "### Importance sampling, program elements"
     ]
    },
    {
     "cell_type": "markdown",
     "metadata": {},
     "source": [
      "         for (variate=1; variate <= max_variations; variate++){\n",
      "            // initialisations of variational parameters and energies \n",
      "            beta += 0.1;  \n",
      "            energy = energy2 = delta_e = 0.0;\n",
      "            //  initial trial position, note calling with beta \n",
      "            for (i = 0; i < number_particles; i++) { \n",
      "              for ( j=0; j < dimension; j++) {\n",
      "        \tr_old[i][j] = gaussian_deviate(&idum)*sqrt(timestep);\n",
      "              }\n",
      "            }\n",
      "            wfold = wave_function(r_old, beta);\n",
      "            quantum_force(r_old, qforce_old, beta, wfold);\n"
     ]
    },
    {
     "cell_type": "markdown",
     "metadata": {},
     "source": [
      "### Importance sampling, program elements"
     ]
    },
    {
     "cell_type": "markdown",
     "metadata": {},
     "source": [
      "            // loop over monte carlo cycles \n",
      "            for (cycles = 1; cycles <= number_cycles; cycles++){ \n",
      "              // new position \n",
      "              for (i = 0; i < number_particles; i++) { \n",
      "        \tfor ( j=0; j < dimension; j++) {\n",
      "        \t  // gaussian deviate to compute new positions using a given timestep\n",
      "        \t  r_new[i][j] = r_old[i][j] + gaussian_deviate(&idum)*sqrt(timestep)+qforce_old[i][j]*timestep*D;\n",
      "        //  we move only one particle  at the time\n",
      "                for (k = 0; k < number_particles; k++) {\n",
      "        \t  if ( k != i) {\n",
      "        \t    for ( j=0; j < dimension; j++) {\n",
      "        \t      r_new[k][j] = r_old[k][j];\n",
      "        \t    }\n",
      "        \t  } \n",
      "                }\n"
     ]
    },
    {
     "cell_type": "markdown",
     "metadata": {},
     "source": [
      "### Importance sampling, program elements"
     ]
    },
    {
     "cell_type": "markdown",
     "metadata": {},
     "source": [
      "                wfnew = wave_function(r_new, beta); \n",
      "                quantum_force(r_new, qforce_new, beta, wfnew);\n",
      "        \t//  we compute the log of the ratio of the greens functions to be used in the \n",
      "        \t//  Metropolis-Hastings algorithm\n",
      "                greensfunction = 0.0;            \n",
      "        \tfor ( j=0; j < dimension; j++) {\n",
      "        \t  greensfunction += 0.5*(qforce_old[i][j]+qforce_new[i][j])*\n",
      "        \t    (D*timestep*0.5*(qforce_old[i][j]-qforce_new[i][j])-r_new[i][j]+r_old[i][j]);\n",
      "                }\n",
      "                greensfunction = exp(greensfunction);\n",
      "        \n"
     ]
    },
    {
     "cell_type": "markdown",
     "metadata": {},
     "source": [
      "### Importance sampling, program elements"
     ]
    },
    {
     "cell_type": "markdown",
     "metadata": {},
     "source": [
      "         \t// The Metropolis test is performed by moving one particle  at the time\n",
      "        \tif(ran2(&idum) <= greensfunction*wfnew*wfnew/wfold/wfold ) { \n",
      "        \t  for ( j=0; j < dimension; j++) {\n",
      "        \t    r_old[i][j] = r_new[i][j];\n",
      "        \t    qforce_old[i][j] = qforce_new[i][j];\n",
      "        \t  }\n",
      "        \t  wfold = wfnew;\n",
      "                  .....\n"
     ]
    },
    {
     "cell_type": "markdown",
     "metadata": {},
     "source": [
      "### Importance sampling, program elements"
     ]
    },
    {
     "cell_type": "markdown",
     "metadata": {},
     "source": [
      "        void  quantum_force(double **r, double **qforce, double beta, double wf)\n",
      "        {\n",
      "          int i, j;\n",
      "          double wfminus, wfplus; \n",
      "          double **r_plus, **r_minus;\n",
      "        \n",
      "          r_plus = (double **) matrix( number_particles, dimension, sizeof(double));\n",
      "          r_minus = (double **) matrix( number_particles, dimension, sizeof(double));\n",
      "          for (i = 0; i < number_particles; i++) { \n",
      "            for ( j=0; j < dimension; j++) {\n",
      "              r_plus[i][j] = r_minus[i][j] = r[i][j];\n",
      "            }\n",
      "          }\n",
      "        ...\n"
     ]
    },
    {
     "cell_type": "markdown",
     "metadata": {},
     "source": [
      "### Importance sampling, program elements"
     ]
    },
    {
     "cell_type": "markdown",
     "metadata": {},
     "source": [
      "          // compute the first derivative\n",
      "          for (i = 0; i < number_particles; i++) {\n",
      "            for (j = 0; j < dimension; j++) { \n",
      "              r_plus[i][j] = r[i][j]+h;\n",
      "              r_minus[i][j] = r[i][j]-h;\n",
      "              wfminus = wave_function(r_minus, beta); \n",
      "              wfplus  = wave_function(r_plus, beta); \n",
      "              qforce[i][j] = (wfplus-wfminus)*2.0/wf/(2*h);\n",
      "              r_plus[i][j] = r[i][j];\n",
      "              r_minus[i][j] = r[i][j];\n",
      "            }\n",
      "          }\n"
     ]
    },
    {
     "cell_type": "markdown",
     "metadata": {},
     "source": [
      "### Importance sampling, program elements\n",
      "The general derivative formula of the Jastrow factor is"
     ]
    },
    {
     "cell_type": "markdown",
     "metadata": {},
     "source": [
      "$$\n",
      "\\frac{1}{\\Psi_C}\\frac{\\partial \\Psi_C}{\\partial x_k} =\n",
      "\\sum_{i=1}^{k-1}\\frac{\\partial g_{ik}}{\\partial x_k}\n",
      "+\n",
      "\\sum_{i=k+1}^{N}\\frac{\\partial g_{ki}}{\\partial x_k}\n",
      "$$"
     ]
    },
    {
     "cell_type": "markdown",
     "metadata": {},
     "source": [
      "However, \n",
      "with our"
     ]
    },
    {
     "cell_type": "markdown",
     "metadata": {},
     "source": [
      "$$\n",
      "\\Psi_C=\\prod_{i< j}g(r_{ij})= \\exp{\\left\\{\\sum_{i<j}\\frac{ar_{ij}}{1+\\beta r_{ij}}\\right\\}},\n",
      "$$"
     ]
    },
    {
     "cell_type": "markdown",
     "metadata": {},
     "source": [
      "the gradient needed for the quantum force and local energy is easy to compute.  \n",
      "We get for particle  $k$"
     ]
    },
    {
     "cell_type": "markdown",
     "metadata": {},
     "source": [
      "$$\n",
      "\\frac{ \\nabla_k \\Psi_C}{ \\Psi_C }= \\sum_{j\\ne k}\\frac{\\mathbf{r}_{kj}}{r_{kj}}\\frac{a}{(1+\\beta r_{kj})^2},\n",
      "$$"
     ]
    },
    {
     "cell_type": "markdown",
     "metadata": {},
     "source": [
      "which is rather easy to code.  Remember to sum over all particles  when you compute the local energy.\n",
      "\n",
      "\n",
      "\n",
      "\n",
      "### Importance sampling, program elements\n",
      "In the Metropolis/Hasting algorithm, the *acceptance ratio* determines the probability for a particle  to be accepted at a new position. The ratio of the trial wave functions evaluated at the new and current positions is given by"
     ]
    },
    {
     "cell_type": "markdown",
     "metadata": {},
     "source": [
      "$$\n",
      "R \\equiv \\frac{\\Psi_{T}^{new}}{\\Psi_{T}^{cur} = \\underbrace{\\frac{\\Psi_{D}^{new}}{\\Psi_{D}^{cur}}}_{R_{SD}}\\, \\underbrace{\\frac{\\Psi_{C}^{new}}{\\Psi_{C}^{cur}}}_{R_{C}}.}\n",
      "$$"
     ]
    },
    {
     "cell_type": "markdown",
     "metadata": {},
     "source": [
      "Here $\\Psi_{D}$ is our Slater determinant while $\\Psi_{C}$ is our correlation function. \n",
      "We need to optimize $\\nabla \\Psi_T / \\Psi_T$ ratio and the second derivative as well, that is\n",
      "the $\\mathbf{\\nabla}^2 \\Psi_T/\\Psi_T$ ratio. The first is needed when we compute the so-called quantum force in importance sampling.\n",
      "The second is needed when we compute the kinetic energy term of the local energy."
     ]
    },
    {
     "cell_type": "markdown",
     "metadata": {},
     "source": [
      "$$\n",
      "\\frac{\\mathbf{\\mathbf{\\nabla}}  \\Psi}{\\Psi}  = \\frac{\\mathbf{\\nabla}  (\\Psi_{D} \\, \\Psi_{C})}{\\Psi_{D} \\, \\Psi_{C}}  =  \\frac{ \\Psi_C \\mathbf{\\nabla}  \\Psi_{D} + \\Psi_{D} \\mathbf{\\nabla}  \\Psi_{C}}{\\Psi_{D} \\Psi_{C}} = \\frac{\\mathbf{\\nabla}  \\Psi_{D}}{\\Psi_{D}} + \\frac{\\mathbf{\\nabla}   \\Psi_C}{ \\Psi_C}\n",
      "$$"
     ]
    },
    {
     "cell_type": "markdown",
     "metadata": {},
     "source": [
      "### Importance sampling\n",
      "**Main ideas.**\n",
      "\n",
      "The expectation value of the kinetic energy expressed in atomic units for electron $i$ is"
     ]
    },
    {
     "cell_type": "markdown",
     "metadata": {},
     "source": [
      "1\n",
      "2\n",
      "1\n",
      " \n",
      "<\n",
      "<\n",
      "<\n",
      "!\n",
      "!\n",
      "M\n",
      "A\n",
      "T\n",
      "H\n",
      "_\n",
      "B\n",
      "L\n",
      "O\n",
      "C\n",
      "K"
     ]
    },
    {
     "cell_type": "markdown",
     "metadata": {},
     "source": [
      "$$\n",
      "\\hat{K}_i = -\\frac{1}{2}\\frac{\\mathbf{\\nabla}_{i}^{2} \\Psi}{\\Psi}.\n",
      "$$"
     ]
    },
    {
     "cell_type": "markdown",
     "metadata": {},
     "source": [
      "### Importance sampling\n",
      "**Main ideas.**"
     ]
    },
    {
     "cell_type": "markdown",
     "metadata": {},
     "source": [
      "1\n",
      "2\n",
      "3\n",
      " \n",
      "<\n",
      "<\n",
      "<\n",
      "!\n",
      "!\n",
      "M\n",
      "A\n",
      "T\n",
      "H\n",
      "_\n",
      "B\n",
      "L\n",
      "O\n",
      "C\n",
      "K"
     ]
    },
    {
     "cell_type": "markdown",
     "metadata": {},
     "source": [
      "$$\n",
      "\\begin{eqnarray}\n",
      "\\frac{\\mathbf{\\nabla}^2 \\Psi}{\\Psi}\n",
      "& = & \\frac{\\mathbf{\\nabla}^2 \\Psi_{D}}{\\Psi_{D}} + \\frac{\\mathbf{\\nabla}^2  \\Psi_C}{ \\Psi_C} + 2 \\frac{\\mathbf{\\nabla}  \\Psi_{D}}{\\Psi_{D}}\\cdot\\frac{\\mathbf{\\nabla}   \\Psi_C}{ \\Psi_C}\n",
      "\\end{eqnarray}\n",
      "$$"
     ]
    },
    {
     "cell_type": "markdown",
     "metadata": {},
     "source": [
      "### Importance sampling\n",
      "**Main ideas.**\n",
      "\n",
      "We define the correlated function as"
     ]
    },
    {
     "cell_type": "markdown",
     "metadata": {},
     "source": [
      "$$\n",
      "\\Psi_C=\\prod_{i< j}g(r_{ij})=\\prod_{i< j}^Ng(r_{ij})= \\prod_{i=1}^N\\prod_{j=i+1}^Ng(r_{ij}),\n",
      "$$"
     ]
    },
    {
     "cell_type": "markdown",
     "metadata": {},
     "source": [
      "with \n",
      "$r_{ij}=|\\mathbf{r}_i-\\mathbf{r}_j|=\\sqrt{(x_i-x_j)^2+(y_i-y_j)^2+(z_i-z_j)^2}$ for three dimensions and\n",
      "$r_{ij}=|\\mathbf{r}_i-\\mathbf{r}_j|=\\sqrt{(x_i-x_j)^2+(y_i-y_j)^2}$ for two dimensions.\n",
      "\n",
      "In our particular case we have"
     ]
    },
    {
     "cell_type": "markdown",
     "metadata": {},
     "source": [
      "$$\n",
      "\\Psi_C=\\prod_{i< j}g(r_{ij})=\\exp{\\left\\{\\sum_{i<j}f(r_{ij})\\right\\}}=\n",
      "\\exp{\\left\\{\\sum_{i<j}\\frac{ar_{ij}}{1+\\beta r_{ij}}\\right\\}},\n",
      "$$"
     ]
    },
    {
     "cell_type": "markdown",
     "metadata": {},
     "source": [
      "### Importance sampling\n",
      "**Main ideas.**\n",
      "\n",
      "The total number of different relative distances $r_{ij}$ is $N(N-1)/2$. In a matrix storage format, the set forms a strictly upper triangular matrix"
     ]
    },
    {
     "cell_type": "markdown",
     "metadata": {},
     "source": [
      "$$\n",
      "\\mathbf{r} \\equiv \\begin{pmatrix}\n",
      "  0 & r_{1,2} & r_{1,3} & \\cdots & r_{1,N} \\\\\n",
      "  \\vdots & 0       & r_{2,3} & \\cdots & r_{2,N} \\\\\n",
      "  \\vdots & \\vdots  & 0  & \\ddots & \\vdots  \\\\\n",
      "  \\vdots & \\vdots  & \\vdots  & \\ddots  & r_{N-1,N} \\\\\n",
      "  0 & 0  & 0  & \\cdots  & 0\n",
      " \\end{pmatrix}.\n",
      "$$"
     ]
    },
    {
     "cell_type": "markdown",
     "metadata": {},
     "source": [
      "This applies to  $\\mathbf{g} = \\mathbf{g}(r_{ij})$ as well. \n",
      "\n",
      "In our algorithm we will move one particle  at the time, say the $kth$-particle . Keep this in mind in the discussion to come.\n",
      "\n",
      "\n",
      "### Importance sampling\n",
      "**Main ideas.**"
     ]
    },
    {
     "cell_type": "markdown",
     "metadata": {},
     "source": [
      "$$\n",
      "R_{C} = \\frac{\\Psi_{C}^\\mathrm{new}}{\\Psi_{C}^\\mathrm{cur} =\n",
      "\\prod_{i=1}^{k-1}\\frac{g_{ik}^\\mathrm{new}}{g_{ik}^\\mathrm{cur}}\\;\n",
      "\\prod_{i=k+1}^{N}\\frac{g_{ki}^\\mathrm{new}}{g_{ki}^\\mathrm{cur}}}.\n",
      "$$"
     ]
    },
    {
     "cell_type": "markdown",
     "metadata": {},
     "source": [
      "For the Pade-Jastrow form"
     ]
    },
    {
     "cell_type": "markdown",
     "metadata": {},
     "source": [
      "$$\n",
      "R_{C} = \\frac{\\Psi_{C}^\\mathrm{new}}{\\Psi_{C}^\\mathrm{cur} = \\frac{e^{U_{new}}}{e^{U_{cur}}} = e^{\\Delta U},}\n",
      "$$"
     ]
    },
    {
     "cell_type": "markdown",
     "metadata": {},
     "source": [
      "where"
     ]
    },
    {
     "cell_type": "markdown",
     "metadata": {},
     "source": [
      "$$\n",
      "\\Delta U =\n",
      "\\sum_{i=1}^{k-1}\\big(f_{ik}^\\mathrm{new}-f_{ik}^\\mathrm{cur}\\big)\n",
      "+\n",
      "\\sum_{i=k+1}^{N}\\big(f_{ki}^\\mathrm{new}-f_{ki}^\\mathrm{cur}\\big)\n",
      "$$"
     ]
    },
    {
     "cell_type": "markdown",
     "metadata": {},
     "source": [
      "### Importance sampling\n",
      "**Main ideas.**\n",
      "\n",
      "One needs to develop a special algorithm \n",
      "that runs only through the elements of the upper triangular\n",
      "matrix $\\mathbf{g}$ and have $k$ as an index. \n",
      "\n",
      "The expression to be derived in the following is of interest when computing the quantum force and the kinetic energy. It has the form"
     ]
    },
    {
     "cell_type": "markdown",
     "metadata": {},
     "source": [
      "$$\n",
      "\\frac{\\mathbf{\\nabla}_i\\Psi_C}{\\Psi_C} = \\frac{1}{\\Psi_C}\\frac{\\partial \\Psi_C}{\\partial x_i},\n",
      "$$"
     ]
    },
    {
     "cell_type": "markdown",
     "metadata": {},
     "source": [
      "for all dimensions and with $i$ running over all particles.\n",
      "\n",
      "\n",
      "### Importance sampling\n",
      "**Main ideas.**\n",
      "\n",
      "For the first derivative only $N-1$ terms survive the ratio because the $g$-terms that are not differentiated cancel with their corresponding ones in the denominator. Then,"
     ]
    },
    {
     "cell_type": "markdown",
     "metadata": {},
     "source": [
      "$$\n",
      "\\frac{1}{\\Psi_C}\\frac{\\partial \\Psi_C}{\\partial x_k} =\n",
      "\\sum_{i=1}^{k-1}\\frac{1}{g_{ik}}\\frac{\\partial g_{ik}}{\\partial x_k}\n",
      "+\n",
      "\\sum_{i=k+1}^{N}\\frac{1}{g_{ki}}\\frac{\\partial g_{ki}}{\\partial x_k}.\n",
      "$$"
     ]
    },
    {
     "cell_type": "markdown",
     "metadata": {},
     "source": [
      "An equivalent equation is obtained for the exponential form after replacing $g_{ij}$ by $\\exp(f_{ij})$, yielding:"
     ]
    },
    {
     "cell_type": "markdown",
     "metadata": {},
     "source": [
      "$$\n",
      "\\frac{1}{\\Psi_C}\\frac{\\partial \\Psi_C}{\\partial x_k} =\n",
      "\\sum_{i=1}^{k-1}\\frac{\\partial g_{ik}}{\\partial x_k}\n",
      "+\n",
      "\\sum_{i=k+1}^{N}\\frac{\\partial g_{ki}}{\\partial x_k},\n",
      "$$"
     ]
    },
    {
     "cell_type": "markdown",
     "metadata": {},
     "source": [
      "with both expressions scaling as $\\mathcal{O}(N)$.\n",
      "\n",
      "\n",
      "\n",
      "\n",
      "### Importance sampling\n",
      "**Main ideas.**\n",
      "\n",
      "\n",
      "Using the identity"
     ]
    },
    {
     "cell_type": "markdown",
     "metadata": {},
     "source": [
      "$$\n",
      "\\frac{\\partial}{\\partial x_i}g_{ij} = -\\frac{\\partial}{\\partial x_j}g_{ij},\n",
      "$$"
     ]
    },
    {
     "cell_type": "markdown",
     "metadata": {},
     "source": [
      "we get expressions where all the derivatives acting on the particle  are represented by the *second* index of $g$:"
     ]
    },
    {
     "cell_type": "markdown",
     "metadata": {},
     "source": [
      "$$\n",
      "\\frac{1}{\\Psi_C}\\frac{\\partial \\Psi_C}{\\partial x_k} =\n",
      "\\sum_{i=1}^{k-1}\\frac{1}{g_{ik}}\\frac{\\partial g_{ik}}{\\partial x_k}\n",
      "-\\sum_{i=k+1}^{N}\\frac{1}{g_{ki}}\\frac{\\partial g_{ki}}{\\partial x_i},\n",
      "$$"
     ]
    },
    {
     "cell_type": "markdown",
     "metadata": {},
     "source": [
      "and for the exponential case:"
     ]
    },
    {
     "cell_type": "markdown",
     "metadata": {},
     "source": [
      "$$\n",
      "\\frac{1}{\\Psi_C}\\frac{\\partial \\Psi_C}{\\partial x_k} =\n",
      "\\sum_{i=1}^{k-1}\\frac{\\partial g_{ik}}{\\partial x_k}\n",
      "-\\sum_{i=k+1}^{N}\\frac{\\partial g_{ki}}{\\partial x_i}.\n",
      "$$"
     ]
    },
    {
     "cell_type": "markdown",
     "metadata": {},
     "source": [
      "### Importance sampling\n",
      "For correlation forms depending only on the scalar distances $r_{ij}$ we can use the chain rule. Noting that"
     ]
    },
    {
     "cell_type": "markdown",
     "metadata": {},
     "source": [
      "$$\n",
      "\\frac{\\partial g_{ij}}{\\partial x_j} = \\frac{\\partial g_{ij}}{\\partial r_{ij}} \\frac{\\partial r_{ij}}{\\partial x_j} = \\frac{x_j - x_i}{r_{ij}} \\frac{\\partial g_{ij}}{\\partial r_{ij}},\n",
      "$$"
     ]
    },
    {
     "cell_type": "markdown",
     "metadata": {},
     "source": [
      "we arrive at"
     ]
    },
    {
     "cell_type": "markdown",
     "metadata": {},
     "source": [
      "$$\n",
      "\\frac{1}{\\Psi_C}\\frac{\\partial \\Psi_C}{\\partial x_k} = \n",
      "\\sum_{i=1}^{k-1}\\frac{1}{g_{ik}} \\frac{\\mathbf{r_{ik}}}{r_{ik}} \\frac{\\partial g_{ik}}{\\partial r_{ik}}\n",
      "-\\sum_{i=k+1}^{N}\\frac{1}{g_{ki}}\\frac{\\mathbf{r_{ki}}}{r_{ki}}\\frac{\\partial g_{ki}}{\\partial r_{ki}}.\n",
      "$$"
     ]
    },
    {
     "cell_type": "markdown",
     "metadata": {},
     "source": [
      "### Importance sampling\n",
      "Note that for the Pade-Jastrow form we can set $g_{ij} \\equiv g(r_{ij}) = e^{f(r_{ij})} = e^{f_{ij}}$ and"
     ]
    },
    {
     "cell_type": "markdown",
     "metadata": {},
     "source": [
      "$$\n",
      "\\frac{\\partial g_{ij}}{\\partial r_{ij}} = g_{ij} \\frac{\\partial f_{ij}}{\\partial r_{ij}}.\n",
      "$$"
     ]
    },
    {
     "cell_type": "markdown",
     "metadata": {},
     "source": [
      "Therefore,"
     ]
    },
    {
     "cell_type": "markdown",
     "metadata": {},
     "source": [
      "$$\n",
      "\\frac{1}{\\Psi_{C}}\\frac{\\partial \\Psi_{C}}{\\partial x_k} =\n",
      "\\sum_{i=1}^{k-1}\\frac{\\mathbf{r_{ik}}}{r_{ik}}\\frac{\\partial f_{ik}}{\\partial r_{ik}}\n",
      "-\\sum_{i=k+1}^{N}\\frac{\\mathbf{r_{ki}}}{r_{ki}}\\frac{\\partial f_{ki}}{\\partial r_{ki}},\n",
      "$$"
     ]
    },
    {
     "cell_type": "markdown",
     "metadata": {},
     "source": [
      "where"
     ]
    },
    {
     "cell_type": "markdown",
     "metadata": {},
     "source": [
      "$$\n",
      "\\mathbf{r}_{ij} = |\\mathbf{r}_j - \\mathbf{r}_i| = (x_j - x_i)\\vec{e}_1 + (y_j - y_i)\\vec{e}_2 + (z_j - z_i)\\vec{e}_3\n",
      "$$"
     ]
    },
    {
     "cell_type": "markdown",
     "metadata": {},
     "source": [
      "is the relative distance.\n",
      "\n",
      "\n",
      "\n",
      "\n",
      "### Importance sampling\n",
      "When the correlation function is the *linear Pade-Jastrow* we have"
     ]
    },
    {
     "cell_type": "markdown",
     "metadata": {},
     "source": [
      "$$\n",
      "f_{ij} = \\frac{a r_{ij}}{(1 + \\beta r_{ij})},\n",
      "$$"
     ]
    },
    {
     "cell_type": "markdown",
     "metadata": {},
     "source": [
      "which yields the closed form expression"
     ]
    },
    {
     "cell_type": "markdown",
     "metadata": {},
     "source": [
      "$$\n",
      "\\frac{\\partial f_{ij}}{\\partial r_{ij}} = \\frac{a}{(1 + \\beta r_{ij})^2}.\n",
      "$$"
     ]
    },
    {
     "cell_type": "markdown",
     "metadata": {},
     "source": [
      "### Importance sampling\n",
      "The second derivative of the Jastrow factor divided by the Jastrow factor (the way it enters the kinetic energy) is"
     ]
    },
    {
     "cell_type": "markdown",
     "metadata": {},
     "source": [
      "$$\n",
      "\\left[\\frac{\\mathbf{\\nabla}^2 \\Psi_C}{\\Psi_C}\\right]_x =\\  \n",
      "2\\sum_{k=1}^{N}\n",
      "\\sum_{i=1}^{k-1}\\frac{\\partial^2 g_{ik}}{\\partial x_k^2}\\ +\\ \n",
      "\\sum_{k=1}^N\n",
      "\\left(\n",
      "\\sum_{i=1}^{k-1}\\frac{\\partial g_{ik}}{\\partial x_k} -\n",
      "\\sum_{i=k+1}^{N}\\frac{\\partial g_{ki}}{\\partial x_i}\n",
      "\\right)^2\n",
      "$$"
     ]
    },
    {
     "cell_type": "markdown",
     "metadata": {},
     "source": [
      "### Importance sampling\n",
      "\n",
      "\n",
      "\n",
      "\n",
      "\n",
      "\n",
      "### Importance sampling\n",
      "But we have a simple form for the function, namely"
     ]
    },
    {
     "cell_type": "markdown",
     "metadata": {},
     "source": [
      "$$\n",
      "\\Psi_{C}=\\prod_{i< j}\\exp{f(r_{ij})}= \\exp{\\left\\{\\sum_{i<j}\\frac{ar_{ij}}{1+\\beta r_{ij}}\\right\\}},\n",
      "$$"
     ]
    },
    {
     "cell_type": "markdown",
     "metadata": {},
     "source": [
      "and it is easy to see that for particle  $k$\n",
      "we have"
     ]
    },
    {
     "cell_type": "markdown",
     "metadata": {},
     "source": [
      "$$\n",
      "\\frac{\\mathbf{\\nabla}^2_k \\Psi_C}{\\Psi_C }=\n",
      "\\sum_{ij\\ne k}\\frac{(\\mathbf{r}_k-\\mathbf{r}_i)(\\mathbf{r}_k-\\mathbf{r}_j)}{r_{ki}r_{kj}}f'(r_{ki})f'(r_{kj})+\n",
      "\\sum_{j\\ne k}\\left( f''(r_{kj})+\\frac{2}{r_{kj}}f'(r_{kj})\\right)\n",
      "$$"
     ]
    },
    {
     "cell_type": "markdown",
     "metadata": {},
     "source": [
      "### Importance sampling\n",
      "Using"
     ]
    },
    {
     "cell_type": "markdown",
     "metadata": {},
     "source": [
      "$$\n",
      "f(r_{ij})= \\frac{ar_{ij}}{1+\\beta r_{ij}},\n",
      "$$"
     ]
    },
    {
     "cell_type": "markdown",
     "metadata": {},
     "source": [
      "and $g'(r_{kj})=dg(r_{kj})/dr_{kj}$ and \n",
      "$g''(r_{kj})=d^2g(r_{kj})/dr_{kj}^2$  we find that for particle  $k$\n",
      "we have"
     ]
    },
    {
     "cell_type": "markdown",
     "metadata": {},
     "source": [
      "$$\n",
      "\\frac{\\mathbf{\\nabla}^2_k \\Psi_C}{\\Psi_C }=\n",
      "\\sum_{ij\\ne k}\\frac{(\\mathbf{r}_k-\\mathbf{r}_i)(\\mathbf{r}_k-\\mathbf{r}_j)}{r_{ki}r_{kj}}\\frac{a}{(1+\\beta r_{ki})^2}\n",
      "\\frac{a}{(1+\\beta r_{kj})^2}+\n",
      "\\sum_{j\\ne k}\\left(\\frac{2a}{r_{kj}(1+\\beta r_{kj})^2}-\\frac{2a\\beta}{(1+\\beta r_{kj})^3}\\right)\n",
      "$$"
     ]
    },
    {
     "cell_type": "markdown",
     "metadata": {},
     "source": [
      "### Importance sampling\n",
      "For the correlation part"
     ]
    },
    {
     "cell_type": "markdown",
     "metadata": {},
     "source": [
      "$$\n",
      "\\Psi_C=\\prod_{i< j}g(r_{ij})= \\exp{\\left\\{\\sum_{i<j}\\frac{ar_{ij}}{1+\\beta r_{ij}}\\right\\}},\n",
      "$$"
     ]
    },
    {
     "cell_type": "markdown",
     "metadata": {},
     "source": [
      "we need to take into account whether electrons have equal or opposite spins since we have to obey the\n",
      "electron-electron cusp condition as well.  \n",
      "When the electrons have  equal spins"
     ]
    },
    {
     "cell_type": "markdown",
     "metadata": {},
     "source": [
      "$$\n",
      "a= 1/4,\n",
      "$$"
     ]
    },
    {
     "cell_type": "markdown",
     "metadata": {},
     "source": [
      "while for opposite spins (like the ground state in Helium)"
     ]
    },
    {
     "cell_type": "markdown",
     "metadata": {},
     "source": [
      "$$\n",
      "a= 1/2\n",
      "$$"
     ]
    },
    {
     "cell_type": "markdown",
     "metadata": {},
     "source": [
      "### Importance sampling, Fokker-Planck and Langevin equations\n",
      "A stochastic process is simply a function of two variables, one is the time,\n",
      "the other is a stochastic variable $X$, defined by specifying\n",
      "* the set $\\left\\{x\\right\\}$ of possible values for $X$;\n",
      "\n",
      "* the probability distribution, $w_X(x)$,  over this set, or briefly $w(x)$\n",
      "\n",
      "The set of values $\\left\\{x\\right\\}$ for $X$ \n",
      "may be discrete, or continuous. If the set of\n",
      "values is continuous, then $w_X (x)$ is a probability density so that \n",
      "$w_X (x)dx$\n",
      "is the probability that one finds the stochastic variable $X$ to have values\n",
      "in the range $[x, x + dx]$ .\n",
      "\n",
      "\n",
      "\n",
      "\n",
      "### Importance sampling, Fokker-Planck and Langevin equations\n",
      "     An arbitrary number of other stochastic variables may be derived from\n",
      "$X$. For example, any $Y$ given by a mapping of $X$, is also a stochastic\n",
      "variable. The mapping may also be time-dependent, that is, the mapping\n",
      "depends on an additional variable $t$"
     ]
    },
    {
     "cell_type": "markdown",
     "metadata": {},
     "source": [
      "$$\n",
      "Y_X (t) = f (X, t) .\n",
      "$$"
     ]
    },
    {
     "cell_type": "markdown",
     "metadata": {},
     "source": [
      "The quantity $Y_X (t)$ is called a random function, or, since $t$ often is time,\n",
      "a stochastic process. A stochastic process is a function of two variables,\n",
      "one is the time, the other is a stochastic variable $X$. Let $x$ be one of the\n",
      "possible values of $X$ then"
     ]
    },
    {
     "cell_type": "markdown",
     "metadata": {},
     "source": [
      "$$\n",
      "y(t) = f (x, t),\n",
      "$$"
     ]
    },
    {
     "cell_type": "markdown",
     "metadata": {},
     "source": [
      "is a function of $t$, called a sample function or realization of the process.\n",
      "In physics one considers the stochastic process to be an ensemble of such\n",
      "sample functions.\n",
      "\n",
      "\n",
      "\n",
      "### Importance sampling, Fokker-Planck and Langevin equations\n",
      "     For many physical systems initial distributions of a stochastic \n",
      "variable $y$ tend to equilibrium distributions: $w(y, t)\\rightarrow w_0(y)$ \n",
      "as $t\\rightarrow\\infty$. In\n",
      "equilibrium detailed balance constrains the transition rates"
     ]
    },
    {
     "cell_type": "markdown",
     "metadata": {},
     "source": [
      "$$\n",
      "W(y\\rightarrow y')w(y ) = W(y'\\rightarrow y)w_0 (y),\n",
      "$$"
     ]
    },
    {
     "cell_type": "markdown",
     "metadata": {},
     "source": [
      "where $W(y'\\rightarrow y)$ \n",
      "is the probability, per unit time, that the system changes\n",
      "from a state $|y\\rangle$ , characterized by the value $y$ \n",
      "for the stochastic variable $Y$ , to a state $|y'\\rangle$.\n",
      "\n",
      "Note that for a system in equilibrium the transition rate \n",
      "$W(y'\\rightarrow y)$ and\n",
      "the reverse $W(y\\rightarrow y')$ may be very different.\n",
      "\n",
      "\n",
      "\n",
      "\n",
      "### Importance sampling, Fokker-Planck and Langevin equations\n",
      "Consider, for instance, a simple\n",
      "system that has only two energy levels $\\epsilon_0 = 0$ and \n",
      "$\\epsilon_1 = \\Delta E$. \n",
      "\n",
      "For a system governed by the Boltzmann distribution we find (the partition function has been taken out)"
     ]
    },
    {
     "cell_type": "markdown",
     "metadata": {},
     "source": [
      "$$\n",
      "W(0\\rightarrow 1)\\exp{-\\epsilon_0/kT} = W(1\\rightarrow 0)\\exp{-\\epsilon_1/kT}\n",
      "$$"
     ]
    },
    {
     "cell_type": "markdown",
     "metadata": {},
     "source": [
      "We get then"
     ]
    },
    {
     "cell_type": "markdown",
     "metadata": {},
     "source": [
      "$$\n",
      "\\frac{W(1\\rightarrow 0)}{W(0 \\rightarrow 1)}=\\exp{-\\Delta E/kT},\n",
      "$$"
     ]
    },
    {
     "cell_type": "markdown",
     "metadata": {},
     "source": [
      "which goes to zero when $T$ tends to zero.\n",
      "\n",
      "\n",
      "\n",
      "\n",
      "### Importance sampling, Fokker-Planck and Langevin equations\n",
      "If we assume a discrete set of events,\n",
      "our initial probability\n",
      "distribution function can be  given by"
     ]
    },
    {
     "cell_type": "markdown",
     "metadata": {},
     "source": [
      "$$\n",
      "w_i(0) = \\delta_{i,0},\n",
      "$$"
     ]
    },
    {
     "cell_type": "markdown",
     "metadata": {},
     "source": [
      "and its time-development after a given time step $\\Delta t=\\epsilon$ is"
     ]
    },
    {
     "cell_type": "markdown",
     "metadata": {},
     "source": [
      "$$\n",
      "w_i(t) = \\sum_{j}W(j\\rightarrow i)w_j(t=0).\n",
      "$$"
     ]
    },
    {
     "cell_type": "markdown",
     "metadata": {},
     "source": [
      "The continuous analog to $w_i(0)$ is"
     ]
    },
    {
     "cell_type": "markdown",
     "metadata": {},
     "source": [
      "$$\n",
      "w(\\mathbf{x})\\rightarrow \\delta(\\mathbf{x}),\n",
      "$$"
     ]
    },
    {
     "cell_type": "markdown",
     "metadata": {},
     "source": [
      "where we now have generalized the one-dimensional position $x$ to a generic-dimensional  \n",
      "vector $\\mathbf{x}$. The Kroenecker $\\delta$ function is replaced by the $\\delta$ distribution\n",
      "function $\\delta(\\mathbf{x})$ at  $t=0$.\n",
      "\n",
      "\n",
      "\n",
      "\n",
      "### Importance sampling, Fokker-Planck and Langevin equations\n",
      "The transition from a state $j$ to a state $i$ is now replaced by a transition\n",
      "to a state with position $\\mathbf{y}$ from a state with position $\\mathbf{x}$. \n",
      "The discrete sum of transition probabilities can then be replaced by an integral\n",
      "and we obtain the new distribution at a time $t+\\Delta t$ as"
     ]
    },
    {
     "cell_type": "markdown",
     "metadata": {},
     "source": [
      "$$\n",
      "w(\\mathbf{y},t+\\Delta t)= \\int W(\\mathbf{y},t+\\Delta t| \\mathbf{x},t)w(\\mathbf{x},t)d\\mathbf{x},\n",
      "$$"
     ]
    },
    {
     "cell_type": "markdown",
     "metadata": {},
     "source": [
      "and after $m$ time steps we have"
     ]
    },
    {
     "cell_type": "markdown",
     "metadata": {},
     "source": [
      "$$\n",
      "w(\\mathbf{y},t+m\\Delta t)= \\int W(\\mathbf{y},t+m\\Delta t| \\mathbf{x},t)w(\\mathbf{x},t)d\\mathbf{x}.\n",
      "$$"
     ]
    },
    {
     "cell_type": "markdown",
     "metadata": {},
     "source": [
      "When equilibrium is reached we have"
     ]
    },
    {
     "cell_type": "markdown",
     "metadata": {},
     "source": [
      "$$\n",
      "w(\\mathbf{y})= \\int W(\\mathbf{y}|\\mathbf{x}, t)w(\\mathbf{x})d\\mathbf{x},\n",
      "$$"
     ]
    },
    {
     "cell_type": "markdown",
     "metadata": {},
     "source": [
      "that is no time-dependence. Note our change of notation for $W$\n",
      "\n",
      "\n",
      "\n",
      "\n",
      "### Importance sampling, Fokker-Planck and Langevin equations\n",
      "We can solve the equation for $w(\\mathbf{y},t)$ by making a Fourier transform to\n",
      "momentum space. \n",
      "The PDF $w(\\mathbf{x},t)$ is related to its Fourier transform\n",
      "$\\tilde{w}(\\mathbf{k},t)$ through"
     ]
    },
    {
     "cell_type": "markdown",
     "metadata": {},
     "source": [
      "$$\n",
      "w(\\mathbf{x},t) = \\int_{-\\infty}^{\\infty}d\\mathbf{k} \\exp{(i\\mathbf{kx})}\\tilde{w}(\\mathbf{k},t),\n",
      "$$"
     ]
    },
    {
     "cell_type": "markdown",
     "metadata": {},
     "source": [
      "and using the definition of the \n",
      "$\\delta$-function"
     ]
    },
    {
     "cell_type": "markdown",
     "metadata": {},
     "source": [
      "$$\n",
      "\\delta(\\mathbf{x}) = \\frac{1}{2\\pi} \\int_{-\\infty}^{\\infty}d\\mathbf{k} \\exp{(i\\mathbf{kx})},\n",
      "$$"
     ]
    },
    {
     "cell_type": "markdown",
     "metadata": {},
     "source": [
      "we see that"
     ]
    },
    {
     "cell_type": "markdown",
     "metadata": {},
     "source": [
      "$$\n",
      "\\tilde{w}(\\mathbf{k},0)=1/2\\pi.\n",
      "$$"
     ]
    },
    {
     "cell_type": "markdown",
     "metadata": {},
     "source": [
      "### Importance sampling, Fokker-Planck and Langevin equations\n",
      "We can then use the Fourier-transformed diffusion equation"
     ]
    },
    {
     "cell_type": "markdown",
     "metadata": {},
     "source": [
      "$$\n",
      "\\frac{\\partial \\tilde{w}(\\mathbf{k},t)}{\\partial t} = -D\\mathbf{k}^2\\tilde{w}(\\mathbf{k},t),\n",
      "$$"
     ]
    },
    {
     "cell_type": "markdown",
     "metadata": {},
     "source": [
      "with the obvious solution"
     ]
    },
    {
     "cell_type": "markdown",
     "metadata": {},
     "source": [
      "$$\n",
      "\\tilde{w}(\\mathbf{k},t)=\\tilde{w}(\\mathbf{k},0)\\exp{\\left[-(D\\mathbf{k}^2t)\\right)}=\n",
      "    \\frac{1}{2\\pi}\\exp{\\left[-(D\\mathbf{k}^2t)\\right]}.\n",
      "$$"
     ]
    },
    {
     "cell_type": "markdown",
     "metadata": {},
     "source": [
      "### Importance sampling, Fokker-Planck and Langevin equations\n",
      "With the Fourier transform we obtain"
     ]
    },
    {
     "cell_type": "markdown",
     "metadata": {},
     "source": [
      "$$\n",
      "w(\\mathbf{x},t)=\\int_{-\\infty}^{\\infty}d\\mathbf{k} \\exp{\\left[i\\mathbf{kx}\\right]}\\frac{1}{2\\pi}\\exp{\\left[-(D\\mathbf{k}^2t)\\right]}=\n",
      "    \\frac{1}{\\sqrt{4\\pi Dt}}\\exp{\\left[-(\\mathbf{x}^2/4Dt)\\right]},\n",
      "$$"
     ]
    },
    {
     "cell_type": "markdown",
     "metadata": {},
     "source": [
      "with the normalization condition"
     ]
    },
    {
     "cell_type": "markdown",
     "metadata": {},
     "source": [
      "$$\n",
      "\\int_{-\\infty}^{\\infty}w(\\mathbf{x},t)d\\mathbf{x}=1.\n",
      "$$"
     ]
    },
    {
     "cell_type": "markdown",
     "metadata": {},
     "source": [
      "### Importance sampling, Fokker-Planck and Langevin equations\n",
      "The solution represents the probability of finding\n",
      "our random walker at position ${\\bf x}$ at time $t$ if the initial distribution \n",
      "was placed at ${\\bf x}=0$ at $t=0$. \n",
      "\n",
      "There is another interesting feature worth observing. The discrete transition probability $W$\n",
      "itself is given by a binomial distribution.\n",
      "The results from the central limit theorem state that \n",
      "transition probability in the limit $n\\rightarrow \\infty$ converges to the normal \n",
      "distribution. It is then possible to show that"
     ]
    },
    {
     "cell_type": "markdown",
     "metadata": {},
     "source": [
      "$$\n",
      "W(il-jl,n\\epsilon)\\rightarrow W({\\bf y},t+\\Delta t|{\\bf x},t)=\n",
      "    \\frac{1}{\\sqrt{4\\pi D\\Delta t}}\\exp{\\left[-(({\\bf y}-{\\bf x})^2/4D\\Delta t)\\right]},\n",
      "$$"
     ]
    },
    {
     "cell_type": "markdown",
     "metadata": {},
     "source": [
      "and that it satisfies the normalization condition and is itself a solution\n",
      "to the diffusion equation.\n",
      "\n",
      "\n",
      "\n",
      "\n",
      "### Importance sampling, Fokker-Planck and Langevin equations\n",
      "Let us now assume that we have three PDFs for times $t_0 < t' < t$, that is\n",
      "$w({\\bf x}_0,t_0)$, $w({\\bf x}',t')$ and $w({\\bf x},t)$.\n",
      "We have then"
     ]
    },
    {
     "cell_type": "markdown",
     "metadata": {},
     "source": [
      "$$\n",
      "w({\\bf x},t)= \\int_{-\\infty}^{\\infty} W({\\bf x}.t|{\\bf x}'.t')w({\\bf x}',t')d{\\bf x}',\n",
      "$$"
     ]
    },
    {
     "cell_type": "markdown",
     "metadata": {},
     "source": [
      "and"
     ]
    },
    {
     "cell_type": "markdown",
     "metadata": {},
     "source": [
      "$$\n",
      "w({\\bf x},t)= \\int_{-\\infty}^{\\infty} W({\\bf x}.t|{\\bf x}_0.t_0)w({\\bf x}_0,t_0)d{\\bf x}_0,\n",
      "$$"
     ]
    },
    {
     "cell_type": "markdown",
     "metadata": {},
     "source": [
      "and"
     ]
    },
    {
     "cell_type": "markdown",
     "metadata": {},
     "source": [
      "$$\n",
      "w({\\bf x}',t')= \\int_{-\\infty}^{\\infty} W({\\bf x}'.t'|{\\bf x}_0,t_0)w({\\bf x}_0,t_0)d{\\bf x}_0.\n",
      "$$"
     ]
    },
    {
     "cell_type": "markdown",
     "metadata": {},
     "source": [
      "### Importance sampling, Fokker-Planck and Langevin equations\n",
      "We can combine these equations and arrive at the famous Einstein-Smoluchenski-Kolmogorov-Chapman (ESKC) relation"
     ]
    },
    {
     "cell_type": "markdown",
     "metadata": {},
     "source": [
      "$$\n",
      "W({\\bf x}t|{\\bf x}_0t_0)  = \\int_{-\\infty}^{\\infty} W({\\bf x},t|{\\bf x}',t')W({\\bf x}',t'|{\\bf x}_0,t_0)d{\\bf x}'.\n",
      "$$"
     ]
    },
    {
     "cell_type": "markdown",
     "metadata": {},
     "source": [
      "We can replace the spatial dependence with a dependence upon say the velocity\n",
      "(or momentum), that is we have"
     ]
    },
    {
     "cell_type": "markdown",
     "metadata": {},
     "source": [
      "$$\n",
      "W({\\bf v},t|{\\bf v}_0,t_0)  = \\int_{-\\infty}^{\\infty} W({\\bf v},t|{\\bf v}',t')W({\\bf v}',t'|{\\bf v}_0,t_0)d{\\bf x}'.\n",
      "$$"
     ]
    },
    {
     "cell_type": "markdown",
     "metadata": {},
     "source": [
      "### Importance sampling, Fokker-Planck and Langevin equations\n",
      "We will now derive the Fokker-Planck equation. \n",
      "We start from the ESKC equation"
     ]
    },
    {
     "cell_type": "markdown",
     "metadata": {},
     "source": [
      "$$\n",
      "W({\\bf x},t|{\\bf x}_0,t_0)  = \\int_{-\\infty}^{\\infty} W({\\bf x},t|{\\bf x}',t')W({\\bf x}',t'|{\\bf x}_0,t_0)d{\\bf x}'.\n",
      "$$"
     ]
    },
    {
     "cell_type": "markdown",
     "metadata": {},
     "source": [
      "Define $s=t'-t_0$, $\\tau=t-t'$ and $t-t_0=s+\\tau$. We have then"
     ]
    },
    {
     "cell_type": "markdown",
     "metadata": {},
     "source": [
      "$$\n",
      "W({\\bf x},s+\\tau|{\\bf x}_0)  = \\int_{-\\infty}^{\\infty} W({\\bf x},\\tau|{\\bf x}')W({\\bf x}',s|{\\bf x}_0)d{\\bf x}'.\n",
      "$$"
     ]
    },
    {
     "cell_type": "markdown",
     "metadata": {},
     "source": [
      "### Importance sampling, Fokker-Planck and Langevin equations\n",
      "Assume now that $\\tau$ is very small so that we can make an expansion in terms of a small step $xi$, with ${\\bf x}'={\\bf x}-\\xi$, that is"
     ]
    },
    {
     "cell_type": "markdown",
     "metadata": {},
     "source": [
      "$$\n",
      "W({\\bf x},s|{\\bf x}_0)+\\frac{\\partial W}{\\partial s}\\tau +O(\\tau^2) = \\int_{-\\infty}^{\\infty} W({\\bf x},\\tau|{\\bf x}-\\xi)W({\\bf x}-\\xi,s|{\\bf x}_0)d{\\bf x}'.\n",
      "$$"
     ]
    },
    {
     "cell_type": "markdown",
     "metadata": {},
     "source": [
      "We assume that $W({\\bf x},\\tau|{\\bf x}-\\xi)$ takes non-negligible values only when $\\xi$ is small. This is just another way of stating the Master equation!!\n",
      "\n",
      "\n",
      "\n",
      "\n",
      "### Importance sampling, Fokker-Planck and Langevin equations\n",
      "We say thus that ${\\bf x}$ changes only by a small amount in the time interval $\\tau$. \n",
      "This means that we can make a Taylor expansion in terms of $\\xi$, that is we\n",
      "expand"
     ]
    },
    {
     "cell_type": "markdown",
     "metadata": {},
     "source": [
      "$$\n",
      "W({\\bf x},\\tau|{\\bf x}-\\xi)W({\\bf x}-\\xi,s|{\\bf x}_0) =\n",
      "\\sum_{n=0}^{\\infty}\\frac{(-\\xi)^n}{n!}\\frac{\\partial^n}{\\partial x^n}\\left[W({\\bf x}+\\xi,\\tau|{\\bf x})W({\\bf x},s|{\\bf x}_0)\n",
      "\\right].\n",
      "$$"
     ]
    },
    {
     "cell_type": "markdown",
     "metadata": {},
     "source": [
      "### Importance sampling, Fokker-Planck and Langevin equations\n",
      "We can then rewrite the ESKC equation as"
     ]
    },
    {
     "cell_type": "markdown",
     "metadata": {},
     "source": [
      "$$\n",
      "\\frac{\\partial W}{\\partial s}\\tau=-W({\\bf x},s|{\\bf x}_0)+\n",
      "\\sum_{n=0}^{\\infty}\\frac{(-\\xi)^n}{n!}\\frac{\\partial^n}{\\partial x^n}\n",
      "\\left[W({\\bf x},s|{\\bf x}_0)\\int_{-\\infty}^{\\infty} \\xi^nW({\\bf x}+\\xi,\\tau|{\\bf x})d\\xi\\right].\n",
      "$$"
     ]
    },
    {
     "cell_type": "markdown",
     "metadata": {},
     "source": [
      "We have neglected higher powers of $\\tau$ and have used that for $n=0$ \n",
      "we get simply $W({\\bf x},s|{\\bf x}_0)$ due to normalization.\n",
      "\n",
      "\n",
      "\n",
      "\n",
      "### Importance sampling, Fokker-Planck and Langevin equations\n",
      "We say thus that ${\\bf x}$ changes only by a small amount in the time interval $\\tau$. \n",
      "This means that we can make a Taylor expansion in terms of $\\xi$, that is we\n",
      "expand"
     ]
    },
    {
     "cell_type": "markdown",
     "metadata": {},
     "source": [
      "$$\n",
      "W({\\bf x},\\tau|{\\bf x}-\\xi)W({\\bf x}-\\xi,s|{\\bf x}_0) =\n",
      "\\sum_{n=0}^{\\infty}\\frac{(-\\xi)^n}{n!}\\frac{\\partial^n}{\\partial x^n}\\left[W({\\bf x}+\\xi,\\tau|{\\bf x})W({\\bf x},s|{\\bf x}_0)\n",
      "\\right].\n",
      "$$"
     ]
    },
    {
     "cell_type": "markdown",
     "metadata": {},
     "source": [
      "### Importance sampling, Fokker-Planck and Langevin equations\n",
      "We can then rewrite the ESKC equation as"
     ]
    },
    {
     "cell_type": "markdown",
     "metadata": {},
     "source": [
      "$$\n",
      "\\frac{\\partial W({\\bf x},s|{\\bf x}_0)}{\\partial s}\\tau=-W({\\bf x},s|{\\bf x}_0)+\n",
      "\\sum_{n=0}^{\\infty}\\frac{(-\\xi)^n}{n!}\\frac{\\partial^n}{\\partial x^n}\n",
      "\\left[W({\\bf x},s|{\\bf x}_0)\\int_{-\\infty}^{\\infty} \\xi^nW({\\bf x}+\\xi,\\tau|{\\bf x})d\\xi\\right].\n",
      "$$"
     ]
    },
    {
     "cell_type": "markdown",
     "metadata": {},
     "source": [
      "We have neglected higher powers of $\\tau$ and have used that for $n=0$ \n",
      "we get simply $W({\\bf x},s|{\\bf x}_0)$ due to normalization.\n",
      "\n",
      "\n",
      "\n",
      "\n",
      "### Importance sampling, Fokker-Planck and Langevin equations\n",
      "We simplify the above by introducing the moments"
     ]
    },
    {
     "cell_type": "markdown",
     "metadata": {},
     "source": [
      "$$\n",
      "M_n=\\frac{1}{\\tau}\\int_{-\\infty}^{\\infty} \\xi^nW({\\bf x}+\\xi,\\tau|{\\bf x})d\\xi=\n",
      "\\frac{\\langle [\\Delta x(\\tau)]^n\\rangle}{\\tau},\n",
      "$$"
     ]
    },
    {
     "cell_type": "markdown",
     "metadata": {},
     "source": [
      "resulting in"
     ]
    },
    {
     "cell_type": "markdown",
     "metadata": {},
     "source": [
      "$$\n",
      "\\frac{\\partial W({\\bf x},s|{\\bf x}_0)}{\\partial s}=\n",
      "\\sum_{n=1}^{\\infty}\\frac{(-\\xi)^n}{n!}\\frac{\\partial^n}{\\partial x^n}\n",
      "\\left[W({\\bf x},s|{\\bf x}_0)M_n\\right].\n",
      "$$"
     ]
    },
    {
     "cell_type": "markdown",
     "metadata": {},
     "source": [
      "### Importance sampling, Fokker-Planck and Langevin equations\n",
      "When $\\tau \\rightarrow 0$ we assume that $\\langle [\\Delta x(\\tau)]^n\\rangle \\rightarrow 0$ more rapidly than $\\tau$ itself if $n > 2$. \n",
      "When $\\tau$ is much larger than the standard correlation time of \n",
      "system then $M_n$ for $n > 2$ can normally be neglected.\n",
      "This means that fluctuations become negligible at large time scales.\n",
      "\n",
      "If we neglect such terms we can rewrite the ESKC equation as"
     ]
    },
    {
     "cell_type": "markdown",
     "metadata": {},
     "source": [
      "$$\n",
      "\\frac{\\partial W({\\bf x},s|{\\bf x}_0)}{\\partial s}=\n",
      "-\\frac{\\partial M_1W({\\bf x},s|{\\bf x}_0)}{\\partial x}+\n",
      "\\frac{1}{2}\\frac{\\partial^2 M_2W({\\bf x},s|{\\bf x}_0)}{\\partial x^2}.\n",
      "$$"
     ]
    },
    {
     "cell_type": "markdown",
     "metadata": {},
     "source": [
      "### Importance sampling, Fokker-Planck and Langevin equations\n",
      "In a more compact form we have"
     ]
    },
    {
     "cell_type": "markdown",
     "metadata": {},
     "source": [
      "$$\n",
      "\\frac{\\partial W}{\\partial s}=\n",
      "-\\frac{\\partial M_1W}{\\partial x}+\n",
      "\\frac{1}{2}\\frac{\\partial^2 M_2W}{\\partial x^2},\n",
      "$$"
     ]
    },
    {
     "cell_type": "markdown",
     "metadata": {},
     "source": [
      "which is the Fokker-Planck equation!  It is trivial to replace \n",
      "position with velocity (momentum).\n",
      "\n",
      "\n",
      "\n",
      "\n",
      "### Importance sampling, Fokker-Planck and Langevin equations\n",
      "**Langevin equation.**\n",
      "\n",
      "Consider a particle  suspended in a liquid. On its path through the liquid it will continuously collide with the liquid molecules. Because on average the particle  will collide more often on the front side than on the back side, it will experience a systematic force proportional with its velocity, and directed opposite to its velocity. Besides this systematic force the particle  will experience a stochastic force  $\\mathbf{F}(t)$. \n",
      "The equations of motion are \n",
      "* $\\frac{d\\mathbf{r}}{dt}=\\mathbf{v}$ and \n",
      "\n",
      "* $\\frac{d\\mathbf{v}}{dt}=-\\xi \\mathbf{v}+\\mathbf{F}$.\n",
      "\n",
      "\n",
      "\n",
      "\n",
      "### Importance sampling, Fokker-Planck and Langevin equations\n",
      "**Langevin equation.**\n",
      "\n",
      "From hydrodynamics  we know that the friction constant  $\\xi$ is given by"
     ]
    },
    {
     "cell_type": "markdown",
     "metadata": {},
     "source": [
      "$$\n",
      "\\xi =6\\pi \\eta a/m\n",
      "$$"
     ]
    },
    {
     "cell_type": "markdown",
     "metadata": {},
     "source": [
      "where $\\eta$ is the viscosity  of the solvent and a is the radius of the particle .\n",
      "\n",
      "Solving the second equation in the previous slide we get"
     ]
    },
    {
     "cell_type": "markdown",
     "metadata": {},
     "source": [
      "$$\n",
      "\\mathbf{v}(t)=\\mathbf{v}_{0}e^{-\\xi t}+\\int_{0}^{t}d\\tau e^{-\\xi (t-\\tau )}\\mathbf{F }(\\tau ).\n",
      "$$"
     ]
    },
    {
     "cell_type": "markdown",
     "metadata": {},
     "source": [
      "### Importance sampling, Fokker-Planck and Langevin equations\n",
      "**Langevin equation.**\n",
      "\n",
      "If we want to get some useful information out of this, we have to average over all possible realizations of \n",
      "$\\mathbf{F}(t)$, with the initial velocity as a condition. A useful quantity for example is"
     ]
    },
    {
     "cell_type": "markdown",
     "metadata": {},
     "source": [
      "1\n",
      "8\n",
      "9\n",
      " \n",
      "<\n",
      "<\n",
      "<\n",
      "!\n",
      "!\n",
      "M\n",
      "A\n",
      "T\n",
      "H\n",
      "_\n",
      "B\n",
      "L\n",
      "O\n",
      "C\n",
      "K"
     ]
    },
    {
     "cell_type": "markdown",
     "metadata": {},
     "source": [
      "$$\n",
      "+\\int_{0}^{t}d\\tau ^{\\prime }\\int_{0}^{t}d\\tau e^{-\\xi (2t-\\tau -\\tau ^{\\prime })}\n",
      "\\langle \\mathbf{F}(\\tau )\\cdot \\mathbf{F}(\\tau ^{\\prime })\\rangle_{ \\mathbf{v}_{0}}.\n",
      "$$"
     ]
    },
    {
     "cell_type": "markdown",
     "metadata": {},
     "source": [
      "### Importance sampling, Fokker-Planck and Langevin equations\n",
      "**Langevin equation.**\n",
      "\n",
      "In order to continue we have to make some assumptions about the conditional averages of the stochastic forces. \n",
      "In view of the chaotic character of the stochastic forces the following assumptions seem to be appropriate"
     ]
    },
    {
     "cell_type": "markdown",
     "metadata": {},
     "source": [
      "1\n",
      "9\n",
      "1\n",
      " \n",
      "<\n",
      "<\n",
      "<\n",
      "!\n",
      "!\n",
      "M\n",
      "A\n",
      "T\n",
      "H\n",
      "_\n",
      "B\n",
      "L\n",
      "O\n",
      "C\n",
      "K"
     ]
    },
    {
     "cell_type": "markdown",
     "metadata": {},
     "source": [
      "$$\n",
      "\\langle \\mathbf{F}(t)\\cdot \\mathbf{F}(t^{\\prime })\\rangle_{\\mathbf{v}_{0}}=  C_{\\mathbf{v}_{0}}\\delta (t-t^{\\prime }).\n",
      "$$"
     ]
    },
    {
     "cell_type": "markdown",
     "metadata": {},
     "source": [
      "We omit the subscript $\\mathbf{v}_{0}$, when the quantity of interest turns out to be independent of $\\mathbf{v}_{0}$. Using the last three equations we get"
     ]
    },
    {
     "cell_type": "markdown",
     "metadata": {},
     "source": [
      "$$\n",
      "\\langle \\mathbf{v}(t)\\cdot \\mathbf{v}(t)\\rangle_{\\mathbf{v}_{0}}=v_{0}^{2}e^{-2\\xi t}+\\frac{C_{\\mathbf{v}_{0}}}{2\\xi }(1-e^{-2\\xi t}).\n",
      "$$"
     ]
    },
    {
     "cell_type": "markdown",
     "metadata": {},
     "source": [
      "For large t this should be equal to 3kT/m, from which it follows that"
     ]
    },
    {
     "cell_type": "markdown",
     "metadata": {},
     "source": [
      "$$\n",
      "\\langle \\mathbf{F}(t)\\cdot \\mathbf{F}(t^{\\prime })\\rangle =6\\frac{kT}{m}\\xi \\delta (t-t^{\\prime }).\n",
      "$$"
     ]
    },
    {
     "cell_type": "markdown",
     "metadata": {},
     "source": [
      "This result is called the fluctuation-dissipation theorem .\n",
      "\n",
      "\n",
      "\n",
      "\n",
      "### Importance sampling, Fokker-Planck and Langevin equations\n",
      "**Langevin equation.**\n",
      "\n",
      "Integrating"
     ]
    },
    {
     "cell_type": "markdown",
     "metadata": {},
     "source": [
      "$$\n",
      "\\mathbf{v}(t)=\\mathbf{v}_{0}e^{-\\xi t}+\\int_{0}^{t}d\\tau e^{-\\xi (t-\\tau )}\\mathbf{F }(\\tau ),\n",
      "$$"
     ]
    },
    {
     "cell_type": "markdown",
     "metadata": {},
     "source": [
      "we get"
     ]
    },
    {
     "cell_type": "markdown",
     "metadata": {},
     "source": [
      "$$\n",
      "\\mathbf{r}(t)=\\mathbf{r}_{0}+\\mathbf{v}_{0}\\frac{1}{\\xi }(1-e^{-\\xi t})+\n",
      "\\int_0^td\\tau \\int_0^{\\tau}\\tau ^{\\prime } e^{-\\xi (\\tau -\\tau ^{\\prime })}\\mathbf{F}(\\tau ^{\\prime }),\n",
      "$$"
     ]
    },
    {
     "cell_type": "markdown",
     "metadata": {},
     "source": [
      "from which we calculate the mean square displacement"
     ]
    },
    {
     "cell_type": "markdown",
     "metadata": {},
     "source": [
      "$$\n",
      "\\langle ( \\mathbf{r}(t)-\\mathbf{r}_{0})^{2}\\rangle _{\\mathbf{v}_{0}}=\\frac{v_0^2}{\\xi}(1-e^{-\\xi t})^{2}+\\frac{3kT}{m\\xi ^{2}}(2\\xi t-3+4e^{-\\xi t}-e^{-2\\xi t}).\n",
      "$$"
     ]
    },
    {
     "cell_type": "markdown",
     "metadata": {},
     "source": [
      "### Importance sampling, Fokker-Planck and Langevin equations\n",
      "**Langevin equation.**\n",
      "\n",
      "For very large $t$ this becomes"
     ]
    },
    {
     "cell_type": "markdown",
     "metadata": {},
     "source": [
      "$$\n",
      "\\langle (\\mathbf{r}(t)-\\mathbf{r}_{0})^{2}\\rangle =\\frac{6kT}{m\\xi }t\n",
      "$$"
     ]
    },
    {
     "cell_type": "markdown",
     "metadata": {},
     "source": [
      "from which we get the Einstein relation"
     ]
    },
    {
     "cell_type": "markdown",
     "metadata": {},
     "source": [
      "$$\n",
      "D= \\frac{kT}{m\\xi }\n",
      "$$"
     ]
    },
    {
     "cell_type": "markdown",
     "metadata": {},
     "source": [
      "where we have used $\\langle (\\mathbf{r}(t)-\\mathbf{r}_{0})^{2}\\rangle =6Dt$."
     ]
    }
   ],
   "metadata": {}
  }
 ]
}
