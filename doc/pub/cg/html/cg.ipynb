{
 "metadata": {},
 "nbformat": 3,
 "nbformat_minor": 0,
 "worksheets": [
  {
   "cells": [
    {
     "cell_type": "markdown",
     "metadata": {},
     "source": [
      "# Conjugate gradient methods and other optimization methods\n",
      "**Spring 2015**\n",
      "\n",
      "### Conjugate gradient (CG) method\n",
      "Our aim with this part of the project is to be able to\n",
      "* find an optimal value for the variational parameters using only some few Monte Carlo cycles\n",
      "\n",
      "* use these optimal values for the variational parameters to perform a large-scale Monte Carlo calculation\n",
      "\n",
      "To achieve this will look at methods like *Steepest descent* and the *conjugate gradient method*. Both these methods allow us to find\n",
      "the minima of a multivariable  function like our energy (function of several variational parameters). \n",
      "\n",
      "The success of the CG method  for finding solutions of non-linear problems is based\n",
      "on the theory of conjugate gradients for linear systems of equations. It belongs\n",
      "to the class of iterative methods for solving problems from linear algebra of the type"
     ]
    },
    {
     "cell_type": "markdown",
     "metadata": {},
     "source": [
      "$$\n",
      "\\hat{A}\\hat{x} = \\hat{b}.\n",
      "$$"
     ]
    },
    {
     "cell_type": "markdown",
     "metadata": {},
     "source": [
      "In the iterative process we end up with a problem like"
     ]
    },
    {
     "cell_type": "markdown",
     "metadata": {},
     "source": [
      "$$\n",
      "\\hat{r}= \\hat{b}-\\hat{A}\\hat{x},\n",
      "$$"
     ]
    },
    {
     "cell_type": "markdown",
     "metadata": {},
     "source": [
      "where $\\hat{r}$ is the so-called residual or error in the iterative process.\n",
      "\n",
      "\n",
      "\n",
      "\n",
      "### Conjugate gradient method\n",
      "\n",
      "The residual is zero when we reach the minimum of the quadratic equation"
     ]
    },
    {
     "cell_type": "markdown",
     "metadata": {},
     "source": [
      "$$\n",
      "P(\\hat{x})=\\frac{1}{2}\\hat{x}^T\\hat{A}\\hat{x} - \\hat{x}^T\\hat{b},\n",
      "$$"
     ]
    },
    {
     "cell_type": "markdown",
     "metadata": {},
     "source": [
      "with the constraint that the matrix $\\hat{A}$ is positive definite and symmetric.\n",
      "If we search for a minimum of the quantum mechanical  variance, then the matrix \n",
      "$\\hat{A}$, which is called the Hessian, is given by the second-derivative of the variance.  This quantity is always positive definite.\n",
      "\n",
      "\n",
      "\n",
      "\n",
      "### Simple example and demonstration\n",
      "Let us illustrate what is needed in our calculations using a simple example, the harmonic oscillator in one dimension.\n",
      "For the harmonic oscillator in one-dimension we have a  trial wave function and probability"
     ]
    },
    {
     "cell_type": "markdown",
     "metadata": {},
     "source": [
      "$$\n",
      "\\psi_T(x) = e^{-\\alpha^2 x^2} \\qquad P_T(x)dx = \\frac{e^{-2\\alpha^2 x^2}dx}{\\int dx e^{-2\\alpha^2 x^2}}\n",
      "$$"
     ]
    },
    {
     "cell_type": "markdown",
     "metadata": {},
     "source": [
      "with $\\alpha$ being the variational parameter. \n",
      "We obtain then the following local energy"
     ]
    },
    {
     "cell_type": "markdown",
     "metadata": {},
     "source": [
      "$$\n",
      "E_L[\\alpha] = \\alpha^2+x^2\\left(\\frac{1}{2}-2\\alpha^2\\right),\n",
      "$$"
     ]
    },
    {
     "cell_type": "markdown",
     "metadata": {},
     "source": [
      "which results in the expectation value for the local energy"
     ]
    },
    {
     "cell_type": "markdown",
     "metadata": {},
     "source": [
      "$$\n",
      "\\langle  E_L[\\alpha]\\rangle = \\frac{1}{2}\\alpha^2+\\frac{1}{8\\alpha^2}\n",
      "$$"
     ]
    },
    {
     "cell_type": "markdown",
     "metadata": {},
     "source": [
      "Repeat these calculations and convince yourself that they are correct.\n",
      "\n",
      "\n",
      "\n",
      "### Simple example and demonstration\n",
      "The derivative of the energy with respect to $\\alpha$ gives"
     ]
    },
    {
     "cell_type": "markdown",
     "metadata": {},
     "source": [
      "$$\n",
      "\\frac{d\\langle  E_L[\\alpha]\\rangle}{d\\alpha} = \\alpha-\\frac{1}{4\\alpha^3}\n",
      "$$"
     ]
    },
    {
     "cell_type": "markdown",
     "metadata": {},
     "source": [
      "and a second derivative which is always positive (meaning that we find a minimum)"
     ]
    },
    {
     "cell_type": "markdown",
     "metadata": {},
     "source": [
      "$$\n",
      "\\frac{d^2\\langle  E_L[\\alpha]\\rangle}{d\\alpha^2} = 1+\\frac{3}{4\\alpha^4}\n",
      "$$"
     ]
    },
    {
     "cell_type": "markdown",
     "metadata": {},
     "source": [
      "The condition"
     ]
    },
    {
     "cell_type": "markdown",
     "metadata": {},
     "source": [
      "$$\n",
      "\\frac{d\\langle  E_L[\\alpha]\\rangle}{d\\alpha} = 0,\n",
      "$$"
     ]
    },
    {
     "cell_type": "markdown",
     "metadata": {},
     "source": [
      "gives the optimal $\\alpha=1/\\sqrt{2}$, as expected.\n",
      "Show this.\n",
      "\n",
      "\n",
      "\n",
      "### Variance in the simple model\n",
      "We can also minimize the variance. In our simple model the variance is"
     ]
    },
    {
     "cell_type": "markdown",
     "metadata": {},
     "source": [
      "$$\n",
      "\\sigma^2[\\alpha] = \\frac{1}{2}\\alpha^4-\\frac{1}{4}+\\frac{1}{32\\alpha^4},\n",
      "$$"
     ]
    },
    {
     "cell_type": "markdown",
     "metadata": {},
     "source": [
      "with first derivative"
     ]
    },
    {
     "cell_type": "markdown",
     "metadata": {},
     "source": [
      "$$\n",
      "\\frac{d \\sigma^2[\\alpha]}{d\\alpha} = 2\\alpha^3-\\frac{1}{8\\alpha^5}\n",
      "$$"
     ]
    },
    {
     "cell_type": "markdown",
     "metadata": {},
     "source": [
      "and a second derivative which is always positive"
     ]
    },
    {
     "cell_type": "markdown",
     "metadata": {},
     "source": [
      "$$\n",
      "\\frac{d^2\\sigma^2[\\alpha]}{d\\alpha^2} = 6\\alpha^2+\\frac{5}{8\\alpha^6}\n",
      "$$"
     ]
    },
    {
     "cell_type": "markdown",
     "metadata": {},
     "source": [
      "### Computing the derivatives\n",
      "In general we end up computing the expectation value of the energy in terms \n",
      "of some parameters $\\alpha_0,\\alpha_1,\\dots,\\alpha_n$\n",
      "and we search for a minimum in this multi-variable parameter space.  \n",
      "This leads to an energy minimization problem *where we need the derivative of the energy as a function of the variational parameters*.\n",
      "\n",
      "In the above example this was easy and we were able to find the expression for the derivative by simple derivations. \n",
      "However, in our actual calculations the energy is represented by a multi-dimensional integral with several variational parameters.\n",
      "How can we can then obtain the derivatives of the energy with respect to the variational parameters without having \n",
      "to resort to expensive numerical derivations?\n",
      "\n",
      "\n",
      "\n",
      "\n",
      "### Expressions for finding the derivatives of the local energy\n",
      "\n",
      "To find the derivatives of the local energy expectation value as function of the variational parameters, we can use the chain rule and the hermiticity of the Hamiltonian.  \n",
      "\n",
      "Let us define"
     ]
    },
    {
     "cell_type": "markdown",
     "metadata": {},
     "source": [
      "$$\n",
      "\\bar{E}_{\\alpha}=\\frac{d\\langle  E_L[\\alpha]\\rangle}{d\\alpha}.\n",
      "$$"
     ]
    },
    {
     "cell_type": "markdown",
     "metadata": {},
     "source": [
      "as the derivative of the energy with respect to the variational parameter $\\alpha$ (we limit ourselves to one parameter only).\n",
      "In the above example this was easy and we obtain a simple expression for the derivative.\n",
      "We define also the derivative of the trial function (skipping the subindex $T$) as"
     ]
    },
    {
     "cell_type": "markdown",
     "metadata": {},
     "source": [
      "$$\n",
      "\\bar{\\psi}_{\\alpha}=\\frac{d\\psi[\\alpha]\\rangle}{d\\alpha}.\n",
      "$$"
     ]
    },
    {
     "cell_type": "markdown",
     "metadata": {},
     "source": [
      "### Derivatives of the local energy\n",
      "The elements of the gradient of the local energy are then (using the chain rule and the hermiticity of the Hamiltonian)"
     ]
    },
    {
     "cell_type": "markdown",
     "metadata": {},
     "source": [
      "$$\n",
      "\\bar{E}_{\\alpha} = 2\\left( \\langle \\frac{\\bar{\\psi}_{\\alpha}}{\\psi[\\alpha]}E_L[\\alpha]\\rangle -\\langle \\frac{\\bar{\\psi}_{\\alpha}}{\\psi[\\alpha]}\\rangle\\langle E_L[\\alpha] \\rangle\\right).\n",
      "$$"
     ]
    },
    {
     "cell_type": "markdown",
     "metadata": {},
     "source": [
      "From a computational point of view it means that you need to compute the expectation values of"
     ]
    },
    {
     "cell_type": "markdown",
     "metadata": {},
     "source": [
      "$$\n",
      "\\langle \\frac{\\bar{\\psi}_{\\alpha}}{\\psi[\\alpha]}E_L[\\alpha]\\rangle,\n",
      "$$"
     ]
    },
    {
     "cell_type": "markdown",
     "metadata": {},
     "source": [
      "and"
     ]
    },
    {
     "cell_type": "markdown",
     "metadata": {},
     "source": [
      "$$\n",
      "\\langle \\frac{\\bar{\\psi}_{\\alpha}}{\\psi[\\alpha]}\\rangle\\langle E_L[\\alpha]\\rangle\n",
      "$$"
     ]
    },
    {
     "cell_type": "markdown",
     "metadata": {},
     "source": [
      "We leave it as an exercise to find the corresponding expression for the variance.\n",
      "\n",
      "\n",
      "\n",
      "\n",
      "\n",
      "\n",
      "### Conjugate gradient method, Newton's method\n",
      "In Newton's method we set $\\nabla f = 0$ and we can thus compute the next iteration point\n",
      "(here the exact result)"
     ]
    },
    {
     "cell_type": "markdown",
     "metadata": {},
     "source": [
      "$$\n",
      "\\hat{x}-\\hat{x}_i=\\hat{A}^{-1}\\nabla f(\\hat{x}_i).\n",
      "$$"
     ]
    },
    {
     "cell_type": "markdown",
     "metadata": {},
     "source": [
      "Subtracting this equation from that of $\\hat{x}_{i+1}$ we have"
     ]
    },
    {
     "cell_type": "markdown",
     "metadata": {},
     "source": [
      "$$\n",
      "\\hat{x}_{i+1}-\\hat{x}_i=\\hat{A}^{-1}(\\nabla f(\\hat{x}_{i+1})-\\nabla f(\\hat{x}_i)).\n",
      "$$"
     ]
    },
    {
     "cell_type": "markdown",
     "metadata": {},
     "source": [
      "Concerning the optimization process in connection with the last project, you can easily use Newton's method as well instead of the \n",
      "con\n",
      "\n",
      "\n",
      "\n",
      "### Simple example and demonstration\n",
      "\n",
      "In our case $f$ can be either the energy or the variance.  If we choose the energy then we have"
     ]
    },
    {
     "cell_type": "markdown",
     "metadata": {},
     "source": [
      "$$\n",
      "\\hat{\\alpha}_{i+1}-\\hat{\\alpha}_i=\\hat{A}^{-1}(\\nabla E(\\hat{\\alpha}_{i+1})-\\nabla E(\\hat{\\alpha}_i)).\n",
      "$$"
     ]
    },
    {
     "cell_type": "markdown",
     "metadata": {},
     "source": [
      "In the simple model gradient and the Hessian $\\hat{A}$ are"
     ]
    },
    {
     "cell_type": "markdown",
     "metadata": {},
     "source": [
      "$$\n",
      "\\frac{d\\langle  E_L[\\alpha]\\rangle}{d\\alpha} = \\alpha-\\frac{1}{4\\alpha^3}\n",
      "$$"
     ]
    },
    {
     "cell_type": "markdown",
     "metadata": {},
     "source": [
      "and a second derivative which is always positive (meaning that we find a minimum)"
     ]
    },
    {
     "cell_type": "markdown",
     "metadata": {},
     "source": [
      "$$\n",
      "\\hat{A}= \\frac{d^2\\langle  E_L[\\alpha]\\rangle}{d\\alpha^2} = 1+\\frac{3}{4\\alpha^4}\n",
      "$$"
     ]
    },
    {
     "cell_type": "markdown",
     "metadata": {},
     "source": [
      "### Simple example and demonstration\n",
      "We get then"
     ]
    },
    {
     "cell_type": "markdown",
     "metadata": {},
     "source": [
      "$$\n",
      "\\alpha_{i+1}=\\frac{4}{3}\\alpha_i-\\frac{\\alpha_i^4}{3\\alpha_{i+1}^3},\n",
      "$$"
     ]
    },
    {
     "cell_type": "markdown",
     "metadata": {},
     "source": [
      "which can be rewritten as"
     ]
    },
    {
     "cell_type": "markdown",
     "metadata": {},
     "source": [
      "$$\n",
      "\\alpha_{i+1}^4-\\frac{4}{3}\\alpha_i\\alpha_{i+1}^4+\\frac{1}{3}\\alpha_i^4.\n",
      "$$"
     ]
    },
    {
     "cell_type": "markdown",
     "metadata": {},
     "source": [
      "### Using the conjugate gradient method\n",
      "  * Start your program with calling a function which implements for example the  CGM method.\n",
      "\n",
      "  * This function needs the function for the expectation value of the local energy and the derivative of the local energy.\n",
      "\n",
      "  * Your function **func** is now the Metropolis part with a call to the local energy function. For every call to the function **func** many practitionser use 1000-10000 Monte Carlo cycles for the trial wave function.\n",
      "\n",
      "  * This gives an expectation value for the energy which is returned by the function **func**.\n",
      "\n",
      "  * When one calls the local energy one also computes the first derivative of the expectaction value of the local energy"
     ]
    },
    {
     "cell_type": "markdown",
     "metadata": {},
     "source": [
      "$$\n",
      "\\frac{d\\langle E_{L}[\\alpha] \\rangle}{d\\alpha}= 2\\langle \\frac{\\bar{\\psi_T}_{\\alpha}}{\\psi_T[\\alpha]}\\left(E_L[\\alpha]-\\langle  E_L[\\alpha]\\rangle\\right)\\rangle.\n",
      "$$"
     ]
    },
    {
     "cell_type": "markdown",
     "metadata": {},
     "source": [
      "### Using the conjugate gradient method\n",
      "The expectation value for the local energy of the Helium atom with a simple Slater determinant is given by"
     ]
    },
    {
     "cell_type": "markdown",
     "metadata": {},
     "source": [
      "$$\n",
      "\\langle E_{L} \\rangle = \\alpha^2-2\\alpha\\left(Z-\\frac{5}{16}\\right)\n",
      "$$"
     ]
    },
    {
     "cell_type": "markdown",
     "metadata": {},
     "source": [
      "When implementing the conjugate gradient method, uyou should test your numerical derivative with the derivative of the last expression, that is"
     ]
    },
    {
     "cell_type": "markdown",
     "metadata": {},
     "source": [
      "$$\n",
      "\\frac{d\\langle E_{L}[\\alpha] \\rangle}{d\\alpha} = 2\\alpha-2\\left(Z-\\frac{5}{16}\\right).\n",
      "$$"
     ]
    },
    {
     "cell_type": "markdown",
     "metadata": {},
     "source": [
      "### Conjugate gradient method\n",
      "In the CG method we define so-called conjugate directions and two vectors \n",
      "$\\hat{s}$ and $\\hat{t}$\n",
      "are said to be\n",
      "conjugate if"
     ]
    },
    {
     "cell_type": "markdown",
     "metadata": {},
     "source": [
      "$$\n",
      "\\hat{s}^T\\hat{A}\\hat{t}= 0.\n",
      "$$"
     ]
    },
    {
     "cell_type": "markdown",
     "metadata": {},
     "source": [
      "The philosophy of the CG method is to perform searches in various conjugate directions\n",
      "of our vectors $\\hat{x}_i$ obeying the above criterion, namely"
     ]
    },
    {
     "cell_type": "markdown",
     "metadata": {},
     "source": [
      "$$\n",
      "\\hat{x}_i^T\\hat{A}\\hat{x}_j= 0.\n",
      "$$"
     ]
    },
    {
     "cell_type": "markdown",
     "metadata": {},
     "source": [
      "Two vectors are conjugate if they are orthogonal with respect to \n",
      "this inner product. Being conjugate is a symmetric relation: if $\\hat{s}$ is conjugate to $\\hat{t}$, then $\\hat{t}$ is conjugate to $\\hat{s}$.\n",
      "\n",
      "\n",
      "\n",
      "### Conjugate gradient method\n",
      "An example is given by the eigenvectors of the matrix"
     ]
    },
    {
     "cell_type": "markdown",
     "metadata": {},
     "source": [
      "$$\n",
      "\\hat{v}_i^T\\hat{A}\\hat{v}_j= \\lambda\\hat{v}_i^T\\hat{v}_j,\n",
      "$$"
     ]
    },
    {
     "cell_type": "markdown",
     "metadata": {},
     "source": [
      "which is zero unless $i=j$.\n",
      "\n",
      "\n",
      "\n",
      "\n",
      "### Conjugate gradient method\n",
      "Assume now that we have a symmetric positive-definite matrix $\\hat{A}$ of size\n",
      "$n\\times n$. At each iteration $i+1$ we obtain the conjugate direction of a vector"
     ]
    },
    {
     "cell_type": "markdown",
     "metadata": {},
     "source": [
      "$$\n",
      "\\hat{x}_{i+1}=\\hat{x}_{i}+\\alpha_i\\hat{p}_{i}.\n",
      "$$"
     ]
    },
    {
     "cell_type": "markdown",
     "metadata": {},
     "source": [
      "We assume that $\\hat{p}_{i}$ is a sequence of $n$ mutually conjugate directions. \n",
      "Then the $\\hat{p}_{i}$  form a basis of $R^n$ and we can expand the solution \n",
      "$  \\hat{A}\\hat{x} = \\hat{b}$ in this basis, namely"
     ]
    },
    {
     "cell_type": "markdown",
     "metadata": {},
     "source": [
      "$$\n",
      "\\hat{x}  = \\sum^{n}_{i=1} \\alpha_i \\hat{p}_i.\n",
      "$$"
     ]
    },
    {
     "cell_type": "markdown",
     "metadata": {},
     "source": [
      "### Conjugate gradient method\n",
      "The coefficients are given by"
     ]
    },
    {
     "cell_type": "markdown",
     "metadata": {},
     "source": [
      "$$\n",
      "\\mathbf{A}\\mathbf{x} = \\sum^{n}_{i=1} \\alpha_i \\mathbf{A} \\mathbf{p}_i = \\mathbf{b}.\n",
      "$$"
     ]
    },
    {
     "cell_type": "markdown",
     "metadata": {},
     "source": [
      "Multiplying with $\\hat{p}_k^T$  from the left gives"
     ]
    },
    {
     "cell_type": "markdown",
     "metadata": {},
     "source": [
      "$$\n",
      "\\hat{p}_k^T \\hat{A}\\hat{x} = \\sum^{n}_{i=1} \\alpha_i\\hat{p}_k^T \\hat{A}\\hat{p}_i= \\hat{p}_k^T \\hat{b},\n",
      "$$"
     ]
    },
    {
     "cell_type": "markdown",
     "metadata": {},
     "source": [
      "and we can define the coefficients $\\alpha_k$ as"
     ]
    },
    {
     "cell_type": "markdown",
     "metadata": {},
     "source": [
      "$$\n",
      "\\alpha_k = \\frac{\\hat{p}_k^T \\hat{b}}{\\hat{p}_k^T \\hat{A} \\hat{p}_k}\n",
      "$$"
     ]
    },
    {
     "cell_type": "markdown",
     "metadata": {},
     "source": [
      "### Conjugate gradient method and iterations\n",
      "\n",
      "If we choose the conjugate vectors $\\hat{p}_k$ carefully, \n",
      "then we may not need all of them to obtain a good approximation to the solution \n",
      "$\\hat{x}$. \n",
      "So, we want to regard the conjugate gradient method as an iterative method. \n",
      "This also allows us to solve systems where $n$ is so large that the direct \n",
      "method would take too much time.\n",
      "\n",
      "We denote the initial guess for $\\hat{x}$ as $\\hat{x}_0$. \n",
      "We can assume without loss of generality that"
     ]
    },
    {
     "cell_type": "markdown",
     "metadata": {},
     "source": [
      "$$\n",
      "\\hat{x}_0=0,\n",
      "$$"
     ]
    },
    {
     "cell_type": "markdown",
     "metadata": {},
     "source": [
      "or consider the system"
     ]
    },
    {
     "cell_type": "markdown",
     "metadata": {},
     "source": [
      "$$\n",
      "\\hat{A}\\hat{z} = \\hat{b}-\\hat{A}\\hat{x}_0,\n",
      "$$"
     ]
    },
    {
     "cell_type": "markdown",
     "metadata": {},
     "source": [
      "instead.\n",
      "\n",
      "\n",
      "\n",
      "\n",
      "### Conjugate gradient method\n",
      "Important, one can show that the solution $\\hat{x}$ is also the unique minimizer of the quadratic form"
     ]
    },
    {
     "cell_type": "markdown",
     "metadata": {},
     "source": [
      "$$\n",
      "f(\\hat{x}) = \\frac{1}{2}\\hat{x}^T\\hat{A}\\hat{x} - \\hat{x}^T \\hat{x} , \\quad \\hat{x}\\in\\mathbf{R}^n.\n",
      "$$"
     ]
    },
    {
     "cell_type": "markdown",
     "metadata": {},
     "source": [
      "This suggests taking the first basis vector $\\hat{p}_1$ \n",
      "to be the gradient of $f$ at $\\hat{x}=\\hat{x}_0$, \n",
      "which equals"
     ]
    },
    {
     "cell_type": "markdown",
     "metadata": {},
     "source": [
      "$$\n",
      "\\hat{A}\\hat{x}_0-\\hat{b},\n",
      "$$"
     ]
    },
    {
     "cell_type": "markdown",
     "metadata": {},
     "source": [
      "and \n",
      "$\\hat{x}_0=0$ it is equal $-\\hat{b}$.\n",
      "The other vectors in the basis will be conjugate to the gradient, \n",
      "hence the name conjugate gradient method.\n",
      "\n",
      "\n",
      "\n",
      "\n",
      "### Conjugate gradient method\n",
      "Let  $\\hat{r}_k$ be the residual at the $k$-th step:"
     ]
    },
    {
     "cell_type": "markdown",
     "metadata": {},
     "source": [
      "$$\n",
      "\\hat{r}_k=\\hat{b}-\\hat{A}\\hat{x}_k.\n",
      "$$"
     ]
    },
    {
     "cell_type": "markdown",
     "metadata": {},
     "source": [
      "Note that $\\hat{r}_k$ is the negative gradient of $f$ at \n",
      "$\\hat{x}=\\hat{x}_k$, \n",
      "so the gradient descent method would be to move in the direction $\\hat{r}_k$. \n",
      "Here, we insist that the directions $\\hat{p}_k$ are conjugate to each other, \n",
      "so we take the direction closest to the gradient $\\hat{r}_k$  \n",
      "under the conjugacy constraint. \n",
      "This gives the following expression"
     ]
    },
    {
     "cell_type": "markdown",
     "metadata": {},
     "source": [
      "$$\n",
      "\\hat{p}_{k+1}=\\hat{r}_k-\\frac{\\hat{p}_k^T \\hat{A}\\hat{r}_k}{\\hat{p}_k^T\\hat{A}\\hat{p}_k} \\hat{p}_k.\n",
      "$$"
     ]
    },
    {
     "cell_type": "markdown",
     "metadata": {},
     "source": [
      "### Conjugate gradient method\n",
      "We can also  compute the residual iteratively as"
     ]
    },
    {
     "cell_type": "markdown",
     "metadata": {},
     "source": [
      "$$\n",
      "\\hat{r}_{k+1}=\\hat{b}-\\hat{A}\\hat{x}_{k+1},\n",
      "$$"
     ]
    },
    {
     "cell_type": "markdown",
     "metadata": {},
     "source": [
      "which equals"
     ]
    },
    {
     "cell_type": "markdown",
     "metadata": {},
     "source": [
      "$$\n",
      "\\hat{b}-\\hat{A}(\\hat{x}_k+\\alpha_k\\hat{p}_k),\n",
      "$$"
     ]
    },
    {
     "cell_type": "markdown",
     "metadata": {},
     "source": [
      "or"
     ]
    },
    {
     "cell_type": "markdown",
     "metadata": {},
     "source": [
      "$$\n",
      "(\\hat{b}-\\hat{A}\\hat{x}_k)-\\alpha_k\\hat{A}\\hat{p}_k,\n",
      "$$"
     ]
    },
    {
     "cell_type": "markdown",
     "metadata": {},
     "source": [
      "which gives"
     ]
    },
    {
     "cell_type": "markdown",
     "metadata": {},
     "source": [
      "$$\n",
      "\\hat{r}_{k+1}=\\hat{r}_k-\\hat{A}\\hat{p}_{k},\n",
      "$$"
     ]
    },
    {
     "cell_type": "markdown",
     "metadata": {},
     "source": [
      "### Conjugate gradient method, our case\n",
      "If we consider finding the minimum of a function $f$ using Newton's method,\n",
      "that is search for a zero of the gradient of a function.  Near a point $x_i$\n",
      "we have to second order"
     ]
    },
    {
     "cell_type": "markdown",
     "metadata": {},
     "source": [
      "$$\n",
      "f(\\hat{x})=f(\\hat{x}_i)+(\\hat{x}-\\hat{x}_i)\\nabla f(\\hat{x}_i)\n",
      "\\frac{1}{2}(\\hat{x}-\\hat{x}_i)\\hat{A}(\\hat{x}-\\hat{x}_i)\n",
      "$$"
     ]
    },
    {
     "cell_type": "markdown",
     "metadata": {},
     "source": [
      "giving"
     ]
    },
    {
     "cell_type": "markdown",
     "metadata": {},
     "source": [
      "$$\n",
      "\\nabla f(\\hat{x})=\\nabla f(\\hat{x}_i)+\\hat{A}(\\hat{x}-\\hat{x}_i).\n",
      "$$"
     ]
    },
    {
     "cell_type": "markdown",
     "metadata": {},
     "source": [
      "In Newton's method we set $\\nabla f = 0$ and we can thus compute the next iteration point\n",
      "(here the exact result)"
     ]
    },
    {
     "cell_type": "markdown",
     "metadata": {},
     "source": [
      "$$\n",
      "\\hat{x}-\\hat{x}_i=\\hat{A}^{-1}\\nabla f(\\hat{x}_i).\n",
      "$$"
     ]
    },
    {
     "cell_type": "markdown",
     "metadata": {},
     "source": [
      "Subtracting this equation from that of $\\hat{x}_{i+1}$ we have"
     ]
    },
    {
     "cell_type": "markdown",
     "metadata": {},
     "source": [
      "$$\n",
      "\\hat{x}_{i+1}-\\hat{x}_i=\\hat{A}^{-1}(\\nabla f(\\hat{x}_{i+1})-\\nabla f(\\hat{x}_i)).\n",
      "$$"
     ]
    },
    {
     "cell_type": "markdown",
     "metadata": {},
     "source": [
      "### Simple codes for  steepest descent and conjugate gradient"
     ]
    },
    {
     "cell_type": "markdown",
     "metadata": {},
     "source": [
      "        #include <cmath>\n",
      "        #include <iostream>\n",
      "        #include <fstream>\n",
      "        #include <iomanip>\n",
      "        #include \"vectormatrixclass.h\"\n",
      "        using namespace  std;\n",
      "        //   Main function begins here\n",
      "        int main(int  argc, char * argv[]){\n",
      "          int dim = 2;\n",
      "          Vector x(dim),xsd(dim), b(dim),x0(dim);\n",
      "          Matrix A(dim,dim);\n",
      "          \n",
      "          // Set our initial guess\n",
      "          x0(0) = x0(1) = 0;\n",
      "          // Set the matrix  \n",
      "          A(0,0) =  3;    A(1,0) =  2;   A(0,1) =  2;   A(1,1) =  6; \n",
      "          b(0) = 2; b(1) = -8;\n"
     ]
    },
    {
     "cell_type": "markdown",
     "metadata": {},
     "source": [
      "### Simple codes for  steepest descent and conjugate gradient"
     ]
    },
    {
     "cell_type": "markdown",
     "metadata": {},
     "source": [
      "          cout << \"The Matrix A that we are using: \" << endl;\n",
      "          A.Print();\n",
      "          cout << endl;\n",
      "          x = ConjugateGradient(A,b,x0);\n",
      "          xsd = SteepestDescent(A,b,x0);\n",
      "          cout << \"The approximate solution using Conjugate Gradient is: \" << endl;\n",
      "          x.Print();\n",
      "          cout << endl;\n",
      "          cout << \"The approximate solution using Steepest Descent is: \" << endl;\n",
      "          xsd.Print();\n",
      "          cout << endl;\n"
     ]
    },
    {
     "cell_type": "markdown",
     "metadata": {},
     "source": [
      "### Simple codes for  steepest descent and conjugate gradient"
     ]
    },
    {
     "cell_type": "markdown",
     "metadata": {},
     "source": [
      "        Vector SteepestDescent(Matrix A, Vector b, Vector x0){\n",
      "          int IterMax, i;\n",
      "          int dim = x0.Dimension();\n",
      "          const double tolerance = 1.0e-14;\n",
      "          Vector x(dim),f(dim),z(dim);\n",
      "          double c,alpha,d;\n",
      "          IterMax = 30;\n",
      "          x = x0;\n",
      "          f = A*x-b;\n",
      "          i = 0;\n"
     ]
    },
    {
     "cell_type": "markdown",
     "metadata": {},
     "source": [
      "### Simple codes for  steepest descent and conjugate gradient"
     ]
    },
    {
     "cell_type": "markdown",
     "metadata": {},
     "source": [
      "          while (i <= IterMax){\n",
      "            z = A*f;\n",
      "            c = dot(f,f);\n",
      "            alpha = c/dot(f,z);\n",
      "            x = x - alpha*f;\n",
      "            f =  A*x-b;\n",
      "            if(sqrt(dot(f,f)) < tolerance) break;\n",
      "            i++;\n",
      "          }\n",
      "          return x;\n",
      "        } \n"
     ]
    },
    {
     "cell_type": "markdown",
     "metadata": {},
     "source": [
      "### Simple codes for  steepest descent and conjugate gradient"
     ]
    },
    {
     "cell_type": "markdown",
     "metadata": {},
     "source": [
      "          Vector ConjugateGradient(Matrix A, Vector b, Vector x0){\n",
      "          int dim = x0.Dimension();\n",
      "          const double tolerance = 1.0e-14;\n",
      "          Vector x(dim),r(dim),v(dim),z(dim);\n",
      "          double c,t,d;\n",
      "        \n",
      "          x = x0;\n",
      "          r = b - A*x;\n",
      "          v = r;\n",
      "          c = dot(r,r);\n"
     ]
    },
    {
     "cell_type": "markdown",
     "metadata": {},
     "source": [
      "### Simple codes for  steepest descent and conjugate gradient"
     ]
    },
    {
     "cell_type": "markdown",
     "metadata": {},
     "source": [
      "          int i = 0; IterMax = dim;\n",
      "          while(i <= IterMax){\n",
      "            z = A*v;\n",
      "            t = c/dot(v,z);\n",
      "            x = x + t*v;\n",
      "            r = r - t*z;\n",
      "            d = dot(r,r);\n",
      "            if(sqrt(d) < tolerance)\n",
      "              break;\n",
      "            v = r + (d/c)*v;\n",
      "            c = d;  i++;\n",
      "          }\n",
      "          return x;\n",
      "        } \n"
     ]
    },
    {
     "cell_type": "markdown",
     "metadata": {},
     "source": [
      "### Codes from numerical recipes\n",
      "The codes are taken from chapter 10.7 of Numerical recipes.  We use the functions\n",
      "$dfpmin$ and $lnsrch$.  You can load down the package of programs from the webpage of\n",
      "the course, see under project 1.  \n",
      "The package is called $NRcgm107.tar.gz$ and contains the files \n",
      "$dfmin.c$, $lnsrch.c$, $nrutil.c$ and $nrutil.h$. \n",
      "These codes are  written in C."
     ]
    },
    {
     "cell_type": "markdown",
     "metadata": {},
     "source": [
      "        \n",
      "        void dfpmin(double p[], int n, double gtol, int *iter, double *fret,\n",
      "        double(*func)(double []), void (*dfunc)(double [], double []))\n",
      "        \n"
     ]
    },
    {
     "cell_type": "markdown",
     "metadata": {},
     "source": [
      "### What you have to provide\n",
      "The input to **dfpmin**"
     ]
    },
    {
     "cell_type": "markdown",
     "metadata": {},
     "source": [
      "        void dfpmin(double p[], int n, double gtol, int *iter, double *fret,\n",
      "        double(*func)(double []), void (*dfunc)(double [], double []))\n"
     ]
    },
    {
     "cell_type": "markdown",
     "metadata": {},
     "source": [
      "is\n",
      "\n",
      "  * The starting vector $p$ of length $n$\n",
      "\n",
      "  * The function $func$ on which minimization is done\n",
      "\n",
      "  * The function $dfunc$ where the gradient i calculated\n",
      "\n",
      "  * The convergence requirement for zeroing the gradient $gtol$.\n",
      "\n",
      "It returns in $p$ the location of the minimum, the number of iterations and \n",
      "the minimum value of the function under study $fret$.\n",
      "\n",
      "\n",
      "\n",
      "\n",
      "### Simple example and code (model.cpp on webpage)"
     ]
    },
    {
     "cell_type": "markdown",
     "metadata": {},
     "source": [
      "        #include \"nrutil.h\"\n",
      "        using namespace std;\n",
      "        //     Here we define various functions called by the main program\n",
      "        \n",
      "        double E_function(double *x);\n",
      "        void   dE_function(double *x, double *g);\n",
      "        void   dfpmin(double p[], int n, double gtol, int *iter, double *fret,\n",
      "        \t    double(*func)(double []), void (*dfunc)(double [], double []));\n",
      "        //   Main function begins here\n",
      "        int main()\n",
      "        {\n",
      "             int n, iter;\n",
      "             double gtol, fret;\n",
      "             double alpha;\n",
      "             n = 1;\n",
      "             cout << \"Read in guess for alpha\" << endl;\n",
      "             cin >> alpha;\n"
     ]
    },
    {
     "cell_type": "markdown",
     "metadata": {},
     "source": [
      "### Simple example and code (model.cpp on webpage)"
     ]
    },
    {
     "cell_type": "markdown",
     "metadata": {},
     "source": [
      "        //   reserve space in memory for vectors containing the variational\n",
      "        //   parameters\n",
      "             double *p = new double [2];\n",
      "             gtol = 1.0e-5;\n",
      "        //   now call dfmin and compute the minimum\n",
      "             p[1] = alpha;\n",
      "             dfpmin(p, n, gtol, &iter, &fret,&E_function,&dE_function);\n",
      "             cout << \"Value of energy minimum = \" << fret << endl;\n",
      "             cout << \"Number of iterations = \" << iter << endl;\n",
      "             cout << \"Value of alpha at minimu = \" << p[1] << endl;\n",
      "              delete [] p;\n"
     ]
    },
    {
     "cell_type": "markdown",
     "metadata": {},
     "source": [
      "### Simple example and code (model.cpp on webpage)"
     ]
    },
    {
     "cell_type": "markdown",
     "metadata": {},
     "source": [
      "        //  this function defines the Energy function\n",
      "        double E_function(double x[])\n",
      "        {\n",
      "          double value = x[1]*x[1]*0.5+1.0/(8*x[1]*x[1]);\n",
      "          return value;\n",
      "        } // end of function to evaluate\n"
     ]
    },
    {
     "cell_type": "markdown",
     "metadata": {},
     "source": [
      "### Simple example and code (model.cpp on webpage)"
     ]
    },
    {
     "cell_type": "markdown",
     "metadata": {},
     "source": [
      "        //  this function defines the derivative of the energy \n",
      "        void dE_function(double x[], double g[])\n",
      "        {\n",
      "          g[1] = x[1]-1.0/(4*x[1]*x[1]*x[1]);\n",
      "        } // end of function to evaluate\n"
     ]
    },
    {
     "cell_type": "markdown",
     "metadata": {},
     "source": [
      "### Simple example and code (model.cpp on webpage)"
     ]
    },
    {
     "cell_type": "markdown",
     "metadata": {},
     "source": [
      "        using namespace std;\n",
      "        //     Here we define various functions called by the main program\n",
      "        \n",
      "        double E_function(double *x);\n",
      "        void   dE_function(double *x, double *g);\n",
      "        void   dfpmin(double p[], int n, double gtol, int *iter, double *fret,\n",
      "        \t    double(*func)(double []), void (*dfunc)(double [], double []));\n",
      "        //   Main function begins here\n",
      "        int main()\n",
      "        {\n",
      "             int n, iter;\n",
      "             double gtol, fret;\n",
      "             double alpha;\n",
      "             n = 1;\n",
      "             cout << \"Read in guess for alpha\" << endl;\n",
      "             cin >> alpha;\n"
     ]
    },
    {
     "cell_type": "markdown",
     "metadata": {},
     "source": [
      "### Simple example and code (model.cpp on webpage)"
     ]
    },
    {
     "cell_type": "markdown",
     "metadata": {},
     "source": [
      "        //   reserve space in memory for vectors containing the variational\n",
      "        //   parameters\n",
      "             double *p = new double [2];\n",
      "             gtol = 1.0e-5;\n",
      "        //   now call dfmin and compute the minimum\n",
      "             p[1] = alpha;\n",
      "             dfpmin(p, n, gtol, &iter, &fret,&E_function,&dE_function);\n",
      "             cout << \"Value of energy minimum = \" << fret << endl;\n",
      "             cout << \"Number of iterations = \" << iter << endl;\n",
      "             cout << \"Value of alpha at minimu = \" << p[1] << endl;\n",
      "              delete [] p;\n"
     ]
    },
    {
     "cell_type": "markdown",
     "metadata": {},
     "source": [
      "### Simple example and code (model.cpp on webpage)"
     ]
    },
    {
     "cell_type": "markdown",
     "metadata": {},
     "source": [
      "        //  this function defines the Energy function\n",
      "        double E_function(double x[])\n",
      "        {\n",
      "        \n",
      "        //  Change here by calling your Metropolis function which \n",
      "        //  returns the local energy\n",
      "        \n",
      "          double value = x[1]*x[1]*0.5+1.0/(8*x[1]*x[1]);\n",
      "          return value;\n",
      "        } // end of function to evaluate\n"
     ]
    },
    {
     "cell_type": "markdown",
     "metadata": {},
     "source": [
      "You need to change this function so that you call the local energy for your system. I used 1000\n",
      "cycles per call to get a new value of $\\langle E_L[\\alpha]\\rangle$.\n",
      "\n",
      "\n",
      "\n",
      "### Simple example and code (model.cpp on webpage)"
     ]
    },
    {
     "cell_type": "markdown",
     "metadata": {},
     "source": [
      "        //  this function defines the derivative of the energy \n",
      "        void dE_function(double x[], double g[])\n",
      "        {\n",
      "        //  Change here by calling your Metropolis function. \n",
      "        //  I compute both the local energy and its derivative for every call to func\n",
      "        \n",
      "          g[1] = x[1]-1.0/(4*x[1]*x[1]*x[1]);\n",
      "        } // end of function to evaluate\n"
     ]
    },
    {
     "cell_type": "markdown",
     "metadata": {},
     "source": [
      "You need to change this function so that you call the local energy for your system. I used 1000\n",
      "cycles per call to get a new value of $\\langle E_L[\\alpha]\\rangle$.\n",
      "When I compute the local energy I also compute its derivative.\n",
      "After roughly 10-20 iterations I got a converged result in terms of $\\alpha$."
     ]
    }
   ],
   "metadata": {}
  }
 ]
}
